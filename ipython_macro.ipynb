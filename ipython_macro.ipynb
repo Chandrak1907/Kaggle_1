{
 "cells": [
  {
   "cell_type": "code",
   "execution_count": 1,
   "metadata": {
    "ExecuteTime": {
     "end_time": "2018-06-20T18:07:39.388668Z",
     "start_time": "2018-06-20T18:07:38.693975Z"
    }
   },
   "outputs": [
    {
     "name": "stdout",
     "output_type": "stream",
     "text": [
      "The libraries have been loaded!\n"
     ]
    }
   ],
   "source": [
    "import numpy as np\n",
    "import pandas as pd \n",
    "from tqdm import tqdm_notebook\n",
    "import os\n",
    "import sys\n",
    "import os.path\n",
    "\n",
    "import matplotlib.pyplot as plt\n",
    "import matplotlib as mpl\n",
    "from matplotlib import rc\n",
    "from cycler import cycler\n",
    "%matplotlib inline\n",
    "\n",
    " \n",
    "mpl.rcParams['axes.prop_cycle'] = cycler('color', ['#ff0000', '#0000ff',   '#00ffff','#ffA300', '#00ff00', \n",
    "     '#ff00ff', '#990000', '#009999', '#999900', '#009900', '#009999'])\n",
    "\n",
    "rc('font', size=16)\n",
    "rc('font',**{'family':'serif','serif':['Computer Modern']})\n",
    "rc('text', usetex=False)\n",
    "rc('figure', figsize=(12, 10))\n",
    "rc('axes', linewidth=.5)\n",
    "rc('lines', linewidth=1.75)\n",
    "\n",
    "print('The libraries have been loaded!')"
   ]
  },
  {
   "cell_type": "code",
   "execution_count": 2,
   "metadata": {
    "ExecuteTime": {
     "end_time": "2018-06-20T18:07:41.020504Z",
     "start_time": "2018-06-20T18:07:41.015970Z"
    },
    "collapsed": true
   },
   "outputs": [],
   "source": [
    "%macro -q __imp 1"
   ]
  },
  {
   "cell_type": "code",
   "execution_count": 3,
   "metadata": {
    "ExecuteTime": {
     "end_time": "2018-06-20T18:07:42.072415Z",
     "start_time": "2018-06-20T18:07:42.058056Z"
    }
   },
   "outputs": [
    {
     "name": "stdout",
     "output_type": "stream",
     "text": [
      "The libraries have been loaded!\n"
     ]
    }
   ],
   "source": [
    "__imp"
   ]
  },
  {
   "cell_type": "code",
   "execution_count": 4,
   "metadata": {
    "ExecuteTime": {
     "end_time": "2018-06-20T18:07:43.770037Z",
     "start_time": "2018-06-20T18:07:43.764401Z"
    }
   },
   "outputs": [
    {
     "name": "stdout",
     "output_type": "stream",
     "text": [
      "Stored '__imp' (Macro)\n"
     ]
    }
   ],
   "source": [
    "%store __imp"
   ]
  },
  {
   "cell_type": "code",
   "execution_count": 5,
   "metadata": {
    "ExecuteTime": {
     "end_time": "2018-06-20T18:07:45.435722Z",
     "start_time": "2018-06-20T18:07:45.428297Z"
    }
   },
   "outputs": [
    {
     "name": "stdout",
     "output_type": "stream",
     "text": [
      "Stored variables and their in-db values:\n",
      "__imp             -> IPython.macro.Macro(\"import numpy as np\\nimport pa\n"
     ]
    }
   ],
   "source": [
    "%store"
   ]
  },
  {
   "cell_type": "code",
   "execution_count": 2,
   "metadata": {
    "ExecuteTime": {
     "end_time": "2018-06-20T14:23:08.726609Z",
     "start_time": "2018-06-20T14:23:08.482719Z"
    }
   },
   "outputs": [
    {
     "name": "stdout",
     "output_type": "stream",
     "text": [
      "c = get_config() \\n c.StoreMagics.autorestore = True\r\n"
     ]
    }
   ],
   "source": [
    "!echo \"c = get_config() \\n c.StoreMagics.autorestore = True\" > ~/.ipython/profile_default/ipython_config.py\n",
    "!cat ~/.ipython/profile_default/ipython_config.py"
   ]
  },
  {
   "cell_type": "code",
   "execution_count": 6,
   "metadata": {
    "ExecuteTime": {
     "end_time": "2018-06-20T18:08:06.982671Z",
     "start_time": "2018-06-20T18:08:06.974787Z"
    }
   },
   "outputs": [
    {
     "data": {
      "text/plain": [
       "IPython.macro.Macro(\"import numpy as np\\nimport pandas as pd \\nfrom tqdm import tqdm_notebook\\nimport os\\nimport sys\\nimport os.path\\n\\nimport matplotlib.pyplot as plt\\nimport matplotlib as mpl\\nfrom matplotlib import rc\\nfrom cycler import cycler\\nget_ipython().magic('matplotlib inline')\\n\\n \\nmpl.rcParams['axes.prop_cycle'] = cycler('color', ['#ff0000', '#0000ff',   '#00ffff','#ffA300', '#00ff00', \\n     '#ff00ff', '#990000', '#009999', '#999900', '#009900', '#009999'])\\n\\nrc('font', size=16)\\nrc('font',**{'family':'serif','serif':['Computer Modern']})\\nrc('text', usetex=False)\\nrc('figure', figsize=(12, 10))\\nrc('axes', linewidth=.5)\\nrc('lines', linewidth=1.75)\\n\\nprint('The libraries have been loaded!')\\n\")"
      ]
     },
     "execution_count": 6,
     "metadata": {},
     "output_type": "execute_result"
    }
   ],
   "source": [
    "# %store -r __imp\n",
    "__imp"
   ]
  },
  {
   "cell_type": "code",
   "execution_count": 2,
   "metadata": {
    "ExecuteTime": {
     "end_time": "2018-06-20T14:23:50.921496Z",
     "start_time": "2018-06-20T14:23:50.801530Z"
    }
   },
   "outputs": [
    {
     "name": "stdout",
     "output_type": "stream",
     "text": [
      "c = get_config() \r\n",
      "c.StoreMagics.autorestore = True\r\n"
     ]
    }
   ],
   "source": [
    "!cat ~/.ipython/profile_default/ipython_config.py"
   ]
  },
  {
   "cell_type": "code",
   "execution_count": null,
   "metadata": {
    "collapsed": true
   },
   "outputs": [],
   "source": []
  }
 ],
 "metadata": {
  "kernelspec": {
   "display_name": "Python 3",
   "language": "python",
   "name": "python3"
  },
  "language_info": {
   "codemirror_mode": {
    "name": "ipython",
    "version": 3
   },
   "file_extension": ".py",
   "mimetype": "text/x-python",
   "name": "python",
   "nbconvert_exporter": "python",
   "pygments_lexer": "ipython3",
   "version": "3.6.5"
  }
 },
 "nbformat": 4,
 "nbformat_minor": 2
}
