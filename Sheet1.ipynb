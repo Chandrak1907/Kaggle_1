{
 "cells": [
  {
   "cell_type": "markdown",
   "metadata": {},
   "source": [
    "# Reading files"
   ]
  },
  {
   "cell_type": "code",
   "execution_count": 1,
   "metadata": {
    "ExecuteTime": {
     "end_time": "2018-06-22T13:42:19.296151Z",
     "start_time": "2018-06-22T13:42:18.606329Z"
    }
   },
   "outputs": [
    {
     "name": "stdout",
     "output_type": "stream",
     "text": [
      "The libraries have been loaded!\n"
     ]
    }
   ],
   "source": [
    "__imp"
   ]
  },
  {
   "cell_type": "code",
   "execution_count": 90,
   "metadata": {
    "ExecuteTime": {
     "end_time": "2018-06-22T20:20:57.724568Z",
     "start_time": "2018-06-22T20:20:54.810909Z"
    },
    "collapsed": true
   },
   "outputs": [],
   "source": [
    "item_categories = pd.read_csv(\"./item_categories.csv\")\n",
    "items = pd.read_csv(\"./items.csv\")\n",
    "shops= pd.read_csv(\"./shops.csv\")\n",
    "train = pd.read_csv('./sales_train.csv.gz', compression='gzip')\n",
    "test = pd.read_csv(\"./test.csv.gz\", compression = \"gzip\")"
   ]
  },
  {
   "cell_type": "code",
   "execution_count": 91,
   "metadata": {
    "ExecuteTime": {
     "end_time": "2018-06-22T20:21:00.078153Z",
     "start_time": "2018-06-22T20:21:00.065609Z"
    }
   },
   "outputs": [
    {
     "data": {
      "text/plain": [
       "date               object\n",
       "date_block_num      int64\n",
       "shop_id             int64\n",
       "item_id             int64\n",
       "item_price        float64\n",
       "item_cnt_day      float64\n",
       "dtype: object"
      ]
     },
     "execution_count": 91,
     "metadata": {},
     "output_type": "execute_result"
    }
   ],
   "source": [
    "train.dtypes"
   ]
  },
  {
   "cell_type": "code",
   "execution_count": 92,
   "metadata": {
    "ExecuteTime": {
     "end_time": "2018-06-22T20:21:15.806233Z",
     "start_time": "2018-06-22T20:21:15.603707Z"
    }
   },
   "outputs": [
    {
     "data": {
      "text/plain": [
       "count    2.935849e+06\n",
       "mean     1.242641e+00\n",
       "std      2.618834e+00\n",
       "min     -2.200000e+01\n",
       "25%      1.000000e+00\n",
       "50%      1.000000e+00\n",
       "75%      1.000000e+00\n",
       "max      2.169000e+03\n",
       "Name: item_cnt_day, dtype: float64"
      ]
     },
     "execution_count": 92,
     "metadata": {},
     "output_type": "execute_result"
    }
   ],
   "source": [
    "train.item_cnt_day.describe()"
   ]
  },
  {
   "cell_type": "code",
   "execution_count": 3,
   "metadata": {
    "ExecuteTime": {
     "end_time": "2018-06-21T18:17:52.207831Z",
     "start_time": "2018-06-21T18:17:52.186290Z"
    }
   },
   "outputs": [
    {
     "data": {
      "text/html": [
       "<div>\n",
       "<style>\n",
       "    .dataframe thead tr:only-child th {\n",
       "        text-align: right;\n",
       "    }\n",
       "\n",
       "    .dataframe thead th {\n",
       "        text-align: left;\n",
       "    }\n",
       "\n",
       "    .dataframe tbody tr th {\n",
       "        vertical-align: top;\n",
       "    }\n",
       "</style>\n",
       "<table border=\"1\" class=\"dataframe\">\n",
       "  <thead>\n",
       "    <tr style=\"text-align: right;\">\n",
       "      <th></th>\n",
       "      <th>date</th>\n",
       "      <th>date_block_num</th>\n",
       "      <th>shop_id</th>\n",
       "      <th>item_id</th>\n",
       "      <th>item_price</th>\n",
       "      <th>item_cnt_day</th>\n",
       "    </tr>\n",
       "  </thead>\n",
       "  <tbody>\n",
       "    <tr>\n",
       "      <th>0</th>\n",
       "      <td>02.01.2013</td>\n",
       "      <td>0</td>\n",
       "      <td>59</td>\n",
       "      <td>22154</td>\n",
       "      <td>999.00</td>\n",
       "      <td>1.0</td>\n",
       "    </tr>\n",
       "    <tr>\n",
       "      <th>1</th>\n",
       "      <td>03.01.2013</td>\n",
       "      <td>0</td>\n",
       "      <td>25</td>\n",
       "      <td>2552</td>\n",
       "      <td>899.00</td>\n",
       "      <td>1.0</td>\n",
       "    </tr>\n",
       "    <tr>\n",
       "      <th>2</th>\n",
       "      <td>05.01.2013</td>\n",
       "      <td>0</td>\n",
       "      <td>25</td>\n",
       "      <td>2552</td>\n",
       "      <td>899.00</td>\n",
       "      <td>-1.0</td>\n",
       "    </tr>\n",
       "    <tr>\n",
       "      <th>3</th>\n",
       "      <td>06.01.2013</td>\n",
       "      <td>0</td>\n",
       "      <td>25</td>\n",
       "      <td>2554</td>\n",
       "      <td>1709.05</td>\n",
       "      <td>1.0</td>\n",
       "    </tr>\n",
       "    <tr>\n",
       "      <th>4</th>\n",
       "      <td>15.01.2013</td>\n",
       "      <td>0</td>\n",
       "      <td>25</td>\n",
       "      <td>2555</td>\n",
       "      <td>1099.00</td>\n",
       "      <td>1.0</td>\n",
       "    </tr>\n",
       "  </tbody>\n",
       "</table>\n",
       "</div>"
      ],
      "text/plain": [
       "         date  date_block_num  shop_id  item_id  item_price  item_cnt_day\n",
       "0  02.01.2013               0       59    22154      999.00           1.0\n",
       "1  03.01.2013               0       25     2552      899.00           1.0\n",
       "2  05.01.2013               0       25     2552      899.00          -1.0\n",
       "3  06.01.2013               0       25     2554     1709.05           1.0\n",
       "4  15.01.2013               0       25     2555     1099.00           1.0"
      ]
     },
     "execution_count": 3,
     "metadata": {},
     "output_type": "execute_result"
    }
   ],
   "source": [
    "train.head()"
   ]
  },
  {
   "cell_type": "code",
   "execution_count": 4,
   "metadata": {
    "ExecuteTime": {
     "end_time": "2018-06-21T18:17:52.222404Z",
     "start_time": "2018-06-21T18:17:52.210345Z"
    }
   },
   "outputs": [
    {
     "data": {
      "text/html": [
       "<div>\n",
       "<style>\n",
       "    .dataframe thead tr:only-child th {\n",
       "        text-align: right;\n",
       "    }\n",
       "\n",
       "    .dataframe thead th {\n",
       "        text-align: left;\n",
       "    }\n",
       "\n",
       "    .dataframe tbody tr th {\n",
       "        vertical-align: top;\n",
       "    }\n",
       "</style>\n",
       "<table border=\"1\" class=\"dataframe\">\n",
       "  <thead>\n",
       "    <tr style=\"text-align: right;\">\n",
       "      <th></th>\n",
       "      <th>ID</th>\n",
       "      <th>shop_id</th>\n",
       "      <th>item_id</th>\n",
       "    </tr>\n",
       "  </thead>\n",
       "  <tbody>\n",
       "    <tr>\n",
       "      <th>0</th>\n",
       "      <td>0</td>\n",
       "      <td>5</td>\n",
       "      <td>5037</td>\n",
       "    </tr>\n",
       "    <tr>\n",
       "      <th>1</th>\n",
       "      <td>1</td>\n",
       "      <td>5</td>\n",
       "      <td>5320</td>\n",
       "    </tr>\n",
       "    <tr>\n",
       "      <th>2</th>\n",
       "      <td>2</td>\n",
       "      <td>5</td>\n",
       "      <td>5233</td>\n",
       "    </tr>\n",
       "    <tr>\n",
       "      <th>3</th>\n",
       "      <td>3</td>\n",
       "      <td>5</td>\n",
       "      <td>5232</td>\n",
       "    </tr>\n",
       "    <tr>\n",
       "      <th>4</th>\n",
       "      <td>4</td>\n",
       "      <td>5</td>\n",
       "      <td>5268</td>\n",
       "    </tr>\n",
       "  </tbody>\n",
       "</table>\n",
       "</div>"
      ],
      "text/plain": [
       "   ID  shop_id  item_id\n",
       "0   0        5     5037\n",
       "1   1        5     5320\n",
       "2   2        5     5233\n",
       "3   3        5     5232\n",
       "4   4        5     5268"
      ]
     },
     "execution_count": 4,
     "metadata": {},
     "output_type": "execute_result"
    }
   ],
   "source": [
    "test.head()"
   ]
  },
  {
   "cell_type": "code",
   "execution_count": 5,
   "metadata": {
    "ExecuteTime": {
     "end_time": "2018-06-21T18:17:52.238207Z",
     "start_time": "2018-06-21T18:17:52.225206Z"
    }
   },
   "outputs": [
    {
     "data": {
      "text/html": [
       "<div>\n",
       "<style>\n",
       "    .dataframe thead tr:only-child th {\n",
       "        text-align: right;\n",
       "    }\n",
       "\n",
       "    .dataframe thead th {\n",
       "        text-align: left;\n",
       "    }\n",
       "\n",
       "    .dataframe tbody tr th {\n",
       "        vertical-align: top;\n",
       "    }\n",
       "</style>\n",
       "<table border=\"1\" class=\"dataframe\">\n",
       "  <thead>\n",
       "    <tr style=\"text-align: right;\">\n",
       "      <th></th>\n",
       "      <th>item_name</th>\n",
       "      <th>item_id</th>\n",
       "      <th>item_category_id</th>\n",
       "    </tr>\n",
       "  </thead>\n",
       "  <tbody>\n",
       "    <tr>\n",
       "      <th>0</th>\n",
       "      <td>! ВО ВЛАСТИ НАВАЖДЕНИЯ (ПЛАСТ.)         D</td>\n",
       "      <td>0</td>\n",
       "      <td>40</td>\n",
       "    </tr>\n",
       "    <tr>\n",
       "      <th>1</th>\n",
       "      <td>!ABBYY FineReader 12 Professional Edition Full...</td>\n",
       "      <td>1</td>\n",
       "      <td>76</td>\n",
       "    </tr>\n",
       "    <tr>\n",
       "      <th>2</th>\n",
       "      <td>***В ЛУЧАХ СЛАВЫ   (UNV)                    D</td>\n",
       "      <td>2</td>\n",
       "      <td>40</td>\n",
       "    </tr>\n",
       "    <tr>\n",
       "      <th>3</th>\n",
       "      <td>***ГОЛУБАЯ ВОЛНА  (Univ)                      D</td>\n",
       "      <td>3</td>\n",
       "      <td>40</td>\n",
       "    </tr>\n",
       "    <tr>\n",
       "      <th>4</th>\n",
       "      <td>***КОРОБКА (СТЕКЛО)                       D</td>\n",
       "      <td>4</td>\n",
       "      <td>40</td>\n",
       "    </tr>\n",
       "  </tbody>\n",
       "</table>\n",
       "</div>"
      ],
      "text/plain": [
       "                                           item_name  item_id  \\\n",
       "0          ! ВО ВЛАСТИ НАВАЖДЕНИЯ (ПЛАСТ.)         D        0   \n",
       "1  !ABBYY FineReader 12 Professional Edition Full...        1   \n",
       "2      ***В ЛУЧАХ СЛАВЫ   (UNV)                    D        2   \n",
       "3    ***ГОЛУБАЯ ВОЛНА  (Univ)                      D        3   \n",
       "4        ***КОРОБКА (СТЕКЛО)                       D        4   \n",
       "\n",
       "   item_category_id  \n",
       "0                40  \n",
       "1                76  \n",
       "2                40  \n",
       "3                40  \n",
       "4                40  "
      ]
     },
     "execution_count": 5,
     "metadata": {},
     "output_type": "execute_result"
    }
   ],
   "source": [
    "items.head()"
   ]
  },
  {
   "cell_type": "code",
   "execution_count": 6,
   "metadata": {
    "ExecuteTime": {
     "end_time": "2018-06-21T18:17:52.252141Z",
     "start_time": "2018-06-21T18:17:52.240850Z"
    }
   },
   "outputs": [
    {
     "data": {
      "text/html": [
       "<div>\n",
       "<style>\n",
       "    .dataframe thead tr:only-child th {\n",
       "        text-align: right;\n",
       "    }\n",
       "\n",
       "    .dataframe thead th {\n",
       "        text-align: left;\n",
       "    }\n",
       "\n",
       "    .dataframe tbody tr th {\n",
       "        vertical-align: top;\n",
       "    }\n",
       "</style>\n",
       "<table border=\"1\" class=\"dataframe\">\n",
       "  <thead>\n",
       "    <tr style=\"text-align: right;\">\n",
       "      <th></th>\n",
       "      <th>shop_name</th>\n",
       "      <th>shop_id</th>\n",
       "    </tr>\n",
       "  </thead>\n",
       "  <tbody>\n",
       "    <tr>\n",
       "      <th>0</th>\n",
       "      <td>!Якутск Орджоникидзе, 56 фран</td>\n",
       "      <td>0</td>\n",
       "    </tr>\n",
       "    <tr>\n",
       "      <th>1</th>\n",
       "      <td>!Якутск ТЦ \"Центральный\" фран</td>\n",
       "      <td>1</td>\n",
       "    </tr>\n",
       "    <tr>\n",
       "      <th>2</th>\n",
       "      <td>Адыгея ТЦ \"Мега\"</td>\n",
       "      <td>2</td>\n",
       "    </tr>\n",
       "    <tr>\n",
       "      <th>3</th>\n",
       "      <td>Балашиха ТРК \"Октябрь-Киномир\"</td>\n",
       "      <td>3</td>\n",
       "    </tr>\n",
       "    <tr>\n",
       "      <th>4</th>\n",
       "      <td>Волжский ТЦ \"Волга Молл\"</td>\n",
       "      <td>4</td>\n",
       "    </tr>\n",
       "  </tbody>\n",
       "</table>\n",
       "</div>"
      ],
      "text/plain": [
       "                        shop_name  shop_id\n",
       "0   !Якутск Орджоникидзе, 56 фран        0\n",
       "1   !Якутск ТЦ \"Центральный\" фран        1\n",
       "2                Адыгея ТЦ \"Мега\"        2\n",
       "3  Балашиха ТРК \"Октябрь-Киномир\"        3\n",
       "4        Волжский ТЦ \"Волга Молл\"        4"
      ]
     },
     "execution_count": 6,
     "metadata": {},
     "output_type": "execute_result"
    }
   ],
   "source": [
    "shops.head()"
   ]
  },
  {
   "cell_type": "code",
   "execution_count": 7,
   "metadata": {
    "ExecuteTime": {
     "end_time": "2018-06-21T18:17:52.267742Z",
     "start_time": "2018-06-21T18:17:52.255587Z"
    }
   },
   "outputs": [
    {
     "data": {
      "text/html": [
       "<div>\n",
       "<style>\n",
       "    .dataframe thead tr:only-child th {\n",
       "        text-align: right;\n",
       "    }\n",
       "\n",
       "    .dataframe thead th {\n",
       "        text-align: left;\n",
       "    }\n",
       "\n",
       "    .dataframe tbody tr th {\n",
       "        vertical-align: top;\n",
       "    }\n",
       "</style>\n",
       "<table border=\"1\" class=\"dataframe\">\n",
       "  <thead>\n",
       "    <tr style=\"text-align: right;\">\n",
       "      <th></th>\n",
       "      <th>item_category_name</th>\n",
       "      <th>item_category_id</th>\n",
       "    </tr>\n",
       "  </thead>\n",
       "  <tbody>\n",
       "    <tr>\n",
       "      <th>0</th>\n",
       "      <td>PC - Гарнитуры/Наушники</td>\n",
       "      <td>0</td>\n",
       "    </tr>\n",
       "    <tr>\n",
       "      <th>1</th>\n",
       "      <td>Аксессуары - PS2</td>\n",
       "      <td>1</td>\n",
       "    </tr>\n",
       "    <tr>\n",
       "      <th>2</th>\n",
       "      <td>Аксессуары - PS3</td>\n",
       "      <td>2</td>\n",
       "    </tr>\n",
       "    <tr>\n",
       "      <th>3</th>\n",
       "      <td>Аксессуары - PS4</td>\n",
       "      <td>3</td>\n",
       "    </tr>\n",
       "    <tr>\n",
       "      <th>4</th>\n",
       "      <td>Аксессуары - PSP</td>\n",
       "      <td>4</td>\n",
       "    </tr>\n",
       "  </tbody>\n",
       "</table>\n",
       "</div>"
      ],
      "text/plain": [
       "        item_category_name  item_category_id\n",
       "0  PC - Гарнитуры/Наушники                 0\n",
       "1         Аксессуары - PS2                 1\n",
       "2         Аксессуары - PS3                 2\n",
       "3         Аксессуары - PS4                 3\n",
       "4         Аксессуары - PSP                 4"
      ]
     },
     "execution_count": 7,
     "metadata": {},
     "output_type": "execute_result"
    }
   ],
   "source": [
    "item_categories.head()"
   ]
  },
  {
   "cell_type": "code",
   "execution_count": 8,
   "metadata": {
    "ExecuteTime": {
     "end_time": "2018-06-21T18:17:52.289174Z",
     "start_time": "2018-06-21T18:17:52.270249Z"
    }
   },
   "outputs": [
    {
     "data": {
      "text/html": [
       "<div>\n",
       "<style>\n",
       "    .dataframe thead tr:only-child th {\n",
       "        text-align: right;\n",
       "    }\n",
       "\n",
       "    .dataframe thead th {\n",
       "        text-align: left;\n",
       "    }\n",
       "\n",
       "    .dataframe tbody tr th {\n",
       "        vertical-align: top;\n",
       "    }\n",
       "</style>\n",
       "<table border=\"1\" class=\"dataframe\">\n",
       "  <thead>\n",
       "    <tr style=\"text-align: right;\">\n",
       "      <th></th>\n",
       "      <th>date</th>\n",
       "      <th>date_block_num</th>\n",
       "      <th>shop_id</th>\n",
       "      <th>item_id</th>\n",
       "      <th>item_price</th>\n",
       "      <th>item_cnt_day</th>\n",
       "    </tr>\n",
       "  </thead>\n",
       "  <tbody>\n",
       "    <tr>\n",
       "      <th>2935844</th>\n",
       "      <td>10.10.2015</td>\n",
       "      <td>33</td>\n",
       "      <td>25</td>\n",
       "      <td>7409</td>\n",
       "      <td>299.0</td>\n",
       "      <td>1.0</td>\n",
       "    </tr>\n",
       "    <tr>\n",
       "      <th>2935845</th>\n",
       "      <td>09.10.2015</td>\n",
       "      <td>33</td>\n",
       "      <td>25</td>\n",
       "      <td>7460</td>\n",
       "      <td>299.0</td>\n",
       "      <td>1.0</td>\n",
       "    </tr>\n",
       "    <tr>\n",
       "      <th>2935846</th>\n",
       "      <td>14.10.2015</td>\n",
       "      <td>33</td>\n",
       "      <td>25</td>\n",
       "      <td>7459</td>\n",
       "      <td>349.0</td>\n",
       "      <td>1.0</td>\n",
       "    </tr>\n",
       "    <tr>\n",
       "      <th>2935847</th>\n",
       "      <td>22.10.2015</td>\n",
       "      <td>33</td>\n",
       "      <td>25</td>\n",
       "      <td>7440</td>\n",
       "      <td>299.0</td>\n",
       "      <td>1.0</td>\n",
       "    </tr>\n",
       "    <tr>\n",
       "      <th>2935848</th>\n",
       "      <td>03.10.2015</td>\n",
       "      <td>33</td>\n",
       "      <td>25</td>\n",
       "      <td>7460</td>\n",
       "      <td>299.0</td>\n",
       "      <td>1.0</td>\n",
       "    </tr>\n",
       "  </tbody>\n",
       "</table>\n",
       "</div>"
      ],
      "text/plain": [
       "               date  date_block_num  shop_id  item_id  item_price  \\\n",
       "2935844  10.10.2015              33       25     7409       299.0   \n",
       "2935845  09.10.2015              33       25     7460       299.0   \n",
       "2935846  14.10.2015              33       25     7459       349.0   \n",
       "2935847  22.10.2015              33       25     7440       299.0   \n",
       "2935848  03.10.2015              33       25     7460       299.0   \n",
       "\n",
       "         item_cnt_day  \n",
       "2935844           1.0  \n",
       "2935845           1.0  \n",
       "2935846           1.0  \n",
       "2935847           1.0  \n",
       "2935848           1.0  "
      ]
     },
     "execution_count": 8,
     "metadata": {},
     "output_type": "execute_result"
    }
   ],
   "source": [
    "train.tail()"
   ]
  },
  {
   "cell_type": "code",
   "execution_count": 9,
   "metadata": {
    "ExecuteTime": {
     "end_time": "2018-06-21T18:17:52.299403Z",
     "start_time": "2018-06-21T18:17:52.291780Z"
    }
   },
   "outputs": [
    {
     "data": {
      "text/plain": [
       "date               object\n",
       "date_block_num      int64\n",
       "shop_id             int64\n",
       "item_id             int64\n",
       "item_price        float64\n",
       "item_cnt_day      float64\n",
       "dtype: object"
      ]
     },
     "execution_count": 9,
     "metadata": {},
     "output_type": "execute_result"
    }
   ],
   "source": [
    "train.dtypes"
   ]
  },
  {
   "cell_type": "code",
   "execution_count": 10,
   "metadata": {
    "ExecuteTime": {
     "end_time": "2018-06-21T18:17:52.305641Z",
     "start_time": "2018-06-21T18:17:52.301905Z"
    },
    "collapsed": true
   },
   "outputs": [],
   "source": [
    "import math"
   ]
  },
  {
   "cell_type": "code",
   "execution_count": 11,
   "metadata": {
    "ExecuteTime": {
     "end_time": "2018-06-21T18:17:54.701431Z",
     "start_time": "2018-06-21T18:17:52.308130Z"
    },
    "collapsed": true
   },
   "outputs": [],
   "source": [
    "train['item_price_whole'] = train['item_price'].apply(lambda x : math.modf(x)[1])"
   ]
  },
  {
   "cell_type": "code",
   "execution_count": 12,
   "metadata": {
    "ExecuteTime": {
     "end_time": "2018-06-21T18:17:57.040358Z",
     "start_time": "2018-06-21T18:17:54.704513Z"
    },
    "collapsed": true
   },
   "outputs": [],
   "source": [
    "train['item_price_fraction'] = train['item_price'].apply(lambda x : math.modf(x)[0])*100"
   ]
  },
  {
   "cell_type": "code",
   "execution_count": 13,
   "metadata": {
    "ExecuteTime": {
     "end_time": "2018-06-21T18:17:57.051156Z",
     "start_time": "2018-06-21T18:17:57.043325Z"
    }
   },
   "outputs": [
    {
     "data": {
      "text/plain": [
       "(2935849, 8)"
      ]
     },
     "execution_count": 13,
     "metadata": {},
     "output_type": "execute_result"
    }
   ],
   "source": [
    "train.shape"
   ]
  },
  {
   "cell_type": "code",
   "execution_count": 14,
   "metadata": {
    "ExecuteTime": {
     "end_time": "2018-06-21T18:18:16.745235Z",
     "start_time": "2018-06-21T18:17:57.054545Z"
    },
    "collapsed": true
   },
   "outputs": [],
   "source": [
    "train['date_new']=pd.to_datetime(train['date'], format = \"%d.%m.%Y\")"
   ]
  },
  {
   "cell_type": "code",
   "execution_count": 15,
   "metadata": {
    "ExecuteTime": {
     "end_time": "2018-06-21T18:18:19.192228Z",
     "start_time": "2018-06-21T18:18:16.748175Z"
    }
   },
   "outputs": [
    {
     "name": "stderr",
     "output_type": "stream",
     "text": [
      "/users/a115505/.conda/envs/DL/lib/python3.6/site-packages/ipykernel_launcher.py:1: FutureWarning: by argument to sort_index is deprecated, pls use .sort_values(by=...)\n",
      "  \"\"\"Entry point for launching an IPython kernel.\n"
     ]
    },
    {
     "data": {
      "text/html": [
       "<div>\n",
       "<style>\n",
       "    .dataframe thead tr:only-child th {\n",
       "        text-align: right;\n",
       "    }\n",
       "\n",
       "    .dataframe thead th {\n",
       "        text-align: left;\n",
       "    }\n",
       "\n",
       "    .dataframe tbody tr th {\n",
       "        vertical-align: top;\n",
       "    }\n",
       "</style>\n",
       "<table border=\"1\" class=\"dataframe\">\n",
       "  <thead>\n",
       "    <tr style=\"text-align: right;\">\n",
       "      <th></th>\n",
       "      <th>date</th>\n",
       "      <th>date_block_num</th>\n",
       "      <th>shop_id</th>\n",
       "      <th>item_id</th>\n",
       "      <th>item_price</th>\n",
       "      <th>item_cnt_day</th>\n",
       "      <th>item_price_whole</th>\n",
       "      <th>item_price_fraction</th>\n",
       "      <th>date_new</th>\n",
       "    </tr>\n",
       "  </thead>\n",
       "  <tbody>\n",
       "    <tr>\n",
       "      <th>173349</th>\n",
       "      <td>15.02.2013</td>\n",
       "      <td>1</td>\n",
       "      <td>0</td>\n",
       "      <td>30</td>\n",
       "      <td>265.00</td>\n",
       "      <td>2.0</td>\n",
       "      <td>265.0</td>\n",
       "      <td>0.0</td>\n",
       "      <td>2013-02-15</td>\n",
       "    </tr>\n",
       "    <tr>\n",
       "      <th>173348</th>\n",
       "      <td>16.02.2013</td>\n",
       "      <td>1</td>\n",
       "      <td>0</td>\n",
       "      <td>30</td>\n",
       "      <td>265.00</td>\n",
       "      <td>9.0</td>\n",
       "      <td>265.0</td>\n",
       "      <td>0.0</td>\n",
       "      <td>2013-02-16</td>\n",
       "    </tr>\n",
       "    <tr>\n",
       "      <th>173347</th>\n",
       "      <td>17.02.2013</td>\n",
       "      <td>1</td>\n",
       "      <td>0</td>\n",
       "      <td>30</td>\n",
       "      <td>265.00</td>\n",
       "      <td>4.0</td>\n",
       "      <td>265.0</td>\n",
       "      <td>0.0</td>\n",
       "      <td>2013-02-17</td>\n",
       "    </tr>\n",
       "    <tr>\n",
       "      <th>173346</th>\n",
       "      <td>18.02.2013</td>\n",
       "      <td>1</td>\n",
       "      <td>0</td>\n",
       "      <td>30</td>\n",
       "      <td>265.00</td>\n",
       "      <td>4.0</td>\n",
       "      <td>265.0</td>\n",
       "      <td>0.0</td>\n",
       "      <td>2013-02-18</td>\n",
       "    </tr>\n",
       "    <tr>\n",
       "      <th>173345</th>\n",
       "      <td>20.02.2013</td>\n",
       "      <td>1</td>\n",
       "      <td>0</td>\n",
       "      <td>30</td>\n",
       "      <td>265.00</td>\n",
       "      <td>2.0</td>\n",
       "      <td>265.0</td>\n",
       "      <td>0.0</td>\n",
       "      <td>2013-02-20</td>\n",
       "    </tr>\n",
       "    <tr>\n",
       "      <th>173344</th>\n",
       "      <td>21.02.2013</td>\n",
       "      <td>1</td>\n",
       "      <td>0</td>\n",
       "      <td>30</td>\n",
       "      <td>265.00</td>\n",
       "      <td>2.0</td>\n",
       "      <td>265.0</td>\n",
       "      <td>0.0</td>\n",
       "      <td>2013-02-21</td>\n",
       "    </tr>\n",
       "    <tr>\n",
       "      <th>173361</th>\n",
       "      <td>22.02.2013</td>\n",
       "      <td>1</td>\n",
       "      <td>0</td>\n",
       "      <td>30</td>\n",
       "      <td>265.00</td>\n",
       "      <td>2.0</td>\n",
       "      <td>265.0</td>\n",
       "      <td>0.0</td>\n",
       "      <td>2013-02-22</td>\n",
       "    </tr>\n",
       "    <tr>\n",
       "      <th>173402</th>\n",
       "      <td>23.02.2013</td>\n",
       "      <td>1</td>\n",
       "      <td>0</td>\n",
       "      <td>30</td>\n",
       "      <td>265.00</td>\n",
       "      <td>3.0</td>\n",
       "      <td>265.0</td>\n",
       "      <td>0.0</td>\n",
       "      <td>2013-02-23</td>\n",
       "    </tr>\n",
       "    <tr>\n",
       "      <th>173441</th>\n",
       "      <td>26.02.2013</td>\n",
       "      <td>1</td>\n",
       "      <td>0</td>\n",
       "      <td>30</td>\n",
       "      <td>265.00</td>\n",
       "      <td>3.0</td>\n",
       "      <td>265.0</td>\n",
       "      <td>0.0</td>\n",
       "      <td>2013-02-26</td>\n",
       "    </tr>\n",
       "    <tr>\n",
       "      <th>173403</th>\n",
       "      <td>15.02.2013</td>\n",
       "      <td>1</td>\n",
       "      <td>0</td>\n",
       "      <td>31</td>\n",
       "      <td>434.00</td>\n",
       "      <td>3.0</td>\n",
       "      <td>434.0</td>\n",
       "      <td>0.0</td>\n",
       "      <td>2013-02-15</td>\n",
       "    </tr>\n",
       "    <tr>\n",
       "      <th>173459</th>\n",
       "      <td>16.02.2013</td>\n",
       "      <td>1</td>\n",
       "      <td>0</td>\n",
       "      <td>31</td>\n",
       "      <td>434.00</td>\n",
       "      <td>1.0</td>\n",
       "      <td>434.0</td>\n",
       "      <td>0.0</td>\n",
       "      <td>2013-02-16</td>\n",
       "    </tr>\n",
       "    <tr>\n",
       "      <th>173458</th>\n",
       "      <td>17.02.2013</td>\n",
       "      <td>1</td>\n",
       "      <td>0</td>\n",
       "      <td>31</td>\n",
       "      <td>434.00</td>\n",
       "      <td>3.0</td>\n",
       "      <td>434.0</td>\n",
       "      <td>0.0</td>\n",
       "      <td>2013-02-17</td>\n",
       "    </tr>\n",
       "    <tr>\n",
       "      <th>173457</th>\n",
       "      <td>22.02.2013</td>\n",
       "      <td>1</td>\n",
       "      <td>0</td>\n",
       "      <td>31</td>\n",
       "      <td>434.00</td>\n",
       "      <td>1.0</td>\n",
       "      <td>434.0</td>\n",
       "      <td>0.0</td>\n",
       "      <td>2013-02-22</td>\n",
       "    </tr>\n",
       "    <tr>\n",
       "      <th>173456</th>\n",
       "      <td>24.02.2013</td>\n",
       "      <td>1</td>\n",
       "      <td>0</td>\n",
       "      <td>31</td>\n",
       "      <td>434.00</td>\n",
       "      <td>1.0</td>\n",
       "      <td>434.0</td>\n",
       "      <td>0.0</td>\n",
       "      <td>2013-02-24</td>\n",
       "    </tr>\n",
       "    <tr>\n",
       "      <th>173455</th>\n",
       "      <td>25.02.2013</td>\n",
       "      <td>1</td>\n",
       "      <td>0</td>\n",
       "      <td>31</td>\n",
       "      <td>434.00</td>\n",
       "      <td>1.0</td>\n",
       "      <td>434.0</td>\n",
       "      <td>0.0</td>\n",
       "      <td>2013-02-25</td>\n",
       "    </tr>\n",
       "    <tr>\n",
       "      <th>173454</th>\n",
       "      <td>26.02.2013</td>\n",
       "      <td>1</td>\n",
       "      <td>0</td>\n",
       "      <td>31</td>\n",
       "      <td>434.00</td>\n",
       "      <td>1.0</td>\n",
       "      <td>434.0</td>\n",
       "      <td>0.0</td>\n",
       "      <td>2013-02-26</td>\n",
       "    </tr>\n",
       "    <tr>\n",
       "      <th>40085</th>\n",
       "      <td>03.01.2013</td>\n",
       "      <td>0</td>\n",
       "      <td>0</td>\n",
       "      <td>32</td>\n",
       "      <td>221.00</td>\n",
       "      <td>2.0</td>\n",
       "      <td>221.0</td>\n",
       "      <td>0.0</td>\n",
       "      <td>2013-01-03</td>\n",
       "    </tr>\n",
       "    <tr>\n",
       "      <th>40086</th>\n",
       "      <td>21.01.2013</td>\n",
       "      <td>0</td>\n",
       "      <td>0</td>\n",
       "      <td>32</td>\n",
       "      <td>221.00</td>\n",
       "      <td>2.0</td>\n",
       "      <td>221.0</td>\n",
       "      <td>0.0</td>\n",
       "      <td>2013-01-21</td>\n",
       "    </tr>\n",
       "    <tr>\n",
       "      <th>40087</th>\n",
       "      <td>25.01.2013</td>\n",
       "      <td>0</td>\n",
       "      <td>0</td>\n",
       "      <td>32</td>\n",
       "      <td>221.00</td>\n",
       "      <td>1.0</td>\n",
       "      <td>221.0</td>\n",
       "      <td>0.0</td>\n",
       "      <td>2013-01-25</td>\n",
       "    </tr>\n",
       "    <tr>\n",
       "      <th>40088</th>\n",
       "      <td>31.01.2013</td>\n",
       "      <td>0</td>\n",
       "      <td>0</td>\n",
       "      <td>32</td>\n",
       "      <td>221.00</td>\n",
       "      <td>1.0</td>\n",
       "      <td>221.0</td>\n",
       "      <td>0.0</td>\n",
       "      <td>2013-01-31</td>\n",
       "    </tr>\n",
       "    <tr>\n",
       "      <th>173453</th>\n",
       "      <td>05.02.2013</td>\n",
       "      <td>1</td>\n",
       "      <td>0</td>\n",
       "      <td>32</td>\n",
       "      <td>221.00</td>\n",
       "      <td>1.0</td>\n",
       "      <td>221.0</td>\n",
       "      <td>0.0</td>\n",
       "      <td>2013-02-05</td>\n",
       "    </tr>\n",
       "    <tr>\n",
       "      <th>173460</th>\n",
       "      <td>06.02.2013</td>\n",
       "      <td>1</td>\n",
       "      <td>0</td>\n",
       "      <td>32</td>\n",
       "      <td>221.00</td>\n",
       "      <td>1.0</td>\n",
       "      <td>221.0</td>\n",
       "      <td>0.0</td>\n",
       "      <td>2013-02-06</td>\n",
       "    </tr>\n",
       "    <tr>\n",
       "      <th>173452</th>\n",
       "      <td>12.02.2013</td>\n",
       "      <td>1</td>\n",
       "      <td>0</td>\n",
       "      <td>32</td>\n",
       "      <td>221.00</td>\n",
       "      <td>2.0</td>\n",
       "      <td>221.0</td>\n",
       "      <td>0.0</td>\n",
       "      <td>2013-02-12</td>\n",
       "    </tr>\n",
       "    <tr>\n",
       "      <th>173450</th>\n",
       "      <td>15.02.2013</td>\n",
       "      <td>1</td>\n",
       "      <td>0</td>\n",
       "      <td>32</td>\n",
       "      <td>221.00</td>\n",
       "      <td>1.0</td>\n",
       "      <td>221.0</td>\n",
       "      <td>0.0</td>\n",
       "      <td>2013-02-15</td>\n",
       "    </tr>\n",
       "    <tr>\n",
       "      <th>173449</th>\n",
       "      <td>16.02.2013</td>\n",
       "      <td>1</td>\n",
       "      <td>0</td>\n",
       "      <td>32</td>\n",
       "      <td>221.00</td>\n",
       "      <td>2.0</td>\n",
       "      <td>221.0</td>\n",
       "      <td>0.0</td>\n",
       "      <td>2013-02-16</td>\n",
       "    </tr>\n",
       "    <tr>\n",
       "      <th>173448</th>\n",
       "      <td>22.02.2013</td>\n",
       "      <td>1</td>\n",
       "      <td>0</td>\n",
       "      <td>32</td>\n",
       "      <td>221.00</td>\n",
       "      <td>2.0</td>\n",
       "      <td>221.0</td>\n",
       "      <td>0.0</td>\n",
       "      <td>2013-02-22</td>\n",
       "    </tr>\n",
       "    <tr>\n",
       "      <th>173447</th>\n",
       "      <td>25.02.2013</td>\n",
       "      <td>1</td>\n",
       "      <td>0</td>\n",
       "      <td>32</td>\n",
       "      <td>221.00</td>\n",
       "      <td>1.0</td>\n",
       "      <td>221.0</td>\n",
       "      <td>0.0</td>\n",
       "      <td>2013-02-25</td>\n",
       "    </tr>\n",
       "    <tr>\n",
       "      <th>40089</th>\n",
       "      <td>03.01.2013</td>\n",
       "      <td>0</td>\n",
       "      <td>0</td>\n",
       "      <td>33</td>\n",
       "      <td>347.00</td>\n",
       "      <td>1.0</td>\n",
       "      <td>347.0</td>\n",
       "      <td>0.0</td>\n",
       "      <td>2013-01-03</td>\n",
       "    </tr>\n",
       "    <tr>\n",
       "      <th>40090</th>\n",
       "      <td>17.01.2013</td>\n",
       "      <td>0</td>\n",
       "      <td>0</td>\n",
       "      <td>33</td>\n",
       "      <td>347.00</td>\n",
       "      <td>1.0</td>\n",
       "      <td>347.0</td>\n",
       "      <td>0.0</td>\n",
       "      <td>2013-01-17</td>\n",
       "    </tr>\n",
       "    <tr>\n",
       "      <th>40091</th>\n",
       "      <td>28.01.2013</td>\n",
       "      <td>0</td>\n",
       "      <td>0</td>\n",
       "      <td>33</td>\n",
       "      <td>347.00</td>\n",
       "      <td>1.0</td>\n",
       "      <td>347.0</td>\n",
       "      <td>0.0</td>\n",
       "      <td>2013-01-28</td>\n",
       "    </tr>\n",
       "    <tr>\n",
       "      <th>...</th>\n",
       "      <td>...</td>\n",
       "      <td>...</td>\n",
       "      <td>...</td>\n",
       "      <td>...</td>\n",
       "      <td>...</td>\n",
       "      <td>...</td>\n",
       "      <td>...</td>\n",
       "      <td>...</td>\n",
       "      <td>...</td>\n",
       "    </tr>\n",
       "    <tr>\n",
       "      <th>342905</th>\n",
       "      <td>30.03.2013</td>\n",
       "      <td>2</td>\n",
       "      <td>59</td>\n",
       "      <td>22151</td>\n",
       "      <td>399.00</td>\n",
       "      <td>1.0</td>\n",
       "      <td>399.0</td>\n",
       "      <td>0.0</td>\n",
       "      <td>2013-03-30</td>\n",
       "    </tr>\n",
       "    <tr>\n",
       "      <th>1895940</th>\n",
       "      <td>28.08.2014</td>\n",
       "      <td>19</td>\n",
       "      <td>59</td>\n",
       "      <td>22153</td>\n",
       "      <td>135.33</td>\n",
       "      <td>1.0</td>\n",
       "      <td>135.0</td>\n",
       "      <td>33.0</td>\n",
       "      <td>2014-08-28</td>\n",
       "    </tr>\n",
       "    <tr>\n",
       "      <th>0</th>\n",
       "      <td>02.01.2013</td>\n",
       "      <td>0</td>\n",
       "      <td>59</td>\n",
       "      <td>22154</td>\n",
       "      <td>999.00</td>\n",
       "      <td>1.0</td>\n",
       "      <td>999.0</td>\n",
       "      <td>0.0</td>\n",
       "      <td>2013-01-02</td>\n",
       "    </tr>\n",
       "    <tr>\n",
       "      <th>704965</th>\n",
       "      <td>11.07.2013</td>\n",
       "      <td>6</td>\n",
       "      <td>59</td>\n",
       "      <td>22155</td>\n",
       "      <td>149.00</td>\n",
       "      <td>1.0</td>\n",
       "      <td>149.0</td>\n",
       "      <td>0.0</td>\n",
       "      <td>2013-07-11</td>\n",
       "    </tr>\n",
       "    <tr>\n",
       "      <th>2435401</th>\n",
       "      <td>09.02.2015</td>\n",
       "      <td>25</td>\n",
       "      <td>59</td>\n",
       "      <td>22162</td>\n",
       "      <td>399.00</td>\n",
       "      <td>1.0</td>\n",
       "      <td>399.0</td>\n",
       "      <td>0.0</td>\n",
       "      <td>2015-02-09</td>\n",
       "    </tr>\n",
       "    <tr>\n",
       "      <th>2435402</th>\n",
       "      <td>13.02.2015</td>\n",
       "      <td>25</td>\n",
       "      <td>59</td>\n",
       "      <td>22162</td>\n",
       "      <td>399.00</td>\n",
       "      <td>1.0</td>\n",
       "      <td>399.0</td>\n",
       "      <td>0.0</td>\n",
       "      <td>2015-02-13</td>\n",
       "    </tr>\n",
       "    <tr>\n",
       "      <th>2435403</th>\n",
       "      <td>14.02.2015</td>\n",
       "      <td>25</td>\n",
       "      <td>59</td>\n",
       "      <td>22162</td>\n",
       "      <td>399.00</td>\n",
       "      <td>1.0</td>\n",
       "      <td>399.0</td>\n",
       "      <td>0.0</td>\n",
       "      <td>2015-02-14</td>\n",
       "    </tr>\n",
       "    <tr>\n",
       "      <th>2435404</th>\n",
       "      <td>15.02.2015</td>\n",
       "      <td>25</td>\n",
       "      <td>59</td>\n",
       "      <td>22162</td>\n",
       "      <td>399.00</td>\n",
       "      <td>1.0</td>\n",
       "      <td>399.0</td>\n",
       "      <td>0.0</td>\n",
       "      <td>2015-02-15</td>\n",
       "    </tr>\n",
       "    <tr>\n",
       "      <th>2435405</th>\n",
       "      <td>16.02.2015</td>\n",
       "      <td>25</td>\n",
       "      <td>59</td>\n",
       "      <td>22162</td>\n",
       "      <td>399.00</td>\n",
       "      <td>1.0</td>\n",
       "      <td>399.0</td>\n",
       "      <td>0.0</td>\n",
       "      <td>2015-02-16</td>\n",
       "    </tr>\n",
       "    <tr>\n",
       "      <th>2435406</th>\n",
       "      <td>17.02.2015</td>\n",
       "      <td>25</td>\n",
       "      <td>59</td>\n",
       "      <td>22162</td>\n",
       "      <td>399.00</td>\n",
       "      <td>1.0</td>\n",
       "      <td>399.0</td>\n",
       "      <td>0.0</td>\n",
       "      <td>2015-02-17</td>\n",
       "    </tr>\n",
       "    <tr>\n",
       "      <th>2435407</th>\n",
       "      <td>19.02.2015</td>\n",
       "      <td>25</td>\n",
       "      <td>59</td>\n",
       "      <td>22162</td>\n",
       "      <td>399.00</td>\n",
       "      <td>1.0</td>\n",
       "      <td>399.0</td>\n",
       "      <td>0.0</td>\n",
       "      <td>2015-02-19</td>\n",
       "    </tr>\n",
       "    <tr>\n",
       "      <th>2435408</th>\n",
       "      <td>22.02.2015</td>\n",
       "      <td>25</td>\n",
       "      <td>59</td>\n",
       "      <td>22162</td>\n",
       "      <td>399.00</td>\n",
       "      <td>1.0</td>\n",
       "      <td>399.0</td>\n",
       "      <td>0.0</td>\n",
       "      <td>2015-02-22</td>\n",
       "    </tr>\n",
       "    <tr>\n",
       "      <th>2435409</th>\n",
       "      <td>24.02.2015</td>\n",
       "      <td>25</td>\n",
       "      <td>59</td>\n",
       "      <td>22162</td>\n",
       "      <td>399.00</td>\n",
       "      <td>1.0</td>\n",
       "      <td>399.0</td>\n",
       "      <td>0.0</td>\n",
       "      <td>2015-02-24</td>\n",
       "    </tr>\n",
       "    <tr>\n",
       "      <th>2507082</th>\n",
       "      <td>01.03.2015</td>\n",
       "      <td>26</td>\n",
       "      <td>59</td>\n",
       "      <td>22162</td>\n",
       "      <td>399.00</td>\n",
       "      <td>1.0</td>\n",
       "      <td>399.0</td>\n",
       "      <td>0.0</td>\n",
       "      <td>2015-03-01</td>\n",
       "    </tr>\n",
       "    <tr>\n",
       "      <th>2507083</th>\n",
       "      <td>07.03.2015</td>\n",
       "      <td>26</td>\n",
       "      <td>59</td>\n",
       "      <td>22162</td>\n",
       "      <td>399.00</td>\n",
       "      <td>1.0</td>\n",
       "      <td>399.0</td>\n",
       "      <td>0.0</td>\n",
       "      <td>2015-03-07</td>\n",
       "    </tr>\n",
       "    <tr>\n",
       "      <th>2507084</th>\n",
       "      <td>22.03.2015</td>\n",
       "      <td>26</td>\n",
       "      <td>59</td>\n",
       "      <td>22162</td>\n",
       "      <td>399.00</td>\n",
       "      <td>1.0</td>\n",
       "      <td>399.0</td>\n",
       "      <td>0.0</td>\n",
       "      <td>2015-03-22</td>\n",
       "    </tr>\n",
       "    <tr>\n",
       "      <th>2549354</th>\n",
       "      <td>26.03.2015</td>\n",
       "      <td>26</td>\n",
       "      <td>59</td>\n",
       "      <td>22162</td>\n",
       "      <td>399.00</td>\n",
       "      <td>1.0</td>\n",
       "      <td>399.0</td>\n",
       "      <td>0.0</td>\n",
       "      <td>2015-03-26</td>\n",
       "    </tr>\n",
       "    <tr>\n",
       "      <th>2593333</th>\n",
       "      <td>17.04.2015</td>\n",
       "      <td>27</td>\n",
       "      <td>59</td>\n",
       "      <td>22162</td>\n",
       "      <td>349.00</td>\n",
       "      <td>1.0</td>\n",
       "      <td>349.0</td>\n",
       "      <td>0.0</td>\n",
       "      <td>2015-04-17</td>\n",
       "    </tr>\n",
       "    <tr>\n",
       "      <th>2651142</th>\n",
       "      <td>29.05.2015</td>\n",
       "      <td>28</td>\n",
       "      <td>59</td>\n",
       "      <td>22162</td>\n",
       "      <td>349.00</td>\n",
       "      <td>1.0</td>\n",
       "      <td>349.0</td>\n",
       "      <td>0.0</td>\n",
       "      <td>2015-05-29</td>\n",
       "    </tr>\n",
       "    <tr>\n",
       "      <th>2799748</th>\n",
       "      <td>11.08.2015</td>\n",
       "      <td>31</td>\n",
       "      <td>59</td>\n",
       "      <td>22162</td>\n",
       "      <td>349.00</td>\n",
       "      <td>1.0</td>\n",
       "      <td>349.0</td>\n",
       "      <td>0.0</td>\n",
       "      <td>2015-08-11</td>\n",
       "    </tr>\n",
       "    <tr>\n",
       "      <th>2471552</th>\n",
       "      <td>11.02.2015</td>\n",
       "      <td>25</td>\n",
       "      <td>59</td>\n",
       "      <td>22164</td>\n",
       "      <td>749.00</td>\n",
       "      <td>1.0</td>\n",
       "      <td>749.0</td>\n",
       "      <td>0.0</td>\n",
       "      <td>2015-02-11</td>\n",
       "    </tr>\n",
       "    <tr>\n",
       "      <th>2483751</th>\n",
       "      <td>13.02.2015</td>\n",
       "      <td>25</td>\n",
       "      <td>59</td>\n",
       "      <td>22164</td>\n",
       "      <td>749.00</td>\n",
       "      <td>1.0</td>\n",
       "      <td>749.0</td>\n",
       "      <td>0.0</td>\n",
       "      <td>2015-02-13</td>\n",
       "    </tr>\n",
       "    <tr>\n",
       "      <th>2553728</th>\n",
       "      <td>29.03.2015</td>\n",
       "      <td>26</td>\n",
       "      <td>59</td>\n",
       "      <td>22164</td>\n",
       "      <td>749.00</td>\n",
       "      <td>1.0</td>\n",
       "      <td>749.0</td>\n",
       "      <td>0.0</td>\n",
       "      <td>2015-03-29</td>\n",
       "    </tr>\n",
       "    <tr>\n",
       "      <th>2593342</th>\n",
       "      <td>22.04.2015</td>\n",
       "      <td>27</td>\n",
       "      <td>59</td>\n",
       "      <td>22164</td>\n",
       "      <td>699.00</td>\n",
       "      <td>1.0</td>\n",
       "      <td>699.0</td>\n",
       "      <td>0.0</td>\n",
       "      <td>2015-04-22</td>\n",
       "    </tr>\n",
       "    <tr>\n",
       "      <th>2593334</th>\n",
       "      <td>30.04.2015</td>\n",
       "      <td>27</td>\n",
       "      <td>59</td>\n",
       "      <td>22164</td>\n",
       "      <td>699.00</td>\n",
       "      <td>1.0</td>\n",
       "      <td>699.0</td>\n",
       "      <td>0.0</td>\n",
       "      <td>2015-04-30</td>\n",
       "    </tr>\n",
       "    <tr>\n",
       "      <th>2724674</th>\n",
       "      <td>21.07.2015</td>\n",
       "      <td>30</td>\n",
       "      <td>59</td>\n",
       "      <td>22164</td>\n",
       "      <td>699.00</td>\n",
       "      <td>1.0</td>\n",
       "      <td>699.0</td>\n",
       "      <td>0.0</td>\n",
       "      <td>2015-07-21</td>\n",
       "    </tr>\n",
       "    <tr>\n",
       "      <th>996180</th>\n",
       "      <td>25.10.2013</td>\n",
       "      <td>9</td>\n",
       "      <td>59</td>\n",
       "      <td>22167</td>\n",
       "      <td>299.00</td>\n",
       "      <td>1.0</td>\n",
       "      <td>299.0</td>\n",
       "      <td>0.0</td>\n",
       "      <td>2013-10-25</td>\n",
       "    </tr>\n",
       "    <tr>\n",
       "      <th>1219809</th>\n",
       "      <td>03.12.2013</td>\n",
       "      <td>11</td>\n",
       "      <td>59</td>\n",
       "      <td>22167</td>\n",
       "      <td>299.00</td>\n",
       "      <td>1.0</td>\n",
       "      <td>299.0</td>\n",
       "      <td>0.0</td>\n",
       "      <td>2013-12-03</td>\n",
       "    </tr>\n",
       "    <tr>\n",
       "      <th>1219808</th>\n",
       "      <td>14.12.2013</td>\n",
       "      <td>11</td>\n",
       "      <td>59</td>\n",
       "      <td>22167</td>\n",
       "      <td>299.00</td>\n",
       "      <td>1.0</td>\n",
       "      <td>299.0</td>\n",
       "      <td>0.0</td>\n",
       "      <td>2013-12-14</td>\n",
       "    </tr>\n",
       "    <tr>\n",
       "      <th>1719730</th>\n",
       "      <td>14.06.2014</td>\n",
       "      <td>17</td>\n",
       "      <td>59</td>\n",
       "      <td>22167</td>\n",
       "      <td>299.00</td>\n",
       "      <td>1.0</td>\n",
       "      <td>299.0</td>\n",
       "      <td>0.0</td>\n",
       "      <td>2014-06-14</td>\n",
       "    </tr>\n",
       "  </tbody>\n",
       "</table>\n",
       "<p>2935849 rows × 9 columns</p>\n",
       "</div>"
      ],
      "text/plain": [
       "               date  date_block_num  shop_id  item_id  item_price  \\\n",
       "173349   15.02.2013               1        0       30      265.00   \n",
       "173348   16.02.2013               1        0       30      265.00   \n",
       "173347   17.02.2013               1        0       30      265.00   \n",
       "173346   18.02.2013               1        0       30      265.00   \n",
       "173345   20.02.2013               1        0       30      265.00   \n",
       "173344   21.02.2013               1        0       30      265.00   \n",
       "173361   22.02.2013               1        0       30      265.00   \n",
       "173402   23.02.2013               1        0       30      265.00   \n",
       "173441   26.02.2013               1        0       30      265.00   \n",
       "173403   15.02.2013               1        0       31      434.00   \n",
       "173459   16.02.2013               1        0       31      434.00   \n",
       "173458   17.02.2013               1        0       31      434.00   \n",
       "173457   22.02.2013               1        0       31      434.00   \n",
       "173456   24.02.2013               1        0       31      434.00   \n",
       "173455   25.02.2013               1        0       31      434.00   \n",
       "173454   26.02.2013               1        0       31      434.00   \n",
       "40085    03.01.2013               0        0       32      221.00   \n",
       "40086    21.01.2013               0        0       32      221.00   \n",
       "40087    25.01.2013               0        0       32      221.00   \n",
       "40088    31.01.2013               0        0       32      221.00   \n",
       "173453   05.02.2013               1        0       32      221.00   \n",
       "173460   06.02.2013               1        0       32      221.00   \n",
       "173452   12.02.2013               1        0       32      221.00   \n",
       "173450   15.02.2013               1        0       32      221.00   \n",
       "173449   16.02.2013               1        0       32      221.00   \n",
       "173448   22.02.2013               1        0       32      221.00   \n",
       "173447   25.02.2013               1        0       32      221.00   \n",
       "40089    03.01.2013               0        0       33      347.00   \n",
       "40090    17.01.2013               0        0       33      347.00   \n",
       "40091    28.01.2013               0        0       33      347.00   \n",
       "...             ...             ...      ...      ...         ...   \n",
       "342905   30.03.2013               2       59    22151      399.00   \n",
       "1895940  28.08.2014              19       59    22153      135.33   \n",
       "0        02.01.2013               0       59    22154      999.00   \n",
       "704965   11.07.2013               6       59    22155      149.00   \n",
       "2435401  09.02.2015              25       59    22162      399.00   \n",
       "2435402  13.02.2015              25       59    22162      399.00   \n",
       "2435403  14.02.2015              25       59    22162      399.00   \n",
       "2435404  15.02.2015              25       59    22162      399.00   \n",
       "2435405  16.02.2015              25       59    22162      399.00   \n",
       "2435406  17.02.2015              25       59    22162      399.00   \n",
       "2435407  19.02.2015              25       59    22162      399.00   \n",
       "2435408  22.02.2015              25       59    22162      399.00   \n",
       "2435409  24.02.2015              25       59    22162      399.00   \n",
       "2507082  01.03.2015              26       59    22162      399.00   \n",
       "2507083  07.03.2015              26       59    22162      399.00   \n",
       "2507084  22.03.2015              26       59    22162      399.00   \n",
       "2549354  26.03.2015              26       59    22162      399.00   \n",
       "2593333  17.04.2015              27       59    22162      349.00   \n",
       "2651142  29.05.2015              28       59    22162      349.00   \n",
       "2799748  11.08.2015              31       59    22162      349.00   \n",
       "2471552  11.02.2015              25       59    22164      749.00   \n",
       "2483751  13.02.2015              25       59    22164      749.00   \n",
       "2553728  29.03.2015              26       59    22164      749.00   \n",
       "2593342  22.04.2015              27       59    22164      699.00   \n",
       "2593334  30.04.2015              27       59    22164      699.00   \n",
       "2724674  21.07.2015              30       59    22164      699.00   \n",
       "996180   25.10.2013               9       59    22167      299.00   \n",
       "1219809  03.12.2013              11       59    22167      299.00   \n",
       "1219808  14.12.2013              11       59    22167      299.00   \n",
       "1719730  14.06.2014              17       59    22167      299.00   \n",
       "\n",
       "         item_cnt_day  item_price_whole  item_price_fraction   date_new  \n",
       "173349            2.0             265.0                  0.0 2013-02-15  \n",
       "173348            9.0             265.0                  0.0 2013-02-16  \n",
       "173347            4.0             265.0                  0.0 2013-02-17  \n",
       "173346            4.0             265.0                  0.0 2013-02-18  \n",
       "173345            2.0             265.0                  0.0 2013-02-20  \n",
       "173344            2.0             265.0                  0.0 2013-02-21  \n",
       "173361            2.0             265.0                  0.0 2013-02-22  \n",
       "173402            3.0             265.0                  0.0 2013-02-23  \n",
       "173441            3.0             265.0                  0.0 2013-02-26  \n",
       "173403            3.0             434.0                  0.0 2013-02-15  \n",
       "173459            1.0             434.0                  0.0 2013-02-16  \n",
       "173458            3.0             434.0                  0.0 2013-02-17  \n",
       "173457            1.0             434.0                  0.0 2013-02-22  \n",
       "173456            1.0             434.0                  0.0 2013-02-24  \n",
       "173455            1.0             434.0                  0.0 2013-02-25  \n",
       "173454            1.0             434.0                  0.0 2013-02-26  \n",
       "40085             2.0             221.0                  0.0 2013-01-03  \n",
       "40086             2.0             221.0                  0.0 2013-01-21  \n",
       "40087             1.0             221.0                  0.0 2013-01-25  \n",
       "40088             1.0             221.0                  0.0 2013-01-31  \n",
       "173453            1.0             221.0                  0.0 2013-02-05  \n",
       "173460            1.0             221.0                  0.0 2013-02-06  \n",
       "173452            2.0             221.0                  0.0 2013-02-12  \n",
       "173450            1.0             221.0                  0.0 2013-02-15  \n",
       "173449            2.0             221.0                  0.0 2013-02-16  \n",
       "173448            2.0             221.0                  0.0 2013-02-22  \n",
       "173447            1.0             221.0                  0.0 2013-02-25  \n",
       "40089             1.0             347.0                  0.0 2013-01-03  \n",
       "40090             1.0             347.0                  0.0 2013-01-17  \n",
       "40091             1.0             347.0                  0.0 2013-01-28  \n",
       "...               ...               ...                  ...        ...  \n",
       "342905            1.0             399.0                  0.0 2013-03-30  \n",
       "1895940           1.0             135.0                 33.0 2014-08-28  \n",
       "0                 1.0             999.0                  0.0 2013-01-02  \n",
       "704965            1.0             149.0                  0.0 2013-07-11  \n",
       "2435401           1.0             399.0                  0.0 2015-02-09  \n",
       "2435402           1.0             399.0                  0.0 2015-02-13  \n",
       "2435403           1.0             399.0                  0.0 2015-02-14  \n",
       "2435404           1.0             399.0                  0.0 2015-02-15  \n",
       "2435405           1.0             399.0                  0.0 2015-02-16  \n",
       "2435406           1.0             399.0                  0.0 2015-02-17  \n",
       "2435407           1.0             399.0                  0.0 2015-02-19  \n",
       "2435408           1.0             399.0                  0.0 2015-02-22  \n",
       "2435409           1.0             399.0                  0.0 2015-02-24  \n",
       "2507082           1.0             399.0                  0.0 2015-03-01  \n",
       "2507083           1.0             399.0                  0.0 2015-03-07  \n",
       "2507084           1.0             399.0                  0.0 2015-03-22  \n",
       "2549354           1.0             399.0                  0.0 2015-03-26  \n",
       "2593333           1.0             349.0                  0.0 2015-04-17  \n",
       "2651142           1.0             349.0                  0.0 2015-05-29  \n",
       "2799748           1.0             349.0                  0.0 2015-08-11  \n",
       "2471552           1.0             749.0                  0.0 2015-02-11  \n",
       "2483751           1.0             749.0                  0.0 2015-02-13  \n",
       "2553728           1.0             749.0                  0.0 2015-03-29  \n",
       "2593342           1.0             699.0                  0.0 2015-04-22  \n",
       "2593334           1.0             699.0                  0.0 2015-04-30  \n",
       "2724674           1.0             699.0                  0.0 2015-07-21  \n",
       "996180            1.0             299.0                  0.0 2013-10-25  \n",
       "1219809           1.0             299.0                  0.0 2013-12-03  \n",
       "1219808           1.0             299.0                  0.0 2013-12-14  \n",
       "1719730           1.0             299.0                  0.0 2014-06-14  \n",
       "\n",
       "[2935849 rows x 9 columns]"
      ]
     },
     "execution_count": 15,
     "metadata": {},
     "output_type": "execute_result"
    }
   ],
   "source": [
    "train.sort_index(by=['shop_id', 'item_id','date_new'])"
   ]
  },
  {
   "cell_type": "code",
   "execution_count": 16,
   "metadata": {
    "ExecuteTime": {
     "end_time": "2018-06-21T18:18:21.545427Z",
     "start_time": "2018-06-21T18:18:19.195384Z"
    },
    "collapsed": true
   },
   "outputs": [],
   "source": [
    "train = train.drop_duplicates()"
   ]
  },
  {
   "cell_type": "code",
   "execution_count": 17,
   "metadata": {
    "ExecuteTime": {
     "end_time": "2018-06-21T18:18:21.572440Z",
     "start_time": "2018-06-21T18:18:21.548050Z"
    }
   },
   "outputs": [
    {
     "data": {
      "text/html": [
       "<div>\n",
       "<style>\n",
       "    .dataframe thead tr:only-child th {\n",
       "        text-align: right;\n",
       "    }\n",
       "\n",
       "    .dataframe thead th {\n",
       "        text-align: left;\n",
       "    }\n",
       "\n",
       "    .dataframe tbody tr th {\n",
       "        vertical-align: top;\n",
       "    }\n",
       "</style>\n",
       "<table border=\"1\" class=\"dataframe\">\n",
       "  <thead>\n",
       "    <tr style=\"text-align: right;\">\n",
       "      <th></th>\n",
       "      <th>date</th>\n",
       "      <th>date_block_num</th>\n",
       "      <th>shop_id</th>\n",
       "      <th>item_id</th>\n",
       "      <th>item_price</th>\n",
       "      <th>item_cnt_day</th>\n",
       "      <th>item_price_whole</th>\n",
       "      <th>item_price_fraction</th>\n",
       "      <th>date_new</th>\n",
       "    </tr>\n",
       "  </thead>\n",
       "  <tbody>\n",
       "    <tr>\n",
       "      <th>0</th>\n",
       "      <td>02.01.2013</td>\n",
       "      <td>0</td>\n",
       "      <td>59</td>\n",
       "      <td>22154</td>\n",
       "      <td>999.00</td>\n",
       "      <td>1.0</td>\n",
       "      <td>999.0</td>\n",
       "      <td>0.0</td>\n",
       "      <td>2013-01-02</td>\n",
       "    </tr>\n",
       "    <tr>\n",
       "      <th>1</th>\n",
       "      <td>03.01.2013</td>\n",
       "      <td>0</td>\n",
       "      <td>25</td>\n",
       "      <td>2552</td>\n",
       "      <td>899.00</td>\n",
       "      <td>1.0</td>\n",
       "      <td>899.0</td>\n",
       "      <td>0.0</td>\n",
       "      <td>2013-01-03</td>\n",
       "    </tr>\n",
       "    <tr>\n",
       "      <th>2</th>\n",
       "      <td>05.01.2013</td>\n",
       "      <td>0</td>\n",
       "      <td>25</td>\n",
       "      <td>2552</td>\n",
       "      <td>899.00</td>\n",
       "      <td>-1.0</td>\n",
       "      <td>899.0</td>\n",
       "      <td>0.0</td>\n",
       "      <td>2013-01-05</td>\n",
       "    </tr>\n",
       "    <tr>\n",
       "      <th>3</th>\n",
       "      <td>06.01.2013</td>\n",
       "      <td>0</td>\n",
       "      <td>25</td>\n",
       "      <td>2554</td>\n",
       "      <td>1709.05</td>\n",
       "      <td>1.0</td>\n",
       "      <td>1709.0</td>\n",
       "      <td>5.0</td>\n",
       "      <td>2013-01-06</td>\n",
       "    </tr>\n",
       "    <tr>\n",
       "      <th>4</th>\n",
       "      <td>15.01.2013</td>\n",
       "      <td>0</td>\n",
       "      <td>25</td>\n",
       "      <td>2555</td>\n",
       "      <td>1099.00</td>\n",
       "      <td>1.0</td>\n",
       "      <td>1099.0</td>\n",
       "      <td>0.0</td>\n",
       "      <td>2013-01-15</td>\n",
       "    </tr>\n",
       "  </tbody>\n",
       "</table>\n",
       "</div>"
      ],
      "text/plain": [
       "         date  date_block_num  shop_id  item_id  item_price  item_cnt_day  \\\n",
       "0  02.01.2013               0       59    22154      999.00           1.0   \n",
       "1  03.01.2013               0       25     2552      899.00           1.0   \n",
       "2  05.01.2013               0       25     2552      899.00          -1.0   \n",
       "3  06.01.2013               0       25     2554     1709.05           1.0   \n",
       "4  15.01.2013               0       25     2555     1099.00           1.0   \n",
       "\n",
       "   item_price_whole  item_price_fraction   date_new  \n",
       "0             999.0                  0.0 2013-01-02  \n",
       "1             899.0                  0.0 2013-01-03  \n",
       "2             899.0                  0.0 2013-01-05  \n",
       "3            1709.0                  5.0 2013-01-06  \n",
       "4            1099.0                  0.0 2013-01-15  "
      ]
     },
     "execution_count": 17,
     "metadata": {},
     "output_type": "execute_result"
    }
   ],
   "source": [
    "train.head()"
   ]
  },
  {
   "cell_type": "code",
   "execution_count": 18,
   "metadata": {
    "ExecuteTime": {
     "end_time": "2018-06-21T18:18:21.599354Z",
     "start_time": "2018-06-21T18:18:21.575969Z"
    }
   },
   "outputs": [
    {
     "data": {
      "text/html": [
       "<div>\n",
       "<style>\n",
       "    .dataframe thead tr:only-child th {\n",
       "        text-align: right;\n",
       "    }\n",
       "\n",
       "    .dataframe thead th {\n",
       "        text-align: left;\n",
       "    }\n",
       "\n",
       "    .dataframe tbody tr th {\n",
       "        vertical-align: top;\n",
       "    }\n",
       "</style>\n",
       "<table border=\"1\" class=\"dataframe\">\n",
       "  <thead>\n",
       "    <tr style=\"text-align: right;\">\n",
       "      <th></th>\n",
       "      <th>date</th>\n",
       "      <th>date_block_num</th>\n",
       "      <th>shop_id</th>\n",
       "      <th>item_id</th>\n",
       "      <th>item_price</th>\n",
       "      <th>item_cnt_day</th>\n",
       "      <th>item_price_whole</th>\n",
       "      <th>item_price_fraction</th>\n",
       "      <th>date_new</th>\n",
       "    </tr>\n",
       "  </thead>\n",
       "  <tbody>\n",
       "    <tr>\n",
       "      <th>2935844</th>\n",
       "      <td>10.10.2015</td>\n",
       "      <td>33</td>\n",
       "      <td>25</td>\n",
       "      <td>7409</td>\n",
       "      <td>299.0</td>\n",
       "      <td>1.0</td>\n",
       "      <td>299.0</td>\n",
       "      <td>0.0</td>\n",
       "      <td>2015-10-10</td>\n",
       "    </tr>\n",
       "    <tr>\n",
       "      <th>2935845</th>\n",
       "      <td>09.10.2015</td>\n",
       "      <td>33</td>\n",
       "      <td>25</td>\n",
       "      <td>7460</td>\n",
       "      <td>299.0</td>\n",
       "      <td>1.0</td>\n",
       "      <td>299.0</td>\n",
       "      <td>0.0</td>\n",
       "      <td>2015-10-09</td>\n",
       "    </tr>\n",
       "    <tr>\n",
       "      <th>2935846</th>\n",
       "      <td>14.10.2015</td>\n",
       "      <td>33</td>\n",
       "      <td>25</td>\n",
       "      <td>7459</td>\n",
       "      <td>349.0</td>\n",
       "      <td>1.0</td>\n",
       "      <td>349.0</td>\n",
       "      <td>0.0</td>\n",
       "      <td>2015-10-14</td>\n",
       "    </tr>\n",
       "    <tr>\n",
       "      <th>2935847</th>\n",
       "      <td>22.10.2015</td>\n",
       "      <td>33</td>\n",
       "      <td>25</td>\n",
       "      <td>7440</td>\n",
       "      <td>299.0</td>\n",
       "      <td>1.0</td>\n",
       "      <td>299.0</td>\n",
       "      <td>0.0</td>\n",
       "      <td>2015-10-22</td>\n",
       "    </tr>\n",
       "    <tr>\n",
       "      <th>2935848</th>\n",
       "      <td>03.10.2015</td>\n",
       "      <td>33</td>\n",
       "      <td>25</td>\n",
       "      <td>7460</td>\n",
       "      <td>299.0</td>\n",
       "      <td>1.0</td>\n",
       "      <td>299.0</td>\n",
       "      <td>0.0</td>\n",
       "      <td>2015-10-03</td>\n",
       "    </tr>\n",
       "  </tbody>\n",
       "</table>\n",
       "</div>"
      ],
      "text/plain": [
       "               date  date_block_num  shop_id  item_id  item_price  \\\n",
       "2935844  10.10.2015              33       25     7409       299.0   \n",
       "2935845  09.10.2015              33       25     7460       299.0   \n",
       "2935846  14.10.2015              33       25     7459       349.0   \n",
       "2935847  22.10.2015              33       25     7440       299.0   \n",
       "2935848  03.10.2015              33       25     7460       299.0   \n",
       "\n",
       "         item_cnt_day  item_price_whole  item_price_fraction   date_new  \n",
       "2935844           1.0             299.0                  0.0 2015-10-10  \n",
       "2935845           1.0             299.0                  0.0 2015-10-09  \n",
       "2935846           1.0             349.0                  0.0 2015-10-14  \n",
       "2935847           1.0             299.0                  0.0 2015-10-22  \n",
       "2935848           1.0             299.0                  0.0 2015-10-03  "
      ]
     },
     "execution_count": 18,
     "metadata": {},
     "output_type": "execute_result"
    }
   ],
   "source": [
    "train.tail()"
   ]
  },
  {
   "cell_type": "code",
   "execution_count": 22,
   "metadata": {
    "ExecuteTime": {
     "end_time": "2018-06-21T18:25:21.369030Z",
     "start_time": "2018-06-21T18:25:21.355232Z"
    }
   },
   "outputs": [
    {
     "data": {
      "text/html": [
       "<div>\n",
       "<style>\n",
       "    .dataframe thead tr:only-child th {\n",
       "        text-align: right;\n",
       "    }\n",
       "\n",
       "    .dataframe thead th {\n",
       "        text-align: left;\n",
       "    }\n",
       "\n",
       "    .dataframe tbody tr th {\n",
       "        vertical-align: top;\n",
       "    }\n",
       "</style>\n",
       "<table border=\"1\" class=\"dataframe\">\n",
       "  <thead>\n",
       "    <tr style=\"text-align: right;\">\n",
       "      <th></th>\n",
       "      <th>ID</th>\n",
       "      <th>shop_id</th>\n",
       "      <th>item_id</th>\n",
       "    </tr>\n",
       "  </thead>\n",
       "  <tbody>\n",
       "    <tr>\n",
       "      <th>0</th>\n",
       "      <td>0</td>\n",
       "      <td>5</td>\n",
       "      <td>5037</td>\n",
       "    </tr>\n",
       "    <tr>\n",
       "      <th>1</th>\n",
       "      <td>1</td>\n",
       "      <td>5</td>\n",
       "      <td>5320</td>\n",
       "    </tr>\n",
       "    <tr>\n",
       "      <th>2</th>\n",
       "      <td>2</td>\n",
       "      <td>5</td>\n",
       "      <td>5233</td>\n",
       "    </tr>\n",
       "    <tr>\n",
       "      <th>3</th>\n",
       "      <td>3</td>\n",
       "      <td>5</td>\n",
       "      <td>5232</td>\n",
       "    </tr>\n",
       "    <tr>\n",
       "      <th>4</th>\n",
       "      <td>4</td>\n",
       "      <td>5</td>\n",
       "      <td>5268</td>\n",
       "    </tr>\n",
       "  </tbody>\n",
       "</table>\n",
       "</div>"
      ],
      "text/plain": [
       "   ID  shop_id  item_id\n",
       "0   0        5     5037\n",
       "1   1        5     5320\n",
       "2   2        5     5233\n",
       "3   3        5     5232\n",
       "4   4        5     5268"
      ]
     },
     "execution_count": 22,
     "metadata": {},
     "output_type": "execute_result"
    }
   ],
   "source": [
    "test.head()"
   ]
  },
  {
   "cell_type": "code",
   "execution_count": 23,
   "metadata": {
    "ExecuteTime": {
     "end_time": "2018-06-21T18:27:15.294350Z",
     "start_time": "2018-06-21T18:26:24.551544Z"
    },
    "collapsed": true
   },
   "outputs": [],
   "source": [
    "train['Month'] = train['date_new'].dt.month\n",
    "train['Year'] = train['date_new'].dt.year"
   ]
  },
  {
   "cell_type": "code",
   "execution_count": 24,
   "metadata": {
    "ExecuteTime": {
     "end_time": "2018-06-21T18:27:15.324802Z",
     "start_time": "2018-06-21T18:27:15.297361Z"
    }
   },
   "outputs": [
    {
     "data": {
      "text/html": [
       "<div>\n",
       "<style>\n",
       "    .dataframe thead tr:only-child th {\n",
       "        text-align: right;\n",
       "    }\n",
       "\n",
       "    .dataframe thead th {\n",
       "        text-align: left;\n",
       "    }\n",
       "\n",
       "    .dataframe tbody tr th {\n",
       "        vertical-align: top;\n",
       "    }\n",
       "</style>\n",
       "<table border=\"1\" class=\"dataframe\">\n",
       "  <thead>\n",
       "    <tr style=\"text-align: right;\">\n",
       "      <th></th>\n",
       "      <th>date</th>\n",
       "      <th>date_block_num</th>\n",
       "      <th>shop_id</th>\n",
       "      <th>item_id</th>\n",
       "      <th>item_price</th>\n",
       "      <th>item_cnt_day</th>\n",
       "      <th>item_price_whole</th>\n",
       "      <th>item_price_fraction</th>\n",
       "      <th>date_new</th>\n",
       "      <th>Month</th>\n",
       "      <th>Year</th>\n",
       "    </tr>\n",
       "  </thead>\n",
       "  <tbody>\n",
       "    <tr>\n",
       "      <th>0</th>\n",
       "      <td>02.01.2013</td>\n",
       "      <td>0</td>\n",
       "      <td>59</td>\n",
       "      <td>22154</td>\n",
       "      <td>999.00</td>\n",
       "      <td>1.0</td>\n",
       "      <td>999.0</td>\n",
       "      <td>0.0</td>\n",
       "      <td>2013-01-02</td>\n",
       "      <td>1</td>\n",
       "      <td>2013</td>\n",
       "    </tr>\n",
       "    <tr>\n",
       "      <th>1</th>\n",
       "      <td>03.01.2013</td>\n",
       "      <td>0</td>\n",
       "      <td>25</td>\n",
       "      <td>2552</td>\n",
       "      <td>899.00</td>\n",
       "      <td>1.0</td>\n",
       "      <td>899.0</td>\n",
       "      <td>0.0</td>\n",
       "      <td>2013-01-03</td>\n",
       "      <td>1</td>\n",
       "      <td>2013</td>\n",
       "    </tr>\n",
       "    <tr>\n",
       "      <th>2</th>\n",
       "      <td>05.01.2013</td>\n",
       "      <td>0</td>\n",
       "      <td>25</td>\n",
       "      <td>2552</td>\n",
       "      <td>899.00</td>\n",
       "      <td>-1.0</td>\n",
       "      <td>899.0</td>\n",
       "      <td>0.0</td>\n",
       "      <td>2013-01-05</td>\n",
       "      <td>1</td>\n",
       "      <td>2013</td>\n",
       "    </tr>\n",
       "    <tr>\n",
       "      <th>3</th>\n",
       "      <td>06.01.2013</td>\n",
       "      <td>0</td>\n",
       "      <td>25</td>\n",
       "      <td>2554</td>\n",
       "      <td>1709.05</td>\n",
       "      <td>1.0</td>\n",
       "      <td>1709.0</td>\n",
       "      <td>5.0</td>\n",
       "      <td>2013-01-06</td>\n",
       "      <td>1</td>\n",
       "      <td>2013</td>\n",
       "    </tr>\n",
       "    <tr>\n",
       "      <th>4</th>\n",
       "      <td>15.01.2013</td>\n",
       "      <td>0</td>\n",
       "      <td>25</td>\n",
       "      <td>2555</td>\n",
       "      <td>1099.00</td>\n",
       "      <td>1.0</td>\n",
       "      <td>1099.0</td>\n",
       "      <td>0.0</td>\n",
       "      <td>2013-01-15</td>\n",
       "      <td>1</td>\n",
       "      <td>2013</td>\n",
       "    </tr>\n",
       "  </tbody>\n",
       "</table>\n",
       "</div>"
      ],
      "text/plain": [
       "         date  date_block_num  shop_id  item_id  item_price  item_cnt_day  \\\n",
       "0  02.01.2013               0       59    22154      999.00           1.0   \n",
       "1  03.01.2013               0       25     2552      899.00           1.0   \n",
       "2  05.01.2013               0       25     2552      899.00          -1.0   \n",
       "3  06.01.2013               0       25     2554     1709.05           1.0   \n",
       "4  15.01.2013               0       25     2555     1099.00           1.0   \n",
       "\n",
       "   item_price_whole  item_price_fraction   date_new  Month  Year  \n",
       "0             999.0                  0.0 2013-01-02      1  2013  \n",
       "1             899.0                  0.0 2013-01-03      1  2013  \n",
       "2             899.0                  0.0 2013-01-05      1  2013  \n",
       "3            1709.0                  5.0 2013-01-06      1  2013  \n",
       "4            1099.0                  0.0 2013-01-15      1  2013  "
      ]
     },
     "execution_count": 24,
     "metadata": {},
     "output_type": "execute_result"
    }
   ],
   "source": [
    "train.head()"
   ]
  },
  {
   "cell_type": "markdown",
   "metadata": {
    "heading_collapsed": true
   },
   "source": [
    "###   Aggregating given data by shop id, item id , year and Month for machine learning - Test data set consists of only shop id and item id."
   ]
  },
  {
   "cell_type": "code",
   "execution_count": 25,
   "metadata": {
    "ExecuteTime": {
     "end_time": "2018-06-21T18:34:57.252142Z",
     "start_time": "2018-06-21T18:28:36.081818Z"
    },
    "collapsed": true,
    "hidden": true
   },
   "outputs": [],
   "source": [
    "Temp_Agg1 = train.groupby(['shop_id', 'item_id','Year','Month']).agg(['sum'])['item_cnt_day']"
   ]
  },
  {
   "cell_type": "code",
   "execution_count": 27,
   "metadata": {
    "ExecuteTime": {
     "end_time": "2018-06-21T18:52:38.963813Z",
     "start_time": "2018-06-21T18:52:38.908038Z"
    },
    "collapsed": true,
    "hidden": true
   },
   "outputs": [],
   "source": [
    "Temp_Agg1= Temp_Agg1.reset_index()"
   ]
  },
  {
   "cell_type": "code",
   "execution_count": 28,
   "metadata": {
    "ExecuteTime": {
     "end_time": "2018-06-21T18:52:44.805202Z",
     "start_time": "2018-06-21T18:52:44.787108Z"
    },
    "hidden": true
   },
   "outputs": [
    {
     "data": {
      "text/html": [
       "<div>\n",
       "<style>\n",
       "    .dataframe thead tr:only-child th {\n",
       "        text-align: right;\n",
       "    }\n",
       "\n",
       "    .dataframe thead th {\n",
       "        text-align: left;\n",
       "    }\n",
       "\n",
       "    .dataframe tbody tr th {\n",
       "        vertical-align: top;\n",
       "    }\n",
       "</style>\n",
       "<table border=\"1\" class=\"dataframe\">\n",
       "  <thead>\n",
       "    <tr style=\"text-align: right;\">\n",
       "      <th></th>\n",
       "      <th>shop_id</th>\n",
       "      <th>item_id</th>\n",
       "      <th>Year</th>\n",
       "      <th>Month</th>\n",
       "      <th>sum</th>\n",
       "    </tr>\n",
       "  </thead>\n",
       "  <tbody>\n",
       "    <tr>\n",
       "      <th>0</th>\n",
       "      <td>0</td>\n",
       "      <td>30</td>\n",
       "      <td>2013</td>\n",
       "      <td>2</td>\n",
       "      <td>31.0</td>\n",
       "    </tr>\n",
       "    <tr>\n",
       "      <th>1</th>\n",
       "      <td>0</td>\n",
       "      <td>31</td>\n",
       "      <td>2013</td>\n",
       "      <td>2</td>\n",
       "      <td>11.0</td>\n",
       "    </tr>\n",
       "    <tr>\n",
       "      <th>2</th>\n",
       "      <td>0</td>\n",
       "      <td>32</td>\n",
       "      <td>2013</td>\n",
       "      <td>1</td>\n",
       "      <td>6.0</td>\n",
       "    </tr>\n",
       "    <tr>\n",
       "      <th>3</th>\n",
       "      <td>0</td>\n",
       "      <td>32</td>\n",
       "      <td>2013</td>\n",
       "      <td>2</td>\n",
       "      <td>10.0</td>\n",
       "    </tr>\n",
       "    <tr>\n",
       "      <th>4</th>\n",
       "      <td>0</td>\n",
       "      <td>33</td>\n",
       "      <td>2013</td>\n",
       "      <td>1</td>\n",
       "      <td>3.0</td>\n",
       "    </tr>\n",
       "  </tbody>\n",
       "</table>\n",
       "</div>"
      ],
      "text/plain": [
       "   shop_id  item_id  Year  Month   sum\n",
       "0        0       30  2013      2  31.0\n",
       "1        0       31  2013      2  11.0\n",
       "2        0       32  2013      1   6.0\n",
       "3        0       32  2013      2  10.0\n",
       "4        0       33  2013      1   3.0"
      ]
     },
     "execution_count": 28,
     "metadata": {},
     "output_type": "execute_result"
    }
   ],
   "source": [
    "Temp_Agg1.head()"
   ]
  },
  {
   "cell_type": "code",
   "execution_count": 43,
   "metadata": {
    "ExecuteTime": {
     "end_time": "2018-06-21T18:58:15.135164Z",
     "start_time": "2018-06-21T18:58:15.118604Z"
    },
    "hidden": true
   },
   "outputs": [
    {
     "data": {
      "text/html": [
       "<div>\n",
       "<style>\n",
       "    .dataframe thead tr:only-child th {\n",
       "        text-align: right;\n",
       "    }\n",
       "\n",
       "    .dataframe thead th {\n",
       "        text-align: left;\n",
       "    }\n",
       "\n",
       "    .dataframe tbody tr th {\n",
       "        vertical-align: top;\n",
       "    }\n",
       "</style>\n",
       "<table border=\"1\" class=\"dataframe\">\n",
       "  <thead>\n",
       "    <tr style=\"text-align: right;\">\n",
       "      <th></th>\n",
       "      <th>shop_id</th>\n",
       "      <th>item_id</th>\n",
       "      <th>Year</th>\n",
       "      <th>Month</th>\n",
       "      <th>sum</th>\n",
       "    </tr>\n",
       "  </thead>\n",
       "  <tbody>\n",
       "    <tr>\n",
       "      <th>0</th>\n",
       "      <td>0</td>\n",
       "      <td>30</td>\n",
       "      <td>2013</td>\n",
       "      <td>2</td>\n",
       "      <td>31.0</td>\n",
       "    </tr>\n",
       "    <tr>\n",
       "      <th>1</th>\n",
       "      <td>0</td>\n",
       "      <td>31</td>\n",
       "      <td>2013</td>\n",
       "      <td>2</td>\n",
       "      <td>11.0</td>\n",
       "    </tr>\n",
       "    <tr>\n",
       "      <th>2</th>\n",
       "      <td>0</td>\n",
       "      <td>32</td>\n",
       "      <td>2013</td>\n",
       "      <td>1</td>\n",
       "      <td>6.0</td>\n",
       "    </tr>\n",
       "    <tr>\n",
       "      <th>3</th>\n",
       "      <td>0</td>\n",
       "      <td>32</td>\n",
       "      <td>2013</td>\n",
       "      <td>2</td>\n",
       "      <td>10.0</td>\n",
       "    </tr>\n",
       "    <tr>\n",
       "      <th>4</th>\n",
       "      <td>0</td>\n",
       "      <td>33</td>\n",
       "      <td>2013</td>\n",
       "      <td>1</td>\n",
       "      <td>3.0</td>\n",
       "    </tr>\n",
       "  </tbody>\n",
       "</table>\n",
       "</div>"
      ],
      "text/plain": [
       "   shop_id  item_id  Year  Month   sum\n",
       "0        0       30  2013      2  31.0\n",
       "1        0       31  2013      2  11.0\n",
       "2        0       32  2013      1   6.0\n",
       "3        0       32  2013      2  10.0\n",
       "4        0       33  2013      1   3.0"
      ]
     },
     "execution_count": 43,
     "metadata": {},
     "output_type": "execute_result"
    }
   ],
   "source": [
    "Temp_Agg1.head()"
   ]
  },
  {
   "cell_type": "markdown",
   "metadata": {
    "heading_collapsed": true
   },
   "source": [
    "### Count of Rows in each Year - Month \n"
   ]
  },
  {
   "cell_type": "code",
   "execution_count": 47,
   "metadata": {
    "ExecuteTime": {
     "end_time": "2018-06-21T18:59:45.302196Z",
     "start_time": "2018-06-21T18:59:45.053945Z"
    },
    "hidden": true
   },
   "outputs": [
    {
     "data": {
      "text/html": [
       "<div>\n",
       "<style>\n",
       "    .dataframe thead tr:only-child th {\n",
       "        text-align: right;\n",
       "    }\n",
       "\n",
       "    .dataframe thead th {\n",
       "        text-align: left;\n",
       "    }\n",
       "\n",
       "    .dataframe tbody tr th {\n",
       "        vertical-align: top;\n",
       "    }\n",
       "</style>\n",
       "<table border=\"1\" class=\"dataframe\">\n",
       "  <thead>\n",
       "    <tr style=\"text-align: right;\">\n",
       "      <th></th>\n",
       "      <th></th>\n",
       "      <th>count</th>\n",
       "    </tr>\n",
       "    <tr>\n",
       "      <th>Year</th>\n",
       "      <th>Month</th>\n",
       "      <th></th>\n",
       "    </tr>\n",
       "  </thead>\n",
       "  <tbody>\n",
       "    <tr>\n",
       "      <th rowspan=\"12\" valign=\"top\">2013</th>\n",
       "      <th>1</th>\n",
       "      <td>63224</td>\n",
       "    </tr>\n",
       "    <tr>\n",
       "      <th>2</th>\n",
       "      <td>59935</td>\n",
       "    </tr>\n",
       "    <tr>\n",
       "      <th>3</th>\n",
       "      <td>63977</td>\n",
       "    </tr>\n",
       "    <tr>\n",
       "      <th>4</th>\n",
       "      <td>54638</td>\n",
       "    </tr>\n",
       "    <tr>\n",
       "      <th>5</th>\n",
       "      <td>53296</td>\n",
       "    </tr>\n",
       "    <tr>\n",
       "      <th>6</th>\n",
       "      <td>56196</td>\n",
       "    </tr>\n",
       "    <tr>\n",
       "      <th>7</th>\n",
       "      <td>58035</td>\n",
       "    </tr>\n",
       "    <tr>\n",
       "      <th>8</th>\n",
       "      <td>58022</td>\n",
       "    </tr>\n",
       "    <tr>\n",
       "      <th>9</th>\n",
       "      <td>51575</td>\n",
       "    </tr>\n",
       "    <tr>\n",
       "      <th>10</th>\n",
       "      <td>51090</td>\n",
       "    </tr>\n",
       "    <tr>\n",
       "      <th>11</th>\n",
       "      <td>51460</td>\n",
       "    </tr>\n",
       "    <tr>\n",
       "      <th>12</th>\n",
       "      <td>66276</td>\n",
       "    </tr>\n",
       "    <tr>\n",
       "      <th rowspan=\"12\" valign=\"top\">2014</th>\n",
       "      <th>1</th>\n",
       "      <td>53320</td>\n",
       "    </tr>\n",
       "    <tr>\n",
       "      <th>2</th>\n",
       "      <td>47704</td>\n",
       "    </tr>\n",
       "    <tr>\n",
       "      <th>3</th>\n",
       "      <td>49291</td>\n",
       "    </tr>\n",
       "    <tr>\n",
       "      <th>4</th>\n",
       "      <td>44740</td>\n",
       "    </tr>\n",
       "    <tr>\n",
       "      <th>5</th>\n",
       "      <td>45766</td>\n",
       "    </tr>\n",
       "    <tr>\n",
       "      <th>6</th>\n",
       "      <td>46481</td>\n",
       "    </tr>\n",
       "    <tr>\n",
       "      <th>7</th>\n",
       "      <td>45756</td>\n",
       "    </tr>\n",
       "    <tr>\n",
       "      <th>8</th>\n",
       "      <td>46439</td>\n",
       "    </tr>\n",
       "    <tr>\n",
       "      <th>9</th>\n",
       "      <td>40423</td>\n",
       "    </tr>\n",
       "    <tr>\n",
       "      <th>10</th>\n",
       "      <td>42595</td>\n",
       "    </tr>\n",
       "    <tr>\n",
       "      <th>11</th>\n",
       "      <td>45755</td>\n",
       "    </tr>\n",
       "    <tr>\n",
       "      <th>12</th>\n",
       "      <td>59275</td>\n",
       "    </tr>\n",
       "    <tr>\n",
       "      <th rowspan=\"10\" valign=\"top\">2015</th>\n",
       "      <th>1</th>\n",
       "      <td>46775</td>\n",
       "    </tr>\n",
       "    <tr>\n",
       "      <th>2</th>\n",
       "      <td>41390</td>\n",
       "    </tr>\n",
       "    <tr>\n",
       "      <th>3</th>\n",
       "      <td>40464</td>\n",
       "    </tr>\n",
       "    <tr>\n",
       "      <th>4</th>\n",
       "      <td>32875</td>\n",
       "    </tr>\n",
       "    <tr>\n",
       "      <th>5</th>\n",
       "      <td>32220</td>\n",
       "    </tr>\n",
       "    <tr>\n",
       "      <th>6</th>\n",
       "      <td>31909</td>\n",
       "    </tr>\n",
       "    <tr>\n",
       "      <th>7</th>\n",
       "      <td>33527</td>\n",
       "    </tr>\n",
       "    <tr>\n",
       "      <th>8</th>\n",
       "      <td>33486</td>\n",
       "    </tr>\n",
       "    <tr>\n",
       "      <th>9</th>\n",
       "      <td>29678</td>\n",
       "    </tr>\n",
       "    <tr>\n",
       "      <th>10</th>\n",
       "      <td>31531</td>\n",
       "    </tr>\n",
       "  </tbody>\n",
       "</table>\n",
       "</div>"
      ],
      "text/plain": [
       "            count\n",
       "Year Month       \n",
       "2013 1      63224\n",
       "     2      59935\n",
       "     3      63977\n",
       "     4      54638\n",
       "     5      53296\n",
       "     6      56196\n",
       "     7      58035\n",
       "     8      58022\n",
       "     9      51575\n",
       "     10     51090\n",
       "     11     51460\n",
       "     12     66276\n",
       "2014 1      53320\n",
       "     2      47704\n",
       "     3      49291\n",
       "     4      44740\n",
       "     5      45766\n",
       "     6      46481\n",
       "     7      45756\n",
       "     8      46439\n",
       "     9      40423\n",
       "     10     42595\n",
       "     11     45755\n",
       "     12     59275\n",
       "2015 1      46775\n",
       "     2      41390\n",
       "     3      40464\n",
       "     4      32875\n",
       "     5      32220\n",
       "     6      31909\n",
       "     7      33527\n",
       "     8      33486\n",
       "     9      29678\n",
       "     10     31531"
      ]
     },
     "execution_count": 47,
     "metadata": {},
     "output_type": "execute_result"
    }
   ],
   "source": [
    "Temp_Agg1.groupby(['Year','Month']).agg(['count'])['shop_id']"
   ]
  },
  {
   "cell_type": "code",
   "execution_count": null,
   "metadata": {
    "collapsed": true,
    "hidden": true
   },
   "outputs": [],
   "source": []
  },
  {
   "cell_type": "markdown",
   "metadata": {},
   "source": [
    "### Count of distinct months in each year"
   ]
  },
  {
   "cell_type": "code",
   "execution_count": 49,
   "metadata": {
    "ExecuteTime": {
     "end_time": "2018-06-21T19:13:19.989812Z",
     "start_time": "2018-06-21T19:13:19.887390Z"
    }
   },
   "outputs": [
    {
     "data": {
      "text/html": [
       "<div>\n",
       "<style>\n",
       "    .dataframe thead tr:only-child th {\n",
       "        text-align: right;\n",
       "    }\n",
       "\n",
       "    .dataframe thead th {\n",
       "        text-align: left;\n",
       "    }\n",
       "\n",
       "    .dataframe tbody tr th {\n",
       "        vertical-align: top;\n",
       "    }\n",
       "</style>\n",
       "<table border=\"1\" class=\"dataframe\">\n",
       "  <thead>\n",
       "    <tr style=\"text-align: right;\">\n",
       "      <th></th>\n",
       "      <th>Month</th>\n",
       "    </tr>\n",
       "    <tr>\n",
       "      <th>Year</th>\n",
       "      <th></th>\n",
       "    </tr>\n",
       "  </thead>\n",
       "  <tbody>\n",
       "    <tr>\n",
       "      <th>2013</th>\n",
       "      <td>12</td>\n",
       "    </tr>\n",
       "    <tr>\n",
       "      <th>2014</th>\n",
       "      <td>12</td>\n",
       "    </tr>\n",
       "    <tr>\n",
       "      <th>2015</th>\n",
       "      <td>10</td>\n",
       "    </tr>\n",
       "  </tbody>\n",
       "</table>\n",
       "</div>"
      ],
      "text/plain": [
       "      Month\n",
       "Year       \n",
       "2013     12\n",
       "2014     12\n",
       "2015     10"
      ]
     },
     "execution_count": 49,
     "metadata": {},
     "output_type": "execute_result"
    }
   ],
   "source": [
    "Temp_Agg1.groupby('Year').agg({'Month':pd.Series.nunique})"
   ]
  },
  {
   "cell_type": "markdown",
   "metadata": {},
   "source": [
    "###  Converting time series data to Random Forest ready Data Frame  with Pivot"
   ]
  },
  {
   "cell_type": "code",
   "execution_count": 74,
   "metadata": {
    "ExecuteTime": {
     "end_time": "2018-06-21T19:30:17.870487Z",
     "start_time": "2018-06-21T19:30:13.892305Z"
    },
    "collapsed": true
   },
   "outputs": [],
   "source": [
    "Temp_Pivot1 = pd.pivot_table(Temp_Agg1, values='sum', columns=['Year','Month'], index =['shop_id','item_id'],fill_value=0)"
   ]
  },
  {
   "cell_type": "code",
   "execution_count": 75,
   "metadata": {
    "ExecuteTime": {
     "end_time": "2018-06-21T19:30:17.922791Z",
     "start_time": "2018-06-21T19:30:17.873740Z"
    }
   },
   "outputs": [
    {
     "data": {
      "text/html": [
       "<div>\n",
       "<style>\n",
       "    .dataframe thead tr:only-child th {\n",
       "        text-align: right;\n",
       "    }\n",
       "\n",
       "    .dataframe thead th {\n",
       "        text-align: left;\n",
       "    }\n",
       "\n",
       "    .dataframe tbody tr th {\n",
       "        vertical-align: top;\n",
       "    }\n",
       "</style>\n",
       "<table border=\"1\" class=\"dataframe\">\n",
       "  <thead>\n",
       "    <tr>\n",
       "      <th></th>\n",
       "      <th>Year</th>\n",
       "      <th colspan=\"10\" halign=\"left\">2013</th>\n",
       "      <th>...</th>\n",
       "      <th colspan=\"10\" halign=\"left\">2015</th>\n",
       "    </tr>\n",
       "    <tr>\n",
       "      <th></th>\n",
       "      <th>Month</th>\n",
       "      <th>1</th>\n",
       "      <th>2</th>\n",
       "      <th>3</th>\n",
       "      <th>4</th>\n",
       "      <th>5</th>\n",
       "      <th>6</th>\n",
       "      <th>7</th>\n",
       "      <th>8</th>\n",
       "      <th>9</th>\n",
       "      <th>10</th>\n",
       "      <th>...</th>\n",
       "      <th>1</th>\n",
       "      <th>2</th>\n",
       "      <th>3</th>\n",
       "      <th>4</th>\n",
       "      <th>5</th>\n",
       "      <th>6</th>\n",
       "      <th>7</th>\n",
       "      <th>8</th>\n",
       "      <th>9</th>\n",
       "      <th>10</th>\n",
       "    </tr>\n",
       "    <tr>\n",
       "      <th>shop_id</th>\n",
       "      <th>item_id</th>\n",
       "      <th></th>\n",
       "      <th></th>\n",
       "      <th></th>\n",
       "      <th></th>\n",
       "      <th></th>\n",
       "      <th></th>\n",
       "      <th></th>\n",
       "      <th></th>\n",
       "      <th></th>\n",
       "      <th></th>\n",
       "      <th></th>\n",
       "      <th></th>\n",
       "      <th></th>\n",
       "      <th></th>\n",
       "      <th></th>\n",
       "      <th></th>\n",
       "      <th></th>\n",
       "      <th></th>\n",
       "      <th></th>\n",
       "      <th></th>\n",
       "      <th></th>\n",
       "    </tr>\n",
       "  </thead>\n",
       "  <tbody>\n",
       "    <tr>\n",
       "      <th rowspan=\"5\" valign=\"top\">0</th>\n",
       "      <th>30</th>\n",
       "      <td>0</td>\n",
       "      <td>31</td>\n",
       "      <td>0</td>\n",
       "      <td>0</td>\n",
       "      <td>0</td>\n",
       "      <td>0</td>\n",
       "      <td>0</td>\n",
       "      <td>0</td>\n",
       "      <td>0</td>\n",
       "      <td>0</td>\n",
       "      <td>...</td>\n",
       "      <td>0</td>\n",
       "      <td>0</td>\n",
       "      <td>0</td>\n",
       "      <td>0</td>\n",
       "      <td>0</td>\n",
       "      <td>0</td>\n",
       "      <td>0</td>\n",
       "      <td>0</td>\n",
       "      <td>0</td>\n",
       "      <td>0</td>\n",
       "    </tr>\n",
       "    <tr>\n",
       "      <th>31</th>\n",
       "      <td>0</td>\n",
       "      <td>11</td>\n",
       "      <td>0</td>\n",
       "      <td>0</td>\n",
       "      <td>0</td>\n",
       "      <td>0</td>\n",
       "      <td>0</td>\n",
       "      <td>0</td>\n",
       "      <td>0</td>\n",
       "      <td>0</td>\n",
       "      <td>...</td>\n",
       "      <td>0</td>\n",
       "      <td>0</td>\n",
       "      <td>0</td>\n",
       "      <td>0</td>\n",
       "      <td>0</td>\n",
       "      <td>0</td>\n",
       "      <td>0</td>\n",
       "      <td>0</td>\n",
       "      <td>0</td>\n",
       "      <td>0</td>\n",
       "    </tr>\n",
       "    <tr>\n",
       "      <th>32</th>\n",
       "      <td>6</td>\n",
       "      <td>10</td>\n",
       "      <td>0</td>\n",
       "      <td>0</td>\n",
       "      <td>0</td>\n",
       "      <td>0</td>\n",
       "      <td>0</td>\n",
       "      <td>0</td>\n",
       "      <td>0</td>\n",
       "      <td>0</td>\n",
       "      <td>...</td>\n",
       "      <td>0</td>\n",
       "      <td>0</td>\n",
       "      <td>0</td>\n",
       "      <td>0</td>\n",
       "      <td>0</td>\n",
       "      <td>0</td>\n",
       "      <td>0</td>\n",
       "      <td>0</td>\n",
       "      <td>0</td>\n",
       "      <td>0</td>\n",
       "    </tr>\n",
       "    <tr>\n",
       "      <th>33</th>\n",
       "      <td>3</td>\n",
       "      <td>3</td>\n",
       "      <td>0</td>\n",
       "      <td>0</td>\n",
       "      <td>0</td>\n",
       "      <td>0</td>\n",
       "      <td>0</td>\n",
       "      <td>0</td>\n",
       "      <td>0</td>\n",
       "      <td>0</td>\n",
       "      <td>...</td>\n",
       "      <td>0</td>\n",
       "      <td>0</td>\n",
       "      <td>0</td>\n",
       "      <td>0</td>\n",
       "      <td>0</td>\n",
       "      <td>0</td>\n",
       "      <td>0</td>\n",
       "      <td>0</td>\n",
       "      <td>0</td>\n",
       "      <td>0</td>\n",
       "    </tr>\n",
       "    <tr>\n",
       "      <th>35</th>\n",
       "      <td>1</td>\n",
       "      <td>14</td>\n",
       "      <td>0</td>\n",
       "      <td>0</td>\n",
       "      <td>0</td>\n",
       "      <td>0</td>\n",
       "      <td>0</td>\n",
       "      <td>0</td>\n",
       "      <td>0</td>\n",
       "      <td>0</td>\n",
       "      <td>...</td>\n",
       "      <td>0</td>\n",
       "      <td>0</td>\n",
       "      <td>0</td>\n",
       "      <td>0</td>\n",
       "      <td>0</td>\n",
       "      <td>0</td>\n",
       "      <td>0</td>\n",
       "      <td>0</td>\n",
       "      <td>0</td>\n",
       "      <td>0</td>\n",
       "    </tr>\n",
       "  </tbody>\n",
       "</table>\n",
       "<p>5 rows × 34 columns</p>\n",
       "</div>"
      ],
      "text/plain": [
       "Year            2013                             ... 2015                    \\\n",
       "Month             1   2  3  4  5  6  7  8  9  10 ...   1  2  3  4  5  6  7    \n",
       "shop_id item_id                                  ...                          \n",
       "0       30         0  31  0  0  0  0  0  0  0  0 ...    0  0  0  0  0  0  0   \n",
       "        31         0  11  0  0  0  0  0  0  0  0 ...    0  0  0  0  0  0  0   \n",
       "        32         6  10  0  0  0  0  0  0  0  0 ...    0  0  0  0  0  0  0   \n",
       "        33         3   3  0  0  0  0  0  0  0  0 ...    0  0  0  0  0  0  0   \n",
       "        35         1  14  0  0  0  0  0  0  0  0 ...    0  0  0  0  0  0  0   \n",
       "\n",
       "Year                      \n",
       "Month           8  9  10  \n",
       "shop_id item_id           \n",
       "0       30       0  0  0  \n",
       "        31       0  0  0  \n",
       "        32       0  0  0  \n",
       "        33       0  0  0  \n",
       "        35       0  0  0  \n",
       "\n",
       "[5 rows x 34 columns]"
      ]
     },
     "execution_count": 75,
     "metadata": {},
     "output_type": "execute_result"
    }
   ],
   "source": [
    "Temp_Pivot1.head()"
   ]
  },
  {
   "cell_type": "code",
   "execution_count": 76,
   "metadata": {
    "ExecuteTime": {
     "end_time": "2018-06-21T19:30:17.929686Z",
     "start_time": "2018-06-21T19:30:17.925818Z"
    },
    "collapsed": true
   },
   "outputs": [],
   "source": [
    "# my_colnames = []\n",
    "# for i, a in enumerate(Temp_Pivot1.columns.get_level_values(1)):\n",
    "#     my_colnames.append(str(a) + \"_\"+str(Temp_Pivot1.columns.get_level_values(0)[i]))"
   ]
  },
  {
   "cell_type": "code",
   "execution_count": 77,
   "metadata": {
    "ExecuteTime": {
     "end_time": "2018-06-21T19:30:17.949572Z",
     "start_time": "2018-06-21T19:30:17.932428Z"
    },
    "collapsed": true
   },
   "outputs": [],
   "source": [
    "### Renaming pivot columns \n",
    "Temp_Pivot1.reset_index(inplace=True)\n",
    "Temp_Pivot1.columns = [str(col[0])+\"_\"+str(col[1]) for col in Temp_Pivot1.columns.values]"
   ]
  },
  {
   "cell_type": "code",
   "execution_count": 78,
   "metadata": {
    "ExecuteTime": {
     "end_time": "2018-06-21T19:30:18.670841Z",
     "start_time": "2018-06-21T19:30:18.625706Z"
    }
   },
   "outputs": [
    {
     "data": {
      "text/html": [
       "<div>\n",
       "<style>\n",
       "    .dataframe thead tr:only-child th {\n",
       "        text-align: right;\n",
       "    }\n",
       "\n",
       "    .dataframe thead th {\n",
       "        text-align: left;\n",
       "    }\n",
       "\n",
       "    .dataframe tbody tr th {\n",
       "        vertical-align: top;\n",
       "    }\n",
       "</style>\n",
       "<table border=\"1\" class=\"dataframe\">\n",
       "  <thead>\n",
       "    <tr style=\"text-align: right;\">\n",
       "      <th></th>\n",
       "      <th>shop_id_</th>\n",
       "      <th>item_id_</th>\n",
       "      <th>2013_1</th>\n",
       "      <th>2013_2</th>\n",
       "      <th>2013_3</th>\n",
       "      <th>2013_4</th>\n",
       "      <th>2013_5</th>\n",
       "      <th>2013_6</th>\n",
       "      <th>2013_7</th>\n",
       "      <th>2013_8</th>\n",
       "      <th>...</th>\n",
       "      <th>2015_1</th>\n",
       "      <th>2015_2</th>\n",
       "      <th>2015_3</th>\n",
       "      <th>2015_4</th>\n",
       "      <th>2015_5</th>\n",
       "      <th>2015_6</th>\n",
       "      <th>2015_7</th>\n",
       "      <th>2015_8</th>\n",
       "      <th>2015_9</th>\n",
       "      <th>2015_10</th>\n",
       "    </tr>\n",
       "  </thead>\n",
       "  <tbody>\n",
       "    <tr>\n",
       "      <th>0</th>\n",
       "      <td>0</td>\n",
       "      <td>30</td>\n",
       "      <td>0</td>\n",
       "      <td>31</td>\n",
       "      <td>0</td>\n",
       "      <td>0</td>\n",
       "      <td>0</td>\n",
       "      <td>0</td>\n",
       "      <td>0</td>\n",
       "      <td>0</td>\n",
       "      <td>...</td>\n",
       "      <td>0</td>\n",
       "      <td>0</td>\n",
       "      <td>0</td>\n",
       "      <td>0</td>\n",
       "      <td>0</td>\n",
       "      <td>0</td>\n",
       "      <td>0</td>\n",
       "      <td>0</td>\n",
       "      <td>0</td>\n",
       "      <td>0</td>\n",
       "    </tr>\n",
       "    <tr>\n",
       "      <th>1</th>\n",
       "      <td>0</td>\n",
       "      <td>31</td>\n",
       "      <td>0</td>\n",
       "      <td>11</td>\n",
       "      <td>0</td>\n",
       "      <td>0</td>\n",
       "      <td>0</td>\n",
       "      <td>0</td>\n",
       "      <td>0</td>\n",
       "      <td>0</td>\n",
       "      <td>...</td>\n",
       "      <td>0</td>\n",
       "      <td>0</td>\n",
       "      <td>0</td>\n",
       "      <td>0</td>\n",
       "      <td>0</td>\n",
       "      <td>0</td>\n",
       "      <td>0</td>\n",
       "      <td>0</td>\n",
       "      <td>0</td>\n",
       "      <td>0</td>\n",
       "    </tr>\n",
       "    <tr>\n",
       "      <th>2</th>\n",
       "      <td>0</td>\n",
       "      <td>32</td>\n",
       "      <td>6</td>\n",
       "      <td>10</td>\n",
       "      <td>0</td>\n",
       "      <td>0</td>\n",
       "      <td>0</td>\n",
       "      <td>0</td>\n",
       "      <td>0</td>\n",
       "      <td>0</td>\n",
       "      <td>...</td>\n",
       "      <td>0</td>\n",
       "      <td>0</td>\n",
       "      <td>0</td>\n",
       "      <td>0</td>\n",
       "      <td>0</td>\n",
       "      <td>0</td>\n",
       "      <td>0</td>\n",
       "      <td>0</td>\n",
       "      <td>0</td>\n",
       "      <td>0</td>\n",
       "    </tr>\n",
       "    <tr>\n",
       "      <th>3</th>\n",
       "      <td>0</td>\n",
       "      <td>33</td>\n",
       "      <td>3</td>\n",
       "      <td>3</td>\n",
       "      <td>0</td>\n",
       "      <td>0</td>\n",
       "      <td>0</td>\n",
       "      <td>0</td>\n",
       "      <td>0</td>\n",
       "      <td>0</td>\n",
       "      <td>...</td>\n",
       "      <td>0</td>\n",
       "      <td>0</td>\n",
       "      <td>0</td>\n",
       "      <td>0</td>\n",
       "      <td>0</td>\n",
       "      <td>0</td>\n",
       "      <td>0</td>\n",
       "      <td>0</td>\n",
       "      <td>0</td>\n",
       "      <td>0</td>\n",
       "    </tr>\n",
       "    <tr>\n",
       "      <th>4</th>\n",
       "      <td>0</td>\n",
       "      <td>35</td>\n",
       "      <td>1</td>\n",
       "      <td>14</td>\n",
       "      <td>0</td>\n",
       "      <td>0</td>\n",
       "      <td>0</td>\n",
       "      <td>0</td>\n",
       "      <td>0</td>\n",
       "      <td>0</td>\n",
       "      <td>...</td>\n",
       "      <td>0</td>\n",
       "      <td>0</td>\n",
       "      <td>0</td>\n",
       "      <td>0</td>\n",
       "      <td>0</td>\n",
       "      <td>0</td>\n",
       "      <td>0</td>\n",
       "      <td>0</td>\n",
       "      <td>0</td>\n",
       "      <td>0</td>\n",
       "    </tr>\n",
       "  </tbody>\n",
       "</table>\n",
       "<p>5 rows × 36 columns</p>\n",
       "</div>"
      ],
      "text/plain": [
       "   shop_id_  item_id_  2013_1  2013_2  2013_3  2013_4  2013_5  2013_6  2013_7  \\\n",
       "0         0        30       0      31       0       0       0       0       0   \n",
       "1         0        31       0      11       0       0       0       0       0   \n",
       "2         0        32       6      10       0       0       0       0       0   \n",
       "3         0        33       3       3       0       0       0       0       0   \n",
       "4         0        35       1      14       0       0       0       0       0   \n",
       "\n",
       "   2013_8   ...     2015_1  2015_2  2015_3  2015_4  2015_5  2015_6  2015_7  \\\n",
       "0       0   ...          0       0       0       0       0       0       0   \n",
       "1       0   ...          0       0       0       0       0       0       0   \n",
       "2       0   ...          0       0       0       0       0       0       0   \n",
       "3       0   ...          0       0       0       0       0       0       0   \n",
       "4       0   ...          0       0       0       0       0       0       0   \n",
       "\n",
       "   2015_8  2015_9  2015_10  \n",
       "0       0       0        0  \n",
       "1       0       0        0  \n",
       "2       0       0        0  \n",
       "3       0       0        0  \n",
       "4       0       0        0  \n",
       "\n",
       "[5 rows x 36 columns]"
      ]
     },
     "execution_count": 78,
     "metadata": {},
     "output_type": "execute_result"
    }
   ],
   "source": [
    "Temp_Pivot1.head()"
   ]
  },
  {
   "cell_type": "code",
   "execution_count": 71,
   "metadata": {
    "ExecuteTime": {
     "end_time": "2018-06-21T19:26:13.275479Z",
     "start_time": "2018-06-21T19:26:13.266610Z"
    }
   },
   "outputs": [
    {
     "data": {
      "text/plain": [
       "(424124, 36)"
      ]
     },
     "execution_count": 71,
     "metadata": {},
     "output_type": "execute_result"
    }
   ],
   "source": [
    "Temp_Pivot1.shape"
   ]
  },
  {
   "cell_type": "markdown",
   "metadata": {
    "ExecuteTime": {
     "end_time": "2018-06-21T19:44:55.403331Z",
     "start_time": "2018-06-21T19:44:55.399232Z"
    }
   },
   "source": [
    "##### Saving data in hdf5 format"
   ]
  },
  {
   "cell_type": "code",
   "execution_count": 82,
   "metadata": {
    "ExecuteTime": {
     "end_time": "2018-06-21T19:43:33.193368Z",
     "start_time": "2018-06-21T19:43:14.827043Z"
    },
    "collapsed": true
   },
   "outputs": [],
   "source": [
    "# compressors = ['blosc', 'bzip2', 'zlib']\n",
    "Temp_Pivot1.to_hdf(\"./Temp_Pivot1.h5\", 'table', complelvel=9, complib='zlib')"
   ]
  },
  {
   "cell_type": "code",
   "execution_count": 5,
   "metadata": {
    "ExecuteTime": {
     "end_time": "2018-06-22T13:51:42.857749Z",
     "start_time": "2018-06-22T13:51:42.260788Z"
    }
   },
   "outputs": [],
   "source": [
    "Temp_Pivot1 = pd.read_hdf(\"./Temp_Pivot1.h5\",key='table')"
   ]
  },
  {
   "cell_type": "code",
   "execution_count": 6,
   "metadata": {
    "ExecuteTime": {
     "end_time": "2018-06-22T13:51:52.654859Z",
     "start_time": "2018-06-22T13:51:52.616507Z"
    }
   },
   "outputs": [
    {
     "data": {
      "text/html": [
       "<div>\n",
       "<style>\n",
       "    .dataframe thead tr:only-child th {\n",
       "        text-align: right;\n",
       "    }\n",
       "\n",
       "    .dataframe thead th {\n",
       "        text-align: left;\n",
       "    }\n",
       "\n",
       "    .dataframe tbody tr th {\n",
       "        vertical-align: top;\n",
       "    }\n",
       "</style>\n",
       "<table border=\"1\" class=\"dataframe\">\n",
       "  <thead>\n",
       "    <tr style=\"text-align: right;\">\n",
       "      <th></th>\n",
       "      <th>shop_id_</th>\n",
       "      <th>item_id_</th>\n",
       "      <th>2013_1</th>\n",
       "      <th>2013_2</th>\n",
       "      <th>2013_3</th>\n",
       "      <th>2013_4</th>\n",
       "      <th>2013_5</th>\n",
       "      <th>2013_6</th>\n",
       "      <th>2013_7</th>\n",
       "      <th>2013_8</th>\n",
       "      <th>...</th>\n",
       "      <th>2015_1</th>\n",
       "      <th>2015_2</th>\n",
       "      <th>2015_3</th>\n",
       "      <th>2015_4</th>\n",
       "      <th>2015_5</th>\n",
       "      <th>2015_6</th>\n",
       "      <th>2015_7</th>\n",
       "      <th>2015_8</th>\n",
       "      <th>2015_9</th>\n",
       "      <th>2015_10</th>\n",
       "    </tr>\n",
       "  </thead>\n",
       "  <tbody>\n",
       "    <tr>\n",
       "      <th>0</th>\n",
       "      <td>0</td>\n",
       "      <td>30</td>\n",
       "      <td>0</td>\n",
       "      <td>31</td>\n",
       "      <td>0</td>\n",
       "      <td>0</td>\n",
       "      <td>0</td>\n",
       "      <td>0</td>\n",
       "      <td>0</td>\n",
       "      <td>0</td>\n",
       "      <td>...</td>\n",
       "      <td>0</td>\n",
       "      <td>0</td>\n",
       "      <td>0</td>\n",
       "      <td>0</td>\n",
       "      <td>0</td>\n",
       "      <td>0</td>\n",
       "      <td>0</td>\n",
       "      <td>0</td>\n",
       "      <td>0</td>\n",
       "      <td>0</td>\n",
       "    </tr>\n",
       "    <tr>\n",
       "      <th>1</th>\n",
       "      <td>0</td>\n",
       "      <td>31</td>\n",
       "      <td>0</td>\n",
       "      <td>11</td>\n",
       "      <td>0</td>\n",
       "      <td>0</td>\n",
       "      <td>0</td>\n",
       "      <td>0</td>\n",
       "      <td>0</td>\n",
       "      <td>0</td>\n",
       "      <td>...</td>\n",
       "      <td>0</td>\n",
       "      <td>0</td>\n",
       "      <td>0</td>\n",
       "      <td>0</td>\n",
       "      <td>0</td>\n",
       "      <td>0</td>\n",
       "      <td>0</td>\n",
       "      <td>0</td>\n",
       "      <td>0</td>\n",
       "      <td>0</td>\n",
       "    </tr>\n",
       "    <tr>\n",
       "      <th>2</th>\n",
       "      <td>0</td>\n",
       "      <td>32</td>\n",
       "      <td>6</td>\n",
       "      <td>10</td>\n",
       "      <td>0</td>\n",
       "      <td>0</td>\n",
       "      <td>0</td>\n",
       "      <td>0</td>\n",
       "      <td>0</td>\n",
       "      <td>0</td>\n",
       "      <td>...</td>\n",
       "      <td>0</td>\n",
       "      <td>0</td>\n",
       "      <td>0</td>\n",
       "      <td>0</td>\n",
       "      <td>0</td>\n",
       "      <td>0</td>\n",
       "      <td>0</td>\n",
       "      <td>0</td>\n",
       "      <td>0</td>\n",
       "      <td>0</td>\n",
       "    </tr>\n",
       "    <tr>\n",
       "      <th>3</th>\n",
       "      <td>0</td>\n",
       "      <td>33</td>\n",
       "      <td>3</td>\n",
       "      <td>3</td>\n",
       "      <td>0</td>\n",
       "      <td>0</td>\n",
       "      <td>0</td>\n",
       "      <td>0</td>\n",
       "      <td>0</td>\n",
       "      <td>0</td>\n",
       "      <td>...</td>\n",
       "      <td>0</td>\n",
       "      <td>0</td>\n",
       "      <td>0</td>\n",
       "      <td>0</td>\n",
       "      <td>0</td>\n",
       "      <td>0</td>\n",
       "      <td>0</td>\n",
       "      <td>0</td>\n",
       "      <td>0</td>\n",
       "      <td>0</td>\n",
       "    </tr>\n",
       "    <tr>\n",
       "      <th>4</th>\n",
       "      <td>0</td>\n",
       "      <td>35</td>\n",
       "      <td>1</td>\n",
       "      <td>14</td>\n",
       "      <td>0</td>\n",
       "      <td>0</td>\n",
       "      <td>0</td>\n",
       "      <td>0</td>\n",
       "      <td>0</td>\n",
       "      <td>0</td>\n",
       "      <td>...</td>\n",
       "      <td>0</td>\n",
       "      <td>0</td>\n",
       "      <td>0</td>\n",
       "      <td>0</td>\n",
       "      <td>0</td>\n",
       "      <td>0</td>\n",
       "      <td>0</td>\n",
       "      <td>0</td>\n",
       "      <td>0</td>\n",
       "      <td>0</td>\n",
       "    </tr>\n",
       "  </tbody>\n",
       "</table>\n",
       "<p>5 rows × 36 columns</p>\n",
       "</div>"
      ],
      "text/plain": [
       "   shop_id_  item_id_  2013_1  2013_2  2013_3  2013_4  2013_5  2013_6  2013_7  \\\n",
       "0         0        30       0      31       0       0       0       0       0   \n",
       "1         0        31       0      11       0       0       0       0       0   \n",
       "2         0        32       6      10       0       0       0       0       0   \n",
       "3         0        33       3       3       0       0       0       0       0   \n",
       "4         0        35       1      14       0       0       0       0       0   \n",
       "\n",
       "   2013_8   ...     2015_1  2015_2  2015_3  2015_4  2015_5  2015_6  2015_7  \\\n",
       "0       0   ...          0       0       0       0       0       0       0   \n",
       "1       0   ...          0       0       0       0       0       0       0   \n",
       "2       0   ...          0       0       0       0       0       0       0   \n",
       "3       0   ...          0       0       0       0       0       0       0   \n",
       "4       0   ...          0       0       0       0       0       0       0   \n",
       "\n",
       "   2015_8  2015_9  2015_10  \n",
       "0       0       0        0  \n",
       "1       0       0        0  \n",
       "2       0       0        0  \n",
       "3       0       0        0  \n",
       "4       0       0        0  \n",
       "\n",
       "[5 rows x 36 columns]"
      ]
     },
     "execution_count": 6,
     "metadata": {},
     "output_type": "execute_result"
    }
   ],
   "source": [
    "Temp_Pivot1.head()"
   ]
  },
  {
   "cell_type": "markdown",
   "metadata": {
    "ExecuteTime": {
     "end_time": "2018-06-21T19:40:59.003658Z",
     "start_time": "2018-06-21T19:40:58.998178Z"
    },
    "heading_collapsed": true
   },
   "source": [
    "##  Now the dataframe is in correct format. Next step is to split into train and test. There are 34 months of data. I will use last 5 months for testing. i.e 2015/Jun to 2015/Oct.\n",
    "\n",
    "Below steps are to split into train and test\n",
    "In Trial 1 - I will try to predict 2015/Jun Sales for each shop_id and item_id"
   ]
  },
  {
   "cell_type": "code",
   "execution_count": 18,
   "metadata": {
    "ExecuteTime": {
     "end_time": "2018-06-22T14:03:36.317200Z",
     "start_time": "2018-06-22T14:03:36.310122Z"
    },
    "collapsed": true,
    "hidden": true
   },
   "outputs": [],
   "source": [
    "years =np.arange(2013,2016)\n",
    "months = np.arange(1,13)"
   ]
  },
  {
   "cell_type": "code",
   "execution_count": 8,
   "metadata": {
    "ExecuteTime": {
     "end_time": "2018-06-22T13:53:49.840850Z",
     "start_time": "2018-06-22T13:53:49.836512Z"
    },
    "collapsed": true,
    "hidden": true
   },
   "outputs": [],
   "source": [
    "train_cols=['shop_id','item_id']\n",
    "test_cols=['shop_id','item_id']"
   ]
  },
  {
   "cell_type": "code",
   "execution_count": 19,
   "metadata": {
    "ExecuteTime": {
     "end_time": "2018-06-22T14:04:12.715936Z",
     "start_time": "2018-06-22T14:04:12.699436Z"
    },
    "hidden": true
   },
   "outputs": [],
   "source": [
    "for year in years:\n",
    "    for month in months:\n",
    "        if(year==2015 and month in (11,12)):\n",
    "            pass\n",
    "        elif(year ==2015 and month in (6,7,8,9,10)):\n",
    "                test_cols.append(str(year)+\"_\"+str(month))\n",
    "        else:\n",
    "            train_cols.append(str(year)+\"_\"+str(month))\n",
    "            \n",
    "        "
   ]
  },
  {
   "cell_type": "markdown",
   "metadata": {
    "heading_collapsed": true
   },
   "source": [
    "# Baseline Model"
   ]
  },
  {
   "cell_type": "markdown",
   "metadata": {
    "hidden": true
   },
   "source": [
    "I can establish two baseline models here:\n",
    "1.  Prediction for next month = sales of previous month\n",
    "2. Prediction of next month = avg sales of previous 6 months"
   ]
  },
  {
   "cell_type": "markdown",
   "metadata": {
    "ExecuteTime": {
     "end_time": "2018-06-22T14:06:54.353807Z",
     "start_time": "2018-06-22T14:06:54.348411Z"
    },
    "hidden": true
   },
   "source": [
    "### Baseline Model - 1"
   ]
  },
  {
   "cell_type": "code",
   "execution_count": 34,
   "metadata": {
    "ExecuteTime": {
     "end_time": "2018-06-22T14:28:37.822371Z",
     "start_time": "2018-06-22T14:28:37.818425Z"
    },
    "collapsed": true,
    "hidden": true
   },
   "outputs": [],
   "source": [
    "y = Temp_Pivot1['2015_6']"
   ]
  },
  {
   "cell_type": "code",
   "execution_count": 35,
   "metadata": {
    "ExecuteTime": {
     "end_time": "2018-06-22T14:28:38.467084Z",
     "start_time": "2018-06-22T14:28:38.463090Z"
    },
    "collapsed": true,
    "hidden": true
   },
   "outputs": [],
   "source": [
    "pred = Temp_Pivot1['2015_5']"
   ]
  },
  {
   "cell_type": "code",
   "execution_count": 36,
   "metadata": {
    "ExecuteTime": {
     "end_time": "2018-06-22T14:28:39.242306Z",
     "start_time": "2018-06-22T14:28:39.229178Z"
    },
    "hidden": true
   },
   "outputs": [],
   "source": [
    "from sklearn import metrics\n",
    "baseline1 = np.sqrt(metrics.mean_squared_error(y,pred))"
   ]
  },
  {
   "cell_type": "code",
   "execution_count": 37,
   "metadata": {
    "ExecuteTime": {
     "end_time": "2018-06-22T14:28:43.886406Z",
     "start_time": "2018-06-22T14:28:43.880653Z"
    },
    "hidden": true
   },
   "outputs": [
    {
     "data": {
      "text/plain": [
       "2.0878198461485158"
      ]
     },
     "execution_count": 37,
     "metadata": {},
     "output_type": "execute_result"
    }
   ],
   "source": [
    "baseline1"
   ]
  },
  {
   "cell_type": "markdown",
   "metadata": {
    "ExecuteTime": {
     "end_time": "2018-06-22T14:24:08.104060Z",
     "start_time": "2018-06-22T14:24:08.100440Z"
    },
    "hidden": true
   },
   "source": [
    "### Baseline Model-2"
   ]
  },
  {
   "cell_type": "code",
   "execution_count": 38,
   "metadata": {
    "ExecuteTime": {
     "end_time": "2018-06-22T14:28:58.811108Z",
     "start_time": "2018-06-22T14:28:58.725081Z"
    },
    "hidden": true
   },
   "outputs": [],
   "source": [
    "pred =Temp_Pivot1.loc[:,'2014_12':'2015_5'].mean(axis=1)"
   ]
  },
  {
   "cell_type": "code",
   "execution_count": 40,
   "metadata": {
    "ExecuteTime": {
     "end_time": "2018-06-22T14:29:08.424568Z",
     "start_time": "2018-06-22T14:29:08.409205Z"
    },
    "hidden": true
   },
   "outputs": [
    {
     "data": {
      "text/plain": [
       "1.3828104617374244"
      ]
     },
     "execution_count": 40,
     "metadata": {},
     "output_type": "execute_result"
    }
   ],
   "source": [
    "baseline2= np.sqrt(metrics.mean_squared_error(y,pred))\n",
    "baseline2"
   ]
  },
  {
   "cell_type": "markdown",
   "metadata": {
    "hidden": true
   },
   "source": [
    "Average of six months has improved RMSE from 2.08 to 1.38"
   ]
  },
  {
   "cell_type": "markdown",
   "metadata": {
    "heading_collapsed": true
   },
   "source": [
    "# Random Forest Model with no new features -1"
   ]
  },
  {
   "cell_type": "code",
   "execution_count": 146,
   "metadata": {
    "ExecuteTime": {
     "end_time": "2018-06-22T17:48:49.741251Z",
     "start_time": "2018-06-22T17:48:49.732245Z"
    },
    "collapsed": true,
    "hidden": true
   },
   "outputs": [],
   "source": [
    "X = Temp_Pivot1.loc[:,'2013_1':'2015_5']"
   ]
  },
  {
   "cell_type": "code",
   "execution_count": 147,
   "metadata": {
    "ExecuteTime": {
     "end_time": "2018-06-22T17:48:51.011287Z",
     "start_time": "2018-06-22T17:48:50.451352Z"
    },
    "collapsed": true,
    "hidden": true
   },
   "outputs": [],
   "source": [
    "from sklearn.ensemble import RandomForestRegressor\n",
    "from sklearn.model_selection import train_test_split\n",
    "X_train, X_valid, y_train, y_valid = train_test_split(X, y, test_size=0.2)"
   ]
  },
  {
   "cell_type": "code",
   "execution_count": 148,
   "metadata": {
    "ExecuteTime": {
     "end_time": "2018-06-22T17:48:51.241351Z",
     "start_time": "2018-06-22T17:48:51.234012Z"
    },
    "hidden": true
   },
   "outputs": [],
   "source": [
    "regr = RandomForestRegressor(n_estimators=40, min_samples_leaf=3, max_features=0.5, n_jobs=-1, oob_score=True)"
   ]
  },
  {
   "cell_type": "code",
   "execution_count": 149,
   "metadata": {
    "ExecuteTime": {
     "end_time": "2018-06-22T17:49:02.559211Z",
     "start_time": "2018-06-22T17:48:51.978278Z"
    },
    "hidden": true
   },
   "outputs": [
    {
     "data": {
      "text/plain": [
       "RandomForestRegressor(bootstrap=True, criterion='mse', max_depth=None,\n",
       "           max_features=0.5, max_leaf_nodes=None,\n",
       "           min_impurity_decrease=0.0, min_impurity_split=None,\n",
       "           min_samples_leaf=3, min_samples_split=2,\n",
       "           min_weight_fraction_leaf=0.0, n_estimators=40, n_jobs=-1,\n",
       "           oob_score=True, random_state=None, verbose=0, warm_start=False)"
      ]
     },
     "execution_count": 149,
     "metadata": {},
     "output_type": "execute_result"
    },
    {
     "data": {
      "text/plain": [
       "0.79413873977503535"
      ]
     },
     "execution_count": 149,
     "metadata": {},
     "output_type": "execute_result"
    },
    {
     "data": {
      "text/plain": [
       "0.77751588610986822"
      ]
     },
     "execution_count": 149,
     "metadata": {},
     "output_type": "execute_result"
    }
   ],
   "source": [
    "regr.fit(X_train,y_train)\n",
    "\n",
    "predictions = regr.predict(X_train)\n",
    "\n",
    "RF_metric1= np.sqrt(metrics.mean_squared_error(y_train,predictions))\n",
    "\n",
    "RF_metric1\n",
    "\n",
    "test_predictions = regr.predict(X_valid)\n",
    "\n",
    "np.sqrt(metrics.mean_squared_error(y_valid, test_predictions))"
   ]
  },
  {
   "cell_type": "markdown",
   "metadata": {
    "hidden": true
   },
   "source": [
    "Predicting for July with model "
   ]
  },
  {
   "cell_type": "code",
   "execution_count": 67,
   "metadata": {
    "ExecuteTime": {
     "end_time": "2018-06-22T15:12:45.388564Z",
     "start_time": "2018-06-22T15:12:45.383590Z"
    },
    "collapsed": true,
    "hidden": true
   },
   "outputs": [],
   "source": [
    "July_train = Temp_Pivot1.loc[:,'2013_2':'2015_6']\n",
    "\n",
    "July_actual = Temp_Pivot1['2015_7']\n",
    "\n",
    "July_predictions = regr.predict(July_train)\n",
    "# july_predictions = np.clip(july_predictions, 0 ,20)\n",
    "\n",
    "July_Metric= np.sqrt(metrics.mean_squared_error(July_actual,July_predictions))"
   ]
  },
  {
   "cell_type": "code",
   "execution_count": 71,
   "metadata": {
    "ExecuteTime": {
     "end_time": "2018-06-22T15:12:48.607455Z",
     "start_time": "2018-06-22T15:12:48.601805Z"
    },
    "hidden": true
   },
   "outputs": [
    {
     "data": {
      "text/plain": [
       "1.038073575580819"
      ]
     },
     "execution_count": 71,
     "metadata": {},
     "output_type": "execute_result"
    }
   ],
   "source": [
    "July_Metric"
   ]
  },
  {
   "cell_type": "markdown",
   "metadata": {
    "hidden": true
   },
   "source": [
    "Here I did not clip the predictions as mentioned in kaggle as actual values in July are not clipped. Please see  below\n",
    "RMSE value of 1.038 value will place at 229th rank out of 790"
   ]
  },
  {
   "cell_type": "code",
   "execution_count": 74,
   "metadata": {
    "ExecuteTime": {
     "end_time": "2018-06-22T15:15:44.112602Z",
     "start_time": "2018-06-22T15:15:43.989157Z"
    },
    "hidden": true
   },
   "outputs": [
    {
     "data": {
      "text/plain": [
       "count    424124.000000\n",
       "mean          0.148982\n",
       "std           1.577261\n",
       "min          -1.000000\n",
       "25%           0.000000\n",
       "50%           0.000000\n",
       "75%           0.000000\n",
       "max         482.000000\n",
       "Name: 2015_7, dtype: float64"
      ]
     },
     "execution_count": 74,
     "metadata": {},
     "output_type": "execute_result"
    }
   ],
   "source": [
    "July_actual.describe()"
   ]
  },
  {
   "cell_type": "code",
   "execution_count": 77,
   "metadata": {
    "ExecuteTime": {
     "end_time": "2018-06-22T15:16:46.236504Z",
     "start_time": "2018-06-22T15:16:46.214934Z"
    },
    "hidden": true
   },
   "outputs": [
    {
     "data": {
      "text/plain": [
       "DescribeResult(nobs=424124, minmax=(-0.091097604300725291, 169.07214972527476), mean=0.15405632604412739, variance=0.93626662927923354, skewness=88.63424715553562, kurtosis=11449.641254248292)"
      ]
     },
     "execution_count": 77,
     "metadata": {},
     "output_type": "execute_result"
    }
   ],
   "source": [
    "import scipy\n",
    "scipy.stats.describe(July_predictions)"
   ]
  },
  {
   "cell_type": "code",
   "execution_count": 55,
   "metadata": {
    "ExecuteTime": {
     "end_time": "2018-06-22T20:05:43.300476Z",
     "start_time": "2018-06-22T20:05:43.294582Z"
    },
    "collapsed": true,
    "hidden": true
   },
   "outputs": [],
   "source": [
    "def rf_feat_importance(m, df):\n",
    "    \n",
    "    return pd.DataFrame({'cols':df.columns, 'imp':m.feature_importances_}\n",
    "                       ).sort_values('imp', ascending=False)\n"
   ]
  },
  {
   "cell_type": "code",
   "execution_count": 121,
   "metadata": {
    "ExecuteTime": {
     "end_time": "2018-06-22T16:36:05.806190Z",
     "start_time": "2018-06-22T16:36:04.873656Z"
    },
    "hidden": true
   },
   "outputs": [
    {
     "data": {
      "text/plain": [
       "<matplotlib.axes._subplots.AxesSubplot at 0x7f45dce6cbe0>"
      ]
     },
     "execution_count": 121,
     "metadata": {},
     "output_type": "execute_result"
    },
    {
     "data": {
      "text/plain": [
       "<matplotlib.axes._subplots.AxesSubplot at 0x7f45d6be06a0>"
      ]
     },
     "execution_count": 121,
     "metadata": {},
     "output_type": "execute_result"
    },
    {
     "name": "stderr",
     "output_type": "stream",
     "text": [
      "/users/a115505/.conda/envs/DL/lib/python3.6/site-packages/matplotlib/font_manager.py:1328: UserWarning: findfont: Font family ['serif'] not found. Falling back to DejaVu Sans\n",
      "  (prop.get_family(), self.defaultFamily[fontext]))\n"
     ]
    },
    {
     "data": {
      "image/png": "[encoded data removed]",
      "text/plain": [
       "<Figure size 864x720 with 1 Axes>"
      ]
     },
     "metadata": {},
     "output_type": "display_data"
    },
    {
     "data": {
      "image/png": "[encoded data removed]",
      "text/plain": [
       "<Figure size 864x720 with 1 Axes>"
      ]
     },
     "metadata": {},
     "output_type": "display_data"
    }
   ],
   "source": [
    "Feat_Imp= rf_feat_importance(regr,X)\n",
    "\n",
    "#As expected, most recent month as higher predictive power compared to other months. But some of the older months also have higher predictive power\n",
    "\n",
    "Feat_Imp.plot(x='cols',y='imp')\n",
    "\n",
    "Feat_Imp.sort_values('cols',ascending=False).plot(x='cols',y='imp')"
   ]
  },
  {
   "cell_type": "markdown",
   "metadata": {},
   "source": [
    "# Feature Engineering"
   ]
  },
  {
   "cell_type": "markdown",
   "metadata": {},
   "source": [
    "In addition to daily sales data, there are other data sets available.Getting additional features from these datasets and also from creating new features wit above data set."
   ]
  },
  {
   "cell_type": "code",
   "execution_count": 76,
   "metadata": {
    "ExecuteTime": {
     "end_time": "2018-06-22T20:15:51.886994Z",
     "start_time": "2018-06-22T20:15:51.881564Z"
    },
    "collapsed": true
   },
   "outputs": [],
   "source": [
    "y = Temp_Pivot1['2015_6']\n",
    "X = Temp_Pivot1.loc[:,'2013_1':'2015_5']"
   ]
  },
  {
   "cell_type": "code",
   "execution_count": 77,
   "metadata": {
    "ExecuteTime": {
     "end_time": "2018-06-22T20:15:53.057625Z",
     "start_time": "2018-06-22T20:15:53.051281Z"
    }
   },
   "outputs": [
    {
     "data": {
      "text/plain": [
       "((424124, 29), (424124,))"
      ]
     },
     "execution_count": 77,
     "metadata": {},
     "output_type": "execute_result"
    }
   ],
   "source": [
    "X.shape, y.shape"
   ]
  },
  {
   "cell_type": "code",
   "execution_count": 78,
   "metadata": {
    "ExecuteTime": {
     "end_time": "2018-06-22T20:15:54.305009Z",
     "start_time": "2018-06-22T20:15:54.280485Z"
    }
   },
   "outputs": [],
   "source": [
    "def derive_new(df):\n",
    "    reqd_cols=[3,6,9,12,18,24]\n",
    "    column_names={}\n",
    "    for col in reqd_cols:\n",
    "        column_names[\"past_\"+str(col)+\"_months\"]=df.columns[-col:]\n",
    "    for key,val in column_names.items():\n",
    "        df.loc[:,'Avg_'+key]=df.loc[:,val].mean(axis=1)\n",
    "        df.loc[:,'Min_'+key]=df.loc[:,val].min(axis=1)\n",
    "        df.loc[:,'Max_'+key]=df.loc[:,val].max(axis=1)\n",
    "    return(df)\n",
    "    "
   ]
  },
  {
   "cell_type": "code",
   "execution_count": 79,
   "metadata": {
    "ExecuteTime": {
     "end_time": "2018-06-22T20:16:01.253830Z",
     "start_time": "2018-06-22T20:15:55.419844Z"
    }
   },
   "outputs": [
    {
     "name": "stderr",
     "output_type": "stream",
     "text": [
      "/users/a115505/.conda/envs/DL/lib/python3.6/site-packages/pandas/core/indexing.py:337: SettingWithCopyWarning: \n",
      "A value is trying to be set on a copy of a slice from a DataFrame.\n",
      "Try using .loc[row_indexer,col_indexer] = value instead\n",
      "\n",
      "See the caveats in the documentation: http://pandas.pydata.org/pandas-docs/stable/indexing.html#indexing-view-versus-copy\n",
      "  self.obj[key] = _infer_fill_value(value)\n",
      "/users/a115505/.conda/envs/DL/lib/python3.6/site-packages/pandas/core/indexing.py:517: SettingWithCopyWarning: \n",
      "A value is trying to be set on a copy of a slice from a DataFrame.\n",
      "Try using .loc[row_indexer,col_indexer] = value instead\n",
      "\n",
      "See the caveats in the documentation: http://pandas.pydata.org/pandas-docs/stable/indexing.html#indexing-view-versus-copy\n",
      "  self.obj[item] = s\n"
     ]
    }
   ],
   "source": [
    "X=derive_new(X)"
   ]
  },
  {
   "cell_type": "code",
   "execution_count": 80,
   "metadata": {
    "ExecuteTime": {
     "end_time": "2018-06-22T20:16:01.298578Z",
     "start_time": "2018-06-22T20:16:01.256932Z"
    }
   },
   "outputs": [
    {
     "data": {
      "text/html": [
       "<div>\n",
       "<style>\n",
       "    .dataframe thead tr:only-child th {\n",
       "        text-align: right;\n",
       "    }\n",
       "\n",
       "    .dataframe thead th {\n",
       "        text-align: left;\n",
       "    }\n",
       "\n",
       "    .dataframe tbody tr th {\n",
       "        vertical-align: top;\n",
       "    }\n",
       "</style>\n",
       "<table border=\"1\" class=\"dataframe\">\n",
       "  <thead>\n",
       "    <tr style=\"text-align: right;\">\n",
       "      <th></th>\n",
       "      <th>2013_1</th>\n",
       "      <th>2013_2</th>\n",
       "      <th>2013_3</th>\n",
       "      <th>2013_4</th>\n",
       "      <th>2013_5</th>\n",
       "      <th>2013_6</th>\n",
       "      <th>2013_7</th>\n",
       "      <th>2013_8</th>\n",
       "      <th>2013_9</th>\n",
       "      <th>2013_10</th>\n",
       "      <th>...</th>\n",
       "      <th>Max_past_9_months</th>\n",
       "      <th>Avg_past_12_months</th>\n",
       "      <th>Min_past_12_months</th>\n",
       "      <th>Max_past_12_months</th>\n",
       "      <th>Avg_past_18_months</th>\n",
       "      <th>Min_past_18_months</th>\n",
       "      <th>Max_past_18_months</th>\n",
       "      <th>Avg_past_24_months</th>\n",
       "      <th>Min_past_24_months</th>\n",
       "      <th>Max_past_24_months</th>\n",
       "    </tr>\n",
       "  </thead>\n",
       "  <tbody>\n",
       "    <tr>\n",
       "      <th>0</th>\n",
       "      <td>0</td>\n",
       "      <td>31</td>\n",
       "      <td>0</td>\n",
       "      <td>0</td>\n",
       "      <td>0</td>\n",
       "      <td>0</td>\n",
       "      <td>0</td>\n",
       "      <td>0</td>\n",
       "      <td>0</td>\n",
       "      <td>0</td>\n",
       "      <td>...</td>\n",
       "      <td>0</td>\n",
       "      <td>0.0</td>\n",
       "      <td>0</td>\n",
       "      <td>0</td>\n",
       "      <td>0.0</td>\n",
       "      <td>0</td>\n",
       "      <td>0</td>\n",
       "      <td>0.0</td>\n",
       "      <td>0</td>\n",
       "      <td>0</td>\n",
       "    </tr>\n",
       "    <tr>\n",
       "      <th>1</th>\n",
       "      <td>0</td>\n",
       "      <td>11</td>\n",
       "      <td>0</td>\n",
       "      <td>0</td>\n",
       "      <td>0</td>\n",
       "      <td>0</td>\n",
       "      <td>0</td>\n",
       "      <td>0</td>\n",
       "      <td>0</td>\n",
       "      <td>0</td>\n",
       "      <td>...</td>\n",
       "      <td>0</td>\n",
       "      <td>0.0</td>\n",
       "      <td>0</td>\n",
       "      <td>0</td>\n",
       "      <td>0.0</td>\n",
       "      <td>0</td>\n",
       "      <td>0</td>\n",
       "      <td>0.0</td>\n",
       "      <td>0</td>\n",
       "      <td>0</td>\n",
       "    </tr>\n",
       "    <tr>\n",
       "      <th>2</th>\n",
       "      <td>6</td>\n",
       "      <td>10</td>\n",
       "      <td>0</td>\n",
       "      <td>0</td>\n",
       "      <td>0</td>\n",
       "      <td>0</td>\n",
       "      <td>0</td>\n",
       "      <td>0</td>\n",
       "      <td>0</td>\n",
       "      <td>0</td>\n",
       "      <td>...</td>\n",
       "      <td>0</td>\n",
       "      <td>0.0</td>\n",
       "      <td>0</td>\n",
       "      <td>0</td>\n",
       "      <td>0.0</td>\n",
       "      <td>0</td>\n",
       "      <td>0</td>\n",
       "      <td>0.0</td>\n",
       "      <td>0</td>\n",
       "      <td>0</td>\n",
       "    </tr>\n",
       "    <tr>\n",
       "      <th>3</th>\n",
       "      <td>3</td>\n",
       "      <td>3</td>\n",
       "      <td>0</td>\n",
       "      <td>0</td>\n",
       "      <td>0</td>\n",
       "      <td>0</td>\n",
       "      <td>0</td>\n",
       "      <td>0</td>\n",
       "      <td>0</td>\n",
       "      <td>0</td>\n",
       "      <td>...</td>\n",
       "      <td>0</td>\n",
       "      <td>0.0</td>\n",
       "      <td>0</td>\n",
       "      <td>0</td>\n",
       "      <td>0.0</td>\n",
       "      <td>0</td>\n",
       "      <td>0</td>\n",
       "      <td>0.0</td>\n",
       "      <td>0</td>\n",
       "      <td>0</td>\n",
       "    </tr>\n",
       "    <tr>\n",
       "      <th>4</th>\n",
       "      <td>1</td>\n",
       "      <td>14</td>\n",
       "      <td>0</td>\n",
       "      <td>0</td>\n",
       "      <td>0</td>\n",
       "      <td>0</td>\n",
       "      <td>0</td>\n",
       "      <td>0</td>\n",
       "      <td>0</td>\n",
       "      <td>0</td>\n",
       "      <td>...</td>\n",
       "      <td>0</td>\n",
       "      <td>0.0</td>\n",
       "      <td>0</td>\n",
       "      <td>0</td>\n",
       "      <td>0.0</td>\n",
       "      <td>0</td>\n",
       "      <td>0</td>\n",
       "      <td>0.0</td>\n",
       "      <td>0</td>\n",
       "      <td>0</td>\n",
       "    </tr>\n",
       "  </tbody>\n",
       "</table>\n",
       "<p>5 rows × 47 columns</p>\n",
       "</div>"
      ],
      "text/plain": [
       "   2013_1  2013_2  2013_3  2013_4  2013_5  2013_6  2013_7  2013_8  2013_9  \\\n",
       "0       0      31       0       0       0       0       0       0       0   \n",
       "1       0      11       0       0       0       0       0       0       0   \n",
       "2       6      10       0       0       0       0       0       0       0   \n",
       "3       3       3       0       0       0       0       0       0       0   \n",
       "4       1      14       0       0       0       0       0       0       0   \n",
       "\n",
       "   2013_10         ...          Max_past_9_months  Avg_past_12_months  \\\n",
       "0        0         ...                          0                 0.0   \n",
       "1        0         ...                          0                 0.0   \n",
       "2        0         ...                          0                 0.0   \n",
       "3        0         ...                          0                 0.0   \n",
       "4        0         ...                          0                 0.0   \n",
       "\n",
       "   Min_past_12_months  Max_past_12_months  Avg_past_18_months  \\\n",
       "0                   0                   0                 0.0   \n",
       "1                   0                   0                 0.0   \n",
       "2                   0                   0                 0.0   \n",
       "3                   0                   0                 0.0   \n",
       "4                   0                   0                 0.0   \n",
       "\n",
       "   Min_past_18_months  Max_past_18_months  Avg_past_24_months  \\\n",
       "0                   0                   0                 0.0   \n",
       "1                   0                   0                 0.0   \n",
       "2                   0                   0                 0.0   \n",
       "3                   0                   0                 0.0   \n",
       "4                   0                   0                 0.0   \n",
       "\n",
       "   Min_past_24_months  Max_past_24_months  \n",
       "0                   0                   0  \n",
       "1                   0                   0  \n",
       "2                   0                   0  \n",
       "3                   0                   0  \n",
       "4                   0                   0  \n",
       "\n",
       "[5 rows x 47 columns]"
      ]
     },
     "execution_count": 80,
     "metadata": {},
     "output_type": "execute_result"
    }
   ],
   "source": [
    "X.head()"
   ]
  },
  {
   "cell_type": "markdown",
   "metadata": {},
   "source": [
    "Checking  whether performance improves with new features"
   ]
  },
  {
   "cell_type": "code",
   "execution_count": 81,
   "metadata": {
    "ExecuteTime": {
     "end_time": "2018-06-22T20:16:13.128934Z",
     "start_time": "2018-06-22T20:16:13.122366Z"
    }
   },
   "outputs": [
    {
     "data": {
      "text/plain": [
       "((424124, 47), (424124,))"
      ]
     },
     "execution_count": 81,
     "metadata": {},
     "output_type": "execute_result"
    }
   ],
   "source": [
    "X.shape, y.shape"
   ]
  },
  {
   "cell_type": "markdown",
   "metadata": {},
   "source": [
    "# Random Forest with new features - 2"
   ]
  },
  {
   "cell_type": "code",
   "execution_count": 82,
   "metadata": {
    "ExecuteTime": {
     "end_time": "2018-06-22T20:16:17.264627Z",
     "start_time": "2018-06-22T20:16:16.734586Z"
    }
   },
   "outputs": [],
   "source": [
    "from sklearn.ensemble import RandomForestRegressor\n",
    "from sklearn.model_selection import train_test_split\n",
    "X_train, X_valid, y_train, y_valid = train_test_split(X, y, test_size=0.2)"
   ]
  },
  {
   "cell_type": "code",
   "execution_count": 83,
   "metadata": {
    "ExecuteTime": {
     "end_time": "2018-06-22T20:16:27.399832Z",
     "start_time": "2018-06-22T20:16:17.606806Z"
    }
   },
   "outputs": [
    {
     "data": {
      "text/plain": [
       "RandomForestRegressor(bootstrap=True, criterion='mse', max_depth=None,\n",
       "           max_features=0.5, max_leaf_nodes=None,\n",
       "           min_impurity_decrease=0.0, min_impurity_split=None,\n",
       "           min_samples_leaf=3, min_samples_split=2,\n",
       "           min_weight_fraction_leaf=0.0, n_estimators=40, n_jobs=-1,\n",
       "           oob_score=True, random_state=None, verbose=0, warm_start=False)"
      ]
     },
     "execution_count": 83,
     "metadata": {},
     "output_type": "execute_result"
    }
   ],
   "source": [
    "regr = RandomForestRegressor(n_estimators=40, min_samples_leaf=3, max_features=0.5, n_jobs=-1, oob_score=True)\n",
    "regr.fit(X_train,y_train)"
   ]
  },
  {
   "cell_type": "code",
   "execution_count": 84,
   "metadata": {
    "ExecuteTime": {
     "end_time": "2018-06-22T20:16:28.089700Z",
     "start_time": "2018-06-22T20:16:27.402553Z"
    }
   },
   "outputs": [
    {
     "data": {
      "text/plain": [
       "0.75233935652214967"
      ]
     },
     "execution_count": 84,
     "metadata": {},
     "output_type": "execute_result"
    },
    {
     "data": {
      "text/plain": [
       "1.1635920649176323"
      ]
     },
     "execution_count": 84,
     "metadata": {},
     "output_type": "execute_result"
    }
   ],
   "source": [
    "predictions = regr.predict(X_train)\n",
    "\n",
    "RF_metric1= np.sqrt(metrics.mean_squared_error(y_train,predictions))\n",
    "\n",
    "RF_metric1\n",
    "\n",
    "test_predictions = regr.predict(X_valid)\n",
    "\n",
    "np.sqrt(metrics.mean_squared_error(y_valid, test_predictions))"
   ]
  },
  {
   "cell_type": "code",
   "execution_count": 85,
   "metadata": {
    "ExecuteTime": {
     "end_time": "2018-06-22T20:16:37.893394Z",
     "start_time": "2018-06-22T20:16:36.694734Z"
    }
   },
   "outputs": [
    {
     "data": {
      "text/plain": [
       "<matplotlib.axes._subplots.AxesSubplot at 0x7f6e9d6e6240>"
      ]
     },
     "execution_count": 85,
     "metadata": {},
     "output_type": "execute_result"
    },
    {
     "data": {
      "text/plain": [
       "<matplotlib.axes._subplots.AxesSubplot at 0x7f6e9de3d4e0>"
      ]
     },
     "execution_count": 85,
     "metadata": {},
     "output_type": "execute_result"
    },
    {
     "data": {
      "text/html": [
       "<div>\n",
       "<style>\n",
       "    .dataframe thead tr:only-child th {\n",
       "        text-align: right;\n",
       "    }\n",
       "\n",
       "    .dataframe thead th {\n",
       "        text-align: left;\n",
       "    }\n",
       "\n",
       "    .dataframe tbody tr th {\n",
       "        vertical-align: top;\n",
       "    }\n",
       "</style>\n",
       "<table border=\"1\" class=\"dataframe\">\n",
       "  <thead>\n",
       "    <tr style=\"text-align: right;\">\n",
       "      <th></th>\n",
       "      <th>cols</th>\n",
       "      <th>imp</th>\n",
       "    </tr>\n",
       "  </thead>\n",
       "  <tbody>\n",
       "    <tr>\n",
       "      <th>32</th>\n",
       "      <td>Avg_past_6_months</td>\n",
       "      <td>0.133636</td>\n",
       "    </tr>\n",
       "    <tr>\n",
       "      <th>38</th>\n",
       "      <td>Avg_past_12_months</td>\n",
       "      <td>0.105802</td>\n",
       "    </tr>\n",
       "    <tr>\n",
       "      <th>29</th>\n",
       "      <td>Avg_past_3_months</td>\n",
       "      <td>0.083465</td>\n",
       "    </tr>\n",
       "    <tr>\n",
       "      <th>41</th>\n",
       "      <td>Avg_past_18_months</td>\n",
       "      <td>0.082701</td>\n",
       "    </tr>\n",
       "    <tr>\n",
       "      <th>28</th>\n",
       "      <td>2015_5</td>\n",
       "      <td>0.079136</td>\n",
       "    </tr>\n",
       "    <tr>\n",
       "      <th>35</th>\n",
       "      <td>Avg_past_9_months</td>\n",
       "      <td>0.075023</td>\n",
       "    </tr>\n",
       "    <tr>\n",
       "      <th>44</th>\n",
       "      <td>Avg_past_24_months</td>\n",
       "      <td>0.069723</td>\n",
       "    </tr>\n",
       "    <tr>\n",
       "      <th>25</th>\n",
       "      <td>2015_2</td>\n",
       "      <td>0.066440</td>\n",
       "    </tr>\n",
       "    <tr>\n",
       "      <th>18</th>\n",
       "      <td>2014_7</td>\n",
       "      <td>0.052296</td>\n",
       "    </tr>\n",
       "    <tr>\n",
       "      <th>23</th>\n",
       "      <td>2014_12</td>\n",
       "      <td>0.035177</td>\n",
       "    </tr>\n",
       "    <tr>\n",
       "      <th>19</th>\n",
       "      <td>2014_8</td>\n",
       "      <td>0.021111</td>\n",
       "    </tr>\n",
       "    <tr>\n",
       "      <th>31</th>\n",
       "      <td>Max_past_3_months</td>\n",
       "      <td>0.019829</td>\n",
       "    </tr>\n",
       "    <tr>\n",
       "      <th>10</th>\n",
       "      <td>2013_11</td>\n",
       "      <td>0.019079</td>\n",
       "    </tr>\n",
       "    <tr>\n",
       "      <th>22</th>\n",
       "      <td>2014_11</td>\n",
       "      <td>0.017823</td>\n",
       "    </tr>\n",
       "    <tr>\n",
       "      <th>12</th>\n",
       "      <td>2014_1</td>\n",
       "      <td>0.017058</td>\n",
       "    </tr>\n",
       "    <tr>\n",
       "      <th>30</th>\n",
       "      <td>Min_past_3_months</td>\n",
       "      <td>0.015342</td>\n",
       "    </tr>\n",
       "    <tr>\n",
       "      <th>34</th>\n",
       "      <td>Max_past_6_months</td>\n",
       "      <td>0.010307</td>\n",
       "    </tr>\n",
       "    <tr>\n",
       "      <th>33</th>\n",
       "      <td>Min_past_6_months</td>\n",
       "      <td>0.010208</td>\n",
       "    </tr>\n",
       "    <tr>\n",
       "      <th>24</th>\n",
       "      <td>2015_1</td>\n",
       "      <td>0.008265</td>\n",
       "    </tr>\n",
       "    <tr>\n",
       "      <th>27</th>\n",
       "      <td>2015_4</td>\n",
       "      <td>0.008036</td>\n",
       "    </tr>\n",
       "    <tr>\n",
       "      <th>6</th>\n",
       "      <td>2013_7</td>\n",
       "      <td>0.006959</td>\n",
       "    </tr>\n",
       "    <tr>\n",
       "      <th>36</th>\n",
       "      <td>Min_past_9_months</td>\n",
       "      <td>0.006858</td>\n",
       "    </tr>\n",
       "    <tr>\n",
       "      <th>14</th>\n",
       "      <td>2014_3</td>\n",
       "      <td>0.006037</td>\n",
       "    </tr>\n",
       "    <tr>\n",
       "      <th>40</th>\n",
       "      <td>Max_past_12_months</td>\n",
       "      <td>0.005970</td>\n",
       "    </tr>\n",
       "    <tr>\n",
       "      <th>7</th>\n",
       "      <td>2013_8</td>\n",
       "      <td>0.004860</td>\n",
       "    </tr>\n",
       "    <tr>\n",
       "      <th>46</th>\n",
       "      <td>Max_past_24_months</td>\n",
       "      <td>0.004347</td>\n",
       "    </tr>\n",
       "    <tr>\n",
       "      <th>26</th>\n",
       "      <td>2015_3</td>\n",
       "      <td>0.004024</td>\n",
       "    </tr>\n",
       "    <tr>\n",
       "      <th>43</th>\n",
       "      <td>Max_past_18_months</td>\n",
       "      <td>0.003942</td>\n",
       "    </tr>\n",
       "    <tr>\n",
       "      <th>4</th>\n",
       "      <td>2013_5</td>\n",
       "      <td>0.003494</td>\n",
       "    </tr>\n",
       "    <tr>\n",
       "      <th>37</th>\n",
       "      <td>Max_past_9_months</td>\n",
       "      <td>0.003439</td>\n",
       "    </tr>\n",
       "    <tr>\n",
       "      <th>15</th>\n",
       "      <td>2014_4</td>\n",
       "      <td>0.003329</td>\n",
       "    </tr>\n",
       "    <tr>\n",
       "      <th>21</th>\n",
       "      <td>2014_10</td>\n",
       "      <td>0.002273</td>\n",
       "    </tr>\n",
       "    <tr>\n",
       "      <th>20</th>\n",
       "      <td>2014_9</td>\n",
       "      <td>0.002260</td>\n",
       "    </tr>\n",
       "    <tr>\n",
       "      <th>8</th>\n",
       "      <td>2013_9</td>\n",
       "      <td>0.001791</td>\n",
       "    </tr>\n",
       "    <tr>\n",
       "      <th>13</th>\n",
       "      <td>2014_2</td>\n",
       "      <td>0.001564</td>\n",
       "    </tr>\n",
       "    <tr>\n",
       "      <th>9</th>\n",
       "      <td>2013_10</td>\n",
       "      <td>0.001162</td>\n",
       "    </tr>\n",
       "    <tr>\n",
       "      <th>11</th>\n",
       "      <td>2013_12</td>\n",
       "      <td>0.001075</td>\n",
       "    </tr>\n",
       "    <tr>\n",
       "      <th>2</th>\n",
       "      <td>2013_3</td>\n",
       "      <td>0.001022</td>\n",
       "    </tr>\n",
       "    <tr>\n",
       "      <th>16</th>\n",
       "      <td>2014_5</td>\n",
       "      <td>0.000946</td>\n",
       "    </tr>\n",
       "    <tr>\n",
       "      <th>1</th>\n",
       "      <td>2013_2</td>\n",
       "      <td>0.000901</td>\n",
       "    </tr>\n",
       "    <tr>\n",
       "      <th>0</th>\n",
       "      <td>2013_1</td>\n",
       "      <td>0.000863</td>\n",
       "    </tr>\n",
       "    <tr>\n",
       "      <th>3</th>\n",
       "      <td>2013_4</td>\n",
       "      <td>0.000844</td>\n",
       "    </tr>\n",
       "    <tr>\n",
       "      <th>17</th>\n",
       "      <td>2014_6</td>\n",
       "      <td>0.000700</td>\n",
       "    </tr>\n",
       "    <tr>\n",
       "      <th>5</th>\n",
       "      <td>2013_6</td>\n",
       "      <td>0.000561</td>\n",
       "    </tr>\n",
       "    <tr>\n",
       "      <th>39</th>\n",
       "      <td>Min_past_12_months</td>\n",
       "      <td>0.000156</td>\n",
       "    </tr>\n",
       "    <tr>\n",
       "      <th>45</th>\n",
       "      <td>Min_past_24_months</td>\n",
       "      <td>0.000123</td>\n",
       "    </tr>\n",
       "    <tr>\n",
       "      <th>42</th>\n",
       "      <td>Min_past_18_months</td>\n",
       "      <td>0.000043</td>\n",
       "    </tr>\n",
       "  </tbody>\n",
       "</table>\n",
       "</div>"
      ],
      "text/plain": [
       "                  cols       imp\n",
       "32   Avg_past_6_months  0.133636\n",
       "38  Avg_past_12_months  0.105802\n",
       "29   Avg_past_3_months  0.083465\n",
       "41  Avg_past_18_months  0.082701\n",
       "28              2015_5  0.079136\n",
       "35   Avg_past_9_months  0.075023\n",
       "44  Avg_past_24_months  0.069723\n",
       "25              2015_2  0.066440\n",
       "18              2014_7  0.052296\n",
       "23             2014_12  0.035177\n",
       "19              2014_8  0.021111\n",
       "31   Max_past_3_months  0.019829\n",
       "10             2013_11  0.019079\n",
       "22             2014_11  0.017823\n",
       "12              2014_1  0.017058\n",
       "30   Min_past_3_months  0.015342\n",
       "34   Max_past_6_months  0.010307\n",
       "33   Min_past_6_months  0.010208\n",
       "24              2015_1  0.008265\n",
       "27              2015_4  0.008036\n",
       "6               2013_7  0.006959\n",
       "36   Min_past_9_months  0.006858\n",
       "14              2014_3  0.006037\n",
       "40  Max_past_12_months  0.005970\n",
       "7               2013_8  0.004860\n",
       "46  Max_past_24_months  0.004347\n",
       "26              2015_3  0.004024\n",
       "43  Max_past_18_months  0.003942\n",
       "4               2013_5  0.003494\n",
       "37   Max_past_9_months  0.003439\n",
       "15              2014_4  0.003329\n",
       "21             2014_10  0.002273\n",
       "20              2014_9  0.002260\n",
       "8               2013_9  0.001791\n",
       "13              2014_2  0.001564\n",
       "9              2013_10  0.001162\n",
       "11             2013_12  0.001075\n",
       "2               2013_3  0.001022\n",
       "16              2014_5  0.000946\n",
       "1               2013_2  0.000901\n",
       "0               2013_1  0.000863\n",
       "3               2013_4  0.000844\n",
       "17              2014_6  0.000700\n",
       "5               2013_6  0.000561\n",
       "39  Min_past_12_months  0.000156\n",
       "45  Min_past_24_months  0.000123\n",
       "42  Min_past_18_months  0.000043"
      ]
     },
     "execution_count": 85,
     "metadata": {},
     "output_type": "execute_result"
    },
    {
     "name": "stderr",
     "output_type": "stream",
     "text": [
      "/users/a115505/.conda/envs/DL/lib/python3.6/site-packages/matplotlib/font_manager.py:1328: UserWarning: findfont: Font family ['serif'] not found. Falling back to DejaVu Sans\n",
      "  (prop.get_family(), self.defaultFamily[fontext]))\n"
     ]
    },
    {
     "data": {
      "image/png": "[encoded data removed]",
      "text/plain": [
       "<Figure size 864x720 with 1 Axes>"
      ]
     },
     "metadata": {},
     "output_type": "display_data"
    },
    {
     "data": {
      "image/png": "[encoded data removed]",
      "text/plain": [
       "<Figure size 864x720 with 1 Axes>"
      ]
     },
     "metadata": {},
     "output_type": "display_data"
    }
   ],
   "source": [
    "Feat_Imp= rf_feat_importance(regr,X)\n",
    "\n",
    "#As expected, most recent month as higher predictive power compared to other months. But some of the older months also have higher predictive power\n",
    "Feat_Imp.plot(x='cols',y='imp')\n",
    "Feat_Imp.sort_values('cols',ascending=False).plot(x='cols',y='imp')\n",
    "Feat_Imp"
   ]
  },
  {
   "cell_type": "markdown",
   "metadata": {
    "ExecuteTime": {
     "end_time": "2018-06-22T17:52:22.312888Z",
     "start_time": "2018-06-22T17:52:22.309426Z"
    }
   },
   "source": [
    "On test data set performance improved from 0.77 to 0.75. However, I have seen  that performance of RF varies with every run. So, best judgement is to predict July sales"
   ]
  },
  {
   "cell_type": "markdown",
   "metadata": {},
   "source": [
    "###  Predicting July sales with above approach"
   ]
  },
  {
   "cell_type": "code",
   "execution_count": 86,
   "metadata": {
    "ExecuteTime": {
     "end_time": "2018-06-22T20:17:05.491362Z",
     "start_time": "2018-06-22T20:16:58.806169Z"
    }
   },
   "outputs": [
    {
     "name": "stderr",
     "output_type": "stream",
     "text": [
      "/users/a115505/.conda/envs/DL/lib/python3.6/site-packages/pandas/core/indexing.py:337: SettingWithCopyWarning: \n",
      "A value is trying to be set on a copy of a slice from a DataFrame.\n",
      "Try using .loc[row_indexer,col_indexer] = value instead\n",
      "\n",
      "See the caveats in the documentation: http://pandas.pydata.org/pandas-docs/stable/indexing.html#indexing-view-versus-copy\n",
      "  self.obj[key] = _infer_fill_value(value)\n",
      "/users/a115505/.conda/envs/DL/lib/python3.6/site-packages/pandas/core/indexing.py:517: SettingWithCopyWarning: \n",
      "A value is trying to be set on a copy of a slice from a DataFrame.\n",
      "Try using .loc[row_indexer,col_indexer] = value instead\n",
      "\n",
      "See the caveats in the documentation: http://pandas.pydata.org/pandas-docs/stable/indexing.html#indexing-view-versus-copy\n",
      "  self.obj[item] = s\n"
     ]
    },
    {
     "data": {
      "text/plain": [
       "0.86732411483889271"
      ]
     },
     "execution_count": 86,
     "metadata": {},
     "output_type": "execute_result"
    }
   ],
   "source": [
    "July_features = Temp_Pivot1.loc[:,'2013_2':'2015_6']\n",
    "July_actual = Temp_Pivot1['2015_7']\n",
    "July_features = derive_new(July_features)\n",
    "July_predictions = regr.predict(July_features)\n",
    "# july_predictions = np.clip(july_predictions, 0 ,20)\n",
    "\n",
    "July_Metric= np.sqrt(metrics.mean_squared_error(July_actual,July_predictions))\n",
    "July_Metric"
   ]
  },
  {
   "cell_type": "markdown",
   "metadata": {},
   "source": [
    "New RMSE value is 0.82 as against 1.038 with no new features. This will give a rank of 1. Looks great. But need to be suscpicious/cautios as predictions are not clipped "
   ]
  },
  {
   "cell_type": "code",
   "execution_count": 97,
   "metadata": {
    "ExecuteTime": {
     "end_time": "2018-06-22T20:24:26.195509Z",
     "start_time": "2018-06-22T20:24:26.187198Z"
    }
   },
   "outputs": [],
   "source": [
    "Compare = pd.DataFrame(np.column_stack((July_actual.values,July_predictions.astype(int))))"
   ]
  },
  {
   "cell_type": "code",
   "execution_count": 99,
   "metadata": {
    "ExecuteTime": {
     "end_time": "2018-06-22T20:24:45.278063Z",
     "start_time": "2018-06-22T20:24:45.245178Z"
    }
   },
   "outputs": [],
   "source": [
    "Compare.columns=['Actual','Predict']\n",
    "\n",
    "Compare['Error']= Compare.Actual - Compare.Predict"
   ]
  },
  {
   "cell_type": "code",
   "execution_count": 101,
   "metadata": {
    "ExecuteTime": {
     "end_time": "2018-06-22T20:25:05.301730Z",
     "start_time": "2018-06-22T20:25:05.287560Z"
    }
   },
   "outputs": [
    {
     "data": {
      "text/html": [
       "<div>\n",
       "<style>\n",
       "    .dataframe thead tr:only-child th {\n",
       "        text-align: right;\n",
       "    }\n",
       "\n",
       "    .dataframe thead th {\n",
       "        text-align: left;\n",
       "    }\n",
       "\n",
       "    .dataframe tbody tr th {\n",
       "        vertical-align: top;\n",
       "    }\n",
       "</style>\n",
       "<table border=\"1\" class=\"dataframe\">\n",
       "  <thead>\n",
       "    <tr style=\"text-align: right;\">\n",
       "      <th></th>\n",
       "      <th>Actual</th>\n",
       "      <th>Predict</th>\n",
       "      <th>Error</th>\n",
       "    </tr>\n",
       "  </thead>\n",
       "  <tbody>\n",
       "    <tr>\n",
       "      <th>0</th>\n",
       "      <td>0</td>\n",
       "      <td>0</td>\n",
       "      <td>0</td>\n",
       "    </tr>\n",
       "    <tr>\n",
       "      <th>1</th>\n",
       "      <td>0</td>\n",
       "      <td>0</td>\n",
       "      <td>0</td>\n",
       "    </tr>\n",
       "    <tr>\n",
       "      <th>2</th>\n",
       "      <td>0</td>\n",
       "      <td>0</td>\n",
       "      <td>0</td>\n",
       "    </tr>\n",
       "    <tr>\n",
       "      <th>3</th>\n",
       "      <td>0</td>\n",
       "      <td>0</td>\n",
       "      <td>0</td>\n",
       "    </tr>\n",
       "    <tr>\n",
       "      <th>4</th>\n",
       "      <td>0</td>\n",
       "      <td>0</td>\n",
       "      <td>0</td>\n",
       "    </tr>\n",
       "  </tbody>\n",
       "</table>\n",
       "</div>"
      ],
      "text/plain": [
       "   Actual  Predict  Error\n",
       "0       0        0      0\n",
       "1       0        0      0\n",
       "2       0        0      0\n",
       "3       0        0      0\n",
       "4       0        0      0"
      ]
     },
     "execution_count": 101,
     "metadata": {},
     "output_type": "execute_result"
    }
   ],
   "source": [
    "Compare.head()"
   ]
  },
  {
   "cell_type": "code",
   "execution_count": 104,
   "metadata": {
    "ExecuteTime": {
     "end_time": "2018-06-22T20:25:56.871783Z",
     "start_time": "2018-06-22T20:25:56.856281Z"
    }
   },
   "outputs": [
    {
     "data": {
      "text/plain": [
       "0.88410768874417345"
      ]
     },
     "execution_count": 104,
     "metadata": {},
     "output_type": "execute_result"
    }
   ],
   "source": [
    "np.sqrt(np.mean(Compare['Error']**2))"
   ]
  },
  {
   "cell_type": "markdown",
   "metadata": {
    "heading_collapsed": true
   },
   "source": [
    "# Creating additional features - 1"
   ]
  },
  {
   "cell_type": "markdown",
   "metadata": {
    "ExecuteTime": {
     "end_time": "2018-06-22T18:17:12.618083Z",
     "start_time": "2018-06-22T18:17:12.610559Z"
    },
    "hidden": true
   },
   "source": [
    "Apart from training data set, other data sets are available. Making use of these additional data sets to create new features."
   ]
  },
  {
   "cell_type": "markdown",
   "metadata": {
    "heading_collapsed": true,
    "hidden": true
   },
   "source": [
    "### Creating Aggregates using train data set"
   ]
  },
  {
   "cell_type": "code",
   "execution_count": 234,
   "metadata": {
    "ExecuteTime": {
     "end_time": "2018-06-22T18:45:51.440327Z",
     "start_time": "2018-06-22T18:45:48.436352Z"
    },
    "hidden": true
   },
   "outputs": [],
   "source": [
    "train = pd.read_csv('./sales_train.csv.gz', compression='gzip',index_col=None)"
   ]
  },
  {
   "cell_type": "code",
   "execution_count": 235,
   "metadata": {
    "ExecuteTime": {
     "end_time": "2018-06-22T18:45:52.346494Z",
     "start_time": "2018-06-22T18:45:52.338390Z"
    },
    "hidden": true
   },
   "outputs": [
    {
     "data": {
      "text/plain": [
       "date               object\n",
       "date_block_num      int64\n",
       "shop_id             int64\n",
       "item_id             int64\n",
       "item_price        float64\n",
       "item_cnt_day      float64\n",
       "dtype: object"
      ]
     },
     "execution_count": 235,
     "metadata": {},
     "output_type": "execute_result"
    }
   ],
   "source": [
    "train.dtypes"
   ]
  },
  {
   "cell_type": "code",
   "execution_count": 237,
   "metadata": {
    "ExecuteTime": {
     "end_time": "2018-06-22T18:47:22.951841Z",
     "start_time": "2018-06-22T18:47:21.658703Z"
    },
    "collapsed": true,
    "hidden": true
   },
   "outputs": [],
   "source": [
    "agg_tmp = train.groupby(['shop_id', 'item_id']).agg(['count'])['date']"
   ]
  },
  {
   "cell_type": "code",
   "execution_count": 238,
   "metadata": {
    "ExecuteTime": {
     "end_time": "2018-06-22T18:47:22.966717Z",
     "start_time": "2018-06-22T18:47:22.955473Z"
    },
    "collapsed": true,
    "hidden": true
   },
   "outputs": [],
   "source": [
    "agg_tmp.reset_index(inplace=True)"
   ]
  },
  {
   "cell_type": "code",
   "execution_count": 241,
   "metadata": {
    "ExecuteTime": {
     "end_time": "2018-06-22T18:47:42.606342Z",
     "start_time": "2018-06-22T18:47:42.601998Z"
    },
    "collapsed": true,
    "hidden": true
   },
   "outputs": [],
   "source": [
    "agg_tmp.columns = ['shop_id','item_id','no_of_days_item_sold']"
   ]
  },
  {
   "cell_type": "code",
   "execution_count": 242,
   "metadata": {
    "ExecuteTime": {
     "end_time": "2018-06-22T18:47:43.389961Z",
     "start_time": "2018-06-22T18:47:43.376928Z"
    },
    "hidden": true
   },
   "outputs": [
    {
     "data": {
      "text/html": [
       "<div>\n",
       "<style>\n",
       "    .dataframe thead tr:only-child th {\n",
       "        text-align: right;\n",
       "    }\n",
       "\n",
       "    .dataframe thead th {\n",
       "        text-align: left;\n",
       "    }\n",
       "\n",
       "    .dataframe tbody tr th {\n",
       "        vertical-align: top;\n",
       "    }\n",
       "</style>\n",
       "<table border=\"1\" class=\"dataframe\">\n",
       "  <thead>\n",
       "    <tr style=\"text-align: right;\">\n",
       "      <th></th>\n",
       "      <th>shop_id</th>\n",
       "      <th>item_id</th>\n",
       "      <th>no_of_days_item_sold</th>\n",
       "    </tr>\n",
       "  </thead>\n",
       "  <tbody>\n",
       "    <tr>\n",
       "      <th>0</th>\n",
       "      <td>0</td>\n",
       "      <td>30</td>\n",
       "      <td>9</td>\n",
       "    </tr>\n",
       "    <tr>\n",
       "      <th>1</th>\n",
       "      <td>0</td>\n",
       "      <td>31</td>\n",
       "      <td>7</td>\n",
       "    </tr>\n",
       "    <tr>\n",
       "      <th>2</th>\n",
       "      <td>0</td>\n",
       "      <td>32</td>\n",
       "      <td>11</td>\n",
       "    </tr>\n",
       "    <tr>\n",
       "      <th>3</th>\n",
       "      <td>0</td>\n",
       "      <td>33</td>\n",
       "      <td>6</td>\n",
       "    </tr>\n",
       "    <tr>\n",
       "      <th>4</th>\n",
       "      <td>0</td>\n",
       "      <td>35</td>\n",
       "      <td>12</td>\n",
       "    </tr>\n",
       "  </tbody>\n",
       "</table>\n",
       "</div>"
      ],
      "text/plain": [
       "   shop_id  item_id  no_of_days_item_sold\n",
       "0        0       30                     9\n",
       "1        0       31                     7\n",
       "2        0       32                    11\n",
       "3        0       33                     6\n",
       "4        0       35                    12"
      ]
     },
     "execution_count": 242,
     "metadata": {},
     "output_type": "execute_result"
    }
   ],
   "source": [
    "agg_tmp.head()"
   ]
  },
  {
   "cell_type": "code",
   "execution_count": 243,
   "metadata": {
    "ExecuteTime": {
     "end_time": "2018-06-22T18:48:52.343641Z",
     "start_time": "2018-06-22T18:48:50.759367Z"
    },
    "collapsed": true,
    "hidden": true
   },
   "outputs": [],
   "source": [
    "agg_tmp_mean = train.groupby(['shop_id', 'item_id']).agg(['mean', 'median', 'min', 'max'])[['item_cnt_day', 'item_price']].reset_index()"
   ]
  },
  {
   "cell_type": "code",
   "execution_count": 244,
   "metadata": {
    "ExecuteTime": {
     "end_time": "2018-06-22T18:48:52.353234Z",
     "start_time": "2018-06-22T18:48:52.346458Z"
    },
    "hidden": true
   },
   "outputs": [
    {
     "data": {
      "text/plain": [
       "MultiIndex(levels=[['date_block_num', 'item_price', 'item_cnt_day', 'item_id', 'shop_id'], ['mean', 'median', 'min', 'max', '']],\n",
       "           labels=[[4, 3, 2, 2, 2, 2, 1, 1, 1, 1], [4, 4, 0, 1, 2, 3, 0, 1, 2, 3]])"
      ]
     },
     "execution_count": 244,
     "metadata": {},
     "output_type": "execute_result"
    }
   ],
   "source": [
    "agg_tmp_mean.columns"
   ]
  },
  {
   "cell_type": "code",
   "execution_count": 245,
   "metadata": {
    "ExecuteTime": {
     "end_time": "2018-06-22T18:48:55.268880Z",
     "start_time": "2018-06-22T18:48:55.263993Z"
    },
    "collapsed": true,
    "hidden": true
   },
   "outputs": [],
   "source": [
    "agg_tmp_mean.columns= [''.join(col).strip() for col in agg_tmp_mean.columns.values]"
   ]
  },
  {
   "cell_type": "code",
   "execution_count": 246,
   "metadata": {
    "ExecuteTime": {
     "end_time": "2018-06-22T18:48:56.079552Z",
     "start_time": "2018-06-22T18:48:56.052649Z"
    },
    "hidden": true
   },
   "outputs": [
    {
     "data": {
      "text/html": [
       "<div>\n",
       "<style>\n",
       "    .dataframe thead tr:only-child th {\n",
       "        text-align: right;\n",
       "    }\n",
       "\n",
       "    .dataframe thead th {\n",
       "        text-align: left;\n",
       "    }\n",
       "\n",
       "    .dataframe tbody tr th {\n",
       "        vertical-align: top;\n",
       "    }\n",
       "</style>\n",
       "<table border=\"1\" class=\"dataframe\">\n",
       "  <thead>\n",
       "    <tr style=\"text-align: right;\">\n",
       "      <th></th>\n",
       "      <th>shop_id</th>\n",
       "      <th>item_id</th>\n",
       "      <th>item_cnt_daymean</th>\n",
       "      <th>item_cnt_daymedian</th>\n",
       "      <th>item_cnt_daymin</th>\n",
       "      <th>item_cnt_daymax</th>\n",
       "      <th>item_pricemean</th>\n",
       "      <th>item_pricemedian</th>\n",
       "      <th>item_pricemin</th>\n",
       "      <th>item_pricemax</th>\n",
       "    </tr>\n",
       "  </thead>\n",
       "  <tbody>\n",
       "    <tr>\n",
       "      <th>0</th>\n",
       "      <td>0</td>\n",
       "      <td>30</td>\n",
       "      <td>3.444444</td>\n",
       "      <td>3.0</td>\n",
       "      <td>2.0</td>\n",
       "      <td>9.0</td>\n",
       "      <td>265.0</td>\n",
       "      <td>265.0</td>\n",
       "      <td>265.0</td>\n",
       "      <td>265.0</td>\n",
       "    </tr>\n",
       "    <tr>\n",
       "      <th>1</th>\n",
       "      <td>0</td>\n",
       "      <td>31</td>\n",
       "      <td>1.571429</td>\n",
       "      <td>1.0</td>\n",
       "      <td>1.0</td>\n",
       "      <td>3.0</td>\n",
       "      <td>434.0</td>\n",
       "      <td>434.0</td>\n",
       "      <td>434.0</td>\n",
       "      <td>434.0</td>\n",
       "    </tr>\n",
       "    <tr>\n",
       "      <th>2</th>\n",
       "      <td>0</td>\n",
       "      <td>32</td>\n",
       "      <td>1.454545</td>\n",
       "      <td>1.0</td>\n",
       "      <td>1.0</td>\n",
       "      <td>2.0</td>\n",
       "      <td>221.0</td>\n",
       "      <td>221.0</td>\n",
       "      <td>221.0</td>\n",
       "      <td>221.0</td>\n",
       "    </tr>\n",
       "    <tr>\n",
       "      <th>3</th>\n",
       "      <td>0</td>\n",
       "      <td>33</td>\n",
       "      <td>1.000000</td>\n",
       "      <td>1.0</td>\n",
       "      <td>1.0</td>\n",
       "      <td>1.0</td>\n",
       "      <td>347.0</td>\n",
       "      <td>347.0</td>\n",
       "      <td>347.0</td>\n",
       "      <td>347.0</td>\n",
       "    </tr>\n",
       "    <tr>\n",
       "      <th>4</th>\n",
       "      <td>0</td>\n",
       "      <td>35</td>\n",
       "      <td>1.250000</td>\n",
       "      <td>1.0</td>\n",
       "      <td>1.0</td>\n",
       "      <td>2.0</td>\n",
       "      <td>247.0</td>\n",
       "      <td>247.0</td>\n",
       "      <td>247.0</td>\n",
       "      <td>247.0</td>\n",
       "    </tr>\n",
       "  </tbody>\n",
       "</table>\n",
       "</div>"
      ],
      "text/plain": [
       "   shop_id  item_id  item_cnt_daymean  item_cnt_daymedian  item_cnt_daymin  \\\n",
       "0        0       30          3.444444                 3.0              2.0   \n",
       "1        0       31          1.571429                 1.0              1.0   \n",
       "2        0       32          1.454545                 1.0              1.0   \n",
       "3        0       33          1.000000                 1.0              1.0   \n",
       "4        0       35          1.250000                 1.0              1.0   \n",
       "\n",
       "   item_cnt_daymax  item_pricemean  item_pricemedian  item_pricemin  \\\n",
       "0              9.0           265.0             265.0          265.0   \n",
       "1              3.0           434.0             434.0          434.0   \n",
       "2              2.0           221.0             221.0          221.0   \n",
       "3              1.0           347.0             347.0          347.0   \n",
       "4              2.0           247.0             247.0          247.0   \n",
       "\n",
       "   item_pricemax  \n",
       "0          265.0  \n",
       "1          434.0  \n",
       "2          221.0  \n",
       "3          347.0  \n",
       "4          247.0  "
      ]
     },
     "execution_count": 246,
     "metadata": {},
     "output_type": "execute_result"
    }
   ],
   "source": [
    "agg_tmp_mean.head()"
   ]
  },
  {
   "cell_type": "code",
   "execution_count": 247,
   "metadata": {
    "ExecuteTime": {
     "end_time": "2018-06-22T18:49:52.137378Z",
     "start_time": "2018-06-22T18:49:52.130019Z"
    },
    "hidden": true
   },
   "outputs": [],
   "source": [
    "agg_tmp_mean['Max_Price_dif'] = agg_tmp_mean.item_pricemax - agg_tmp_mean.item_pricemin"
   ]
  },
  {
   "cell_type": "code",
   "execution_count": 249,
   "metadata": {
    "ExecuteTime": {
     "end_time": "2018-06-22T18:50:53.324310Z",
     "start_time": "2018-06-22T18:50:53.317250Z"
    },
    "hidden": true
   },
   "outputs": [],
   "source": [
    "agg_tmp_mean['Max_Difference_in_Cnt'] = agg_tmp_mean.item_cnt_daymax - agg_tmp_mean.item_cnt_daymin"
   ]
  },
  {
   "cell_type": "code",
   "execution_count": 250,
   "metadata": {
    "ExecuteTime": {
     "end_time": "2018-06-22T18:50:58.704338Z",
     "start_time": "2018-06-22T18:50:58.674095Z"
    },
    "hidden": true
   },
   "outputs": [
    {
     "data": {
      "text/html": [
       "<div>\n",
       "<style>\n",
       "    .dataframe thead tr:only-child th {\n",
       "        text-align: right;\n",
       "    }\n",
       "\n",
       "    .dataframe thead th {\n",
       "        text-align: left;\n",
       "    }\n",
       "\n",
       "    .dataframe tbody tr th {\n",
       "        vertical-align: top;\n",
       "    }\n",
       "</style>\n",
       "<table border=\"1\" class=\"dataframe\">\n",
       "  <thead>\n",
       "    <tr style=\"text-align: right;\">\n",
       "      <th></th>\n",
       "      <th>shop_id</th>\n",
       "      <th>item_id</th>\n",
       "      <th>item_cnt_daymean</th>\n",
       "      <th>item_cnt_daymedian</th>\n",
       "      <th>item_cnt_daymin</th>\n",
       "      <th>item_cnt_daymax</th>\n",
       "      <th>item_pricemean</th>\n",
       "      <th>item_pricemedian</th>\n",
       "      <th>item_pricemin</th>\n",
       "      <th>item_pricemax</th>\n",
       "      <th>Max_Price_dif</th>\n",
       "      <th>Max_Difference_in_Cnt</th>\n",
       "    </tr>\n",
       "  </thead>\n",
       "  <tbody>\n",
       "    <tr>\n",
       "      <th>0</th>\n",
       "      <td>0</td>\n",
       "      <td>30</td>\n",
       "      <td>3.444444</td>\n",
       "      <td>3.0</td>\n",
       "      <td>2.0</td>\n",
       "      <td>9.0</td>\n",
       "      <td>265.0</td>\n",
       "      <td>265.0</td>\n",
       "      <td>265.0</td>\n",
       "      <td>265.0</td>\n",
       "      <td>0.0</td>\n",
       "      <td>7.0</td>\n",
       "    </tr>\n",
       "    <tr>\n",
       "      <th>1</th>\n",
       "      <td>0</td>\n",
       "      <td>31</td>\n",
       "      <td>1.571429</td>\n",
       "      <td>1.0</td>\n",
       "      <td>1.0</td>\n",
       "      <td>3.0</td>\n",
       "      <td>434.0</td>\n",
       "      <td>434.0</td>\n",
       "      <td>434.0</td>\n",
       "      <td>434.0</td>\n",
       "      <td>0.0</td>\n",
       "      <td>2.0</td>\n",
       "    </tr>\n",
       "    <tr>\n",
       "      <th>2</th>\n",
       "      <td>0</td>\n",
       "      <td>32</td>\n",
       "      <td>1.454545</td>\n",
       "      <td>1.0</td>\n",
       "      <td>1.0</td>\n",
       "      <td>2.0</td>\n",
       "      <td>221.0</td>\n",
       "      <td>221.0</td>\n",
       "      <td>221.0</td>\n",
       "      <td>221.0</td>\n",
       "      <td>0.0</td>\n",
       "      <td>1.0</td>\n",
       "    </tr>\n",
       "    <tr>\n",
       "      <th>3</th>\n",
       "      <td>0</td>\n",
       "      <td>33</td>\n",
       "      <td>1.000000</td>\n",
       "      <td>1.0</td>\n",
       "      <td>1.0</td>\n",
       "      <td>1.0</td>\n",
       "      <td>347.0</td>\n",
       "      <td>347.0</td>\n",
       "      <td>347.0</td>\n",
       "      <td>347.0</td>\n",
       "      <td>0.0</td>\n",
       "      <td>0.0</td>\n",
       "    </tr>\n",
       "    <tr>\n",
       "      <th>4</th>\n",
       "      <td>0</td>\n",
       "      <td>35</td>\n",
       "      <td>1.250000</td>\n",
       "      <td>1.0</td>\n",
       "      <td>1.0</td>\n",
       "      <td>2.0</td>\n",
       "      <td>247.0</td>\n",
       "      <td>247.0</td>\n",
       "      <td>247.0</td>\n",
       "      <td>247.0</td>\n",
       "      <td>0.0</td>\n",
       "      <td>1.0</td>\n",
       "    </tr>\n",
       "  </tbody>\n",
       "</table>\n",
       "</div>"
      ],
      "text/plain": [
       "   shop_id  item_id  item_cnt_daymean  item_cnt_daymedian  item_cnt_daymin  \\\n",
       "0        0       30          3.444444                 3.0              2.0   \n",
       "1        0       31          1.571429                 1.0              1.0   \n",
       "2        0       32          1.454545                 1.0              1.0   \n",
       "3        0       33          1.000000                 1.0              1.0   \n",
       "4        0       35          1.250000                 1.0              1.0   \n",
       "\n",
       "   item_cnt_daymax  item_pricemean  item_pricemedian  item_pricemin  \\\n",
       "0              9.0           265.0             265.0          265.0   \n",
       "1              3.0           434.0             434.0          434.0   \n",
       "2              2.0           221.0             221.0          221.0   \n",
       "3              1.0           347.0             347.0          347.0   \n",
       "4              2.0           247.0             247.0          247.0   \n",
       "\n",
       "   item_pricemax  Max_Price_dif  Max_Difference_in_Cnt  \n",
       "0          265.0            0.0                    7.0  \n",
       "1          434.0            0.0                    2.0  \n",
       "2          221.0            0.0                    1.0  \n",
       "3          347.0            0.0                    0.0  \n",
       "4          247.0            0.0                    1.0  "
      ]
     },
     "execution_count": 250,
     "metadata": {},
     "output_type": "execute_result"
    }
   ],
   "source": [
    "agg_tmp_mean.head()"
   ]
  },
  {
   "cell_type": "code",
   "execution_count": 251,
   "metadata": {
    "ExecuteTime": {
     "end_time": "2018-06-22T18:51:17.416546Z",
     "start_time": "2018-06-22T18:51:17.174733Z"
    },
    "collapsed": true,
    "hidden": true
   },
   "outputs": [],
   "source": [
    "agg_df = pd.merge(agg_tmp, agg_tmp_mean, how= 'inner', on=['shop_id','item_id'])"
   ]
  },
  {
   "cell_type": "code",
   "execution_count": 260,
   "metadata": {
    "ExecuteTime": {
     "end_time": "2018-06-22T18:56:56.447321Z",
     "start_time": "2018-06-22T18:56:37.852997Z"
    },
    "hidden": true
   },
   "outputs": [],
   "source": [
    "agg_df.to_hdf(\"./Agg_Df.h5\", 'table', complelvel=9, complib='zlib')"
   ]
  },
  {
   "cell_type": "markdown",
   "metadata": {
    "heading_collapsed": true,
    "hidden": true
   },
   "source": [
    "### Using items, shops and item_categories data frames"
   ]
  },
  {
   "cell_type": "code",
   "execution_count": 267,
   "metadata": {
    "ExecuteTime": {
     "end_time": "2018-06-22T19:01:03.516455Z",
     "start_time": "2018-06-22T19:01:03.073910Z"
    },
    "hidden": true
   },
   "outputs": [],
   "source": [
    "tmp = train[['shop_id','item_id']].drop_duplicates()"
   ]
  },
  {
   "cell_type": "code",
   "execution_count": 268,
   "metadata": {
    "ExecuteTime": {
     "end_time": "2018-06-22T19:01:47.169076Z",
     "start_time": "2018-06-22T19:01:46.977795Z"
    },
    "collapsed": true,
    "hidden": true
   },
   "outputs": [],
   "source": [
    "tmp2 = pd.merge(tmp, items, how ='left', on = 'item_id')"
   ]
  },
  {
   "cell_type": "code",
   "execution_count": 270,
   "metadata": {
    "ExecuteTime": {
     "end_time": "2018-06-22T19:02:25.751421Z",
     "start_time": "2018-06-22T19:02:25.666197Z"
    },
    "hidden": true
   },
   "outputs": [],
   "source": [
    "tmp3 = pd.merge(tmp2, shops, how='left', on ='shop_id')"
   ]
  },
  {
   "cell_type": "code",
   "execution_count": 272,
   "metadata": {
    "ExecuteTime": {
     "end_time": "2018-06-22T19:03:17.926169Z",
     "start_time": "2018-06-22T19:03:17.834918Z"
    },
    "hidden": true
   },
   "outputs": [],
   "source": [
    "tmp4= pd.merge(tmp3, item_categories, how='left', on ='item_category_id')"
   ]
  },
  {
   "cell_type": "markdown",
   "metadata": {
    "heading_collapsed": true,
    "hidden": true
   },
   "source": [
    "#### Encoding categorical variables"
   ]
  },
  {
   "cell_type": "code",
   "execution_count": 276,
   "metadata": {
    "ExecuteTime": {
     "end_time": "2018-06-22T19:06:19.542209Z",
     "start_time": "2018-06-22T19:06:19.252526Z"
    },
    "collapsed": true,
    "hidden": true
   },
   "outputs": [],
   "source": [
    "tmp4['item_name_codes'] = tmp4.item_name.astype('category').cat.codes\n",
    "tmp4['shop_name_codes'] = tmp4.shop_name.astype('category').cat.codes\n",
    "tmp4['item_category_name_codes'] = tmp4.item_category_name.astype('category').cat.codes"
   ]
  },
  {
   "cell_type": "code",
   "execution_count": 277,
   "metadata": {
    "ExecuteTime": {
     "end_time": "2018-06-22T19:06:23.762971Z",
     "start_time": "2018-06-22T19:06:23.732701Z"
    },
    "hidden": true
   },
   "outputs": [
    {
     "data": {
      "text/html": [
       "<div>\n",
       "<style>\n",
       "    .dataframe thead tr:only-child th {\n",
       "        text-align: right;\n",
       "    }\n",
       "\n",
       "    .dataframe thead th {\n",
       "        text-align: left;\n",
       "    }\n",
       "\n",
       "    .dataframe tbody tr th {\n",
       "        vertical-align: top;\n",
       "    }\n",
       "</style>\n",
       "<table border=\"1\" class=\"dataframe\">\n",
       "  <thead>\n",
       "    <tr style=\"text-align: right;\">\n",
       "      <th></th>\n",
       "      <th>shop_id</th>\n",
       "      <th>item_id</th>\n",
       "      <th>item_name</th>\n",
       "      <th>item_category_id</th>\n",
       "      <th>shop_name</th>\n",
       "      <th>item_category_name</th>\n",
       "      <th>item_name_codes</th>\n",
       "      <th>shop_name_codes</th>\n",
       "      <th>item_category_name_codes</th>\n",
       "    </tr>\n",
       "  </thead>\n",
       "  <tbody>\n",
       "    <tr>\n",
       "      <th>0</th>\n",
       "      <td>59</td>\n",
       "      <td>22154</td>\n",
       "      <td>ЯВЛЕНИЕ 2012 (BD)</td>\n",
       "      <td>37</td>\n",
       "      <td>Ярославль ТЦ \"Альтаир\"</td>\n",
       "      <td>Кино - Blu-Ray</td>\n",
       "      <td>21791</td>\n",
       "      <td>59</td>\n",
       "      <td>37</td>\n",
       "    </tr>\n",
       "    <tr>\n",
       "      <th>1</th>\n",
       "      <td>25</td>\n",
       "      <td>2552</td>\n",
       "      <td>DEEP PURPLE  The House Of Blue Light  LP</td>\n",
       "      <td>58</td>\n",
       "      <td>Москва ТРК \"Атриум\"</td>\n",
       "      <td>Музыка - Винил</td>\n",
       "      <td>2495</td>\n",
       "      <td>25</td>\n",
       "      <td>58</td>\n",
       "    </tr>\n",
       "    <tr>\n",
       "      <th>2</th>\n",
       "      <td>25</td>\n",
       "      <td>2554</td>\n",
       "      <td>DEEP PURPLE  Who Do You Think We Are  LP</td>\n",
       "      <td>58</td>\n",
       "      <td>Москва ТРК \"Атриум\"</td>\n",
       "      <td>Музыка - Винил</td>\n",
       "      <td>2497</td>\n",
       "      <td>25</td>\n",
       "      <td>58</td>\n",
       "    </tr>\n",
       "    <tr>\n",
       "      <th>3</th>\n",
       "      <td>25</td>\n",
       "      <td>2555</td>\n",
       "      <td>DEEP PURPLE 30 Very Best Of 2CD (Фирм.)</td>\n",
       "      <td>56</td>\n",
       "      <td>Москва ТРК \"Атриум\"</td>\n",
       "      <td>Музыка - CD фирменного производства</td>\n",
       "      <td>2498</td>\n",
       "      <td>25</td>\n",
       "      <td>56</td>\n",
       "    </tr>\n",
       "    <tr>\n",
       "      <th>4</th>\n",
       "      <td>25</td>\n",
       "      <td>2564</td>\n",
       "      <td>DEEP PURPLE Perihelion: Live In Concert DVD (К...</td>\n",
       "      <td>59</td>\n",
       "      <td>Москва ТРК \"Атриум\"</td>\n",
       "      <td>Музыка - Музыкальное видео</td>\n",
       "      <td>2507</td>\n",
       "      <td>25</td>\n",
       "      <td>59</td>\n",
       "    </tr>\n",
       "  </tbody>\n",
       "</table>\n",
       "</div>"
      ],
      "text/plain": [
       "   shop_id  item_id                                          item_name  \\\n",
       "0       59    22154                                  ЯВЛЕНИЕ 2012 (BD)   \n",
       "1       25     2552           DEEP PURPLE  The House Of Blue Light  LP   \n",
       "2       25     2554           DEEP PURPLE  Who Do You Think We Are  LP   \n",
       "3       25     2555            DEEP PURPLE 30 Very Best Of 2CD (Фирм.)   \n",
       "4       25     2564  DEEP PURPLE Perihelion: Live In Concert DVD (К...   \n",
       "\n",
       "   item_category_id               shop_name  \\\n",
       "0                37  Ярославль ТЦ \"Альтаир\"   \n",
       "1                58     Москва ТРК \"Атриум\"   \n",
       "2                58     Москва ТРК \"Атриум\"   \n",
       "3                56     Москва ТРК \"Атриум\"   \n",
       "4                59     Москва ТРК \"Атриум\"   \n",
       "\n",
       "                    item_category_name  item_name_codes  shop_name_codes  \\\n",
       "0                       Кино - Blu-Ray            21791               59   \n",
       "1                       Музыка - Винил             2495               25   \n",
       "2                       Музыка - Винил             2497               25   \n",
       "3  Музыка - CD фирменного производства             2498               25   \n",
       "4           Музыка - Музыкальное видео             2507               25   \n",
       "\n",
       "   item_category_name_codes  \n",
       "0                        37  \n",
       "1                        58  \n",
       "2                        58  \n",
       "3                        56  \n",
       "4                        59  "
      ]
     },
     "execution_count": 277,
     "metadata": {},
     "output_type": "execute_result"
    }
   ],
   "source": [
    "tmp4.head()"
   ]
  },
  {
   "cell_type": "code",
   "execution_count": 278,
   "metadata": {
    "ExecuteTime": {
     "end_time": "2018-06-22T19:14:56.331132Z",
     "start_time": "2018-06-22T19:14:55.689384Z"
    },
    "collapsed": true,
    "hidden": true
   },
   "outputs": [],
   "source": [
    "tmp4.to_hdf(\"./dfs_merged.h5\", 'table', complelvel=9, complib='zlib')"
   ]
  },
  {
   "cell_type": "code",
   "execution_count": 279,
   "metadata": {
    "ExecuteTime": {
     "end_time": "2018-06-22T19:15:00.839352Z",
     "start_time": "2018-06-22T19:15:00.815051Z"
    },
    "hidden": true
   },
   "outputs": [
    {
     "data": {
      "text/html": [
       "<div>\n",
       "<style>\n",
       "    .dataframe thead tr:only-child th {\n",
       "        text-align: right;\n",
       "    }\n",
       "\n",
       "    .dataframe thead th {\n",
       "        text-align: left;\n",
       "    }\n",
       "\n",
       "    .dataframe tbody tr th {\n",
       "        vertical-align: top;\n",
       "    }\n",
       "</style>\n",
       "<table border=\"1\" class=\"dataframe\">\n",
       "  <thead>\n",
       "    <tr style=\"text-align: right;\">\n",
       "      <th></th>\n",
       "      <th>shop_id</th>\n",
       "      <th>item_id</th>\n",
       "      <th>item_name</th>\n",
       "      <th>item_category_id</th>\n",
       "      <th>shop_name</th>\n",
       "      <th>item_category_name</th>\n",
       "      <th>item_name_codes</th>\n",
       "      <th>shop_name_codes</th>\n",
       "      <th>item_category_name_codes</th>\n",
       "    </tr>\n",
       "  </thead>\n",
       "  <tbody>\n",
       "    <tr>\n",
       "      <th>0</th>\n",
       "      <td>59</td>\n",
       "      <td>22154</td>\n",
       "      <td>ЯВЛЕНИЕ 2012 (BD)</td>\n",
       "      <td>37</td>\n",
       "      <td>Ярославль ТЦ \"Альтаир\"</td>\n",
       "      <td>Кино - Blu-Ray</td>\n",
       "      <td>21791</td>\n",
       "      <td>59</td>\n",
       "      <td>37</td>\n",
       "    </tr>\n",
       "    <tr>\n",
       "      <th>1</th>\n",
       "      <td>25</td>\n",
       "      <td>2552</td>\n",
       "      <td>DEEP PURPLE  The House Of Blue Light  LP</td>\n",
       "      <td>58</td>\n",
       "      <td>Москва ТРК \"Атриум\"</td>\n",
       "      <td>Музыка - Винил</td>\n",
       "      <td>2495</td>\n",
       "      <td>25</td>\n",
       "      <td>58</td>\n",
       "    </tr>\n",
       "    <tr>\n",
       "      <th>2</th>\n",
       "      <td>25</td>\n",
       "      <td>2554</td>\n",
       "      <td>DEEP PURPLE  Who Do You Think We Are  LP</td>\n",
       "      <td>58</td>\n",
       "      <td>Москва ТРК \"Атриум\"</td>\n",
       "      <td>Музыка - Винил</td>\n",
       "      <td>2497</td>\n",
       "      <td>25</td>\n",
       "      <td>58</td>\n",
       "    </tr>\n",
       "    <tr>\n",
       "      <th>3</th>\n",
       "      <td>25</td>\n",
       "      <td>2555</td>\n",
       "      <td>DEEP PURPLE 30 Very Best Of 2CD (Фирм.)</td>\n",
       "      <td>56</td>\n",
       "      <td>Москва ТРК \"Атриум\"</td>\n",
       "      <td>Музыка - CD фирменного производства</td>\n",
       "      <td>2498</td>\n",
       "      <td>25</td>\n",
       "      <td>56</td>\n",
       "    </tr>\n",
       "    <tr>\n",
       "      <th>4</th>\n",
       "      <td>25</td>\n",
       "      <td>2564</td>\n",
       "      <td>DEEP PURPLE Perihelion: Live In Concert DVD (К...</td>\n",
       "      <td>59</td>\n",
       "      <td>Москва ТРК \"Атриум\"</td>\n",
       "      <td>Музыка - Музыкальное видео</td>\n",
       "      <td>2507</td>\n",
       "      <td>25</td>\n",
       "      <td>59</td>\n",
       "    </tr>\n",
       "  </tbody>\n",
       "</table>\n",
       "</div>"
      ],
      "text/plain": [
       "   shop_id  item_id                                          item_name  \\\n",
       "0       59    22154                                  ЯВЛЕНИЕ 2012 (BD)   \n",
       "1       25     2552           DEEP PURPLE  The House Of Blue Light  LP   \n",
       "2       25     2554           DEEP PURPLE  Who Do You Think We Are  LP   \n",
       "3       25     2555            DEEP PURPLE 30 Very Best Of 2CD (Фирм.)   \n",
       "4       25     2564  DEEP PURPLE Perihelion: Live In Concert DVD (К...   \n",
       "\n",
       "   item_category_id               shop_name  \\\n",
       "0                37  Ярославль ТЦ \"Альтаир\"   \n",
       "1                58     Москва ТРК \"Атриум\"   \n",
       "2                58     Москва ТРК \"Атриум\"   \n",
       "3                56     Москва ТРК \"Атриум\"   \n",
       "4                59     Москва ТРК \"Атриум\"   \n",
       "\n",
       "                    item_category_name  item_name_codes  shop_name_codes  \\\n",
       "0                       Кино - Blu-Ray            21791               59   \n",
       "1                       Музыка - Винил             2495               25   \n",
       "2                       Музыка - Винил             2497               25   \n",
       "3  Музыка - CD фирменного производства             2498               25   \n",
       "4           Музыка - Музыкальное видео             2507               25   \n",
       "\n",
       "   item_category_name_codes  \n",
       "0                        37  \n",
       "1                        58  \n",
       "2                        58  \n",
       "3                        56  \n",
       "4                        59  "
      ]
     },
     "execution_count": 279,
     "metadata": {},
     "output_type": "execute_result"
    }
   ],
   "source": [
    "tmp4.head()"
   ]
  },
  {
   "cell_type": "code",
   "execution_count": 281,
   "metadata": {
    "ExecuteTime": {
     "end_time": "2018-06-22T19:16:06.519149Z",
     "start_time": "2018-06-22T19:16:06.396934Z"
    },
    "hidden": true
   },
   "outputs": [
    {
     "data": {
      "text/plain": [
       "False"
      ]
     },
     "execution_count": 281,
     "metadata": {},
     "output_type": "execute_result"
    }
   ],
   "source": [
    "#Checking for existence of null values\n",
    "tmp4.isnull().values.any()"
   ]
  },
  {
   "cell_type": "markdown",
   "metadata": {
    "ExecuteTime": {
     "end_time": "2018-06-22T19:18:22.152135Z",
     "start_time": "2018-06-22T19:18:22.115973Z"
    }
   },
   "source": [
    "# Random Forest with newly created features - 3"
   ]
  },
  {
   "cell_type": "markdown",
   "metadata": {},
   "source": [
    "I have three data frames\n",
    "1. Temp_Pivot1.h5 = train data aggregated to monthly level\n",
    "2. Agg_Df.h5 = train data aggregated to entire training period - on item_cnt and item_price\n",
    "3. dfs_merged.h5 - all additional data frames merged together"
   ]
  },
  {
   "cell_type": "code",
   "execution_count": 2,
   "metadata": {
    "ExecuteTime": {
     "end_time": "2018-06-22T19:34:53.074638Z",
     "start_time": "2018-06-22T19:34:52.391352Z"
    }
   },
   "outputs": [
    {
     "name": "stdout",
     "output_type": "stream",
     "text": [
      "The libraries have been loaded!\n"
     ]
    }
   ],
   "source": [
    "__imp"
   ]
  },
  {
   "cell_type": "code",
   "execution_count": 105,
   "metadata": {
    "ExecuteTime": {
     "end_time": "2018-06-22T20:27:26.166193Z",
     "start_time": "2018-06-22T20:27:25.089838Z"
    }
   },
   "outputs": [],
   "source": [
    "Temp_Pivot1 = pd.read_hdf(\"./Temp_Pivot1.h5\",key='table')\n",
    "Agg_Df = pd.read_hdf(\"./Agg_Df.h5\",key='table')\n",
    "dfs_merged = pd.read_hdf(\"./dfs_merged.h5\",key='table')"
   ]
  },
  {
   "cell_type": "code",
   "execution_count": 106,
   "metadata": {
    "ExecuteTime": {
     "end_time": "2018-06-22T20:27:26.176399Z",
     "start_time": "2018-06-22T20:27:26.169150Z"
    }
   },
   "outputs": [
    {
     "data": {
      "text/plain": [
       "Index(['shop_id_', 'item_id_', '2013_1', '2013_2', '2013_3', '2013_4',\n",
       "       '2013_5', '2013_6', '2013_7', '2013_8', '2013_9', '2013_10', '2013_11',\n",
       "       '2013_12', '2014_1', '2014_2', '2014_3', '2014_4', '2014_5', '2014_6',\n",
       "       '2014_7', '2014_8', '2014_9', '2014_10', '2014_11', '2014_12', '2015_1',\n",
       "       '2015_2', '2015_3', '2015_4', '2015_5', '2015_6', '2015_7', '2015_8',\n",
       "       '2015_9', '2015_10'],\n",
       "      dtype='object')"
      ]
     },
     "execution_count": 106,
     "metadata": {},
     "output_type": "execute_result"
    }
   ],
   "source": [
    "Temp_Pivot1.columns"
   ]
  },
  {
   "cell_type": "code",
   "execution_count": 107,
   "metadata": {
    "ExecuteTime": {
     "end_time": "2018-06-22T20:27:27.063959Z",
     "start_time": "2018-06-22T20:27:26.751715Z"
    },
    "collapsed": true
   },
   "outputs": [],
   "source": [
    "Temp_Pivot1.rename(columns={'shop_id_':'shop_id', 'item_id_':'item_id'}, inplace=True)"
   ]
  },
  {
   "cell_type": "code",
   "execution_count": 137,
   "metadata": {
    "ExecuteTime": {
     "end_time": "2018-06-22T20:33:54.247192Z",
     "start_time": "2018-06-22T20:33:54.228563Z"
    }
   },
   "outputs": [],
   "source": [
    "def create_x_y(x_col1, x_col2, y_col):\n",
    "    y = Temp_Pivot1[y_col]\n",
    "    X =pd.concat([Temp_Pivot1.loc[:,'shop_id':'item_id'], Temp_Pivot1.loc[:,x_col1:x_col2]],axis=1)\n",
    "    X=derive_new(X)\n",
    "#     X = pd.merge(X,Agg_Df, how='inner', on =['shop_id','item_id'])\n",
    "#     X = pd.merge(X, dfs_merged[[ 'shop_id', 'item_id', 'item_name_codes', 'shop_name_codes',\n",
    "#        'item_category_name_codes']], how='inner', on =['shop_id','item_id'])\n",
    "    print(X.isnull().values.any())\n",
    "    X.drop(['shop_id','item_id'], axis=1, inplace=True)\n",
    "    return(X,y)"
   ]
  },
  {
   "cell_type": "code",
   "execution_count": 138,
   "metadata": {
    "ExecuteTime": {
     "end_time": "2018-06-22T20:34:00.728648Z",
     "start_time": "2018-06-22T20:33:55.087576Z"
    }
   },
   "outputs": [
    {
     "name": "stdout",
     "output_type": "stream",
     "text": [
      "False\n"
     ]
    }
   ],
   "source": [
    "X,y = create_x_y('2013_1','2015_5','2015_6')"
   ]
  },
  {
   "cell_type": "code",
   "execution_count": 139,
   "metadata": {
    "ExecuteTime": {
     "end_time": "2018-06-22T20:34:00.756211Z",
     "start_time": "2018-06-22T20:34:00.731261Z"
    }
   },
   "outputs": [],
   "source": [
    "from sklearn.ensemble import RandomForestRegressor\n",
    "from sklearn.model_selection import train_test_split\n",
    "from sklearn import metrics\n",
    "\n",
    "def build_rf_model(X,y):\n",
    "    X_train, X_valid, y_train, y_valid = train_test_split(X, y, test_size=0.2)\n",
    "    regr = RandomForestRegressor(n_estimators=80, min_samples_leaf=3, max_features=0.5, n_jobs=-1, oob_score=True)\n",
    "    regr.fit(X_train,y_train)\n",
    "    predictions = regr.predict(X_train)\n",
    "    print(np.sqrt(metrics.mean_squared_error(y_train,predictions)))\n",
    "    test_predictions = regr.predict(X_valid)\n",
    "    print(np.sqrt(metrics.mean_squared_error(y_valid, test_predictions)))\n",
    "    return(regr)"
   ]
  },
  {
   "cell_type": "code",
   "execution_count": 140,
   "metadata": {
    "ExecuteTime": {
     "end_time": "2018-06-22T20:34:22.299867Z",
     "start_time": "2018-06-22T20:34:00.759121Z"
    }
   },
   "outputs": [
    {
     "name": "stdout",
     "output_type": "stream",
     "text": [
      "0.755323281191\n",
      "1.12808590684\n"
     ]
    }
   ],
   "source": [
    "regr= build_rf_model(X,y)"
   ]
  },
  {
   "cell_type": "markdown",
   "metadata": {
    "ExecuteTime": {
     "end_time": "2018-06-22T19:44:09.397831Z",
     "start_time": "2018-06-22T19:44:09.041345Z"
    }
   },
   "source": [
    "This improves overall RMSE by a large margin. However, there is some information leak as some of the features are based on future data."
   ]
  },
  {
   "cell_type": "markdown",
   "metadata": {},
   "source": [
    "### Predicting July sales with above approach"
   ]
  },
  {
   "cell_type": "code",
   "execution_count": 141,
   "metadata": {
    "ExecuteTime": {
     "end_time": "2018-06-22T20:34:33.426991Z",
     "start_time": "2018-06-22T20:34:22.303005Z"
    }
   },
   "outputs": [
    {
     "name": "stdout",
     "output_type": "stream",
     "text": [
      "False\n"
     ]
    },
    {
     "data": {
      "text/plain": [
       "1.3140459821622541"
      ]
     },
     "execution_count": 141,
     "metadata": {},
     "output_type": "execute_result"
    }
   ],
   "source": [
    "July_features,July_actual = create_x_y('2013_2','2015_6','2015_7')\n",
    "July_features = derive_new(July_features)\n",
    "July_predictions = regr.predict(July_features)\n",
    "July_Metric= np.sqrt(metrics.mean_squared_error(July_actual,July_predictions))\n",
    "July_Metric"
   ]
  },
  {
   "cell_type": "code",
   "execution_count": 142,
   "metadata": {
    "ExecuteTime": {
     "end_time": "2018-06-22T20:34:34.659067Z",
     "start_time": "2018-06-22T20:34:33.429882Z"
    }
   },
   "outputs": [
    {
     "data": {
      "text/plain": [
       "<matplotlib.axes._subplots.AxesSubplot at 0x7f6eb0ded9b0>"
      ]
     },
     "execution_count": 142,
     "metadata": {},
     "output_type": "execute_result"
    },
    {
     "data": {
      "text/plain": [
       "<matplotlib.axes._subplots.AxesSubplot at 0x7f6eb0db67b8>"
      ]
     },
     "execution_count": 142,
     "metadata": {},
     "output_type": "execute_result"
    },
    {
     "data": {
      "text/html": [
       "<div>\n",
       "<style>\n",
       "    .dataframe thead tr:only-child th {\n",
       "        text-align: right;\n",
       "    }\n",
       "\n",
       "    .dataframe thead th {\n",
       "        text-align: left;\n",
       "    }\n",
       "\n",
       "    .dataframe tbody tr th {\n",
       "        vertical-align: top;\n",
       "    }\n",
       "</style>\n",
       "<table border=\"1\" class=\"dataframe\">\n",
       "  <thead>\n",
       "    <tr style=\"text-align: right;\">\n",
       "      <th></th>\n",
       "      <th>cols</th>\n",
       "      <th>imp</th>\n",
       "    </tr>\n",
       "  </thead>\n",
       "  <tbody>\n",
       "    <tr>\n",
       "      <th>32</th>\n",
       "      <td>Avg_past_6_months</td>\n",
       "      <td>0.144252</td>\n",
       "    </tr>\n",
       "    <tr>\n",
       "      <th>41</th>\n",
       "      <td>Avg_past_18_months</td>\n",
       "      <td>0.137087</td>\n",
       "    </tr>\n",
       "    <tr>\n",
       "      <th>38</th>\n",
       "      <td>Avg_past_12_months</td>\n",
       "      <td>0.126445</td>\n",
       "    </tr>\n",
       "    <tr>\n",
       "      <th>29</th>\n",
       "      <td>Avg_past_3_months</td>\n",
       "      <td>0.096686</td>\n",
       "    </tr>\n",
       "    <tr>\n",
       "      <th>35</th>\n",
       "      <td>Avg_past_9_months</td>\n",
       "      <td>0.087648</td>\n",
       "    </tr>\n",
       "    <tr>\n",
       "      <th>28</th>\n",
       "      <td>2015_5</td>\n",
       "      <td>0.071440</td>\n",
       "    </tr>\n",
       "    <tr>\n",
       "      <th>25</th>\n",
       "      <td>2015_2</td>\n",
       "      <td>0.059756</td>\n",
       "    </tr>\n",
       "    <tr>\n",
       "      <th>18</th>\n",
       "      <td>2014_7</td>\n",
       "      <td>0.025251</td>\n",
       "    </tr>\n",
       "    <tr>\n",
       "      <th>10</th>\n",
       "      <td>2013_11</td>\n",
       "      <td>0.024891</td>\n",
       "    </tr>\n",
       "    <tr>\n",
       "      <th>34</th>\n",
       "      <td>Max_past_6_months</td>\n",
       "      <td>0.024813</td>\n",
       "    </tr>\n",
       "    <tr>\n",
       "      <th>31</th>\n",
       "      <td>Max_past_3_months</td>\n",
       "      <td>0.024274</td>\n",
       "    </tr>\n",
       "    <tr>\n",
       "      <th>44</th>\n",
       "      <td>Avg_past_24_months</td>\n",
       "      <td>0.019728</td>\n",
       "    </tr>\n",
       "    <tr>\n",
       "      <th>22</th>\n",
       "      <td>2014_11</td>\n",
       "      <td>0.019060</td>\n",
       "    </tr>\n",
       "    <tr>\n",
       "      <th>17</th>\n",
       "      <td>2014_6</td>\n",
       "      <td>0.016768</td>\n",
       "    </tr>\n",
       "    <tr>\n",
       "      <th>27</th>\n",
       "      <td>2015_4</td>\n",
       "      <td>0.013568</td>\n",
       "    </tr>\n",
       "    <tr>\n",
       "      <th>30</th>\n",
       "      <td>Min_past_3_months</td>\n",
       "      <td>0.011547</td>\n",
       "    </tr>\n",
       "    <tr>\n",
       "      <th>16</th>\n",
       "      <td>2014_5</td>\n",
       "      <td>0.010415</td>\n",
       "    </tr>\n",
       "    <tr>\n",
       "      <th>26</th>\n",
       "      <td>2015_3</td>\n",
       "      <td>0.009809</td>\n",
       "    </tr>\n",
       "    <tr>\n",
       "      <th>19</th>\n",
       "      <td>2014_8</td>\n",
       "      <td>0.009265</td>\n",
       "    </tr>\n",
       "    <tr>\n",
       "      <th>33</th>\n",
       "      <td>Min_past_6_months</td>\n",
       "      <td>0.007852</td>\n",
       "    </tr>\n",
       "    <tr>\n",
       "      <th>24</th>\n",
       "      <td>2015_1</td>\n",
       "      <td>0.007432</td>\n",
       "    </tr>\n",
       "    <tr>\n",
       "      <th>23</th>\n",
       "      <td>2014_12</td>\n",
       "      <td>0.004422</td>\n",
       "    </tr>\n",
       "    <tr>\n",
       "      <th>40</th>\n",
       "      <td>Max_past_12_months</td>\n",
       "      <td>0.004418</td>\n",
       "    </tr>\n",
       "    <tr>\n",
       "      <th>46</th>\n",
       "      <td>Max_past_24_months</td>\n",
       "      <td>0.004323</td>\n",
       "    </tr>\n",
       "    <tr>\n",
       "      <th>20</th>\n",
       "      <td>2014_9</td>\n",
       "      <td>0.004124</td>\n",
       "    </tr>\n",
       "    <tr>\n",
       "      <th>9</th>\n",
       "      <td>2013_10</td>\n",
       "      <td>0.003876</td>\n",
       "    </tr>\n",
       "    <tr>\n",
       "      <th>37</th>\n",
       "      <td>Max_past_9_months</td>\n",
       "      <td>0.003714</td>\n",
       "    </tr>\n",
       "    <tr>\n",
       "      <th>43</th>\n",
       "      <td>Max_past_18_months</td>\n",
       "      <td>0.003630</td>\n",
       "    </tr>\n",
       "    <tr>\n",
       "      <th>7</th>\n",
       "      <td>2013_8</td>\n",
       "      <td>0.002736</td>\n",
       "    </tr>\n",
       "    <tr>\n",
       "      <th>21</th>\n",
       "      <td>2014_10</td>\n",
       "      <td>0.002449</td>\n",
       "    </tr>\n",
       "    <tr>\n",
       "      <th>36</th>\n",
       "      <td>Min_past_9_months</td>\n",
       "      <td>0.002385</td>\n",
       "    </tr>\n",
       "    <tr>\n",
       "      <th>15</th>\n",
       "      <td>2014_4</td>\n",
       "      <td>0.002097</td>\n",
       "    </tr>\n",
       "    <tr>\n",
       "      <th>13</th>\n",
       "      <td>2014_2</td>\n",
       "      <td>0.002048</td>\n",
       "    </tr>\n",
       "    <tr>\n",
       "      <th>4</th>\n",
       "      <td>2013_5</td>\n",
       "      <td>0.001707</td>\n",
       "    </tr>\n",
       "    <tr>\n",
       "      <th>39</th>\n",
       "      <td>Min_past_12_months</td>\n",
       "      <td>0.001294</td>\n",
       "    </tr>\n",
       "    <tr>\n",
       "      <th>2</th>\n",
       "      <td>2013_3</td>\n",
       "      <td>0.001218</td>\n",
       "    </tr>\n",
       "    <tr>\n",
       "      <th>3</th>\n",
       "      <td>2013_4</td>\n",
       "      <td>0.001006</td>\n",
       "    </tr>\n",
       "    <tr>\n",
       "      <th>1</th>\n",
       "      <td>2013_2</td>\n",
       "      <td>0.001002</td>\n",
       "    </tr>\n",
       "    <tr>\n",
       "      <th>0</th>\n",
       "      <td>2013_1</td>\n",
       "      <td>0.000997</td>\n",
       "    </tr>\n",
       "    <tr>\n",
       "      <th>14</th>\n",
       "      <td>2014_3</td>\n",
       "      <td>0.000908</td>\n",
       "    </tr>\n",
       "    <tr>\n",
       "      <th>11</th>\n",
       "      <td>2013_12</td>\n",
       "      <td>0.000904</td>\n",
       "    </tr>\n",
       "    <tr>\n",
       "      <th>8</th>\n",
       "      <td>2013_9</td>\n",
       "      <td>0.000750</td>\n",
       "    </tr>\n",
       "    <tr>\n",
       "      <th>12</th>\n",
       "      <td>2014_1</td>\n",
       "      <td>0.000700</td>\n",
       "    </tr>\n",
       "    <tr>\n",
       "      <th>6</th>\n",
       "      <td>2013_7</td>\n",
       "      <td>0.000506</td>\n",
       "    </tr>\n",
       "    <tr>\n",
       "      <th>5</th>\n",
       "      <td>2013_6</td>\n",
       "      <td>0.000435</td>\n",
       "    </tr>\n",
       "    <tr>\n",
       "      <th>42</th>\n",
       "      <td>Min_past_18_months</td>\n",
       "      <td>0.000237</td>\n",
       "    </tr>\n",
       "    <tr>\n",
       "      <th>45</th>\n",
       "      <td>Min_past_24_months</td>\n",
       "      <td>0.000128</td>\n",
       "    </tr>\n",
       "  </tbody>\n",
       "</table>\n",
       "</div>"
      ],
      "text/plain": [
       "                  cols       imp\n",
       "32   Avg_past_6_months  0.144252\n",
       "41  Avg_past_18_months  0.137087\n",
       "38  Avg_past_12_months  0.126445\n",
       "29   Avg_past_3_months  0.096686\n",
       "35   Avg_past_9_months  0.087648\n",
       "28              2015_5  0.071440\n",
       "25              2015_2  0.059756\n",
       "18              2014_7  0.025251\n",
       "10             2013_11  0.024891\n",
       "34   Max_past_6_months  0.024813\n",
       "31   Max_past_3_months  0.024274\n",
       "44  Avg_past_24_months  0.019728\n",
       "22             2014_11  0.019060\n",
       "17              2014_6  0.016768\n",
       "27              2015_4  0.013568\n",
       "30   Min_past_3_months  0.011547\n",
       "16              2014_5  0.010415\n",
       "26              2015_3  0.009809\n",
       "19              2014_8  0.009265\n",
       "33   Min_past_6_months  0.007852\n",
       "24              2015_1  0.007432\n",
       "23             2014_12  0.004422\n",
       "40  Max_past_12_months  0.004418\n",
       "46  Max_past_24_months  0.004323\n",
       "20              2014_9  0.004124\n",
       "9              2013_10  0.003876\n",
       "37   Max_past_9_months  0.003714\n",
       "43  Max_past_18_months  0.003630\n",
       "7               2013_8  0.002736\n",
       "21             2014_10  0.002449\n",
       "36   Min_past_9_months  0.002385\n",
       "15              2014_4  0.002097\n",
       "13              2014_2  0.002048\n",
       "4               2013_5  0.001707\n",
       "39  Min_past_12_months  0.001294\n",
       "2               2013_3  0.001218\n",
       "3               2013_4  0.001006\n",
       "1               2013_2  0.001002\n",
       "0               2013_1  0.000997\n",
       "14              2014_3  0.000908\n",
       "11             2013_12  0.000904\n",
       "8               2013_9  0.000750\n",
       "12              2014_1  0.000700\n",
       "6               2013_7  0.000506\n",
       "5               2013_6  0.000435\n",
       "42  Min_past_18_months  0.000237\n",
       "45  Min_past_24_months  0.000128"
      ]
     },
     "execution_count": 142,
     "metadata": {},
     "output_type": "execute_result"
    },
    {
     "name": "stderr",
     "output_type": "stream",
     "text": [
      "/users/a115505/.conda/envs/DL/lib/python3.6/site-packages/matplotlib/font_manager.py:1328: UserWarning: findfont: Font family ['serif'] not found. Falling back to DejaVu Sans\n",
      "  (prop.get_family(), self.defaultFamily[fontext]))\n"
     ]
    },
    {
     "data": {
      "image/png": "[encoded data removed]",
      "text/plain": [
       "<Figure size 864x720 with 1 Axes>"
      ]
     },
     "metadata": {},
     "output_type": "display_data"
    },
    {
     "data": {
      "image/png": "[encoded data removed]",
      "text/plain": [
       "<Figure size 864x720 with 1 Axes>"
      ]
     },
     "metadata": {},
     "output_type": "display_data"
    }
   ],
   "source": [
    "Feat_Imp= rf_feat_importance(regr,X)\n",
    "#As expected, most recent month as higher predictive power compared to other months. But some of the older months also have higher predictive power\n",
    "Feat_Imp.plot(x='cols',y='imp')\n",
    "Feat_Imp.sort_values('cols',ascending=False).plot(x='cols',y='imp')\n",
    "Feat_Imp"
   ]
  },
  {
   "cell_type": "code",
   "execution_count": 143,
   "metadata": {
    "ExecuteTime": {
     "end_time": "2018-06-22T20:34:34.676355Z",
     "start_time": "2018-06-22T20:34:34.661638Z"
    }
   },
   "outputs": [],
   "source": [
    "Compare = pd.DataFrame(np.column_stack((July_actual.values,July_predictions.astype(int))))\n",
    "Compare.columns=['Actual','Predict']\n",
    "\n",
    "Compare['Error']= Compare.Actual - Compare.Predict"
   ]
  },
  {
   "cell_type": "code",
   "execution_count": 144,
   "metadata": {
    "ExecuteTime": {
     "end_time": "2018-06-22T20:34:34.692270Z",
     "start_time": "2018-06-22T20:34:34.679196Z"
    }
   },
   "outputs": [
    {
     "data": {
      "text/html": [
       "<div>\n",
       "<style>\n",
       "    .dataframe thead tr:only-child th {\n",
       "        text-align: right;\n",
       "    }\n",
       "\n",
       "    .dataframe thead th {\n",
       "        text-align: left;\n",
       "    }\n",
       "\n",
       "    .dataframe tbody tr th {\n",
       "        vertical-align: top;\n",
       "    }\n",
       "</style>\n",
       "<table border=\"1\" class=\"dataframe\">\n",
       "  <thead>\n",
       "    <tr style=\"text-align: right;\">\n",
       "      <th></th>\n",
       "      <th>Actual</th>\n",
       "      <th>Predict</th>\n",
       "      <th>Error</th>\n",
       "    </tr>\n",
       "  </thead>\n",
       "  <tbody>\n",
       "    <tr>\n",
       "      <th>0</th>\n",
       "      <td>0</td>\n",
       "      <td>0</td>\n",
       "      <td>0</td>\n",
       "    </tr>\n",
       "    <tr>\n",
       "      <th>1</th>\n",
       "      <td>0</td>\n",
       "      <td>0</td>\n",
       "      <td>0</td>\n",
       "    </tr>\n",
       "    <tr>\n",
       "      <th>2</th>\n",
       "      <td>0</td>\n",
       "      <td>0</td>\n",
       "      <td>0</td>\n",
       "    </tr>\n",
       "    <tr>\n",
       "      <th>3</th>\n",
       "      <td>0</td>\n",
       "      <td>0</td>\n",
       "      <td>0</td>\n",
       "    </tr>\n",
       "    <tr>\n",
       "      <th>4</th>\n",
       "      <td>0</td>\n",
       "      <td>0</td>\n",
       "      <td>0</td>\n",
       "    </tr>\n",
       "  </tbody>\n",
       "</table>\n",
       "</div>"
      ],
      "text/plain": [
       "   Actual  Predict  Error\n",
       "0       0        0      0\n",
       "1       0        0      0\n",
       "2       0        0      0\n",
       "3       0        0      0\n",
       "4       0        0      0"
      ]
     },
     "execution_count": 144,
     "metadata": {},
     "output_type": "execute_result"
    }
   ],
   "source": [
    "Compare.head()"
   ]
  },
  {
   "cell_type": "markdown",
   "metadata": {},
   "source": [
    "Model performance worsened with addition of new features. This needs to be investigated."
   ]
  },
  {
   "cell_type": "code",
   "execution_count": 145,
   "metadata": {
    "ExecuteTime": {
     "end_time": "2018-06-22T20:34:34.711555Z",
     "start_time": "2018-06-22T20:34:34.695852Z"
    }
   },
   "outputs": [
    {
     "data": {
      "text/plain": [
       "1.2963597545208814"
      ]
     },
     "execution_count": 145,
     "metadata": {},
     "output_type": "execute_result"
    }
   ],
   "source": [
    "np.sqrt(np.mean(Compare['Error']**2))"
   ]
  },
  {
   "cell_type": "markdown",
   "metadata": {
    "ExecuteTime": {
     "end_time": "2018-06-22T20:36:14.623858Z",
     "start_time": "2018-06-22T20:36:14.618351Z"
    }
   },
   "source": [
    "Addition of new features has decreased the performance of the model. This needs to be checked. "
   ]
  },
  {
   "cell_type": "code",
   "execution_count": null,
   "metadata": {
    "collapsed": true
   },
   "outputs": [],
   "source": []
  },
  {
   "cell_type": "code",
   "execution_count": 60,
   "metadata": {
    "ExecuteTime": {
     "end_time": "2018-06-18T14:15:44.893992Z",
     "start_time": "2018-06-18T14:15:43.082895Z"
    },
    "collapsed": true
   },
   "outputs": [],
   "source": [
    "train_item_shop_categories_agg = pd.merge(train_item_shop_categories, agg_df, how ='left',on=['shop_id','item_id'])"
   ]
  },
  {
   "cell_type": "code",
   "execution_count": 61,
   "metadata": {
    "ExecuteTime": {
     "end_time": "2018-06-18T14:15:58.792180Z",
     "start_time": "2018-06-18T14:15:58.739935Z"
    }
   },
   "outputs": [
    {
     "data": {
      "text/html": [
       "<div>\n",
       "<style>\n",
       "    .dataframe thead tr:only-child th {\n",
       "        text-align: right;\n",
       "    }\n",
       "\n",
       "    .dataframe thead th {\n",
       "        text-align: left;\n",
       "    }\n",
       "\n",
       "    .dataframe tbody tr th {\n",
       "        vertical-align: top;\n",
       "    }\n",
       "</style>\n",
       "<table border=\"1\" class=\"dataframe\">\n",
       "  <thead>\n",
       "    <tr style=\"text-align: right;\">\n",
       "      <th></th>\n",
       "      <th>date</th>\n",
       "      <th>date_block_num</th>\n",
       "      <th>shop_id</th>\n",
       "      <th>item_id</th>\n",
       "      <th>item_price</th>\n",
       "      <th>item_cnt_day</th>\n",
       "      <th>item_price_whole</th>\n",
       "      <th>item_price_fraction</th>\n",
       "      <th>date_new</th>\n",
       "      <th>day_of_week</th>\n",
       "      <th>...</th>\n",
       "      <th>item_name</th>\n",
       "      <th>item_category_id</th>\n",
       "      <th>shop_name</th>\n",
       "      <th>item_category_name</th>\n",
       "      <th>item_name_codes</th>\n",
       "      <th>shop_name_codes</th>\n",
       "      <th>item_category_name_codes</th>\n",
       "      <th>no_of_rows</th>\n",
       "      <th>item_cnt_daymean</th>\n",
       "      <th>item_pricemean</th>\n",
       "    </tr>\n",
       "  </thead>\n",
       "  <tbody>\n",
       "    <tr>\n",
       "      <th>0</th>\n",
       "      <td>02.01.2013</td>\n",
       "      <td>0</td>\n",
       "      <td>59</td>\n",
       "      <td>22154</td>\n",
       "      <td>999.00</td>\n",
       "      <td>1.0</td>\n",
       "      <td>999.0</td>\n",
       "      <td>0.0</td>\n",
       "      <td>2013-01-02</td>\n",
       "      <td>2</td>\n",
       "      <td>...</td>\n",
       "      <td>ЯВЛЕНИЕ 2012 (BD)</td>\n",
       "      <td>37</td>\n",
       "      <td>Ярославль ТЦ \"Альтаир\"</td>\n",
       "      <td>Кино - Blu-Ray</td>\n",
       "      <td>21791</td>\n",
       "      <td>59</td>\n",
       "      <td>37</td>\n",
       "      <td>1</td>\n",
       "      <td>1.0</td>\n",
       "      <td>999.00</td>\n",
       "    </tr>\n",
       "    <tr>\n",
       "      <th>1</th>\n",
       "      <td>03.01.2013</td>\n",
       "      <td>0</td>\n",
       "      <td>25</td>\n",
       "      <td>2552</td>\n",
       "      <td>899.00</td>\n",
       "      <td>1.0</td>\n",
       "      <td>899.0</td>\n",
       "      <td>0.0</td>\n",
       "      <td>2013-01-03</td>\n",
       "      <td>3</td>\n",
       "      <td>...</td>\n",
       "      <td>DEEP PURPLE  The House Of Blue Light  LP</td>\n",
       "      <td>58</td>\n",
       "      <td>Москва ТРК \"Атриум\"</td>\n",
       "      <td>Музыка - Винил</td>\n",
       "      <td>2495</td>\n",
       "      <td>25</td>\n",
       "      <td>58</td>\n",
       "      <td>2</td>\n",
       "      <td>0.0</td>\n",
       "      <td>899.00</td>\n",
       "    </tr>\n",
       "    <tr>\n",
       "      <th>2</th>\n",
       "      <td>05.01.2013</td>\n",
       "      <td>0</td>\n",
       "      <td>25</td>\n",
       "      <td>2552</td>\n",
       "      <td>899.00</td>\n",
       "      <td>-1.0</td>\n",
       "      <td>899.0</td>\n",
       "      <td>0.0</td>\n",
       "      <td>2013-01-05</td>\n",
       "      <td>5</td>\n",
       "      <td>...</td>\n",
       "      <td>DEEP PURPLE  The House Of Blue Light  LP</td>\n",
       "      <td>58</td>\n",
       "      <td>Москва ТРК \"Атриум\"</td>\n",
       "      <td>Музыка - Винил</td>\n",
       "      <td>2495</td>\n",
       "      <td>25</td>\n",
       "      <td>58</td>\n",
       "      <td>2</td>\n",
       "      <td>0.0</td>\n",
       "      <td>899.00</td>\n",
       "    </tr>\n",
       "    <tr>\n",
       "      <th>3</th>\n",
       "      <td>06.01.2013</td>\n",
       "      <td>0</td>\n",
       "      <td>25</td>\n",
       "      <td>2554</td>\n",
       "      <td>1709.05</td>\n",
       "      <td>1.0</td>\n",
       "      <td>1709.0</td>\n",
       "      <td>5.0</td>\n",
       "      <td>2013-01-06</td>\n",
       "      <td>6</td>\n",
       "      <td>...</td>\n",
       "      <td>DEEP PURPLE  Who Do You Think We Are  LP</td>\n",
       "      <td>58</td>\n",
       "      <td>Москва ТРК \"Атриум\"</td>\n",
       "      <td>Музыка - Винил</td>\n",
       "      <td>2497</td>\n",
       "      <td>25</td>\n",
       "      <td>58</td>\n",
       "      <td>1</td>\n",
       "      <td>1.0</td>\n",
       "      <td>1709.05</td>\n",
       "    </tr>\n",
       "    <tr>\n",
       "      <th>4</th>\n",
       "      <td>15.01.2013</td>\n",
       "      <td>0</td>\n",
       "      <td>25</td>\n",
       "      <td>2555</td>\n",
       "      <td>1099.00</td>\n",
       "      <td>1.0</td>\n",
       "      <td>1099.0</td>\n",
       "      <td>0.0</td>\n",
       "      <td>2013-01-15</td>\n",
       "      <td>1</td>\n",
       "      <td>...</td>\n",
       "      <td>DEEP PURPLE 30 Very Best Of 2CD (Фирм.)</td>\n",
       "      <td>56</td>\n",
       "      <td>Москва ТРК \"Атриум\"</td>\n",
       "      <td>Музыка - CD фирменного производства</td>\n",
       "      <td>2498</td>\n",
       "      <td>25</td>\n",
       "      <td>56</td>\n",
       "      <td>10</td>\n",
       "      <td>1.0</td>\n",
       "      <td>1104.00</td>\n",
       "    </tr>\n",
       "  </tbody>\n",
       "</table>\n",
       "<p>5 rows × 22 columns</p>\n",
       "</div>"
      ],
      "text/plain": [
       "         date  date_block_num  shop_id  item_id  item_price  item_cnt_day  \\\n",
       "0  02.01.2013               0       59    22154      999.00           1.0   \n",
       "1  03.01.2013               0       25     2552      899.00           1.0   \n",
       "2  05.01.2013               0       25     2552      899.00          -1.0   \n",
       "3  06.01.2013               0       25     2554     1709.05           1.0   \n",
       "4  15.01.2013               0       25     2555     1099.00           1.0   \n",
       "\n",
       "   item_price_whole  item_price_fraction   date_new  day_of_week  \\\n",
       "0             999.0                  0.0 2013-01-02            2   \n",
       "1             899.0                  0.0 2013-01-03            3   \n",
       "2             899.0                  0.0 2013-01-05            5   \n",
       "3            1709.0                  5.0 2013-01-06            6   \n",
       "4            1099.0                  0.0 2013-01-15            1   \n",
       "\n",
       "        ...                                       item_name  item_category_id  \\\n",
       "0       ...                               ЯВЛЕНИЕ 2012 (BD)                37   \n",
       "1       ...        DEEP PURPLE  The House Of Blue Light  LP                58   \n",
       "2       ...        DEEP PURPLE  The House Of Blue Light  LP                58   \n",
       "3       ...        DEEP PURPLE  Who Do You Think We Are  LP                58   \n",
       "4       ...         DEEP PURPLE 30 Very Best Of 2CD (Фирм.)                56   \n",
       "\n",
       "                shop_name                   item_category_name  \\\n",
       "0  Ярославль ТЦ \"Альтаир\"                       Кино - Blu-Ray   \n",
       "1     Москва ТРК \"Атриум\"                       Музыка - Винил   \n",
       "2     Москва ТРК \"Атриум\"                       Музыка - Винил   \n",
       "3     Москва ТРК \"Атриум\"                       Музыка - Винил   \n",
       "4     Москва ТРК \"Атриум\"  Музыка - CD фирменного производства   \n",
       "\n",
       "  item_name_codes shop_name_codes  item_category_name_codes  no_of_rows  \\\n",
       "0           21791              59                        37           1   \n",
       "1            2495              25                        58           2   \n",
       "2            2495              25                        58           2   \n",
       "3            2497              25                        58           1   \n",
       "4            2498              25                        56          10   \n",
       "\n",
       "   item_cnt_daymean  item_pricemean  \n",
       "0               1.0          999.00  \n",
       "1               0.0          899.00  \n",
       "2               0.0          899.00  \n",
       "3               1.0         1709.05  \n",
       "4               1.0         1104.00  \n",
       "\n",
       "[5 rows x 22 columns]"
      ]
     },
     "execution_count": 61,
     "metadata": {},
     "output_type": "execute_result"
    }
   ],
   "source": [
    "train_item_shop_categories_agg.head()"
   ]
  },
  {
   "cell_type": "code",
   "execution_count": 90,
   "metadata": {
    "ExecuteTime": {
     "end_time": "2018-06-18T16:00:53.339939Z",
     "start_time": "2018-06-18T16:00:53.035186Z"
    },
    "collapsed": true
   },
   "outputs": [],
   "source": [
    "Cleaned_Train = train_item_shop_categories_agg[['date_new','date_block_num','shop_id','item_id','item_price','item_price_whole','item_price_fraction','day_of_week','Month','Week',\n",
    "                       'item_name_codes','item_category_id','shop_name_codes','item_category_name_codes','item_cnt_day',\n",
    "                                           'no_of_rows', 'item_cnt_daymean', 'item_pricemean']]"
   ]
  },
  {
   "cell_type": "code",
   "execution_count": 91,
   "metadata": {
    "ExecuteTime": {
     "end_time": "2018-06-18T16:00:54.454462Z",
     "start_time": "2018-06-18T16:00:54.417465Z"
    }
   },
   "outputs": [
    {
     "data": {
      "text/html": [
       "<div>\n",
       "<style>\n",
       "    .dataframe thead tr:only-child th {\n",
       "        text-align: right;\n",
       "    }\n",
       "\n",
       "    .dataframe thead th {\n",
       "        text-align: left;\n",
       "    }\n",
       "\n",
       "    .dataframe tbody tr th {\n",
       "        vertical-align: top;\n",
       "    }\n",
       "</style>\n",
       "<table border=\"1\" class=\"dataframe\">\n",
       "  <thead>\n",
       "    <tr style=\"text-align: right;\">\n",
       "      <th></th>\n",
       "      <th>date_new</th>\n",
       "      <th>date_block_num</th>\n",
       "      <th>shop_id</th>\n",
       "      <th>item_id</th>\n",
       "      <th>item_price</th>\n",
       "      <th>item_price_whole</th>\n",
       "      <th>item_price_fraction</th>\n",
       "      <th>day_of_week</th>\n",
       "      <th>Month</th>\n",
       "      <th>Week</th>\n",
       "      <th>item_name_codes</th>\n",
       "      <th>item_category_id</th>\n",
       "      <th>shop_name_codes</th>\n",
       "      <th>item_category_name_codes</th>\n",
       "      <th>item_cnt_day</th>\n",
       "      <th>no_of_rows</th>\n",
       "      <th>item_cnt_daymean</th>\n",
       "      <th>item_pricemean</th>\n",
       "    </tr>\n",
       "  </thead>\n",
       "  <tbody>\n",
       "    <tr>\n",
       "      <th>0</th>\n",
       "      <td>2013-01-02</td>\n",
       "      <td>0</td>\n",
       "      <td>59</td>\n",
       "      <td>22154</td>\n",
       "      <td>999.00</td>\n",
       "      <td>999.0</td>\n",
       "      <td>0.0</td>\n",
       "      <td>2</td>\n",
       "      <td>1</td>\n",
       "      <td>1</td>\n",
       "      <td>21791</td>\n",
       "      <td>37</td>\n",
       "      <td>59</td>\n",
       "      <td>37</td>\n",
       "      <td>1.0</td>\n",
       "      <td>1</td>\n",
       "      <td>1.0</td>\n",
       "      <td>999.00</td>\n",
       "    </tr>\n",
       "    <tr>\n",
       "      <th>1</th>\n",
       "      <td>2013-01-03</td>\n",
       "      <td>0</td>\n",
       "      <td>25</td>\n",
       "      <td>2552</td>\n",
       "      <td>899.00</td>\n",
       "      <td>899.0</td>\n",
       "      <td>0.0</td>\n",
       "      <td>3</td>\n",
       "      <td>1</td>\n",
       "      <td>1</td>\n",
       "      <td>2495</td>\n",
       "      <td>58</td>\n",
       "      <td>25</td>\n",
       "      <td>58</td>\n",
       "      <td>1.0</td>\n",
       "      <td>2</td>\n",
       "      <td>0.0</td>\n",
       "      <td>899.00</td>\n",
       "    </tr>\n",
       "    <tr>\n",
       "      <th>2</th>\n",
       "      <td>2013-01-05</td>\n",
       "      <td>0</td>\n",
       "      <td>25</td>\n",
       "      <td>2552</td>\n",
       "      <td>899.00</td>\n",
       "      <td>899.0</td>\n",
       "      <td>0.0</td>\n",
       "      <td>5</td>\n",
       "      <td>1</td>\n",
       "      <td>1</td>\n",
       "      <td>2495</td>\n",
       "      <td>58</td>\n",
       "      <td>25</td>\n",
       "      <td>58</td>\n",
       "      <td>-1.0</td>\n",
       "      <td>2</td>\n",
       "      <td>0.0</td>\n",
       "      <td>899.00</td>\n",
       "    </tr>\n",
       "    <tr>\n",
       "      <th>3</th>\n",
       "      <td>2013-01-06</td>\n",
       "      <td>0</td>\n",
       "      <td>25</td>\n",
       "      <td>2554</td>\n",
       "      <td>1709.05</td>\n",
       "      <td>1709.0</td>\n",
       "      <td>5.0</td>\n",
       "      <td>6</td>\n",
       "      <td>1</td>\n",
       "      <td>1</td>\n",
       "      <td>2497</td>\n",
       "      <td>58</td>\n",
       "      <td>25</td>\n",
       "      <td>58</td>\n",
       "      <td>1.0</td>\n",
       "      <td>1</td>\n",
       "      <td>1.0</td>\n",
       "      <td>1709.05</td>\n",
       "    </tr>\n",
       "    <tr>\n",
       "      <th>4</th>\n",
       "      <td>2013-01-15</td>\n",
       "      <td>0</td>\n",
       "      <td>25</td>\n",
       "      <td>2555</td>\n",
       "      <td>1099.00</td>\n",
       "      <td>1099.0</td>\n",
       "      <td>0.0</td>\n",
       "      <td>1</td>\n",
       "      <td>1</td>\n",
       "      <td>3</td>\n",
       "      <td>2498</td>\n",
       "      <td>56</td>\n",
       "      <td>25</td>\n",
       "      <td>56</td>\n",
       "      <td>1.0</td>\n",
       "      <td>10</td>\n",
       "      <td>1.0</td>\n",
       "      <td>1104.00</td>\n",
       "    </tr>\n",
       "  </tbody>\n",
       "</table>\n",
       "</div>"
      ],
      "text/plain": [
       "    date_new  date_block_num  shop_id  item_id  item_price  item_price_whole  \\\n",
       "0 2013-01-02               0       59    22154      999.00             999.0   \n",
       "1 2013-01-03               0       25     2552      899.00             899.0   \n",
       "2 2013-01-05               0       25     2552      899.00             899.0   \n",
       "3 2013-01-06               0       25     2554     1709.05            1709.0   \n",
       "4 2013-01-15               0       25     2555     1099.00            1099.0   \n",
       "\n",
       "   item_price_fraction  day_of_week  Month  Week  item_name_codes  \\\n",
       "0                  0.0            2      1     1            21791   \n",
       "1                  0.0            3      1     1             2495   \n",
       "2                  0.0            5      1     1             2495   \n",
       "3                  5.0            6      1     1             2497   \n",
       "4                  0.0            1      1     3             2498   \n",
       "\n",
       "   item_category_id  shop_name_codes  item_category_name_codes  item_cnt_day  \\\n",
       "0                37               59                        37           1.0   \n",
       "1                58               25                        58           1.0   \n",
       "2                58               25                        58          -1.0   \n",
       "3                58               25                        58           1.0   \n",
       "4                56               25                        56           1.0   \n",
       "\n",
       "   no_of_rows  item_cnt_daymean  item_pricemean  \n",
       "0           1               1.0          999.00  \n",
       "1           2               0.0          899.00  \n",
       "2           2               0.0          899.00  \n",
       "3           1               1.0         1709.05  \n",
       "4          10               1.0         1104.00  "
      ]
     },
     "execution_count": 91,
     "metadata": {},
     "output_type": "execute_result"
    }
   ],
   "source": [
    "Cleaned_Train.head()"
   ]
  },
  {
   "cell_type": "code",
   "execution_count": 65,
   "metadata": {
    "ExecuteTime": {
     "end_time": "2018-06-18T14:19:10.422380Z",
     "start_time": "2018-06-18T14:19:10.418736Z"
    },
    "collapsed": true
   },
   "outputs": [],
   "source": [
    "# Cleaned_Train['Tmp']=Cleaned_Train['shop_name_codes'].apply(lambda x :bin(x))\n",
    "# print(Cleaned_Train.Tmp.map(len).max())"
   ]
  },
  {
   "cell_type": "code",
   "execution_count": 95,
   "metadata": {
    "ExecuteTime": {
     "end_time": "2018-06-18T16:02:10.904499Z",
     "start_time": "2018-06-18T16:02:10.867033Z"
    }
   },
   "outputs": [
    {
     "data": {
      "text/html": [
       "<div>\n",
       "<style>\n",
       "    .dataframe thead tr:only-child th {\n",
       "        text-align: right;\n",
       "    }\n",
       "\n",
       "    .dataframe thead th {\n",
       "        text-align: left;\n",
       "    }\n",
       "\n",
       "    .dataframe tbody tr th {\n",
       "        vertical-align: top;\n",
       "    }\n",
       "</style>\n",
       "<table border=\"1\" class=\"dataframe\">\n",
       "  <thead>\n",
       "    <tr style=\"text-align: right;\">\n",
       "      <th></th>\n",
       "      <th>date_new</th>\n",
       "      <th>date_block_num</th>\n",
       "      <th>shop_id</th>\n",
       "      <th>item_id</th>\n",
       "      <th>item_price</th>\n",
       "      <th>item_price_whole</th>\n",
       "      <th>item_price_fraction</th>\n",
       "      <th>day_of_week</th>\n",
       "      <th>Month</th>\n",
       "      <th>Week</th>\n",
       "      <th>item_name_codes</th>\n",
       "      <th>item_category_id</th>\n",
       "      <th>shop_name_codes</th>\n",
       "      <th>item_category_name_codes</th>\n",
       "      <th>item_cnt_day</th>\n",
       "      <th>no_of_rows</th>\n",
       "      <th>item_cnt_daymean</th>\n",
       "      <th>item_pricemean</th>\n",
       "    </tr>\n",
       "  </thead>\n",
       "  <tbody>\n",
       "    <tr>\n",
       "      <th>0</th>\n",
       "      <td>2013-01-02</td>\n",
       "      <td>0</td>\n",
       "      <td>59</td>\n",
       "      <td>22154</td>\n",
       "      <td>999.00</td>\n",
       "      <td>999.0</td>\n",
       "      <td>0.0</td>\n",
       "      <td>2</td>\n",
       "      <td>1</td>\n",
       "      <td>1</td>\n",
       "      <td>21791</td>\n",
       "      <td>37</td>\n",
       "      <td>59</td>\n",
       "      <td>37</td>\n",
       "      <td>1.0</td>\n",
       "      <td>1</td>\n",
       "      <td>1.0</td>\n",
       "      <td>999.00</td>\n",
       "    </tr>\n",
       "    <tr>\n",
       "      <th>1</th>\n",
       "      <td>2013-01-03</td>\n",
       "      <td>0</td>\n",
       "      <td>25</td>\n",
       "      <td>2552</td>\n",
       "      <td>899.00</td>\n",
       "      <td>899.0</td>\n",
       "      <td>0.0</td>\n",
       "      <td>3</td>\n",
       "      <td>1</td>\n",
       "      <td>1</td>\n",
       "      <td>2495</td>\n",
       "      <td>58</td>\n",
       "      <td>25</td>\n",
       "      <td>58</td>\n",
       "      <td>1.0</td>\n",
       "      <td>2</td>\n",
       "      <td>0.0</td>\n",
       "      <td>899.00</td>\n",
       "    </tr>\n",
       "    <tr>\n",
       "      <th>2</th>\n",
       "      <td>2013-01-05</td>\n",
       "      <td>0</td>\n",
       "      <td>25</td>\n",
       "      <td>2552</td>\n",
       "      <td>899.00</td>\n",
       "      <td>899.0</td>\n",
       "      <td>0.0</td>\n",
       "      <td>5</td>\n",
       "      <td>1</td>\n",
       "      <td>1</td>\n",
       "      <td>2495</td>\n",
       "      <td>58</td>\n",
       "      <td>25</td>\n",
       "      <td>58</td>\n",
       "      <td>-1.0</td>\n",
       "      <td>2</td>\n",
       "      <td>0.0</td>\n",
       "      <td>899.00</td>\n",
       "    </tr>\n",
       "    <tr>\n",
       "      <th>3</th>\n",
       "      <td>2013-01-06</td>\n",
       "      <td>0</td>\n",
       "      <td>25</td>\n",
       "      <td>2554</td>\n",
       "      <td>1709.05</td>\n",
       "      <td>1709.0</td>\n",
       "      <td>5.0</td>\n",
       "      <td>6</td>\n",
       "      <td>1</td>\n",
       "      <td>1</td>\n",
       "      <td>2497</td>\n",
       "      <td>58</td>\n",
       "      <td>25</td>\n",
       "      <td>58</td>\n",
       "      <td>1.0</td>\n",
       "      <td>1</td>\n",
       "      <td>1.0</td>\n",
       "      <td>1709.05</td>\n",
       "    </tr>\n",
       "    <tr>\n",
       "      <th>4</th>\n",
       "      <td>2013-01-15</td>\n",
       "      <td>0</td>\n",
       "      <td>25</td>\n",
       "      <td>2555</td>\n",
       "      <td>1099.00</td>\n",
       "      <td>1099.0</td>\n",
       "      <td>0.0</td>\n",
       "      <td>1</td>\n",
       "      <td>1</td>\n",
       "      <td>3</td>\n",
       "      <td>2498</td>\n",
       "      <td>56</td>\n",
       "      <td>25</td>\n",
       "      <td>56</td>\n",
       "      <td>1.0</td>\n",
       "      <td>10</td>\n",
       "      <td>1.0</td>\n",
       "      <td>1104.00</td>\n",
       "    </tr>\n",
       "  </tbody>\n",
       "</table>\n",
       "</div>"
      ],
      "text/plain": [
       "    date_new  date_block_num  shop_id  item_id  item_price  item_price_whole  \\\n",
       "0 2013-01-02               0       59    22154      999.00             999.0   \n",
       "1 2013-01-03               0       25     2552      899.00             899.0   \n",
       "2 2013-01-05               0       25     2552      899.00             899.0   \n",
       "3 2013-01-06               0       25     2554     1709.05            1709.0   \n",
       "4 2013-01-15               0       25     2555     1099.00            1099.0   \n",
       "\n",
       "   item_price_fraction  day_of_week  Month  Week  item_name_codes  \\\n",
       "0                  0.0            2      1     1            21791   \n",
       "1                  0.0            3      1     1             2495   \n",
       "2                  0.0            5      1     1             2495   \n",
       "3                  5.0            6      1     1             2497   \n",
       "4                  0.0            1      1     3             2498   \n",
       "\n",
       "   item_category_id  shop_name_codes  item_category_name_codes  item_cnt_day  \\\n",
       "0                37               59                        37           1.0   \n",
       "1                58               25                        58           1.0   \n",
       "2                58               25                        58          -1.0   \n",
       "3                58               25                        58           1.0   \n",
       "4                56               25                        56           1.0   \n",
       "\n",
       "   no_of_rows  item_cnt_daymean  item_pricemean  \n",
       "0           1               1.0          999.00  \n",
       "1           2               0.0          899.00  \n",
       "2           2               0.0          899.00  \n",
       "3           1               1.0         1709.05  \n",
       "4          10               1.0         1104.00  "
      ]
     },
     "execution_count": 95,
     "metadata": {},
     "output_type": "execute_result"
    }
   ],
   "source": [
    "Cleaned_Train.head()"
   ]
  },
  {
   "cell_type": "code",
   "execution_count": 92,
   "metadata": {
    "ExecuteTime": {
     "end_time": "2018-06-18T16:01:06.254822Z",
     "start_time": "2018-06-18T16:01:01.206238Z"
    }
   },
   "outputs": [
    {
     "data": {
      "text/html": [
       "<div>\n",
       "<style>\n",
       "    .dataframe thead tr:only-child th {\n",
       "        text-align: right;\n",
       "    }\n",
       "\n",
       "    .dataframe thead th {\n",
       "        text-align: left;\n",
       "    }\n",
       "\n",
       "    .dataframe tbody tr th {\n",
       "        vertical-align: top;\n",
       "    }\n",
       "</style>\n",
       "<table border=\"1\" class=\"dataframe\">\n",
       "  <thead>\n",
       "    <tr style=\"text-align: right;\">\n",
       "      <th></th>\n",
       "      <th>date_block_num</th>\n",
       "      <th>shop_id</th>\n",
       "      <th>item_id</th>\n",
       "      <th>item_price</th>\n",
       "      <th>item_price_whole</th>\n",
       "      <th>item_price_fraction</th>\n",
       "      <th>day_of_week</th>\n",
       "      <th>Month</th>\n",
       "      <th>Week</th>\n",
       "      <th>item_name_codes</th>\n",
       "      <th>item_category_id</th>\n",
       "      <th>shop_name_codes</th>\n",
       "      <th>item_category_name_codes</th>\n",
       "      <th>item_cnt_day</th>\n",
       "      <th>no_of_rows</th>\n",
       "      <th>item_cnt_daymean</th>\n",
       "      <th>item_pricemean</th>\n",
       "    </tr>\n",
       "  </thead>\n",
       "  <tbody>\n",
       "    <tr>\n",
       "      <th>count</th>\n",
       "      <td>2.935843e+06</td>\n",
       "      <td>2.935843e+06</td>\n",
       "      <td>2.935843e+06</td>\n",
       "      <td>2.935843e+06</td>\n",
       "      <td>2.935843e+06</td>\n",
       "      <td>2.935843e+06</td>\n",
       "      <td>2.935843e+06</td>\n",
       "      <td>2.935843e+06</td>\n",
       "      <td>2.935843e+06</td>\n",
       "      <td>2.935843e+06</td>\n",
       "      <td>2.935843e+06</td>\n",
       "      <td>2.935843e+06</td>\n",
       "      <td>2.935843e+06</td>\n",
       "      <td>2.935843e+06</td>\n",
       "      <td>2.935843e+06</td>\n",
       "      <td>2.935843e+06</td>\n",
       "      <td>2.935843e+06</td>\n",
       "    </tr>\n",
       "    <tr>\n",
       "      <th>mean</th>\n",
       "      <td>1.456991e+01</td>\n",
       "      <td>3.300171e+01</td>\n",
       "      <td>1.019723e+04</td>\n",
       "      <td>8.908535e+02</td>\n",
       "      <td>8.908228e+02</td>\n",
       "      <td>3.064652e+00</td>\n",
       "      <td>3.365684e+00</td>\n",
       "      <td>6.247719e+00</td>\n",
       "      <td>2.485820e+01</td>\n",
       "      <td>1.001591e+04</td>\n",
       "      <td>4.000141e+01</td>\n",
       "      <td>3.300171e+01</td>\n",
       "      <td>4.000141e+01</td>\n",
       "      <td>1.242641e+00</td>\n",
       "      <td>4.250484e+01</td>\n",
       "      <td>1.242641e+00</td>\n",
       "      <td>8.908535e+02</td>\n",
       "    </tr>\n",
       "    <tr>\n",
       "      <th>std</th>\n",
       "      <td>9.422992e+00</td>\n",
       "      <td>1.622698e+01</td>\n",
       "      <td>6.324293e+03</td>\n",
       "      <td>1.729801e+03</td>\n",
       "      <td>1.729803e+03</td>\n",
       "      <td>1.296125e+01</td>\n",
       "      <td>1.996795e+00</td>\n",
       "      <td>3.536219e+00</td>\n",
       "      <td>1.543837e+01</td>\n",
       "      <td>6.222942e+03</td>\n",
       "      <td>1.710076e+01</td>\n",
       "      <td>1.622698e+01</td>\n",
       "      <td>1.710076e+01</td>\n",
       "      <td>2.618837e+00</td>\n",
       "      <td>8.754661e+01</td>\n",
       "      <td>1.193642e+00</td>\n",
       "      <td>1.709852e+03</td>\n",
       "    </tr>\n",
       "    <tr>\n",
       "      <th>min</th>\n",
       "      <td>0.000000e+00</td>\n",
       "      <td>0.000000e+00</td>\n",
       "      <td>0.000000e+00</td>\n",
       "      <td>-1.000000e+00</td>\n",
       "      <td>-1.000000e+00</td>\n",
       "      <td>0.000000e+00</td>\n",
       "      <td>0.000000e+00</td>\n",
       "      <td>1.000000e+00</td>\n",
       "      <td>1.000000e+00</td>\n",
       "      <td>0.000000e+00</td>\n",
       "      <td>0.000000e+00</td>\n",
       "      <td>0.000000e+00</td>\n",
       "      <td>0.000000e+00</td>\n",
       "      <td>-2.200000e+01</td>\n",
       "      <td>1.000000e+00</td>\n",
       "      <td>-1.750000e+00</td>\n",
       "      <td>9.000000e-02</td>\n",
       "    </tr>\n",
       "    <tr>\n",
       "      <th>25%</th>\n",
       "      <td>7.000000e+00</td>\n",
       "      <td>2.200000e+01</td>\n",
       "      <td>4.476000e+03</td>\n",
       "      <td>2.490000e+02</td>\n",
       "      <td>2.490000e+02</td>\n",
       "      <td>0.000000e+00</td>\n",
       "      <td>2.000000e+00</td>\n",
       "      <td>3.000000e+00</td>\n",
       "      <td>1.100000e+01</td>\n",
       "      <td>4.389000e+03</td>\n",
       "      <td>2.800000e+01</td>\n",
       "      <td>2.200000e+01</td>\n",
       "      <td>2.800000e+01</td>\n",
       "      <td>1.000000e+00</td>\n",
       "      <td>6.000000e+00</td>\n",
       "      <td>1.000000e+00</td>\n",
       "      <td>2.553779e+02</td>\n",
       "    </tr>\n",
       "    <tr>\n",
       "      <th>50%</th>\n",
       "      <td>1.400000e+01</td>\n",
       "      <td>3.100000e+01</td>\n",
       "      <td>9.343000e+03</td>\n",
       "      <td>3.990000e+02</td>\n",
       "      <td>3.990000e+02</td>\n",
       "      <td>0.000000e+00</td>\n",
       "      <td>4.000000e+00</td>\n",
       "      <td>6.000000e+00</td>\n",
       "      <td>2.400000e+01</td>\n",
       "      <td>9.158000e+03</td>\n",
       "      <td>4.000000e+01</td>\n",
       "      <td>3.100000e+01</td>\n",
       "      <td>4.000000e+01</td>\n",
       "      <td>1.000000e+00</td>\n",
       "      <td>1.600000e+01</td>\n",
       "      <td>1.037037e+00</td>\n",
       "      <td>4.143125e+02</td>\n",
       "    </tr>\n",
       "    <tr>\n",
       "      <th>75%</th>\n",
       "      <td>2.300000e+01</td>\n",
       "      <td>4.700000e+01</td>\n",
       "      <td>1.568400e+04</td>\n",
       "      <td>9.990000e+02</td>\n",
       "      <td>9.990000e+02</td>\n",
       "      <td>0.000000e+00</td>\n",
       "      <td>5.000000e+00</td>\n",
       "      <td>9.000000e+00</td>\n",
       "      <td>3.800000e+01</td>\n",
       "      <td>1.540200e+04</td>\n",
       "      <td>5.500000e+01</td>\n",
       "      <td>4.700000e+01</td>\n",
       "      <td>5.500000e+01</td>\n",
       "      <td>1.000000e+00</td>\n",
       "      <td>4.200000e+01</td>\n",
       "      <td>1.200000e+00</td>\n",
       "      <td>9.896805e+02</td>\n",
       "    </tr>\n",
       "    <tr>\n",
       "      <th>max</th>\n",
       "      <td>3.300000e+01</td>\n",
       "      <td>5.900000e+01</td>\n",
       "      <td>2.216900e+04</td>\n",
       "      <td>3.079800e+05</td>\n",
       "      <td>3.079800e+05</td>\n",
       "      <td>9.975000e+01</td>\n",
       "      <td>6.000000e+00</td>\n",
       "      <td>1.200000e+01</td>\n",
       "      <td>5.200000e+01</td>\n",
       "      <td>2.180600e+04</td>\n",
       "      <td>8.300000e+01</td>\n",
       "      <td>5.900000e+01</td>\n",
       "      <td>8.300000e+01</td>\n",
       "      <td>2.169000e+03</td>\n",
       "      <td>8.670000e+02</td>\n",
       "      <td>6.666667e+02</td>\n",
       "      <td>3.079800e+05</td>\n",
       "    </tr>\n",
       "  </tbody>\n",
       "</table>\n",
       "</div>"
      ],
      "text/plain": [
       "       date_block_num       shop_id       item_id    item_price  \\\n",
       "count    2.935843e+06  2.935843e+06  2.935843e+06  2.935843e+06   \n",
       "mean     1.456991e+01  3.300171e+01  1.019723e+04  8.908535e+02   \n",
       "std      9.422992e+00  1.622698e+01  6.324293e+03  1.729801e+03   \n",
       "min      0.000000e+00  0.000000e+00  0.000000e+00 -1.000000e+00   \n",
       "25%      7.000000e+00  2.200000e+01  4.476000e+03  2.490000e+02   \n",
       "50%      1.400000e+01  3.100000e+01  9.343000e+03  3.990000e+02   \n",
       "75%      2.300000e+01  4.700000e+01  1.568400e+04  9.990000e+02   \n",
       "max      3.300000e+01  5.900000e+01  2.216900e+04  3.079800e+05   \n",
       "\n",
       "       item_price_whole  item_price_fraction   day_of_week         Month  \\\n",
       "count      2.935843e+06         2.935843e+06  2.935843e+06  2.935843e+06   \n",
       "mean       8.908228e+02         3.064652e+00  3.365684e+00  6.247719e+00   \n",
       "std        1.729803e+03         1.296125e+01  1.996795e+00  3.536219e+00   \n",
       "min       -1.000000e+00         0.000000e+00  0.000000e+00  1.000000e+00   \n",
       "25%        2.490000e+02         0.000000e+00  2.000000e+00  3.000000e+00   \n",
       "50%        3.990000e+02         0.000000e+00  4.000000e+00  6.000000e+00   \n",
       "75%        9.990000e+02         0.000000e+00  5.000000e+00  9.000000e+00   \n",
       "max        3.079800e+05         9.975000e+01  6.000000e+00  1.200000e+01   \n",
       "\n",
       "               Week  item_name_codes  item_category_id  shop_name_codes  \\\n",
       "count  2.935843e+06     2.935843e+06      2.935843e+06     2.935843e+06   \n",
       "mean   2.485820e+01     1.001591e+04      4.000141e+01     3.300171e+01   \n",
       "std    1.543837e+01     6.222942e+03      1.710076e+01     1.622698e+01   \n",
       "min    1.000000e+00     0.000000e+00      0.000000e+00     0.000000e+00   \n",
       "25%    1.100000e+01     4.389000e+03      2.800000e+01     2.200000e+01   \n",
       "50%    2.400000e+01     9.158000e+03      4.000000e+01     3.100000e+01   \n",
       "75%    3.800000e+01     1.540200e+04      5.500000e+01     4.700000e+01   \n",
       "max    5.200000e+01     2.180600e+04      8.300000e+01     5.900000e+01   \n",
       "\n",
       "       item_category_name_codes  item_cnt_day    no_of_rows  item_cnt_daymean  \\\n",
       "count              2.935843e+06  2.935843e+06  2.935843e+06      2.935843e+06   \n",
       "mean               4.000141e+01  1.242641e+00  4.250484e+01      1.242641e+00   \n",
       "std                1.710076e+01  2.618837e+00  8.754661e+01      1.193642e+00   \n",
       "min                0.000000e+00 -2.200000e+01  1.000000e+00     -1.750000e+00   \n",
       "25%                2.800000e+01  1.000000e+00  6.000000e+00      1.000000e+00   \n",
       "50%                4.000000e+01  1.000000e+00  1.600000e+01      1.037037e+00   \n",
       "75%                5.500000e+01  1.000000e+00  4.200000e+01      1.200000e+00   \n",
       "max                8.300000e+01  2.169000e+03  8.670000e+02      6.666667e+02   \n",
       "\n",
       "       item_pricemean  \n",
       "count    2.935843e+06  \n",
       "mean     8.908535e+02  \n",
       "std      1.709852e+03  \n",
       "min      9.000000e-02  \n",
       "25%      2.553779e+02  \n",
       "50%      4.143125e+02  \n",
       "75%      9.896805e+02  \n",
       "max      3.079800e+05  "
      ]
     },
     "execution_count": 92,
     "metadata": {},
     "output_type": "execute_result"
    }
   ],
   "source": [
    "Cleaned_Train.describe()"
   ]
  },
  {
   "cell_type": "code",
   "execution_count": 93,
   "metadata": {
    "ExecuteTime": {
     "end_time": "2018-06-18T16:01:28.607181Z",
     "start_time": "2018-06-18T16:01:28.603558Z"
    },
    "collapsed": true
   },
   "outputs": [],
   "source": [
    "# Cleaned_Train['New_ID'] = Cleaned_Train['item_id'].apply(lambda x :str(x)[0:1])"
   ]
  },
  {
   "cell_type": "code",
   "execution_count": 94,
   "metadata": {
    "ExecuteTime": {
     "end_time": "2018-06-18T16:01:29.507737Z",
     "start_time": "2018-06-18T16:01:29.216416Z"
    }
   },
   "outputs": [
    {
     "data": {
      "text/plain": [
       "False"
      ]
     },
     "execution_count": 94,
     "metadata": {},
     "output_type": "execute_result"
    }
   ],
   "source": [
    "Cleaned_Train.isnull().values.any()"
   ]
  },
  {
   "cell_type": "code",
   "execution_count": null,
   "metadata": {
    "collapsed": true
   },
   "outputs": [],
   "source": []
  },
  {
   "cell_type": "code",
   "execution_count": 69,
   "metadata": {
    "ExecuteTime": {
     "end_time": "2018-06-18T14:19:43.085767Z",
     "start_time": "2018-06-18T14:19:42.836246Z"
    },
    "collapsed": true
   },
   "outputs": [],
   "source": [
    "y= Cleaned_Train['item_cnt_day']\n",
    "X = Cleaned_Train.drop(['item_cnt_day'],axis=1)"
   ]
  },
  {
   "cell_type": "code",
   "execution_count": 70,
   "metadata": {
    "ExecuteTime": {
     "end_time": "2018-06-18T14:19:44.151090Z",
     "start_time": "2018-06-18T14:19:44.142227Z"
    }
   },
   "outputs": [
    {
     "data": {
      "text/plain": [
       "Index(['date_block_num', 'shop_id', 'item_id', 'item_price',\n",
       "       'item_price_whole', 'item_price_fraction', 'day_of_week', 'Month',\n",
       "       'Week', 'item_name_codes', 'item_category_id', 'shop_name_codes',\n",
       "       'item_category_name_codes', 'no_of_rows', 'item_cnt_daymean',\n",
       "       'item_pricemean'],\n",
       "      dtype='object')"
      ]
     },
     "execution_count": 70,
     "metadata": {},
     "output_type": "execute_result"
    }
   ],
   "source": [
    "X.columns"
   ]
  },
  {
   "cell_type": "code",
   "execution_count": 71,
   "metadata": {
    "ExecuteTime": {
     "end_time": "2018-06-18T14:19:47.871795Z",
     "start_time": "2018-06-18T14:19:47.838771Z"
    }
   },
   "outputs": [
    {
     "data": {
      "text/html": [
       "<div>\n",
       "<style>\n",
       "    .dataframe thead tr:only-child th {\n",
       "        text-align: right;\n",
       "    }\n",
       "\n",
       "    .dataframe thead th {\n",
       "        text-align: left;\n",
       "    }\n",
       "\n",
       "    .dataframe tbody tr th {\n",
       "        vertical-align: top;\n",
       "    }\n",
       "</style>\n",
       "<table border=\"1\" class=\"dataframe\">\n",
       "  <thead>\n",
       "    <tr style=\"text-align: right;\">\n",
       "      <th></th>\n",
       "      <th>date_block_num</th>\n",
       "      <th>shop_id</th>\n",
       "      <th>item_id</th>\n",
       "      <th>item_price</th>\n",
       "      <th>item_price_whole</th>\n",
       "      <th>item_price_fraction</th>\n",
       "      <th>day_of_week</th>\n",
       "      <th>Month</th>\n",
       "      <th>Week</th>\n",
       "      <th>item_name_codes</th>\n",
       "      <th>item_category_id</th>\n",
       "      <th>shop_name_codes</th>\n",
       "      <th>item_category_name_codes</th>\n",
       "      <th>no_of_rows</th>\n",
       "      <th>item_cnt_daymean</th>\n",
       "      <th>item_pricemean</th>\n",
       "    </tr>\n",
       "  </thead>\n",
       "  <tbody>\n",
       "    <tr>\n",
       "      <th>0</th>\n",
       "      <td>0</td>\n",
       "      <td>59</td>\n",
       "      <td>22154</td>\n",
       "      <td>999.00</td>\n",
       "      <td>999.0</td>\n",
       "      <td>0.0</td>\n",
       "      <td>2</td>\n",
       "      <td>1</td>\n",
       "      <td>1</td>\n",
       "      <td>21791</td>\n",
       "      <td>37</td>\n",
       "      <td>59</td>\n",
       "      <td>37</td>\n",
       "      <td>1</td>\n",
       "      <td>1.0</td>\n",
       "      <td>999.00</td>\n",
       "    </tr>\n",
       "    <tr>\n",
       "      <th>1</th>\n",
       "      <td>0</td>\n",
       "      <td>25</td>\n",
       "      <td>2552</td>\n",
       "      <td>899.00</td>\n",
       "      <td>899.0</td>\n",
       "      <td>0.0</td>\n",
       "      <td>3</td>\n",
       "      <td>1</td>\n",
       "      <td>1</td>\n",
       "      <td>2495</td>\n",
       "      <td>58</td>\n",
       "      <td>25</td>\n",
       "      <td>58</td>\n",
       "      <td>2</td>\n",
       "      <td>0.0</td>\n",
       "      <td>899.00</td>\n",
       "    </tr>\n",
       "    <tr>\n",
       "      <th>2</th>\n",
       "      <td>0</td>\n",
       "      <td>25</td>\n",
       "      <td>2552</td>\n",
       "      <td>899.00</td>\n",
       "      <td>899.0</td>\n",
       "      <td>0.0</td>\n",
       "      <td>5</td>\n",
       "      <td>1</td>\n",
       "      <td>1</td>\n",
       "      <td>2495</td>\n",
       "      <td>58</td>\n",
       "      <td>25</td>\n",
       "      <td>58</td>\n",
       "      <td>2</td>\n",
       "      <td>0.0</td>\n",
       "      <td>899.00</td>\n",
       "    </tr>\n",
       "    <tr>\n",
       "      <th>3</th>\n",
       "      <td>0</td>\n",
       "      <td>25</td>\n",
       "      <td>2554</td>\n",
       "      <td>1709.05</td>\n",
       "      <td>1709.0</td>\n",
       "      <td>5.0</td>\n",
       "      <td>6</td>\n",
       "      <td>1</td>\n",
       "      <td>1</td>\n",
       "      <td>2497</td>\n",
       "      <td>58</td>\n",
       "      <td>25</td>\n",
       "      <td>58</td>\n",
       "      <td>1</td>\n",
       "      <td>1.0</td>\n",
       "      <td>1709.05</td>\n",
       "    </tr>\n",
       "    <tr>\n",
       "      <th>4</th>\n",
       "      <td>0</td>\n",
       "      <td>25</td>\n",
       "      <td>2555</td>\n",
       "      <td>1099.00</td>\n",
       "      <td>1099.0</td>\n",
       "      <td>0.0</td>\n",
       "      <td>1</td>\n",
       "      <td>1</td>\n",
       "      <td>3</td>\n",
       "      <td>2498</td>\n",
       "      <td>56</td>\n",
       "      <td>25</td>\n",
       "      <td>56</td>\n",
       "      <td>10</td>\n",
       "      <td>1.0</td>\n",
       "      <td>1104.00</td>\n",
       "    </tr>\n",
       "  </tbody>\n",
       "</table>\n",
       "</div>"
      ],
      "text/plain": [
       "   date_block_num  shop_id  item_id  item_price  item_price_whole  \\\n",
       "0               0       59    22154      999.00             999.0   \n",
       "1               0       25     2552      899.00             899.0   \n",
       "2               0       25     2552      899.00             899.0   \n",
       "3               0       25     2554     1709.05            1709.0   \n",
       "4               0       25     2555     1099.00            1099.0   \n",
       "\n",
       "   item_price_fraction  day_of_week  Month  Week  item_name_codes  \\\n",
       "0                  0.0            2      1     1            21791   \n",
       "1                  0.0            3      1     1             2495   \n",
       "2                  0.0            5      1     1             2495   \n",
       "3                  5.0            6      1     1             2497   \n",
       "4                  0.0            1      1     3             2498   \n",
       "\n",
       "   item_category_id  shop_name_codes  item_category_name_codes  no_of_rows  \\\n",
       "0                37               59                        37           1   \n",
       "1                58               25                        58           2   \n",
       "2                58               25                        58           2   \n",
       "3                58               25                        58           1   \n",
       "4                56               25                        56          10   \n",
       "\n",
       "   item_cnt_daymean  item_pricemean  \n",
       "0               1.0          999.00  \n",
       "1               0.0          899.00  \n",
       "2               0.0          899.00  \n",
       "3               1.0         1709.05  \n",
       "4               1.0         1104.00  "
      ]
     },
     "execution_count": 71,
     "metadata": {},
     "output_type": "execute_result"
    }
   ],
   "source": [
    "X.head()"
   ]
  },
  {
   "cell_type": "code",
   "execution_count": 72,
   "metadata": {
    "ExecuteTime": {
     "end_time": "2018-06-18T14:20:06.170175Z",
     "start_time": "2018-06-18T14:20:05.795707Z"
    },
    "collapsed": true
   },
   "outputs": [],
   "source": [
    "from sklearn.ensemble import RandomForestRegressor\n",
    "from sklearn.model_selection import train_test_split\n",
    "X_train, X_valid, y_train, y_valid = train_test_split(X, y, test_size=0.2)"
   ]
  },
  {
   "cell_type": "code",
   "execution_count": 73,
   "metadata": {
    "ExecuteTime": {
     "end_time": "2018-06-18T14:20:08.477369Z",
     "start_time": "2018-06-18T14:20:07.012041Z"
    },
    "collapsed": true
   },
   "outputs": [],
   "source": []
  },
  {
   "cell_type": "code",
   "execution_count": 74,
   "metadata": {
    "ExecuteTime": {
     "end_time": "2018-06-18T14:20:08.513849Z",
     "start_time": "2018-06-18T14:20:08.480070Z"
    },
    "collapsed": true
   },
   "outputs": [],
   "source": [
    "from sklearn.ensemble import RandomForestRegressor"
   ]
  },
  {
   "cell_type": "code",
   "execution_count": 75,
   "metadata": {
    "ExecuteTime": {
     "end_time": "2018-06-18T14:20:09.387985Z",
     "start_time": "2018-06-18T14:20:09.382345Z"
    },
    "collapsed": true
   },
   "outputs": [],
   "source": [
    "# regr = RandomForestRegressor(max_depth=2, random_state=121)\n",
    "\n",
    "regr = RandomForestRegressor(n_estimators=40, min_samples_leaf=3, max_features=0.5, n_jobs=-1, oob_score=True)\n"
   ]
  },
  {
   "cell_type": "code",
   "execution_count": 76,
   "metadata": {
    "ExecuteTime": {
     "end_time": "2018-06-18T14:21:39.659798Z",
     "start_time": "2018-06-18T14:20:11.518355Z"
    }
   },
   "outputs": [
    {
     "data": {
      "text/plain": [
       "RandomForestRegressor(bootstrap=True, criterion='mse', max_depth=None,\n",
       "           max_features=0.5, max_leaf_nodes=None,\n",
       "           min_impurity_decrease=0.0, min_impurity_split=None,\n",
       "           min_samples_leaf=3, min_samples_split=2,\n",
       "           min_weight_fraction_leaf=0.0, n_estimators=40, n_jobs=-1,\n",
       "           oob_score=True, random_state=None, verbose=0, warm_start=False)"
      ]
     },
     "execution_count": 76,
     "metadata": {},
     "output_type": "execute_result"
    }
   ],
   "source": [
    "regr.fit(X_train,y_train)"
   ]
  },
  {
   "cell_type": "code",
   "execution_count": 77,
   "metadata": {
    "ExecuteTime": {
     "end_time": "2018-06-18T14:22:01.845834Z",
     "start_time": "2018-06-18T14:21:58.666317Z"
    },
    "collapsed": true
   },
   "outputs": [],
   "source": [
    "predictions = regr.predict(X_train)"
   ]
  },
  {
   "cell_type": "code",
   "execution_count": 78,
   "metadata": {
    "ExecuteTime": {
     "end_time": "2018-06-18T14:22:01.882003Z",
     "start_time": "2018-06-18T14:22:01.848251Z"
    },
    "collapsed": true
   },
   "outputs": [],
   "source": [
    "Compare = pd.DataFrame(np.column_stack((y_train.values,predictions)))\n"
   ]
  },
  {
   "cell_type": "code",
   "execution_count": 79,
   "metadata": {
    "ExecuteTime": {
     "end_time": "2018-06-18T14:22:01.888093Z",
     "start_time": "2018-06-18T14:22:01.884805Z"
    },
    "collapsed": true
   },
   "outputs": [],
   "source": [
    "Compare.columns =['Actual','Predict']"
   ]
  },
  {
   "cell_type": "code",
   "execution_count": 80,
   "metadata": {
    "ExecuteTime": {
     "end_time": "2018-06-18T14:22:01.900797Z",
     "start_time": "2018-06-18T14:22:01.890225Z"
    }
   },
   "outputs": [
    {
     "data": {
      "text/html": [
       "<div>\n",
       "<style>\n",
       "    .dataframe thead tr:only-child th {\n",
       "        text-align: right;\n",
       "    }\n",
       "\n",
       "    .dataframe thead th {\n",
       "        text-align: left;\n",
       "    }\n",
       "\n",
       "    .dataframe tbody tr th {\n",
       "        vertical-align: top;\n",
       "    }\n",
       "</style>\n",
       "<table border=\"1\" class=\"dataframe\">\n",
       "  <thead>\n",
       "    <tr style=\"text-align: right;\">\n",
       "      <th></th>\n",
       "      <th>Actual</th>\n",
       "      <th>Predict</th>\n",
       "    </tr>\n",
       "  </thead>\n",
       "  <tbody>\n",
       "    <tr>\n",
       "      <th>0</th>\n",
       "      <td>1.0</td>\n",
       "      <td>1.000000</td>\n",
       "    </tr>\n",
       "    <tr>\n",
       "      <th>1</th>\n",
       "      <td>4.0</td>\n",
       "      <td>3.815625</td>\n",
       "    </tr>\n",
       "    <tr>\n",
       "      <th>2</th>\n",
       "      <td>1.0</td>\n",
       "      <td>0.961905</td>\n",
       "    </tr>\n",
       "    <tr>\n",
       "      <th>3</th>\n",
       "      <td>1.0</td>\n",
       "      <td>1.075794</td>\n",
       "    </tr>\n",
       "    <tr>\n",
       "      <th>4</th>\n",
       "      <td>1.0</td>\n",
       "      <td>1.000000</td>\n",
       "    </tr>\n",
       "  </tbody>\n",
       "</table>\n",
       "</div>"
      ],
      "text/plain": [
       "   Actual   Predict\n",
       "0     1.0  1.000000\n",
       "1     4.0  3.815625\n",
       "2     1.0  0.961905\n",
       "3     1.0  1.075794\n",
       "4     1.0  1.000000"
      ]
     },
     "execution_count": 80,
     "metadata": {},
     "output_type": "execute_result"
    }
   ],
   "source": [
    "Compare.head()"
   ]
  },
  {
   "cell_type": "code",
   "execution_count": 81,
   "metadata": {
    "ExecuteTime": {
     "end_time": "2018-06-18T14:22:07.225020Z",
     "start_time": "2018-06-18T14:22:07.221604Z"
    },
    "collapsed": true
   },
   "outputs": [],
   "source": [
    "from sklearn.metrics import mean_squared_error"
   ]
  },
  {
   "cell_type": "code",
   "execution_count": 82,
   "metadata": {
    "ExecuteTime": {
     "end_time": "2018-06-18T14:22:08.282288Z",
     "start_time": "2018-06-18T14:22:08.254499Z"
    }
   },
   "outputs": [
    {
     "data": {
      "text/plain": [
       "1.3048781415138391"
      ]
     },
     "execution_count": 82,
     "metadata": {},
     "output_type": "execute_result"
    }
   ],
   "source": [
    "np.sqrt(mean_squared_error(y_train.values, predictions))"
   ]
  },
  {
   "cell_type": "code",
   "execution_count": 83,
   "metadata": {
    "ExecuteTime": {
     "end_time": "2018-06-18T14:22:11.655426Z",
     "start_time": "2018-06-18T14:22:11.626325Z"
    },
    "collapsed": true
   },
   "outputs": [],
   "source": [
    "def rmse(x,y): return math.sqrt(((x-y)**2).mean())\n",
    "def mae(x,y): return (abs(x-y)).mean()\n",
    "\n",
    "def print_score_rmse(m):\n",
    "    res = [rmse(m.predict(X_train), y_train), rmse(m.predict(X_valid), y_valid),\n",
    "                m.score(X_train, y_train), m.score(X_valid, y_valid)]\n",
    "    if hasattr(m, 'oob_score_'): res.append(m.oob_score_)\n",
    "    print(res)\n",
    "    \n",
    "    \n",
    "def print_score_mae(m):\n",
    "    res = [mae(m.predict(X_train), y_train), mae(m.predict(X_valid), y_valid),\n",
    "                m.score(X_train, y_train), m.score(X_valid, y_valid)]\n",
    "    if hasattr(m, 'oob_score_'): res.append(m.oob_score_)\n",
    "    print(res)"
   ]
  },
  {
   "cell_type": "code",
   "execution_count": 84,
   "metadata": {
    "ExecuteTime": {
     "end_time": "2018-06-18T14:22:22.047766Z",
     "start_time": "2018-06-18T14:22:13.201611Z"
    }
   },
   "outputs": [
    {
     "name": "stdout",
     "output_type": "stream",
     "text": [
      "[1.306144444395462, 3.0697683085913483, 0.67784392422501805, 0.28326548204007962, 0.39226674449247689]\n"
     ]
    }
   ],
   "source": [
    "print_score_rmse(regr)"
   ]
  },
  {
   "cell_type": "code",
   "execution_count": 85,
   "metadata": {
    "ExecuteTime": {
     "end_time": "2018-06-18T14:23:08.098832Z",
     "start_time": "2018-06-18T14:23:07.972378Z"
    }
   },
   "outputs": [
    {
     "data": {
      "text/plain": [
       "array([ 0.05885319,  0.01604829,  0.01619247,  0.09798267,  0.05490913,\n",
       "        0.07395362,  0.07637116,  0.03308124,  0.11771762,  0.02098273,\n",
       "        0.01187258,  0.01810737,  0.01211217,  0.07650834,  0.26800116,\n",
       "        0.04730628])"
      ]
     },
     "execution_count": 85,
     "metadata": {},
     "output_type": "execute_result"
    }
   ],
   "source": [
    "regr.feature_importances_"
   ]
  },
  {
   "cell_type": "code",
   "execution_count": 86,
   "metadata": {
    "ExecuteTime": {
     "end_time": "2018-06-18T14:23:09.389653Z",
     "start_time": "2018-06-18T14:23:09.384219Z"
    },
    "collapsed": true
   },
   "outputs": [],
   "source": [
    "def rf_feat_importance(m, df):\n",
    "    return pd.DataFrame({'cols':df.columns, 'imp':m.feature_importances_}\n",
    "                       ).sort_values('imp', ascending=False)\n"
   ]
  },
  {
   "cell_type": "code",
   "execution_count": 87,
   "metadata": {
    "ExecuteTime": {
     "end_time": "2018-06-18T14:23:10.816032Z",
     "start_time": "2018-06-18T14:23:10.679502Z"
    }
   },
   "outputs": [
    {
     "data": {
      "text/html": [
       "<div>\n",
       "<style>\n",
       "    .dataframe thead tr:only-child th {\n",
       "        text-align: right;\n",
       "    }\n",
       "\n",
       "    .dataframe thead th {\n",
       "        text-align: left;\n",
       "    }\n",
       "\n",
       "    .dataframe tbody tr th {\n",
       "        vertical-align: top;\n",
       "    }\n",
       "</style>\n",
       "<table border=\"1\" class=\"dataframe\">\n",
       "  <thead>\n",
       "    <tr style=\"text-align: right;\">\n",
       "      <th></th>\n",
       "      <th>cols</th>\n",
       "      <th>imp</th>\n",
       "    </tr>\n",
       "  </thead>\n",
       "  <tbody>\n",
       "    <tr>\n",
       "      <th>14</th>\n",
       "      <td>item_cnt_daymean</td>\n",
       "      <td>0.268001</td>\n",
       "    </tr>\n",
       "    <tr>\n",
       "      <th>8</th>\n",
       "      <td>Week</td>\n",
       "      <td>0.117718</td>\n",
       "    </tr>\n",
       "    <tr>\n",
       "      <th>3</th>\n",
       "      <td>item_price</td>\n",
       "      <td>0.097983</td>\n",
       "    </tr>\n",
       "    <tr>\n",
       "      <th>13</th>\n",
       "      <td>no_of_rows</td>\n",
       "      <td>0.076508</td>\n",
       "    </tr>\n",
       "    <tr>\n",
       "      <th>6</th>\n",
       "      <td>day_of_week</td>\n",
       "      <td>0.076371</td>\n",
       "    </tr>\n",
       "    <tr>\n",
       "      <th>5</th>\n",
       "      <td>item_price_fraction</td>\n",
       "      <td>0.073954</td>\n",
       "    </tr>\n",
       "    <tr>\n",
       "      <th>0</th>\n",
       "      <td>date_block_num</td>\n",
       "      <td>0.058853</td>\n",
       "    </tr>\n",
       "    <tr>\n",
       "      <th>4</th>\n",
       "      <td>item_price_whole</td>\n",
       "      <td>0.054909</td>\n",
       "    </tr>\n",
       "    <tr>\n",
       "      <th>15</th>\n",
       "      <td>item_pricemean</td>\n",
       "      <td>0.047306</td>\n",
       "    </tr>\n",
       "    <tr>\n",
       "      <th>7</th>\n",
       "      <td>Month</td>\n",
       "      <td>0.033081</td>\n",
       "    </tr>\n",
       "    <tr>\n",
       "      <th>9</th>\n",
       "      <td>item_name_codes</td>\n",
       "      <td>0.020983</td>\n",
       "    </tr>\n",
       "    <tr>\n",
       "      <th>11</th>\n",
       "      <td>shop_name_codes</td>\n",
       "      <td>0.018107</td>\n",
       "    </tr>\n",
       "    <tr>\n",
       "      <th>2</th>\n",
       "      <td>item_id</td>\n",
       "      <td>0.016192</td>\n",
       "    </tr>\n",
       "    <tr>\n",
       "      <th>1</th>\n",
       "      <td>shop_id</td>\n",
       "      <td>0.016048</td>\n",
       "    </tr>\n",
       "    <tr>\n",
       "      <th>12</th>\n",
       "      <td>item_category_name_codes</td>\n",
       "      <td>0.012112</td>\n",
       "    </tr>\n",
       "    <tr>\n",
       "      <th>10</th>\n",
       "      <td>item_category_id</td>\n",
       "      <td>0.011873</td>\n",
       "    </tr>\n",
       "  </tbody>\n",
       "</table>\n",
       "</div>"
      ],
      "text/plain": [
       "                        cols       imp\n",
       "14          item_cnt_daymean  0.268001\n",
       "8                       Week  0.117718\n",
       "3                 item_price  0.097983\n",
       "13                no_of_rows  0.076508\n",
       "6                day_of_week  0.076371\n",
       "5        item_price_fraction  0.073954\n",
       "0             date_block_num  0.058853\n",
       "4           item_price_whole  0.054909\n",
       "15            item_pricemean  0.047306\n",
       "7                      Month  0.033081\n",
       "9            item_name_codes  0.020983\n",
       "11           shop_name_codes  0.018107\n",
       "2                    item_id  0.016192\n",
       "1                    shop_id  0.016048\n",
       "12  item_category_name_codes  0.012112\n",
       "10          item_category_id  0.011873"
      ]
     },
     "execution_count": 87,
     "metadata": {},
     "output_type": "execute_result"
    }
   ],
   "source": [
    "fi = rf_feat_importance(regr, X_train); fi[:20]"
   ]
  },
  {
   "cell_type": "code",
   "execution_count": null,
   "metadata": {
    "collapsed": true
   },
   "outputs": [],
   "source": []
  },
  {
   "cell_type": "code",
   "execution_count": null,
   "metadata": {
    "collapsed": true
   },
   "outputs": [],
   "source": []
  },
  {
   "cell_type": "code",
   "execution_count": null,
   "metadata": {
    "collapsed": true
   },
   "outputs": [],
   "source": []
  },
  {
   "cell_type": "code",
   "execution_count": null,
   "metadata": {
    "collapsed": true
   },
   "outputs": [],
   "source": []
  },
  {
   "cell_type": "code",
   "execution_count": null,
   "metadata": {
    "collapsed": true
   },
   "outputs": [],
   "source": []
  },
  {
   "cell_type": "code",
   "execution_count": null,
   "metadata": {
    "collapsed": true
   },
   "outputs": [],
   "source": []
  },
  {
   "cell_type": "code",
   "execution_count": null,
   "metadata": {
    "collapsed": true
   },
   "outputs": [],
   "source": []
  },
  {
   "cell_type": "markdown",
   "metadata": {},
   "source": [
    "## Time based split of data"
   ]
  },
  {
   "cell_type": "code",
   "execution_count": 96,
   "metadata": {
    "ExecuteTime": {
     "end_time": "2018-06-18T16:03:20.192854Z",
     "start_time": "2018-06-18T16:03:19.791372Z"
    },
    "collapsed": true
   },
   "outputs": [],
   "source": [
    "Train = Cleaned_Train [Cleaned_Train['date_new']< '2015-01-01']"
   ]
  },
  {
   "cell_type": "code",
   "execution_count": 97,
   "metadata": {
    "ExecuteTime": {
     "end_time": "2018-06-18T16:03:23.699600Z",
     "start_time": "2018-06-18T16:03:23.694232Z"
    }
   },
   "outputs": [
    {
     "data": {
      "text/plain": [
       "(2323417, 18)"
      ]
     },
     "execution_count": 97,
     "metadata": {},
     "output_type": "execute_result"
    }
   ],
   "source": [
    "Train.shape"
   ]
  },
  {
   "cell_type": "code",
   "execution_count": 98,
   "metadata": {
    "ExecuteTime": {
     "end_time": "2018-06-18T16:03:39.834731Z",
     "start_time": "2018-06-18T16:03:39.682471Z"
    },
    "collapsed": true
   },
   "outputs": [],
   "source": [
    "Validation = Cleaned_Train [Cleaned_Train['date_new'] >= '2015-01-01']"
   ]
  },
  {
   "cell_type": "code",
   "execution_count": 99,
   "metadata": {
    "ExecuteTime": {
     "end_time": "2018-06-18T16:03:46.711248Z",
     "start_time": "2018-06-18T16:03:46.705278Z"
    }
   },
   "outputs": [
    {
     "data": {
      "text/plain": [
       "(612426, 18)"
      ]
     },
     "execution_count": 99,
     "metadata": {},
     "output_type": "execute_result"
    }
   ],
   "source": [
    "Validation.shape"
   ]
  },
  {
   "cell_type": "code",
   "execution_count": 100,
   "metadata": {
    "ExecuteTime": {
     "end_time": "2018-06-18T16:13:08.367448Z",
     "start_time": "2018-06-18T16:13:08.098601Z"
    },
    "collapsed": true
   },
   "outputs": [],
   "source": [
    "y_train= Train['item_cnt_day']\n",
    "X_train = Train.drop(['item_cnt_day', 'date_new'],axis=1)\n",
    "\n",
    "y_validation= Validation['item_cnt_day']\n",
    "X_validation = Validation.drop(['item_cnt_day','date_new'],axis=1)\n",
    "\n"
   ]
  },
  {
   "cell_type": "code",
   "execution_count": 101,
   "metadata": {
    "ExecuteTime": {
     "end_time": "2018-06-18T16:15:02.156037Z",
     "start_time": "2018-06-18T16:13:55.392580Z"
    }
   },
   "outputs": [
    {
     "data": {
      "text/plain": [
       "RandomForestRegressor(bootstrap=True, criterion='mse', max_depth=None,\n",
       "           max_features=0.5, max_leaf_nodes=None,\n",
       "           min_impurity_decrease=0.0, min_impurity_split=None,\n",
       "           min_samples_leaf=3, min_samples_split=2,\n",
       "           min_weight_fraction_leaf=0.0, n_estimators=40, n_jobs=-1,\n",
       "           oob_score=True, random_state=None, verbose=0, warm_start=False)"
      ]
     },
     "execution_count": 101,
     "metadata": {},
     "output_type": "execute_result"
    }
   ],
   "source": [
    "regr2 = RandomForestRegressor(n_estimators=40, min_samples_leaf=3, max_features=0.5, n_jobs=-1, oob_score=True)\n",
    "regr2.fit(X_train,y_train)"
   ]
  },
  {
   "cell_type": "code",
   "execution_count": 102,
   "metadata": {
    "ExecuteTime": {
     "end_time": "2018-06-18T17:02:23.091675Z",
     "start_time": "2018-06-18T17:02:17.154714Z"
    }
   },
   "outputs": [
    {
     "name": "stdout",
     "output_type": "stream",
     "text": [
      "[1.077866538444896, 3.1046960855474373, 0.69729179475879566, 0.26685070309852943, 0.44115560058272951]\n"
     ]
    }
   ],
   "source": [
    "print_score_rmse(regr2)"
   ]
  },
  {
   "cell_type": "code",
   "execution_count": 103,
   "metadata": {
    "ExecuteTime": {
     "end_time": "2018-06-18T17:03:33.396310Z",
     "start_time": "2018-06-18T17:03:33.265317Z"
    }
   },
   "outputs": [
    {
     "data": {
      "text/html": [
       "<div>\n",
       "<style>\n",
       "    .dataframe thead tr:only-child th {\n",
       "        text-align: right;\n",
       "    }\n",
       "\n",
       "    .dataframe thead th {\n",
       "        text-align: left;\n",
       "    }\n",
       "\n",
       "    .dataframe tbody tr th {\n",
       "        vertical-align: top;\n",
       "    }\n",
       "</style>\n",
       "<table border=\"1\" class=\"dataframe\">\n",
       "  <thead>\n",
       "    <tr style=\"text-align: right;\">\n",
       "      <th></th>\n",
       "      <th>cols</th>\n",
       "      <th>imp</th>\n",
       "    </tr>\n",
       "  </thead>\n",
       "  <tbody>\n",
       "    <tr>\n",
       "      <th>14</th>\n",
       "      <td>item_cnt_daymean</td>\n",
       "      <td>0.304215</td>\n",
       "    </tr>\n",
       "    <tr>\n",
       "      <th>8</th>\n",
       "      <td>Week</td>\n",
       "      <td>0.129487</td>\n",
       "    </tr>\n",
       "    <tr>\n",
       "      <th>6</th>\n",
       "      <td>day_of_week</td>\n",
       "      <td>0.083103</td>\n",
       "    </tr>\n",
       "    <tr>\n",
       "      <th>13</th>\n",
       "      <td>no_of_rows</td>\n",
       "      <td>0.073756</td>\n",
       "    </tr>\n",
       "    <tr>\n",
       "      <th>3</th>\n",
       "      <td>item_price</td>\n",
       "      <td>0.068077</td>\n",
       "    </tr>\n",
       "    <tr>\n",
       "      <th>15</th>\n",
       "      <td>item_pricemean</td>\n",
       "      <td>0.065286</td>\n",
       "    </tr>\n",
       "    <tr>\n",
       "      <th>4</th>\n",
       "      <td>item_price_whole</td>\n",
       "      <td>0.052078</td>\n",
       "    </tr>\n",
       "    <tr>\n",
       "      <th>5</th>\n",
       "      <td>item_price_fraction</td>\n",
       "      <td>0.051604</td>\n",
       "    </tr>\n",
       "    <tr>\n",
       "      <th>0</th>\n",
       "      <td>date_block_num</td>\n",
       "      <td>0.048887</td>\n",
       "    </tr>\n",
       "    <tr>\n",
       "      <th>7</th>\n",
       "      <td>Month</td>\n",
       "      <td>0.033616</td>\n",
       "    </tr>\n",
       "    <tr>\n",
       "      <th>11</th>\n",
       "      <td>shop_name_codes</td>\n",
       "      <td>0.019032</td>\n",
       "    </tr>\n",
       "    <tr>\n",
       "      <th>1</th>\n",
       "      <td>shop_id</td>\n",
       "      <td>0.018326</td>\n",
       "    </tr>\n",
       "    <tr>\n",
       "      <th>2</th>\n",
       "      <td>item_id</td>\n",
       "      <td>0.017140</td>\n",
       "    </tr>\n",
       "    <tr>\n",
       "      <th>9</th>\n",
       "      <td>item_name_codes</td>\n",
       "      <td>0.016868</td>\n",
       "    </tr>\n",
       "    <tr>\n",
       "      <th>10</th>\n",
       "      <td>item_category_id</td>\n",
       "      <td>0.009853</td>\n",
       "    </tr>\n",
       "    <tr>\n",
       "      <th>12</th>\n",
       "      <td>item_category_name_codes</td>\n",
       "      <td>0.008673</td>\n",
       "    </tr>\n",
       "  </tbody>\n",
       "</table>\n",
       "</div>"
      ],
      "text/plain": [
       "                        cols       imp\n",
       "14          item_cnt_daymean  0.304215\n",
       "8                       Week  0.129487\n",
       "6                day_of_week  0.083103\n",
       "13                no_of_rows  0.073756\n",
       "3                 item_price  0.068077\n",
       "15            item_pricemean  0.065286\n",
       "4           item_price_whole  0.052078\n",
       "5        item_price_fraction  0.051604\n",
       "0             date_block_num  0.048887\n",
       "7                      Month  0.033616\n",
       "11           shop_name_codes  0.019032\n",
       "1                    shop_id  0.018326\n",
       "2                    item_id  0.017140\n",
       "9            item_name_codes  0.016868\n",
       "10          item_category_id  0.009853\n",
       "12  item_category_name_codes  0.008673"
      ]
     },
     "execution_count": 103,
     "metadata": {},
     "output_type": "execute_result"
    }
   ],
   "source": [
    "fi = rf_feat_importance(regr2, X_train); fi[:20]"
   ]
  },
  {
   "cell_type": "markdown",
   "metadata": {
    "ExecuteTime": {
     "end_time": "2018-06-18T18:05:24.142811Z",
     "start_time": "2018-06-18T18:05:24.139449Z"
    }
   },
   "source": [
    "## Time based split of data with mean encoding based on day and week"
   ]
  },
  {
   "cell_type": "code",
   "execution_count": 105,
   "metadata": {
    "ExecuteTime": {
     "end_time": "2018-06-18T18:07:41.039136Z",
     "start_time": "2018-06-18T18:07:41.001216Z"
    }
   },
   "outputs": [
    {
     "data": {
      "text/html": [
       "<div>\n",
       "<style>\n",
       "    .dataframe thead tr:only-child th {\n",
       "        text-align: right;\n",
       "    }\n",
       "\n",
       "    .dataframe thead th {\n",
       "        text-align: left;\n",
       "    }\n",
       "\n",
       "    .dataframe tbody tr th {\n",
       "        vertical-align: top;\n",
       "    }\n",
       "</style>\n",
       "<table border=\"1\" class=\"dataframe\">\n",
       "  <thead>\n",
       "    <tr style=\"text-align: right;\">\n",
       "      <th></th>\n",
       "      <th>date_new</th>\n",
       "      <th>date_block_num</th>\n",
       "      <th>shop_id</th>\n",
       "      <th>item_id</th>\n",
       "      <th>item_price</th>\n",
       "      <th>item_price_whole</th>\n",
       "      <th>item_price_fraction</th>\n",
       "      <th>day_of_week</th>\n",
       "      <th>Month</th>\n",
       "      <th>Week</th>\n",
       "      <th>item_name_codes</th>\n",
       "      <th>item_category_id</th>\n",
       "      <th>shop_name_codes</th>\n",
       "      <th>item_category_name_codes</th>\n",
       "      <th>item_cnt_day</th>\n",
       "      <th>no_of_rows</th>\n",
       "      <th>item_cnt_daymean</th>\n",
       "      <th>item_pricemean</th>\n",
       "    </tr>\n",
       "  </thead>\n",
       "  <tbody>\n",
       "    <tr>\n",
       "      <th>0</th>\n",
       "      <td>2013-01-02</td>\n",
       "      <td>0</td>\n",
       "      <td>59</td>\n",
       "      <td>22154</td>\n",
       "      <td>999.00</td>\n",
       "      <td>999.0</td>\n",
       "      <td>0.0</td>\n",
       "      <td>2</td>\n",
       "      <td>1</td>\n",
       "      <td>1</td>\n",
       "      <td>21791</td>\n",
       "      <td>37</td>\n",
       "      <td>59</td>\n",
       "      <td>37</td>\n",
       "      <td>1.0</td>\n",
       "      <td>1</td>\n",
       "      <td>1.0</td>\n",
       "      <td>999.00</td>\n",
       "    </tr>\n",
       "    <tr>\n",
       "      <th>1</th>\n",
       "      <td>2013-01-03</td>\n",
       "      <td>0</td>\n",
       "      <td>25</td>\n",
       "      <td>2552</td>\n",
       "      <td>899.00</td>\n",
       "      <td>899.0</td>\n",
       "      <td>0.0</td>\n",
       "      <td>3</td>\n",
       "      <td>1</td>\n",
       "      <td>1</td>\n",
       "      <td>2495</td>\n",
       "      <td>58</td>\n",
       "      <td>25</td>\n",
       "      <td>58</td>\n",
       "      <td>1.0</td>\n",
       "      <td>2</td>\n",
       "      <td>0.0</td>\n",
       "      <td>899.00</td>\n",
       "    </tr>\n",
       "    <tr>\n",
       "      <th>2</th>\n",
       "      <td>2013-01-05</td>\n",
       "      <td>0</td>\n",
       "      <td>25</td>\n",
       "      <td>2552</td>\n",
       "      <td>899.00</td>\n",
       "      <td>899.0</td>\n",
       "      <td>0.0</td>\n",
       "      <td>5</td>\n",
       "      <td>1</td>\n",
       "      <td>1</td>\n",
       "      <td>2495</td>\n",
       "      <td>58</td>\n",
       "      <td>25</td>\n",
       "      <td>58</td>\n",
       "      <td>-1.0</td>\n",
       "      <td>2</td>\n",
       "      <td>0.0</td>\n",
       "      <td>899.00</td>\n",
       "    </tr>\n",
       "    <tr>\n",
       "      <th>3</th>\n",
       "      <td>2013-01-06</td>\n",
       "      <td>0</td>\n",
       "      <td>25</td>\n",
       "      <td>2554</td>\n",
       "      <td>1709.05</td>\n",
       "      <td>1709.0</td>\n",
       "      <td>5.0</td>\n",
       "      <td>6</td>\n",
       "      <td>1</td>\n",
       "      <td>1</td>\n",
       "      <td>2497</td>\n",
       "      <td>58</td>\n",
       "      <td>25</td>\n",
       "      <td>58</td>\n",
       "      <td>1.0</td>\n",
       "      <td>1</td>\n",
       "      <td>1.0</td>\n",
       "      <td>1709.05</td>\n",
       "    </tr>\n",
       "    <tr>\n",
       "      <th>4</th>\n",
       "      <td>2013-01-15</td>\n",
       "      <td>0</td>\n",
       "      <td>25</td>\n",
       "      <td>2555</td>\n",
       "      <td>1099.00</td>\n",
       "      <td>1099.0</td>\n",
       "      <td>0.0</td>\n",
       "      <td>1</td>\n",
       "      <td>1</td>\n",
       "      <td>3</td>\n",
       "      <td>2498</td>\n",
       "      <td>56</td>\n",
       "      <td>25</td>\n",
       "      <td>56</td>\n",
       "      <td>1.0</td>\n",
       "      <td>10</td>\n",
       "      <td>1.0</td>\n",
       "      <td>1104.00</td>\n",
       "    </tr>\n",
       "  </tbody>\n",
       "</table>\n",
       "</div>"
      ],
      "text/plain": [
       "    date_new  date_block_num  shop_id  item_id  item_price  item_price_whole  \\\n",
       "0 2013-01-02               0       59    22154      999.00             999.0   \n",
       "1 2013-01-03               0       25     2552      899.00             899.0   \n",
       "2 2013-01-05               0       25     2552      899.00             899.0   \n",
       "3 2013-01-06               0       25     2554     1709.05            1709.0   \n",
       "4 2013-01-15               0       25     2555     1099.00            1099.0   \n",
       "\n",
       "   item_price_fraction  day_of_week  Month  Week  item_name_codes  \\\n",
       "0                  0.0            2      1     1            21791   \n",
       "1                  0.0            3      1     1             2495   \n",
       "2                  0.0            5      1     1             2495   \n",
       "3                  5.0            6      1     1             2497   \n",
       "4                  0.0            1      1     3             2498   \n",
       "\n",
       "   item_category_id  shop_name_codes  item_category_name_codes  item_cnt_day  \\\n",
       "0                37               59                        37           1.0   \n",
       "1                58               25                        58           1.0   \n",
       "2                58               25                        58          -1.0   \n",
       "3                58               25                        58           1.0   \n",
       "4                56               25                        56           1.0   \n",
       "\n",
       "   no_of_rows  item_cnt_daymean  item_pricemean  \n",
       "0           1               1.0          999.00  \n",
       "1           2               0.0          899.00  \n",
       "2           2               0.0          899.00  \n",
       "3           1               1.0         1709.05  \n",
       "4          10               1.0         1104.00  "
      ]
     },
     "execution_count": 105,
     "metadata": {},
     "output_type": "execute_result"
    }
   ],
   "source": [
    "Train.head()"
   ]
  },
  {
   "cell_type": "code",
   "execution_count": 109,
   "metadata": {
    "ExecuteTime": {
     "end_time": "2018-06-18T18:13:40.980571Z",
     "start_time": "2018-06-18T18:13:33.150155Z"
    },
    "collapsed": true
   },
   "outputs": [],
   "source": [
    "agg_tmp = Train.groupby(['Week', 'day_of_week', 'shop_id', 'item_id']).agg(['count'])['date_new'].reset_index()\n",
    "agg_tmp_mean = Train.groupby(['Week', 'day_of_week', 'shop_id', 'item_id']).agg(['mean'])[['item_cnt_day', 'item_price']].reset_index()"
   ]
  },
  {
   "cell_type": "code",
   "execution_count": 110,
   "metadata": {
    "ExecuteTime": {
     "end_time": "2018-06-18T18:13:42.720692Z",
     "start_time": "2018-06-18T18:13:42.697263Z"
    }
   },
   "outputs": [
    {
     "data": {
      "text/html": [
       "<div>\n",
       "<style>\n",
       "    .dataframe thead tr:only-child th {\n",
       "        text-align: right;\n",
       "    }\n",
       "\n",
       "    .dataframe thead th {\n",
       "        text-align: left;\n",
       "    }\n",
       "\n",
       "    .dataframe tbody tr th {\n",
       "        vertical-align: top;\n",
       "    }\n",
       "</style>\n",
       "<table border=\"1\" class=\"dataframe\">\n",
       "  <thead>\n",
       "    <tr style=\"text-align: right;\">\n",
       "      <th></th>\n",
       "      <th>Week</th>\n",
       "      <th>day_of_week</th>\n",
       "      <th>shop_id</th>\n",
       "      <th>item_id</th>\n",
       "      <th>count</th>\n",
       "    </tr>\n",
       "  </thead>\n",
       "  <tbody>\n",
       "    <tr>\n",
       "      <th>0</th>\n",
       "      <td>1</td>\n",
       "      <td>0</td>\n",
       "      <td>2</td>\n",
       "      <td>1407</td>\n",
       "      <td>1</td>\n",
       "    </tr>\n",
       "    <tr>\n",
       "      <th>1</th>\n",
       "      <td>1</td>\n",
       "      <td>0</td>\n",
       "      <td>2</td>\n",
       "      <td>1467</td>\n",
       "      <td>1</td>\n",
       "    </tr>\n",
       "    <tr>\n",
       "      <th>2</th>\n",
       "      <td>1</td>\n",
       "      <td>0</td>\n",
       "      <td>2</td>\n",
       "      <td>1483</td>\n",
       "      <td>1</td>\n",
       "    </tr>\n",
       "    <tr>\n",
       "      <th>3</th>\n",
       "      <td>1</td>\n",
       "      <td>0</td>\n",
       "      <td>2</td>\n",
       "      <td>1485</td>\n",
       "      <td>1</td>\n",
       "    </tr>\n",
       "    <tr>\n",
       "      <th>4</th>\n",
       "      <td>1</td>\n",
       "      <td>0</td>\n",
       "      <td>2</td>\n",
       "      <td>1495</td>\n",
       "      <td>1</td>\n",
       "    </tr>\n",
       "  </tbody>\n",
       "</table>\n",
       "</div>"
      ],
      "text/plain": [
       "   Week  day_of_week  shop_id  item_id  count\n",
       "0     1            0        2     1407      1\n",
       "1     1            0        2     1467      1\n",
       "2     1            0        2     1483      1\n",
       "3     1            0        2     1485      1\n",
       "4     1            0        2     1495      1"
      ]
     },
     "execution_count": 110,
     "metadata": {},
     "output_type": "execute_result"
    }
   ],
   "source": [
    "agg_tmp.head()"
   ]
  },
  {
   "cell_type": "code",
   "execution_count": 111,
   "metadata": {
    "ExecuteTime": {
     "end_time": "2018-06-18T18:13:50.752065Z",
     "start_time": "2018-06-18T18:13:50.725652Z"
    }
   },
   "outputs": [
    {
     "data": {
      "text/html": [
       "<div>\n",
       "<style>\n",
       "    .dataframe thead tr:only-child th {\n",
       "        text-align: right;\n",
       "    }\n",
       "\n",
       "    .dataframe thead th {\n",
       "        text-align: left;\n",
       "    }\n",
       "\n",
       "    .dataframe tbody tr th {\n",
       "        vertical-align: top;\n",
       "    }\n",
       "</style>\n",
       "<table border=\"1\" class=\"dataframe\">\n",
       "  <thead>\n",
       "    <tr>\n",
       "      <th></th>\n",
       "      <th>Week</th>\n",
       "      <th>day_of_week</th>\n",
       "      <th>shop_id</th>\n",
       "      <th>item_id</th>\n",
       "      <th>item_cnt_day</th>\n",
       "      <th>item_price</th>\n",
       "    </tr>\n",
       "    <tr>\n",
       "      <th></th>\n",
       "      <th></th>\n",
       "      <th></th>\n",
       "      <th></th>\n",
       "      <th></th>\n",
       "      <th>mean</th>\n",
       "      <th>mean</th>\n",
       "    </tr>\n",
       "  </thead>\n",
       "  <tbody>\n",
       "    <tr>\n",
       "      <th>0</th>\n",
       "      <td>1</td>\n",
       "      <td>0</td>\n",
       "      <td>2</td>\n",
       "      <td>1407</td>\n",
       "      <td>4.0</td>\n",
       "      <td>1299.00</td>\n",
       "    </tr>\n",
       "    <tr>\n",
       "      <th>1</th>\n",
       "      <td>1</td>\n",
       "      <td>0</td>\n",
       "      <td>2</td>\n",
       "      <td>1467</td>\n",
       "      <td>1.0</td>\n",
       "      <td>899.00</td>\n",
       "    </tr>\n",
       "    <tr>\n",
       "      <th>2</th>\n",
       "      <td>1</td>\n",
       "      <td>0</td>\n",
       "      <td>2</td>\n",
       "      <td>1483</td>\n",
       "      <td>1.0</td>\n",
       "      <td>1199.00</td>\n",
       "    </tr>\n",
       "    <tr>\n",
       "      <th>3</th>\n",
       "      <td>1</td>\n",
       "      <td>0</td>\n",
       "      <td>2</td>\n",
       "      <td>1485</td>\n",
       "      <td>1.0</td>\n",
       "      <td>1191.16</td>\n",
       "    </tr>\n",
       "    <tr>\n",
       "      <th>4</th>\n",
       "      <td>1</td>\n",
       "      <td>0</td>\n",
       "      <td>2</td>\n",
       "      <td>1495</td>\n",
       "      <td>1.0</td>\n",
       "      <td>599.00</td>\n",
       "    </tr>\n",
       "  </tbody>\n",
       "</table>\n",
       "</div>"
      ],
      "text/plain": [
       "  Week day_of_week shop_id item_id item_cnt_day item_price\n",
       "                                           mean       mean\n",
       "0    1           0       2    1407          4.0    1299.00\n",
       "1    1           0       2    1467          1.0     899.00\n",
       "2    1           0       2    1483          1.0    1199.00\n",
       "3    1           0       2    1485          1.0    1191.16\n",
       "4    1           0       2    1495          1.0     599.00"
      ]
     },
     "execution_count": 111,
     "metadata": {},
     "output_type": "execute_result"
    }
   ],
   "source": [
    "agg_tmp_mean.head()"
   ]
  },
  {
   "cell_type": "code",
   "execution_count": 112,
   "metadata": {
    "ExecuteTime": {
     "end_time": "2018-06-18T18:14:49.559212Z",
     "start_time": "2018-06-18T18:14:49.553337Z"
    },
    "collapsed": true
   },
   "outputs": [],
   "source": [
    "agg_tmp_mean.columns= [''.join(col).strip() for col in agg_tmp_mean.columns.values]"
   ]
  },
  {
   "cell_type": "code",
   "execution_count": 115,
   "metadata": {
    "ExecuteTime": {
     "end_time": "2018-06-18T18:16:07.766904Z",
     "start_time": "2018-06-18T18:16:07.762086Z"
    },
    "collapsed": true
   },
   "outputs": [],
   "source": [
    "agg_tmp_mean.columns=['Week', 'day_of_week', 'shop_id', 'item_id', 'item_cnt_daymean_new',\n",
    "       'item_pricemean_new']"
   ]
  },
  {
   "cell_type": "code",
   "execution_count": 117,
   "metadata": {
    "ExecuteTime": {
     "end_time": "2018-06-18T18:16:37.207758Z",
     "start_time": "2018-06-18T18:16:37.203261Z"
    },
    "collapsed": true
   },
   "outputs": [],
   "source": [
    "agg_tmp.columns=['Week', 'day_of_week', 'shop_id', 'item_id', 'count_new']"
   ]
  },
  {
   "cell_type": "code",
   "execution_count": 119,
   "metadata": {
    "ExecuteTime": {
     "end_time": "2018-06-18T18:17:27.473658Z",
     "start_time": "2018-06-18T18:17:25.616797Z"
    },
    "collapsed": true
   },
   "outputs": [],
   "source": [
    "final_agg = pd.merge(agg_tmp,agg_tmp_mean, how ='inner', on = ['Week', 'day_of_week','shop_id', 'item_id'])"
   ]
  },
  {
   "cell_type": "code",
   "execution_count": 120,
   "metadata": {
    "ExecuteTime": {
     "end_time": "2018-06-18T18:17:32.528849Z",
     "start_time": "2018-06-18T18:17:32.509110Z"
    }
   },
   "outputs": [
    {
     "data": {
      "text/html": [
       "<div>\n",
       "<style>\n",
       "    .dataframe thead tr:only-child th {\n",
       "        text-align: right;\n",
       "    }\n",
       "\n",
       "    .dataframe thead th {\n",
       "        text-align: left;\n",
       "    }\n",
       "\n",
       "    .dataframe tbody tr th {\n",
       "        vertical-align: top;\n",
       "    }\n",
       "</style>\n",
       "<table border=\"1\" class=\"dataframe\">\n",
       "  <thead>\n",
       "    <tr style=\"text-align: right;\">\n",
       "      <th></th>\n",
       "      <th>Week</th>\n",
       "      <th>day_of_week</th>\n",
       "      <th>shop_id</th>\n",
       "      <th>item_id</th>\n",
       "      <th>count_new</th>\n",
       "      <th>item_cnt_daymean_new</th>\n",
       "      <th>item_pricemean_new</th>\n",
       "    </tr>\n",
       "  </thead>\n",
       "  <tbody>\n",
       "    <tr>\n",
       "      <th>0</th>\n",
       "      <td>1</td>\n",
       "      <td>0</td>\n",
       "      <td>2</td>\n",
       "      <td>1407</td>\n",
       "      <td>1</td>\n",
       "      <td>4.0</td>\n",
       "      <td>1299.00</td>\n",
       "    </tr>\n",
       "    <tr>\n",
       "      <th>1</th>\n",
       "      <td>1</td>\n",
       "      <td>0</td>\n",
       "      <td>2</td>\n",
       "      <td>1467</td>\n",
       "      <td>1</td>\n",
       "      <td>1.0</td>\n",
       "      <td>899.00</td>\n",
       "    </tr>\n",
       "    <tr>\n",
       "      <th>2</th>\n",
       "      <td>1</td>\n",
       "      <td>0</td>\n",
       "      <td>2</td>\n",
       "      <td>1483</td>\n",
       "      <td>1</td>\n",
       "      <td>1.0</td>\n",
       "      <td>1199.00</td>\n",
       "    </tr>\n",
       "    <tr>\n",
       "      <th>3</th>\n",
       "      <td>1</td>\n",
       "      <td>0</td>\n",
       "      <td>2</td>\n",
       "      <td>1485</td>\n",
       "      <td>1</td>\n",
       "      <td>1.0</td>\n",
       "      <td>1191.16</td>\n",
       "    </tr>\n",
       "    <tr>\n",
       "      <th>4</th>\n",
       "      <td>1</td>\n",
       "      <td>0</td>\n",
       "      <td>2</td>\n",
       "      <td>1495</td>\n",
       "      <td>1</td>\n",
       "      <td>1.0</td>\n",
       "      <td>599.00</td>\n",
       "    </tr>\n",
       "  </tbody>\n",
       "</table>\n",
       "</div>"
      ],
      "text/plain": [
       "   Week  day_of_week  shop_id  item_id  count_new  item_cnt_daymean_new  \\\n",
       "0     1            0        2     1407          1                   4.0   \n",
       "1     1            0        2     1467          1                   1.0   \n",
       "2     1            0        2     1483          1                   1.0   \n",
       "3     1            0        2     1485          1                   1.0   \n",
       "4     1            0        2     1495          1                   1.0   \n",
       "\n",
       "   item_pricemean_new  \n",
       "0             1299.00  \n",
       "1              899.00  \n",
       "2             1199.00  \n",
       "3             1191.16  \n",
       "4              599.00  "
      ]
     },
     "execution_count": 120,
     "metadata": {},
     "output_type": "execute_result"
    }
   ],
   "source": [
    "final_agg.head()"
   ]
  },
  {
   "cell_type": "code",
   "execution_count": 121,
   "metadata": {
    "ExecuteTime": {
     "end_time": "2018-06-18T18:18:51.791731Z",
     "start_time": "2018-06-18T18:18:48.747846Z"
    },
    "collapsed": true
   },
   "outputs": [],
   "source": [
    "New_Cleaned_Train = pd.merge(Cleaned_Train, final_agg, how ='left',on=['Week', 'day_of_week', 'shop_id','item_id'])"
   ]
  },
  {
   "cell_type": "code",
   "execution_count": 122,
   "metadata": {
    "ExecuteTime": {
     "end_time": "2018-06-18T18:18:56.175358Z",
     "start_time": "2018-06-18T18:18:56.125644Z"
    }
   },
   "outputs": [
    {
     "data": {
      "text/html": [
       "<div>\n",
       "<style>\n",
       "    .dataframe thead tr:only-child th {\n",
       "        text-align: right;\n",
       "    }\n",
       "\n",
       "    .dataframe thead th {\n",
       "        text-align: left;\n",
       "    }\n",
       "\n",
       "    .dataframe tbody tr th {\n",
       "        vertical-align: top;\n",
       "    }\n",
       "</style>\n",
       "<table border=\"1\" class=\"dataframe\">\n",
       "  <thead>\n",
       "    <tr style=\"text-align: right;\">\n",
       "      <th></th>\n",
       "      <th>date_new</th>\n",
       "      <th>date_block_num</th>\n",
       "      <th>shop_id</th>\n",
       "      <th>item_id</th>\n",
       "      <th>item_price</th>\n",
       "      <th>item_price_whole</th>\n",
       "      <th>item_price_fraction</th>\n",
       "      <th>day_of_week</th>\n",
       "      <th>Month</th>\n",
       "      <th>Week</th>\n",
       "      <th>...</th>\n",
       "      <th>item_category_id</th>\n",
       "      <th>shop_name_codes</th>\n",
       "      <th>item_category_name_codes</th>\n",
       "      <th>item_cnt_day</th>\n",
       "      <th>no_of_rows</th>\n",
       "      <th>item_cnt_daymean</th>\n",
       "      <th>item_pricemean</th>\n",
       "      <th>count_new</th>\n",
       "      <th>item_cnt_daymean_new</th>\n",
       "      <th>item_pricemean_new</th>\n",
       "    </tr>\n",
       "  </thead>\n",
       "  <tbody>\n",
       "    <tr>\n",
       "      <th>0</th>\n",
       "      <td>2013-01-02</td>\n",
       "      <td>0</td>\n",
       "      <td>59</td>\n",
       "      <td>22154</td>\n",
       "      <td>999.00</td>\n",
       "      <td>999.0</td>\n",
       "      <td>0.0</td>\n",
       "      <td>2</td>\n",
       "      <td>1</td>\n",
       "      <td>1</td>\n",
       "      <td>...</td>\n",
       "      <td>37</td>\n",
       "      <td>59</td>\n",
       "      <td>37</td>\n",
       "      <td>1.0</td>\n",
       "      <td>1</td>\n",
       "      <td>1.0</td>\n",
       "      <td>999.00</td>\n",
       "      <td>1.0</td>\n",
       "      <td>1.0</td>\n",
       "      <td>999.00</td>\n",
       "    </tr>\n",
       "    <tr>\n",
       "      <th>1</th>\n",
       "      <td>2013-01-03</td>\n",
       "      <td>0</td>\n",
       "      <td>25</td>\n",
       "      <td>2552</td>\n",
       "      <td>899.00</td>\n",
       "      <td>899.0</td>\n",
       "      <td>0.0</td>\n",
       "      <td>3</td>\n",
       "      <td>1</td>\n",
       "      <td>1</td>\n",
       "      <td>...</td>\n",
       "      <td>58</td>\n",
       "      <td>25</td>\n",
       "      <td>58</td>\n",
       "      <td>1.0</td>\n",
       "      <td>2</td>\n",
       "      <td>0.0</td>\n",
       "      <td>899.00</td>\n",
       "      <td>1.0</td>\n",
       "      <td>1.0</td>\n",
       "      <td>899.00</td>\n",
       "    </tr>\n",
       "    <tr>\n",
       "      <th>2</th>\n",
       "      <td>2013-01-05</td>\n",
       "      <td>0</td>\n",
       "      <td>25</td>\n",
       "      <td>2552</td>\n",
       "      <td>899.00</td>\n",
       "      <td>899.0</td>\n",
       "      <td>0.0</td>\n",
       "      <td>5</td>\n",
       "      <td>1</td>\n",
       "      <td>1</td>\n",
       "      <td>...</td>\n",
       "      <td>58</td>\n",
       "      <td>25</td>\n",
       "      <td>58</td>\n",
       "      <td>-1.0</td>\n",
       "      <td>2</td>\n",
       "      <td>0.0</td>\n",
       "      <td>899.00</td>\n",
       "      <td>1.0</td>\n",
       "      <td>-1.0</td>\n",
       "      <td>899.00</td>\n",
       "    </tr>\n",
       "    <tr>\n",
       "      <th>3</th>\n",
       "      <td>2013-01-06</td>\n",
       "      <td>0</td>\n",
       "      <td>25</td>\n",
       "      <td>2554</td>\n",
       "      <td>1709.05</td>\n",
       "      <td>1709.0</td>\n",
       "      <td>5.0</td>\n",
       "      <td>6</td>\n",
       "      <td>1</td>\n",
       "      <td>1</td>\n",
       "      <td>...</td>\n",
       "      <td>58</td>\n",
       "      <td>25</td>\n",
       "      <td>58</td>\n",
       "      <td>1.0</td>\n",
       "      <td>1</td>\n",
       "      <td>1.0</td>\n",
       "      <td>1709.05</td>\n",
       "      <td>1.0</td>\n",
       "      <td>1.0</td>\n",
       "      <td>1709.05</td>\n",
       "    </tr>\n",
       "    <tr>\n",
       "      <th>4</th>\n",
       "      <td>2013-01-15</td>\n",
       "      <td>0</td>\n",
       "      <td>25</td>\n",
       "      <td>2555</td>\n",
       "      <td>1099.00</td>\n",
       "      <td>1099.0</td>\n",
       "      <td>0.0</td>\n",
       "      <td>1</td>\n",
       "      <td>1</td>\n",
       "      <td>3</td>\n",
       "      <td>...</td>\n",
       "      <td>56</td>\n",
       "      <td>25</td>\n",
       "      <td>56</td>\n",
       "      <td>1.0</td>\n",
       "      <td>10</td>\n",
       "      <td>1.0</td>\n",
       "      <td>1104.00</td>\n",
       "      <td>1.0</td>\n",
       "      <td>1.0</td>\n",
       "      <td>1099.00</td>\n",
       "    </tr>\n",
       "  </tbody>\n",
       "</table>\n",
       "<p>5 rows × 21 columns</p>\n",
       "</div>"
      ],
      "text/plain": [
       "    date_new  date_block_num  shop_id  item_id  item_price  item_price_whole  \\\n",
       "0 2013-01-02               0       59    22154      999.00             999.0   \n",
       "1 2013-01-03               0       25     2552      899.00             899.0   \n",
       "2 2013-01-05               0       25     2552      899.00             899.0   \n",
       "3 2013-01-06               0       25     2554     1709.05            1709.0   \n",
       "4 2013-01-15               0       25     2555     1099.00            1099.0   \n",
       "\n",
       "   item_price_fraction  day_of_week  Month  Week         ...          \\\n",
       "0                  0.0            2      1     1         ...           \n",
       "1                  0.0            3      1     1         ...           \n",
       "2                  0.0            5      1     1         ...           \n",
       "3                  5.0            6      1     1         ...           \n",
       "4                  0.0            1      1     3         ...           \n",
       "\n",
       "   item_category_id  shop_name_codes  item_category_name_codes  item_cnt_day  \\\n",
       "0                37               59                        37           1.0   \n",
       "1                58               25                        58           1.0   \n",
       "2                58               25                        58          -1.0   \n",
       "3                58               25                        58           1.0   \n",
       "4                56               25                        56           1.0   \n",
       "\n",
       "   no_of_rows  item_cnt_daymean  item_pricemean  count_new  \\\n",
       "0           1               1.0          999.00        1.0   \n",
       "1           2               0.0          899.00        1.0   \n",
       "2           2               0.0          899.00        1.0   \n",
       "3           1               1.0         1709.05        1.0   \n",
       "4          10               1.0         1104.00        1.0   \n",
       "\n",
       "   item_cnt_daymean_new  item_pricemean_new  \n",
       "0                   1.0              999.00  \n",
       "1                   1.0              899.00  \n",
       "2                  -1.0              899.00  \n",
       "3                   1.0             1709.05  \n",
       "4                   1.0             1099.00  \n",
       "\n",
       "[5 rows x 21 columns]"
      ]
     },
     "execution_count": 122,
     "metadata": {},
     "output_type": "execute_result"
    }
   ],
   "source": []
  },
  {
   "cell_type": "code",
   "execution_count": 123,
   "metadata": {
    "ExecuteTime": {
     "end_time": "2018-06-18T18:22:21.915295Z",
     "start_time": "2018-06-18T18:22:21.030898Z"
    }
   },
   "outputs": [
    {
     "data": {
      "text/plain": [
       "True"
      ]
     },
     "execution_count": 123,
     "metadata": {},
     "output_type": "execute_result"
    }
   ],
   "source": [
    "New_Cleaned_Train.isnull().values.any()"
   ]
  },
  {
   "cell_type": "code",
   "execution_count": 133,
   "metadata": {
    "ExecuteTime": {
     "end_time": "2018-06-18T18:55:51.856031Z",
     "start_time": "2018-06-18T18:55:49.816424Z"
    }
   },
   "outputs": [
    {
     "data": {
      "text/plain": [
       "Index([], dtype='object')"
      ]
     },
     "execution_count": 133,
     "metadata": {},
     "output_type": "execute_result"
    }
   ],
   "source": [
    "New_Cleaned_Train.columns[New_Cleaned_Train.isnull().any()]"
   ]
  },
  {
   "cell_type": "code",
   "execution_count": 132,
   "metadata": {
    "ExecuteTime": {
     "end_time": "2018-06-18T18:54:30.010347Z",
     "start_time": "2018-06-18T18:54:29.897516Z"
    },
    "collapsed": true
   },
   "outputs": [],
   "source": [
    "New_Cleaned_Train.fillnana(0, inplace=True)"
   ]
  },
  {
   "cell_type": "code",
   "execution_count": 134,
   "metadata": {
    "ExecuteTime": {
     "end_time": "2018-06-18T18:56:51.012623Z",
     "start_time": "2018-06-18T18:55:55.989480Z"
    }
   },
   "outputs": [
    {
     "data": {
      "text/plain": [
       "RandomForestRegressor(bootstrap=True, criterion='mse', max_depth=None,\n",
       "           max_features=0.5, max_leaf_nodes=None,\n",
       "           min_impurity_decrease=0.0, min_impurity_split=None,\n",
       "           min_samples_leaf=3, min_samples_split=2,\n",
       "           min_weight_fraction_leaf=0.0, n_estimators=40, n_jobs=-1,\n",
       "           oob_score=True, random_state=None, verbose=0, warm_start=False)"
      ]
     },
     "execution_count": 134,
     "metadata": {},
     "output_type": "execute_result"
    }
   ],
   "source": [
    "Train = New_Cleaned_Train [Cleaned_Train['date_new']< '2015-01-01']\n",
    "Validation = New_Cleaned_Train [Cleaned_Train['date_new'] >= '2015-01-01']\n",
    "y_train= Train['item_cnt_day']\n",
    "X_train = Train.drop(['item_cnt_day', 'date_new'],axis=1)\n",
    "\n",
    "y_valid= Validation['item_cnt_day']\n",
    "X_valid= Validation.drop(['item_cnt_day','date_new'],axis=1)\n",
    "\n",
    "regr3 = RandomForestRegressor(n_estimators=40, min_samples_leaf=3, max_features=0.5, n_jobs=-1, oob_score=True)\n",
    "regr3.fit(X_train,y_train)"
   ]
  },
  {
   "cell_type": "code",
   "execution_count": 136,
   "metadata": {
    "ExecuteTime": {
     "end_time": "2018-06-18T18:59:21.765388Z",
     "start_time": "2018-06-18T18:59:20.644465Z"
    }
   },
   "outputs": [
    {
     "data": {
      "text/plain": [
       "0.44658463192248837"
      ]
     },
     "execution_count": 136,
     "metadata": {},
     "output_type": "execute_result"
    }
   ],
   "source": [
    "predictions = regr3.predict(X_train)\n",
    "Compare = pd.DataFrame(np.column_stack((y_train.values,predictions)))\n",
    "Compare.columns =['Actual','Predict']\n",
    "np.sqrt(mean_squared_error(y_train.values, predictions))"
   ]
  },
  {
   "cell_type": "code",
   "execution_count": 135,
   "metadata": {
    "ExecuteTime": {
     "end_time": "2018-06-18T18:58:40.220989Z",
     "start_time": "2018-06-18T18:58:35.363059Z"
    }
   },
   "outputs": [
    {
     "name": "stdout",
     "output_type": "stream",
     "text": [
      "[0.44295471670827313, 4.422453662465342, 0.94886268618719294, -0.067569550702743175, 0.888137670060544]\n"
     ]
    }
   ],
   "source": [
    "print_score_rmse(regr3)"
   ]
  },
  {
   "cell_type": "code",
   "execution_count": null,
   "metadata": {
    "collapsed": true
   },
   "outputs": [],
   "source": []
  }
 ],
 "metadata": {
  "kernelspec": {
   "display_name": "Python 3",
   "language": "python",
   "name": "python3"
  },
  "language_info": {
   "codemirror_mode": {
    "name": "ipython",
    "version": 3
   },
   "file_extension": ".py",
   "mimetype": "text/x-python",
   "name": "python",
   "nbconvert_exporter": "python",
   "pygments_lexer": "ipython3",
   "version": "3.6.5"
  }
 },
 "nbformat": 4,
 "nbformat_minor": 2
}
