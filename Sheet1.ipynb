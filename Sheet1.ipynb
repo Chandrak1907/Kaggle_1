{
 "cells": [
  {
   "cell_type": "markdown",
   "metadata": {},
   "source": [
    "## Reading files"
   ]
  },
  {
   "cell_type": "code",
   "execution_count": 1,
   "metadata": {
    "ExecuteTime": {
     "end_time": "2018-06-21T18:17:49.122746Z",
     "start_time": "2018-06-21T18:17:48.427747Z"
    }
   },
   "outputs": [
    {
     "name": "stdout",
     "output_type": "stream",
     "text": [
      "The libraries have been loaded!\n"
     ]
    }
   ],
   "source": [
    "__imp"
   ]
  },
  {
   "cell_type": "code",
   "execution_count": 2,
   "metadata": {
    "ExecuteTime": {
     "end_time": "2018-06-21T18:17:52.183194Z",
     "start_time": "2018-06-21T18:17:49.126489Z"
    },
    "collapsed": true
   },
   "outputs": [],
   "source": [
    "item_categories = pd.read_csv(\"./item_categories.csv\")\n",
    "items = pd.read_csv(\"./items.csv\")\n",
    "shops= pd.read_csv(\"./shops.csv\")\n",
    "train = pd.read_csv('./sales_train.csv.gz', compression='gzip')\n",
    "test = pd.read_csv(\"./test.csv.gz\", compression = \"gzip\")"
   ]
  },
  {
   "cell_type": "code",
   "execution_count": 3,
   "metadata": {
    "ExecuteTime": {
     "end_time": "2018-06-21T18:17:52.207831Z",
     "start_time": "2018-06-21T18:17:52.186290Z"
    }
   },
   "outputs": [
    {
     "data": {
      "text/html": [
       "<div>\n",
       "<style>\n",
       "    .dataframe thead tr:only-child th {\n",
       "        text-align: right;\n",
       "    }\n",
       "\n",
       "    .dataframe thead th {\n",
       "        text-align: left;\n",
       "    }\n",
       "\n",
       "    .dataframe tbody tr th {\n",
       "        vertical-align: top;\n",
       "    }\n",
       "</style>\n",
       "<table border=\"1\" class=\"dataframe\">\n",
       "  <thead>\n",
       "    <tr style=\"text-align: right;\">\n",
       "      <th></th>\n",
       "      <th>date</th>\n",
       "      <th>date_block_num</th>\n",
       "      <th>shop_id</th>\n",
       "      <th>item_id</th>\n",
       "      <th>item_price</th>\n",
       "      <th>item_cnt_day</th>\n",
       "    </tr>\n",
       "  </thead>\n",
       "  <tbody>\n",
       "    <tr>\n",
       "      <th>0</th>\n",
       "      <td>02.01.2013</td>\n",
       "      <td>0</td>\n",
       "      <td>59</td>\n",
       "      <td>22154</td>\n",
       "      <td>999.00</td>\n",
       "      <td>1.0</td>\n",
       "    </tr>\n",
       "    <tr>\n",
       "      <th>1</th>\n",
       "      <td>03.01.2013</td>\n",
       "      <td>0</td>\n",
       "      <td>25</td>\n",
       "      <td>2552</td>\n",
       "      <td>899.00</td>\n",
       "      <td>1.0</td>\n",
       "    </tr>\n",
       "    <tr>\n",
       "      <th>2</th>\n",
       "      <td>05.01.2013</td>\n",
       "      <td>0</td>\n",
       "      <td>25</td>\n",
       "      <td>2552</td>\n",
       "      <td>899.00</td>\n",
       "      <td>-1.0</td>\n",
       "    </tr>\n",
       "    <tr>\n",
       "      <th>3</th>\n",
       "      <td>06.01.2013</td>\n",
       "      <td>0</td>\n",
       "      <td>25</td>\n",
       "      <td>2554</td>\n",
       "      <td>1709.05</td>\n",
       "      <td>1.0</td>\n",
       "    </tr>\n",
       "    <tr>\n",
       "      <th>4</th>\n",
       "      <td>15.01.2013</td>\n",
       "      <td>0</td>\n",
       "      <td>25</td>\n",
       "      <td>2555</td>\n",
       "      <td>1099.00</td>\n",
       "      <td>1.0</td>\n",
       "    </tr>\n",
       "  </tbody>\n",
       "</table>\n",
       "</div>"
      ],
      "text/plain": [
       "         date  date_block_num  shop_id  item_id  item_price  item_cnt_day\n",
       "0  02.01.2013               0       59    22154      999.00           1.0\n",
       "1  03.01.2013               0       25     2552      899.00           1.0\n",
       "2  05.01.2013               0       25     2552      899.00          -1.0\n",
       "3  06.01.2013               0       25     2554     1709.05           1.0\n",
       "4  15.01.2013               0       25     2555     1099.00           1.0"
      ]
     },
     "execution_count": 3,
     "metadata": {},
     "output_type": "execute_result"
    }
   ],
   "source": [
    "train.head()"
   ]
  },
  {
   "cell_type": "code",
   "execution_count": 4,
   "metadata": {
    "ExecuteTime": {
     "end_time": "2018-06-21T18:17:52.222404Z",
     "start_time": "2018-06-21T18:17:52.210345Z"
    }
   },
   "outputs": [
    {
     "data": {
      "text/html": [
       "<div>\n",
       "<style>\n",
       "    .dataframe thead tr:only-child th {\n",
       "        text-align: right;\n",
       "    }\n",
       "\n",
       "    .dataframe thead th {\n",
       "        text-align: left;\n",
       "    }\n",
       "\n",
       "    .dataframe tbody tr th {\n",
       "        vertical-align: top;\n",
       "    }\n",
       "</style>\n",
       "<table border=\"1\" class=\"dataframe\">\n",
       "  <thead>\n",
       "    <tr style=\"text-align: right;\">\n",
       "      <th></th>\n",
       "      <th>ID</th>\n",
       "      <th>shop_id</th>\n",
       "      <th>item_id</th>\n",
       "    </tr>\n",
       "  </thead>\n",
       "  <tbody>\n",
       "    <tr>\n",
       "      <th>0</th>\n",
       "      <td>0</td>\n",
       "      <td>5</td>\n",
       "      <td>5037</td>\n",
       "    </tr>\n",
       "    <tr>\n",
       "      <th>1</th>\n",
       "      <td>1</td>\n",
       "      <td>5</td>\n",
       "      <td>5320</td>\n",
       "    </tr>\n",
       "    <tr>\n",
       "      <th>2</th>\n",
       "      <td>2</td>\n",
       "      <td>5</td>\n",
       "      <td>5233</td>\n",
       "    </tr>\n",
       "    <tr>\n",
       "      <th>3</th>\n",
       "      <td>3</td>\n",
       "      <td>5</td>\n",
       "      <td>5232</td>\n",
       "    </tr>\n",
       "    <tr>\n",
       "      <th>4</th>\n",
       "      <td>4</td>\n",
       "      <td>5</td>\n",
       "      <td>5268</td>\n",
       "    </tr>\n",
       "  </tbody>\n",
       "</table>\n",
       "</div>"
      ],
      "text/plain": [
       "   ID  shop_id  item_id\n",
       "0   0        5     5037\n",
       "1   1        5     5320\n",
       "2   2        5     5233\n",
       "3   3        5     5232\n",
       "4   4        5     5268"
      ]
     },
     "execution_count": 4,
     "metadata": {},
     "output_type": "execute_result"
    }
   ],
   "source": [
    "test.head()"
   ]
  },
  {
   "cell_type": "code",
   "execution_count": 5,
   "metadata": {
    "ExecuteTime": {
     "end_time": "2018-06-21T18:17:52.238207Z",
     "start_time": "2018-06-21T18:17:52.225206Z"
    }
   },
   "outputs": [
    {
     "data": {
      "text/html": [
       "<div>\n",
       "<style>\n",
       "    .dataframe thead tr:only-child th {\n",
       "        text-align: right;\n",
       "    }\n",
       "\n",
       "    .dataframe thead th {\n",
       "        text-align: left;\n",
       "    }\n",
       "\n",
       "    .dataframe tbody tr th {\n",
       "        vertical-align: top;\n",
       "    }\n",
       "</style>\n",
       "<table border=\"1\" class=\"dataframe\">\n",
       "  <thead>\n",
       "    <tr style=\"text-align: right;\">\n",
       "      <th></th>\n",
       "      <th>item_name</th>\n",
       "      <th>item_id</th>\n",
       "      <th>item_category_id</th>\n",
       "    </tr>\n",
       "  </thead>\n",
       "  <tbody>\n",
       "    <tr>\n",
       "      <th>0</th>\n",
       "      <td>! ВО ВЛАСТИ НАВАЖДЕНИЯ (ПЛАСТ.)         D</td>\n",
       "      <td>0</td>\n",
       "      <td>40</td>\n",
       "    </tr>\n",
       "    <tr>\n",
       "      <th>1</th>\n",
       "      <td>!ABBYY FineReader 12 Professional Edition Full...</td>\n",
       "      <td>1</td>\n",
       "      <td>76</td>\n",
       "    </tr>\n",
       "    <tr>\n",
       "      <th>2</th>\n",
       "      <td>***В ЛУЧАХ СЛАВЫ   (UNV)                    D</td>\n",
       "      <td>2</td>\n",
       "      <td>40</td>\n",
       "    </tr>\n",
       "    <tr>\n",
       "      <th>3</th>\n",
       "      <td>***ГОЛУБАЯ ВОЛНА  (Univ)                      D</td>\n",
       "      <td>3</td>\n",
       "      <td>40</td>\n",
       "    </tr>\n",
       "    <tr>\n",
       "      <th>4</th>\n",
       "      <td>***КОРОБКА (СТЕКЛО)                       D</td>\n",
       "      <td>4</td>\n",
       "      <td>40</td>\n",
       "    </tr>\n",
       "  </tbody>\n",
       "</table>\n",
       "</div>"
      ],
      "text/plain": [
       "                                           item_name  item_id  \\\n",
       "0          ! ВО ВЛАСТИ НАВАЖДЕНИЯ (ПЛАСТ.)         D        0   \n",
       "1  !ABBYY FineReader 12 Professional Edition Full...        1   \n",
       "2      ***В ЛУЧАХ СЛАВЫ   (UNV)                    D        2   \n",
       "3    ***ГОЛУБАЯ ВОЛНА  (Univ)                      D        3   \n",
       "4        ***КОРОБКА (СТЕКЛО)                       D        4   \n",
       "\n",
       "   item_category_id  \n",
       "0                40  \n",
       "1                76  \n",
       "2                40  \n",
       "3                40  \n",
       "4                40  "
      ]
     },
     "execution_count": 5,
     "metadata": {},
     "output_type": "execute_result"
    }
   ],
   "source": [
    "items.head()"
   ]
  },
  {
   "cell_type": "code",
   "execution_count": 6,
   "metadata": {
    "ExecuteTime": {
     "end_time": "2018-06-21T18:17:52.252141Z",
     "start_time": "2018-06-21T18:17:52.240850Z"
    }
   },
   "outputs": [
    {
     "data": {
      "text/html": [
       "<div>\n",
       "<style>\n",
       "    .dataframe thead tr:only-child th {\n",
       "        text-align: right;\n",
       "    }\n",
       "\n",
       "    .dataframe thead th {\n",
       "        text-align: left;\n",
       "    }\n",
       "\n",
       "    .dataframe tbody tr th {\n",
       "        vertical-align: top;\n",
       "    }\n",
       "</style>\n",
       "<table border=\"1\" class=\"dataframe\">\n",
       "  <thead>\n",
       "    <tr style=\"text-align: right;\">\n",
       "      <th></th>\n",
       "      <th>shop_name</th>\n",
       "      <th>shop_id</th>\n",
       "    </tr>\n",
       "  </thead>\n",
       "  <tbody>\n",
       "    <tr>\n",
       "      <th>0</th>\n",
       "      <td>!Якутск Орджоникидзе, 56 фран</td>\n",
       "      <td>0</td>\n",
       "    </tr>\n",
       "    <tr>\n",
       "      <th>1</th>\n",
       "      <td>!Якутск ТЦ \"Центральный\" фран</td>\n",
       "      <td>1</td>\n",
       "    </tr>\n",
       "    <tr>\n",
       "      <th>2</th>\n",
       "      <td>Адыгея ТЦ \"Мега\"</td>\n",
       "      <td>2</td>\n",
       "    </tr>\n",
       "    <tr>\n",
       "      <th>3</th>\n",
       "      <td>Балашиха ТРК \"Октябрь-Киномир\"</td>\n",
       "      <td>3</td>\n",
       "    </tr>\n",
       "    <tr>\n",
       "      <th>4</th>\n",
       "      <td>Волжский ТЦ \"Волга Молл\"</td>\n",
       "      <td>4</td>\n",
       "    </tr>\n",
       "  </tbody>\n",
       "</table>\n",
       "</div>"
      ],
      "text/plain": [
       "                        shop_name  shop_id\n",
       "0   !Якутск Орджоникидзе, 56 фран        0\n",
       "1   !Якутск ТЦ \"Центральный\" фран        1\n",
       "2                Адыгея ТЦ \"Мега\"        2\n",
       "3  Балашиха ТРК \"Октябрь-Киномир\"        3\n",
       "4        Волжский ТЦ \"Волга Молл\"        4"
      ]
     },
     "execution_count": 6,
     "metadata": {},
     "output_type": "execute_result"
    }
   ],
   "source": [
    "shops.head()"
   ]
  },
  {
   "cell_type": "code",
   "execution_count": 7,
   "metadata": {
    "ExecuteTime": {
     "end_time": "2018-06-21T18:17:52.267742Z",
     "start_time": "2018-06-21T18:17:52.255587Z"
    }
   },
   "outputs": [
    {
     "data": {
      "text/html": [
       "<div>\n",
       "<style>\n",
       "    .dataframe thead tr:only-child th {\n",
       "        text-align: right;\n",
       "    }\n",
       "\n",
       "    .dataframe thead th {\n",
       "        text-align: left;\n",
       "    }\n",
       "\n",
       "    .dataframe tbody tr th {\n",
       "        vertical-align: top;\n",
       "    }\n",
       "</style>\n",
       "<table border=\"1\" class=\"dataframe\">\n",
       "  <thead>\n",
       "    <tr style=\"text-align: right;\">\n",
       "      <th></th>\n",
       "      <th>item_category_name</th>\n",
       "      <th>item_category_id</th>\n",
       "    </tr>\n",
       "  </thead>\n",
       "  <tbody>\n",
       "    <tr>\n",
       "      <th>0</th>\n",
       "      <td>PC - Гарнитуры/Наушники</td>\n",
       "      <td>0</td>\n",
       "    </tr>\n",
       "    <tr>\n",
       "      <th>1</th>\n",
       "      <td>Аксессуары - PS2</td>\n",
       "      <td>1</td>\n",
       "    </tr>\n",
       "    <tr>\n",
       "      <th>2</th>\n",
       "      <td>Аксессуары - PS3</td>\n",
       "      <td>2</td>\n",
       "    </tr>\n",
       "    <tr>\n",
       "      <th>3</th>\n",
       "      <td>Аксессуары - PS4</td>\n",
       "      <td>3</td>\n",
       "    </tr>\n",
       "    <tr>\n",
       "      <th>4</th>\n",
       "      <td>Аксессуары - PSP</td>\n",
       "      <td>4</td>\n",
       "    </tr>\n",
       "  </tbody>\n",
       "</table>\n",
       "</div>"
      ],
      "text/plain": [
       "        item_category_name  item_category_id\n",
       "0  PC - Гарнитуры/Наушники                 0\n",
       "1         Аксессуары - PS2                 1\n",
       "2         Аксессуары - PS3                 2\n",
       "3         Аксессуары - PS4                 3\n",
       "4         Аксессуары - PSP                 4"
      ]
     },
     "execution_count": 7,
     "metadata": {},
     "output_type": "execute_result"
    }
   ],
   "source": [
    "item_categories.head()"
   ]
  },
  {
   "cell_type": "code",
   "execution_count": 8,
   "metadata": {
    "ExecuteTime": {
     "end_time": "2018-06-21T18:17:52.289174Z",
     "start_time": "2018-06-21T18:17:52.270249Z"
    }
   },
   "outputs": [
    {
     "data": {
      "text/html": [
       "<div>\n",
       "<style>\n",
       "    .dataframe thead tr:only-child th {\n",
       "        text-align: right;\n",
       "    }\n",
       "\n",
       "    .dataframe thead th {\n",
       "        text-align: left;\n",
       "    }\n",
       "\n",
       "    .dataframe tbody tr th {\n",
       "        vertical-align: top;\n",
       "    }\n",
       "</style>\n",
       "<table border=\"1\" class=\"dataframe\">\n",
       "  <thead>\n",
       "    <tr style=\"text-align: right;\">\n",
       "      <th></th>\n",
       "      <th>date</th>\n",
       "      <th>date_block_num</th>\n",
       "      <th>shop_id</th>\n",
       "      <th>item_id</th>\n",
       "      <th>item_price</th>\n",
       "      <th>item_cnt_day</th>\n",
       "    </tr>\n",
       "  </thead>\n",
       "  <tbody>\n",
       "    <tr>\n",
       "      <th>2935844</th>\n",
       "      <td>10.10.2015</td>\n",
       "      <td>33</td>\n",
       "      <td>25</td>\n",
       "      <td>7409</td>\n",
       "      <td>299.0</td>\n",
       "      <td>1.0</td>\n",
       "    </tr>\n",
       "    <tr>\n",
       "      <th>2935845</th>\n",
       "      <td>09.10.2015</td>\n",
       "      <td>33</td>\n",
       "      <td>25</td>\n",
       "      <td>7460</td>\n",
       "      <td>299.0</td>\n",
       "      <td>1.0</td>\n",
       "    </tr>\n",
       "    <tr>\n",
       "      <th>2935846</th>\n",
       "      <td>14.10.2015</td>\n",
       "      <td>33</td>\n",
       "      <td>25</td>\n",
       "      <td>7459</td>\n",
       "      <td>349.0</td>\n",
       "      <td>1.0</td>\n",
       "    </tr>\n",
       "    <tr>\n",
       "      <th>2935847</th>\n",
       "      <td>22.10.2015</td>\n",
       "      <td>33</td>\n",
       "      <td>25</td>\n",
       "      <td>7440</td>\n",
       "      <td>299.0</td>\n",
       "      <td>1.0</td>\n",
       "    </tr>\n",
       "    <tr>\n",
       "      <th>2935848</th>\n",
       "      <td>03.10.2015</td>\n",
       "      <td>33</td>\n",
       "      <td>25</td>\n",
       "      <td>7460</td>\n",
       "      <td>299.0</td>\n",
       "      <td>1.0</td>\n",
       "    </tr>\n",
       "  </tbody>\n",
       "</table>\n",
       "</div>"
      ],
      "text/plain": [
       "               date  date_block_num  shop_id  item_id  item_price  \\\n",
       "2935844  10.10.2015              33       25     7409       299.0   \n",
       "2935845  09.10.2015              33       25     7460       299.0   \n",
       "2935846  14.10.2015              33       25     7459       349.0   \n",
       "2935847  22.10.2015              33       25     7440       299.0   \n",
       "2935848  03.10.2015              33       25     7460       299.0   \n",
       "\n",
       "         item_cnt_day  \n",
       "2935844           1.0  \n",
       "2935845           1.0  \n",
       "2935846           1.0  \n",
       "2935847           1.0  \n",
       "2935848           1.0  "
      ]
     },
     "execution_count": 8,
     "metadata": {},
     "output_type": "execute_result"
    }
   ],
   "source": [
    "train.tail()"
   ]
  },
  {
   "cell_type": "code",
   "execution_count": 9,
   "metadata": {
    "ExecuteTime": {
     "end_time": "2018-06-21T18:17:52.299403Z",
     "start_time": "2018-06-21T18:17:52.291780Z"
    }
   },
   "outputs": [
    {
     "data": {
      "text/plain": [
       "date               object\n",
       "date_block_num      int64\n",
       "shop_id             int64\n",
       "item_id             int64\n",
       "item_price        float64\n",
       "item_cnt_day      float64\n",
       "dtype: object"
      ]
     },
     "execution_count": 9,
     "metadata": {},
     "output_type": "execute_result"
    }
   ],
   "source": [
    "train.dtypes"
   ]
  },
  {
   "cell_type": "code",
   "execution_count": 10,
   "metadata": {
    "ExecuteTime": {
     "end_time": "2018-06-21T18:17:52.305641Z",
     "start_time": "2018-06-21T18:17:52.301905Z"
    },
    "collapsed": true
   },
   "outputs": [],
   "source": [
    "import math"
   ]
  },
  {
   "cell_type": "code",
   "execution_count": 11,
   "metadata": {
    "ExecuteTime": {
     "end_time": "2018-06-21T18:17:54.701431Z",
     "start_time": "2018-06-21T18:17:52.308130Z"
    },
    "collapsed": true
   },
   "outputs": [],
   "source": [
    "train['item_price_whole'] = train['item_price'].apply(lambda x : math.modf(x)[1])"
   ]
  },
  {
   "cell_type": "code",
   "execution_count": 12,
   "metadata": {
    "ExecuteTime": {
     "end_time": "2018-06-21T18:17:57.040358Z",
     "start_time": "2018-06-21T18:17:54.704513Z"
    },
    "collapsed": true
   },
   "outputs": [],
   "source": [
    "train['item_price_fraction'] = train['item_price'].apply(lambda x : math.modf(x)[0])*100"
   ]
  },
  {
   "cell_type": "code",
   "execution_count": 13,
   "metadata": {
    "ExecuteTime": {
     "end_time": "2018-06-21T18:17:57.051156Z",
     "start_time": "2018-06-21T18:17:57.043325Z"
    }
   },
   "outputs": [
    {
     "data": {
      "text/plain": [
       "(2935849, 8)"
      ]
     },
     "execution_count": 13,
     "metadata": {},
     "output_type": "execute_result"
    }
   ],
   "source": [
    "train.shape"
   ]
  },
  {
   "cell_type": "code",
   "execution_count": 14,
   "metadata": {
    "ExecuteTime": {
     "end_time": "2018-06-21T18:18:16.745235Z",
     "start_time": "2018-06-21T18:17:57.054545Z"
    },
    "collapsed": true
   },
   "outputs": [],
   "source": [
    "train['date_new']=pd.to_datetime(train['date'], format = \"%d.%m.%Y\")"
   ]
  },
  {
   "cell_type": "code",
   "execution_count": 15,
   "metadata": {
    "ExecuteTime": {
     "end_time": "2018-06-21T18:18:19.192228Z",
     "start_time": "2018-06-21T18:18:16.748175Z"
    }
   },
   "outputs": [
    {
     "name": "stderr",
     "output_type": "stream",
     "text": [
      "/users/a115505/.conda/envs/DL/lib/python3.6/site-packages/ipykernel_launcher.py:1: FutureWarning: by argument to sort_index is deprecated, pls use .sort_values(by=...)\n",
      "  \"\"\"Entry point for launching an IPython kernel.\n"
     ]
    },
    {
     "data": {
      "text/html": [
       "<div>\n",
       "<style>\n",
       "    .dataframe thead tr:only-child th {\n",
       "        text-align: right;\n",
       "    }\n",
       "\n",
       "    .dataframe thead th {\n",
       "        text-align: left;\n",
       "    }\n",
       "\n",
       "    .dataframe tbody tr th {\n",
       "        vertical-align: top;\n",
       "    }\n",
       "</style>\n",
       "<table border=\"1\" class=\"dataframe\">\n",
       "  <thead>\n",
       "    <tr style=\"text-align: right;\">\n",
       "      <th></th>\n",
       "      <th>date</th>\n",
       "      <th>date_block_num</th>\n",
       "      <th>shop_id</th>\n",
       "      <th>item_id</th>\n",
       "      <th>item_price</th>\n",
       "      <th>item_cnt_day</th>\n",
       "      <th>item_price_whole</th>\n",
       "      <th>item_price_fraction</th>\n",
       "      <th>date_new</th>\n",
       "    </tr>\n",
       "  </thead>\n",
       "  <tbody>\n",
       "    <tr>\n",
       "      <th>173349</th>\n",
       "      <td>15.02.2013</td>\n",
       "      <td>1</td>\n",
       "      <td>0</td>\n",
       "      <td>30</td>\n",
       "      <td>265.00</td>\n",
       "      <td>2.0</td>\n",
       "      <td>265.0</td>\n",
       "      <td>0.0</td>\n",
       "      <td>2013-02-15</td>\n",
       "    </tr>\n",
       "    <tr>\n",
       "      <th>173348</th>\n",
       "      <td>16.02.2013</td>\n",
       "      <td>1</td>\n",
       "      <td>0</td>\n",
       "      <td>30</td>\n",
       "      <td>265.00</td>\n",
       "      <td>9.0</td>\n",
       "      <td>265.0</td>\n",
       "      <td>0.0</td>\n",
       "      <td>2013-02-16</td>\n",
       "    </tr>\n",
       "    <tr>\n",
       "      <th>173347</th>\n",
       "      <td>17.02.2013</td>\n",
       "      <td>1</td>\n",
       "      <td>0</td>\n",
       "      <td>30</td>\n",
       "      <td>265.00</td>\n",
       "      <td>4.0</td>\n",
       "      <td>265.0</td>\n",
       "      <td>0.0</td>\n",
       "      <td>2013-02-17</td>\n",
       "    </tr>\n",
       "    <tr>\n",
       "      <th>173346</th>\n",
       "      <td>18.02.2013</td>\n",
       "      <td>1</td>\n",
       "      <td>0</td>\n",
       "      <td>30</td>\n",
       "      <td>265.00</td>\n",
       "      <td>4.0</td>\n",
       "      <td>265.0</td>\n",
       "      <td>0.0</td>\n",
       "      <td>2013-02-18</td>\n",
       "    </tr>\n",
       "    <tr>\n",
       "      <th>173345</th>\n",
       "      <td>20.02.2013</td>\n",
       "      <td>1</td>\n",
       "      <td>0</td>\n",
       "      <td>30</td>\n",
       "      <td>265.00</td>\n",
       "      <td>2.0</td>\n",
       "      <td>265.0</td>\n",
       "      <td>0.0</td>\n",
       "      <td>2013-02-20</td>\n",
       "    </tr>\n",
       "    <tr>\n",
       "      <th>173344</th>\n",
       "      <td>21.02.2013</td>\n",
       "      <td>1</td>\n",
       "      <td>0</td>\n",
       "      <td>30</td>\n",
       "      <td>265.00</td>\n",
       "      <td>2.0</td>\n",
       "      <td>265.0</td>\n",
       "      <td>0.0</td>\n",
       "      <td>2013-02-21</td>\n",
       "    </tr>\n",
       "    <tr>\n",
       "      <th>173361</th>\n",
       "      <td>22.02.2013</td>\n",
       "      <td>1</td>\n",
       "      <td>0</td>\n",
       "      <td>30</td>\n",
       "      <td>265.00</td>\n",
       "      <td>2.0</td>\n",
       "      <td>265.0</td>\n",
       "      <td>0.0</td>\n",
       "      <td>2013-02-22</td>\n",
       "    </tr>\n",
       "    <tr>\n",
       "      <th>173402</th>\n",
       "      <td>23.02.2013</td>\n",
       "      <td>1</td>\n",
       "      <td>0</td>\n",
       "      <td>30</td>\n",
       "      <td>265.00</td>\n",
       "      <td>3.0</td>\n",
       "      <td>265.0</td>\n",
       "      <td>0.0</td>\n",
       "      <td>2013-02-23</td>\n",
       "    </tr>\n",
       "    <tr>\n",
       "      <th>173441</th>\n",
       "      <td>26.02.2013</td>\n",
       "      <td>1</td>\n",
       "      <td>0</td>\n",
       "      <td>30</td>\n",
       "      <td>265.00</td>\n",
       "      <td>3.0</td>\n",
       "      <td>265.0</td>\n",
       "      <td>0.0</td>\n",
       "      <td>2013-02-26</td>\n",
       "    </tr>\n",
       "    <tr>\n",
       "      <th>173403</th>\n",
       "      <td>15.02.2013</td>\n",
       "      <td>1</td>\n",
       "      <td>0</td>\n",
       "      <td>31</td>\n",
       "      <td>434.00</td>\n",
       "      <td>3.0</td>\n",
       "      <td>434.0</td>\n",
       "      <td>0.0</td>\n",
       "      <td>2013-02-15</td>\n",
       "    </tr>\n",
       "    <tr>\n",
       "      <th>173459</th>\n",
       "      <td>16.02.2013</td>\n",
       "      <td>1</td>\n",
       "      <td>0</td>\n",
       "      <td>31</td>\n",
       "      <td>434.00</td>\n",
       "      <td>1.0</td>\n",
       "      <td>434.0</td>\n",
       "      <td>0.0</td>\n",
       "      <td>2013-02-16</td>\n",
       "    </tr>\n",
       "    <tr>\n",
       "      <th>173458</th>\n",
       "      <td>17.02.2013</td>\n",
       "      <td>1</td>\n",
       "      <td>0</td>\n",
       "      <td>31</td>\n",
       "      <td>434.00</td>\n",
       "      <td>3.0</td>\n",
       "      <td>434.0</td>\n",
       "      <td>0.0</td>\n",
       "      <td>2013-02-17</td>\n",
       "    </tr>\n",
       "    <tr>\n",
       "      <th>173457</th>\n",
       "      <td>22.02.2013</td>\n",
       "      <td>1</td>\n",
       "      <td>0</td>\n",
       "      <td>31</td>\n",
       "      <td>434.00</td>\n",
       "      <td>1.0</td>\n",
       "      <td>434.0</td>\n",
       "      <td>0.0</td>\n",
       "      <td>2013-02-22</td>\n",
       "    </tr>\n",
       "    <tr>\n",
       "      <th>173456</th>\n",
       "      <td>24.02.2013</td>\n",
       "      <td>1</td>\n",
       "      <td>0</td>\n",
       "      <td>31</td>\n",
       "      <td>434.00</td>\n",
       "      <td>1.0</td>\n",
       "      <td>434.0</td>\n",
       "      <td>0.0</td>\n",
       "      <td>2013-02-24</td>\n",
       "    </tr>\n",
       "    <tr>\n",
       "      <th>173455</th>\n",
       "      <td>25.02.2013</td>\n",
       "      <td>1</td>\n",
       "      <td>0</td>\n",
       "      <td>31</td>\n",
       "      <td>434.00</td>\n",
       "      <td>1.0</td>\n",
       "      <td>434.0</td>\n",
       "      <td>0.0</td>\n",
       "      <td>2013-02-25</td>\n",
       "    </tr>\n",
       "    <tr>\n",
       "      <th>173454</th>\n",
       "      <td>26.02.2013</td>\n",
       "      <td>1</td>\n",
       "      <td>0</td>\n",
       "      <td>31</td>\n",
       "      <td>434.00</td>\n",
       "      <td>1.0</td>\n",
       "      <td>434.0</td>\n",
       "      <td>0.0</td>\n",
       "      <td>2013-02-26</td>\n",
       "    </tr>\n",
       "    <tr>\n",
       "      <th>40085</th>\n",
       "      <td>03.01.2013</td>\n",
       "      <td>0</td>\n",
       "      <td>0</td>\n",
       "      <td>32</td>\n",
       "      <td>221.00</td>\n",
       "      <td>2.0</td>\n",
       "      <td>221.0</td>\n",
       "      <td>0.0</td>\n",
       "      <td>2013-01-03</td>\n",
       "    </tr>\n",
       "    <tr>\n",
       "      <th>40086</th>\n",
       "      <td>21.01.2013</td>\n",
       "      <td>0</td>\n",
       "      <td>0</td>\n",
       "      <td>32</td>\n",
       "      <td>221.00</td>\n",
       "      <td>2.0</td>\n",
       "      <td>221.0</td>\n",
       "      <td>0.0</td>\n",
       "      <td>2013-01-21</td>\n",
       "    </tr>\n",
       "    <tr>\n",
       "      <th>40087</th>\n",
       "      <td>25.01.2013</td>\n",
       "      <td>0</td>\n",
       "      <td>0</td>\n",
       "      <td>32</td>\n",
       "      <td>221.00</td>\n",
       "      <td>1.0</td>\n",
       "      <td>221.0</td>\n",
       "      <td>0.0</td>\n",
       "      <td>2013-01-25</td>\n",
       "    </tr>\n",
       "    <tr>\n",
       "      <th>40088</th>\n",
       "      <td>31.01.2013</td>\n",
       "      <td>0</td>\n",
       "      <td>0</td>\n",
       "      <td>32</td>\n",
       "      <td>221.00</td>\n",
       "      <td>1.0</td>\n",
       "      <td>221.0</td>\n",
       "      <td>0.0</td>\n",
       "      <td>2013-01-31</td>\n",
       "    </tr>\n",
       "    <tr>\n",
       "      <th>173453</th>\n",
       "      <td>05.02.2013</td>\n",
       "      <td>1</td>\n",
       "      <td>0</td>\n",
       "      <td>32</td>\n",
       "      <td>221.00</td>\n",
       "      <td>1.0</td>\n",
       "      <td>221.0</td>\n",
       "      <td>0.0</td>\n",
       "      <td>2013-02-05</td>\n",
       "    </tr>\n",
       "    <tr>\n",
       "      <th>173460</th>\n",
       "      <td>06.02.2013</td>\n",
       "      <td>1</td>\n",
       "      <td>0</td>\n",
       "      <td>32</td>\n",
       "      <td>221.00</td>\n",
       "      <td>1.0</td>\n",
       "      <td>221.0</td>\n",
       "      <td>0.0</td>\n",
       "      <td>2013-02-06</td>\n",
       "    </tr>\n",
       "    <tr>\n",
       "      <th>173452</th>\n",
       "      <td>12.02.2013</td>\n",
       "      <td>1</td>\n",
       "      <td>0</td>\n",
       "      <td>32</td>\n",
       "      <td>221.00</td>\n",
       "      <td>2.0</td>\n",
       "      <td>221.0</td>\n",
       "      <td>0.0</td>\n",
       "      <td>2013-02-12</td>\n",
       "    </tr>\n",
       "    <tr>\n",
       "      <th>173450</th>\n",
       "      <td>15.02.2013</td>\n",
       "      <td>1</td>\n",
       "      <td>0</td>\n",
       "      <td>32</td>\n",
       "      <td>221.00</td>\n",
       "      <td>1.0</td>\n",
       "      <td>221.0</td>\n",
       "      <td>0.0</td>\n",
       "      <td>2013-02-15</td>\n",
       "    </tr>\n",
       "    <tr>\n",
       "      <th>173449</th>\n",
       "      <td>16.02.2013</td>\n",
       "      <td>1</td>\n",
       "      <td>0</td>\n",
       "      <td>32</td>\n",
       "      <td>221.00</td>\n",
       "      <td>2.0</td>\n",
       "      <td>221.0</td>\n",
       "      <td>0.0</td>\n",
       "      <td>2013-02-16</td>\n",
       "    </tr>\n",
       "    <tr>\n",
       "      <th>173448</th>\n",
       "      <td>22.02.2013</td>\n",
       "      <td>1</td>\n",
       "      <td>0</td>\n",
       "      <td>32</td>\n",
       "      <td>221.00</td>\n",
       "      <td>2.0</td>\n",
       "      <td>221.0</td>\n",
       "      <td>0.0</td>\n",
       "      <td>2013-02-22</td>\n",
       "    </tr>\n",
       "    <tr>\n",
       "      <th>173447</th>\n",
       "      <td>25.02.2013</td>\n",
       "      <td>1</td>\n",
       "      <td>0</td>\n",
       "      <td>32</td>\n",
       "      <td>221.00</td>\n",
       "      <td>1.0</td>\n",
       "      <td>221.0</td>\n",
       "      <td>0.0</td>\n",
       "      <td>2013-02-25</td>\n",
       "    </tr>\n",
       "    <tr>\n",
       "      <th>40089</th>\n",
       "      <td>03.01.2013</td>\n",
       "      <td>0</td>\n",
       "      <td>0</td>\n",
       "      <td>33</td>\n",
       "      <td>347.00</td>\n",
       "      <td>1.0</td>\n",
       "      <td>347.0</td>\n",
       "      <td>0.0</td>\n",
       "      <td>2013-01-03</td>\n",
       "    </tr>\n",
       "    <tr>\n",
       "      <th>40090</th>\n",
       "      <td>17.01.2013</td>\n",
       "      <td>0</td>\n",
       "      <td>0</td>\n",
       "      <td>33</td>\n",
       "      <td>347.00</td>\n",
       "      <td>1.0</td>\n",
       "      <td>347.0</td>\n",
       "      <td>0.0</td>\n",
       "      <td>2013-01-17</td>\n",
       "    </tr>\n",
       "    <tr>\n",
       "      <th>40091</th>\n",
       "      <td>28.01.2013</td>\n",
       "      <td>0</td>\n",
       "      <td>0</td>\n",
       "      <td>33</td>\n",
       "      <td>347.00</td>\n",
       "      <td>1.0</td>\n",
       "      <td>347.0</td>\n",
       "      <td>0.0</td>\n",
       "      <td>2013-01-28</td>\n",
       "    </tr>\n",
       "    <tr>\n",
       "      <th>...</th>\n",
       "      <td>...</td>\n",
       "      <td>...</td>\n",
       "      <td>...</td>\n",
       "      <td>...</td>\n",
       "      <td>...</td>\n",
       "      <td>...</td>\n",
       "      <td>...</td>\n",
       "      <td>...</td>\n",
       "      <td>...</td>\n",
       "    </tr>\n",
       "    <tr>\n",
       "      <th>342905</th>\n",
       "      <td>30.03.2013</td>\n",
       "      <td>2</td>\n",
       "      <td>59</td>\n",
       "      <td>22151</td>\n",
       "      <td>399.00</td>\n",
       "      <td>1.0</td>\n",
       "      <td>399.0</td>\n",
       "      <td>0.0</td>\n",
       "      <td>2013-03-30</td>\n",
       "    </tr>\n",
       "    <tr>\n",
       "      <th>1895940</th>\n",
       "      <td>28.08.2014</td>\n",
       "      <td>19</td>\n",
       "      <td>59</td>\n",
       "      <td>22153</td>\n",
       "      <td>135.33</td>\n",
       "      <td>1.0</td>\n",
       "      <td>135.0</td>\n",
       "      <td>33.0</td>\n",
       "      <td>2014-08-28</td>\n",
       "    </tr>\n",
       "    <tr>\n",
       "      <th>0</th>\n",
       "      <td>02.01.2013</td>\n",
       "      <td>0</td>\n",
       "      <td>59</td>\n",
       "      <td>22154</td>\n",
       "      <td>999.00</td>\n",
       "      <td>1.0</td>\n",
       "      <td>999.0</td>\n",
       "      <td>0.0</td>\n",
       "      <td>2013-01-02</td>\n",
       "    </tr>\n",
       "    <tr>\n",
       "      <th>704965</th>\n",
       "      <td>11.07.2013</td>\n",
       "      <td>6</td>\n",
       "      <td>59</td>\n",
       "      <td>22155</td>\n",
       "      <td>149.00</td>\n",
       "      <td>1.0</td>\n",
       "      <td>149.0</td>\n",
       "      <td>0.0</td>\n",
       "      <td>2013-07-11</td>\n",
       "    </tr>\n",
       "    <tr>\n",
       "      <th>2435401</th>\n",
       "      <td>09.02.2015</td>\n",
       "      <td>25</td>\n",
       "      <td>59</td>\n",
       "      <td>22162</td>\n",
       "      <td>399.00</td>\n",
       "      <td>1.0</td>\n",
       "      <td>399.0</td>\n",
       "      <td>0.0</td>\n",
       "      <td>2015-02-09</td>\n",
       "    </tr>\n",
       "    <tr>\n",
       "      <th>2435402</th>\n",
       "      <td>13.02.2015</td>\n",
       "      <td>25</td>\n",
       "      <td>59</td>\n",
       "      <td>22162</td>\n",
       "      <td>399.00</td>\n",
       "      <td>1.0</td>\n",
       "      <td>399.0</td>\n",
       "      <td>0.0</td>\n",
       "      <td>2015-02-13</td>\n",
       "    </tr>\n",
       "    <tr>\n",
       "      <th>2435403</th>\n",
       "      <td>14.02.2015</td>\n",
       "      <td>25</td>\n",
       "      <td>59</td>\n",
       "      <td>22162</td>\n",
       "      <td>399.00</td>\n",
       "      <td>1.0</td>\n",
       "      <td>399.0</td>\n",
       "      <td>0.0</td>\n",
       "      <td>2015-02-14</td>\n",
       "    </tr>\n",
       "    <tr>\n",
       "      <th>2435404</th>\n",
       "      <td>15.02.2015</td>\n",
       "      <td>25</td>\n",
       "      <td>59</td>\n",
       "      <td>22162</td>\n",
       "      <td>399.00</td>\n",
       "      <td>1.0</td>\n",
       "      <td>399.0</td>\n",
       "      <td>0.0</td>\n",
       "      <td>2015-02-15</td>\n",
       "    </tr>\n",
       "    <tr>\n",
       "      <th>2435405</th>\n",
       "      <td>16.02.2015</td>\n",
       "      <td>25</td>\n",
       "      <td>59</td>\n",
       "      <td>22162</td>\n",
       "      <td>399.00</td>\n",
       "      <td>1.0</td>\n",
       "      <td>399.0</td>\n",
       "      <td>0.0</td>\n",
       "      <td>2015-02-16</td>\n",
       "    </tr>\n",
       "    <tr>\n",
       "      <th>2435406</th>\n",
       "      <td>17.02.2015</td>\n",
       "      <td>25</td>\n",
       "      <td>59</td>\n",
       "      <td>22162</td>\n",
       "      <td>399.00</td>\n",
       "      <td>1.0</td>\n",
       "      <td>399.0</td>\n",
       "      <td>0.0</td>\n",
       "      <td>2015-02-17</td>\n",
       "    </tr>\n",
       "    <tr>\n",
       "      <th>2435407</th>\n",
       "      <td>19.02.2015</td>\n",
       "      <td>25</td>\n",
       "      <td>59</td>\n",
       "      <td>22162</td>\n",
       "      <td>399.00</td>\n",
       "      <td>1.0</td>\n",
       "      <td>399.0</td>\n",
       "      <td>0.0</td>\n",
       "      <td>2015-02-19</td>\n",
       "    </tr>\n",
       "    <tr>\n",
       "      <th>2435408</th>\n",
       "      <td>22.02.2015</td>\n",
       "      <td>25</td>\n",
       "      <td>59</td>\n",
       "      <td>22162</td>\n",
       "      <td>399.00</td>\n",
       "      <td>1.0</td>\n",
       "      <td>399.0</td>\n",
       "      <td>0.0</td>\n",
       "      <td>2015-02-22</td>\n",
       "    </tr>\n",
       "    <tr>\n",
       "      <th>2435409</th>\n",
       "      <td>24.02.2015</td>\n",
       "      <td>25</td>\n",
       "      <td>59</td>\n",
       "      <td>22162</td>\n",
       "      <td>399.00</td>\n",
       "      <td>1.0</td>\n",
       "      <td>399.0</td>\n",
       "      <td>0.0</td>\n",
       "      <td>2015-02-24</td>\n",
       "    </tr>\n",
       "    <tr>\n",
       "      <th>2507082</th>\n",
       "      <td>01.03.2015</td>\n",
       "      <td>26</td>\n",
       "      <td>59</td>\n",
       "      <td>22162</td>\n",
       "      <td>399.00</td>\n",
       "      <td>1.0</td>\n",
       "      <td>399.0</td>\n",
       "      <td>0.0</td>\n",
       "      <td>2015-03-01</td>\n",
       "    </tr>\n",
       "    <tr>\n",
       "      <th>2507083</th>\n",
       "      <td>07.03.2015</td>\n",
       "      <td>26</td>\n",
       "      <td>59</td>\n",
       "      <td>22162</td>\n",
       "      <td>399.00</td>\n",
       "      <td>1.0</td>\n",
       "      <td>399.0</td>\n",
       "      <td>0.0</td>\n",
       "      <td>2015-03-07</td>\n",
       "    </tr>\n",
       "    <tr>\n",
       "      <th>2507084</th>\n",
       "      <td>22.03.2015</td>\n",
       "      <td>26</td>\n",
       "      <td>59</td>\n",
       "      <td>22162</td>\n",
       "      <td>399.00</td>\n",
       "      <td>1.0</td>\n",
       "      <td>399.0</td>\n",
       "      <td>0.0</td>\n",
       "      <td>2015-03-22</td>\n",
       "    </tr>\n",
       "    <tr>\n",
       "      <th>2549354</th>\n",
       "      <td>26.03.2015</td>\n",
       "      <td>26</td>\n",
       "      <td>59</td>\n",
       "      <td>22162</td>\n",
       "      <td>399.00</td>\n",
       "      <td>1.0</td>\n",
       "      <td>399.0</td>\n",
       "      <td>0.0</td>\n",
       "      <td>2015-03-26</td>\n",
       "    </tr>\n",
       "    <tr>\n",
       "      <th>2593333</th>\n",
       "      <td>17.04.2015</td>\n",
       "      <td>27</td>\n",
       "      <td>59</td>\n",
       "      <td>22162</td>\n",
       "      <td>349.00</td>\n",
       "      <td>1.0</td>\n",
       "      <td>349.0</td>\n",
       "      <td>0.0</td>\n",
       "      <td>2015-04-17</td>\n",
       "    </tr>\n",
       "    <tr>\n",
       "      <th>2651142</th>\n",
       "      <td>29.05.2015</td>\n",
       "      <td>28</td>\n",
       "      <td>59</td>\n",
       "      <td>22162</td>\n",
       "      <td>349.00</td>\n",
       "      <td>1.0</td>\n",
       "      <td>349.0</td>\n",
       "      <td>0.0</td>\n",
       "      <td>2015-05-29</td>\n",
       "    </tr>\n",
       "    <tr>\n",
       "      <th>2799748</th>\n",
       "      <td>11.08.2015</td>\n",
       "      <td>31</td>\n",
       "      <td>59</td>\n",
       "      <td>22162</td>\n",
       "      <td>349.00</td>\n",
       "      <td>1.0</td>\n",
       "      <td>349.0</td>\n",
       "      <td>0.0</td>\n",
       "      <td>2015-08-11</td>\n",
       "    </tr>\n",
       "    <tr>\n",
       "      <th>2471552</th>\n",
       "      <td>11.02.2015</td>\n",
       "      <td>25</td>\n",
       "      <td>59</td>\n",
       "      <td>22164</td>\n",
       "      <td>749.00</td>\n",
       "      <td>1.0</td>\n",
       "      <td>749.0</td>\n",
       "      <td>0.0</td>\n",
       "      <td>2015-02-11</td>\n",
       "    </tr>\n",
       "    <tr>\n",
       "      <th>2483751</th>\n",
       "      <td>13.02.2015</td>\n",
       "      <td>25</td>\n",
       "      <td>59</td>\n",
       "      <td>22164</td>\n",
       "      <td>749.00</td>\n",
       "      <td>1.0</td>\n",
       "      <td>749.0</td>\n",
       "      <td>0.0</td>\n",
       "      <td>2015-02-13</td>\n",
       "    </tr>\n",
       "    <tr>\n",
       "      <th>2553728</th>\n",
       "      <td>29.03.2015</td>\n",
       "      <td>26</td>\n",
       "      <td>59</td>\n",
       "      <td>22164</td>\n",
       "      <td>749.00</td>\n",
       "      <td>1.0</td>\n",
       "      <td>749.0</td>\n",
       "      <td>0.0</td>\n",
       "      <td>2015-03-29</td>\n",
       "    </tr>\n",
       "    <tr>\n",
       "      <th>2593342</th>\n",
       "      <td>22.04.2015</td>\n",
       "      <td>27</td>\n",
       "      <td>59</td>\n",
       "      <td>22164</td>\n",
       "      <td>699.00</td>\n",
       "      <td>1.0</td>\n",
       "      <td>699.0</td>\n",
       "      <td>0.0</td>\n",
       "      <td>2015-04-22</td>\n",
       "    </tr>\n",
       "    <tr>\n",
       "      <th>2593334</th>\n",
       "      <td>30.04.2015</td>\n",
       "      <td>27</td>\n",
       "      <td>59</td>\n",
       "      <td>22164</td>\n",
       "      <td>699.00</td>\n",
       "      <td>1.0</td>\n",
       "      <td>699.0</td>\n",
       "      <td>0.0</td>\n",
       "      <td>2015-04-30</td>\n",
       "    </tr>\n",
       "    <tr>\n",
       "      <th>2724674</th>\n",
       "      <td>21.07.2015</td>\n",
       "      <td>30</td>\n",
       "      <td>59</td>\n",
       "      <td>22164</td>\n",
       "      <td>699.00</td>\n",
       "      <td>1.0</td>\n",
       "      <td>699.0</td>\n",
       "      <td>0.0</td>\n",
       "      <td>2015-07-21</td>\n",
       "    </tr>\n",
       "    <tr>\n",
       "      <th>996180</th>\n",
       "      <td>25.10.2013</td>\n",
       "      <td>9</td>\n",
       "      <td>59</td>\n",
       "      <td>22167</td>\n",
       "      <td>299.00</td>\n",
       "      <td>1.0</td>\n",
       "      <td>299.0</td>\n",
       "      <td>0.0</td>\n",
       "      <td>2013-10-25</td>\n",
       "    </tr>\n",
       "    <tr>\n",
       "      <th>1219809</th>\n",
       "      <td>03.12.2013</td>\n",
       "      <td>11</td>\n",
       "      <td>59</td>\n",
       "      <td>22167</td>\n",
       "      <td>299.00</td>\n",
       "      <td>1.0</td>\n",
       "      <td>299.0</td>\n",
       "      <td>0.0</td>\n",
       "      <td>2013-12-03</td>\n",
       "    </tr>\n",
       "    <tr>\n",
       "      <th>1219808</th>\n",
       "      <td>14.12.2013</td>\n",
       "      <td>11</td>\n",
       "      <td>59</td>\n",
       "      <td>22167</td>\n",
       "      <td>299.00</td>\n",
       "      <td>1.0</td>\n",
       "      <td>299.0</td>\n",
       "      <td>0.0</td>\n",
       "      <td>2013-12-14</td>\n",
       "    </tr>\n",
       "    <tr>\n",
       "      <th>1719730</th>\n",
       "      <td>14.06.2014</td>\n",
       "      <td>17</td>\n",
       "      <td>59</td>\n",
       "      <td>22167</td>\n",
       "      <td>299.00</td>\n",
       "      <td>1.0</td>\n",
       "      <td>299.0</td>\n",
       "      <td>0.0</td>\n",
       "      <td>2014-06-14</td>\n",
       "    </tr>\n",
       "  </tbody>\n",
       "</table>\n",
       "<p>2935849 rows × 9 columns</p>\n",
       "</div>"
      ],
      "text/plain": [
       "               date  date_block_num  shop_id  item_id  item_price  \\\n",
       "173349   15.02.2013               1        0       30      265.00   \n",
       "173348   16.02.2013               1        0       30      265.00   \n",
       "173347   17.02.2013               1        0       30      265.00   \n",
       "173346   18.02.2013               1        0       30      265.00   \n",
       "173345   20.02.2013               1        0       30      265.00   \n",
       "173344   21.02.2013               1        0       30      265.00   \n",
       "173361   22.02.2013               1        0       30      265.00   \n",
       "173402   23.02.2013               1        0       30      265.00   \n",
       "173441   26.02.2013               1        0       30      265.00   \n",
       "173403   15.02.2013               1        0       31      434.00   \n",
       "173459   16.02.2013               1        0       31      434.00   \n",
       "173458   17.02.2013               1        0       31      434.00   \n",
       "173457   22.02.2013               1        0       31      434.00   \n",
       "173456   24.02.2013               1        0       31      434.00   \n",
       "173455   25.02.2013               1        0       31      434.00   \n",
       "173454   26.02.2013               1        0       31      434.00   \n",
       "40085    03.01.2013               0        0       32      221.00   \n",
       "40086    21.01.2013               0        0       32      221.00   \n",
       "40087    25.01.2013               0        0       32      221.00   \n",
       "40088    31.01.2013               0        0       32      221.00   \n",
       "173453   05.02.2013               1        0       32      221.00   \n",
       "173460   06.02.2013               1        0       32      221.00   \n",
       "173452   12.02.2013               1        0       32      221.00   \n",
       "173450   15.02.2013               1        0       32      221.00   \n",
       "173449   16.02.2013               1        0       32      221.00   \n",
       "173448   22.02.2013               1        0       32      221.00   \n",
       "173447   25.02.2013               1        0       32      221.00   \n",
       "40089    03.01.2013               0        0       33      347.00   \n",
       "40090    17.01.2013               0        0       33      347.00   \n",
       "40091    28.01.2013               0        0       33      347.00   \n",
       "...             ...             ...      ...      ...         ...   \n",
       "342905   30.03.2013               2       59    22151      399.00   \n",
       "1895940  28.08.2014              19       59    22153      135.33   \n",
       "0        02.01.2013               0       59    22154      999.00   \n",
       "704965   11.07.2013               6       59    22155      149.00   \n",
       "2435401  09.02.2015              25       59    22162      399.00   \n",
       "2435402  13.02.2015              25       59    22162      399.00   \n",
       "2435403  14.02.2015              25       59    22162      399.00   \n",
       "2435404  15.02.2015              25       59    22162      399.00   \n",
       "2435405  16.02.2015              25       59    22162      399.00   \n",
       "2435406  17.02.2015              25       59    22162      399.00   \n",
       "2435407  19.02.2015              25       59    22162      399.00   \n",
       "2435408  22.02.2015              25       59    22162      399.00   \n",
       "2435409  24.02.2015              25       59    22162      399.00   \n",
       "2507082  01.03.2015              26       59    22162      399.00   \n",
       "2507083  07.03.2015              26       59    22162      399.00   \n",
       "2507084  22.03.2015              26       59    22162      399.00   \n",
       "2549354  26.03.2015              26       59    22162      399.00   \n",
       "2593333  17.04.2015              27       59    22162      349.00   \n",
       "2651142  29.05.2015              28       59    22162      349.00   \n",
       "2799748  11.08.2015              31       59    22162      349.00   \n",
       "2471552  11.02.2015              25       59    22164      749.00   \n",
       "2483751  13.02.2015              25       59    22164      749.00   \n",
       "2553728  29.03.2015              26       59    22164      749.00   \n",
       "2593342  22.04.2015              27       59    22164      699.00   \n",
       "2593334  30.04.2015              27       59    22164      699.00   \n",
       "2724674  21.07.2015              30       59    22164      699.00   \n",
       "996180   25.10.2013               9       59    22167      299.00   \n",
       "1219809  03.12.2013              11       59    22167      299.00   \n",
       "1219808  14.12.2013              11       59    22167      299.00   \n",
       "1719730  14.06.2014              17       59    22167      299.00   \n",
       "\n",
       "         item_cnt_day  item_price_whole  item_price_fraction   date_new  \n",
       "173349            2.0             265.0                  0.0 2013-02-15  \n",
       "173348            9.0             265.0                  0.0 2013-02-16  \n",
       "173347            4.0             265.0                  0.0 2013-02-17  \n",
       "173346            4.0             265.0                  0.0 2013-02-18  \n",
       "173345            2.0             265.0                  0.0 2013-02-20  \n",
       "173344            2.0             265.0                  0.0 2013-02-21  \n",
       "173361            2.0             265.0                  0.0 2013-02-22  \n",
       "173402            3.0             265.0                  0.0 2013-02-23  \n",
       "173441            3.0             265.0                  0.0 2013-02-26  \n",
       "173403            3.0             434.0                  0.0 2013-02-15  \n",
       "173459            1.0             434.0                  0.0 2013-02-16  \n",
       "173458            3.0             434.0                  0.0 2013-02-17  \n",
       "173457            1.0             434.0                  0.0 2013-02-22  \n",
       "173456            1.0             434.0                  0.0 2013-02-24  \n",
       "173455            1.0             434.0                  0.0 2013-02-25  \n",
       "173454            1.0             434.0                  0.0 2013-02-26  \n",
       "40085             2.0             221.0                  0.0 2013-01-03  \n",
       "40086             2.0             221.0                  0.0 2013-01-21  \n",
       "40087             1.0             221.0                  0.0 2013-01-25  \n",
       "40088             1.0             221.0                  0.0 2013-01-31  \n",
       "173453            1.0             221.0                  0.0 2013-02-05  \n",
       "173460            1.0             221.0                  0.0 2013-02-06  \n",
       "173452            2.0             221.0                  0.0 2013-02-12  \n",
       "173450            1.0             221.0                  0.0 2013-02-15  \n",
       "173449            2.0             221.0                  0.0 2013-02-16  \n",
       "173448            2.0             221.0                  0.0 2013-02-22  \n",
       "173447            1.0             221.0                  0.0 2013-02-25  \n",
       "40089             1.0             347.0                  0.0 2013-01-03  \n",
       "40090             1.0             347.0                  0.0 2013-01-17  \n",
       "40091             1.0             347.0                  0.0 2013-01-28  \n",
       "...               ...               ...                  ...        ...  \n",
       "342905            1.0             399.0                  0.0 2013-03-30  \n",
       "1895940           1.0             135.0                 33.0 2014-08-28  \n",
       "0                 1.0             999.0                  0.0 2013-01-02  \n",
       "704965            1.0             149.0                  0.0 2013-07-11  \n",
       "2435401           1.0             399.0                  0.0 2015-02-09  \n",
       "2435402           1.0             399.0                  0.0 2015-02-13  \n",
       "2435403           1.0             399.0                  0.0 2015-02-14  \n",
       "2435404           1.0             399.0                  0.0 2015-02-15  \n",
       "2435405           1.0             399.0                  0.0 2015-02-16  \n",
       "2435406           1.0             399.0                  0.0 2015-02-17  \n",
       "2435407           1.0             399.0                  0.0 2015-02-19  \n",
       "2435408           1.0             399.0                  0.0 2015-02-22  \n",
       "2435409           1.0             399.0                  0.0 2015-02-24  \n",
       "2507082           1.0             399.0                  0.0 2015-03-01  \n",
       "2507083           1.0             399.0                  0.0 2015-03-07  \n",
       "2507084           1.0             399.0                  0.0 2015-03-22  \n",
       "2549354           1.0             399.0                  0.0 2015-03-26  \n",
       "2593333           1.0             349.0                  0.0 2015-04-17  \n",
       "2651142           1.0             349.0                  0.0 2015-05-29  \n",
       "2799748           1.0             349.0                  0.0 2015-08-11  \n",
       "2471552           1.0             749.0                  0.0 2015-02-11  \n",
       "2483751           1.0             749.0                  0.0 2015-02-13  \n",
       "2553728           1.0             749.0                  0.0 2015-03-29  \n",
       "2593342           1.0             699.0                  0.0 2015-04-22  \n",
       "2593334           1.0             699.0                  0.0 2015-04-30  \n",
       "2724674           1.0             699.0                  0.0 2015-07-21  \n",
       "996180            1.0             299.0                  0.0 2013-10-25  \n",
       "1219809           1.0             299.0                  0.0 2013-12-03  \n",
       "1219808           1.0             299.0                  0.0 2013-12-14  \n",
       "1719730           1.0             299.0                  0.0 2014-06-14  \n",
       "\n",
       "[2935849 rows x 9 columns]"
      ]
     },
     "execution_count": 15,
     "metadata": {},
     "output_type": "execute_result"
    }
   ],
   "source": [
    "train.sort_index(by=['shop_id', 'item_id','date_new'])"
   ]
  },
  {
   "cell_type": "code",
   "execution_count": 16,
   "metadata": {
    "ExecuteTime": {
     "end_time": "2018-06-21T18:18:21.545427Z",
     "start_time": "2018-06-21T18:18:19.195384Z"
    },
    "collapsed": true
   },
   "outputs": [],
   "source": [
    "train = train.drop_duplicates()"
   ]
  },
  {
   "cell_type": "code",
   "execution_count": 17,
   "metadata": {
    "ExecuteTime": {
     "end_time": "2018-06-21T18:18:21.572440Z",
     "start_time": "2018-06-21T18:18:21.548050Z"
    }
   },
   "outputs": [
    {
     "data": {
      "text/html": [
       "<div>\n",
       "<style>\n",
       "    .dataframe thead tr:only-child th {\n",
       "        text-align: right;\n",
       "    }\n",
       "\n",
       "    .dataframe thead th {\n",
       "        text-align: left;\n",
       "    }\n",
       "\n",
       "    .dataframe tbody tr th {\n",
       "        vertical-align: top;\n",
       "    }\n",
       "</style>\n",
       "<table border=\"1\" class=\"dataframe\">\n",
       "  <thead>\n",
       "    <tr style=\"text-align: right;\">\n",
       "      <th></th>\n",
       "      <th>date</th>\n",
       "      <th>date_block_num</th>\n",
       "      <th>shop_id</th>\n",
       "      <th>item_id</th>\n",
       "      <th>item_price</th>\n",
       "      <th>item_cnt_day</th>\n",
       "      <th>item_price_whole</th>\n",
       "      <th>item_price_fraction</th>\n",
       "      <th>date_new</th>\n",
       "    </tr>\n",
       "  </thead>\n",
       "  <tbody>\n",
       "    <tr>\n",
       "      <th>0</th>\n",
       "      <td>02.01.2013</td>\n",
       "      <td>0</td>\n",
       "      <td>59</td>\n",
       "      <td>22154</td>\n",
       "      <td>999.00</td>\n",
       "      <td>1.0</td>\n",
       "      <td>999.0</td>\n",
       "      <td>0.0</td>\n",
       "      <td>2013-01-02</td>\n",
       "    </tr>\n",
       "    <tr>\n",
       "      <th>1</th>\n",
       "      <td>03.01.2013</td>\n",
       "      <td>0</td>\n",
       "      <td>25</td>\n",
       "      <td>2552</td>\n",
       "      <td>899.00</td>\n",
       "      <td>1.0</td>\n",
       "      <td>899.0</td>\n",
       "      <td>0.0</td>\n",
       "      <td>2013-01-03</td>\n",
       "    </tr>\n",
       "    <tr>\n",
       "      <th>2</th>\n",
       "      <td>05.01.2013</td>\n",
       "      <td>0</td>\n",
       "      <td>25</td>\n",
       "      <td>2552</td>\n",
       "      <td>899.00</td>\n",
       "      <td>-1.0</td>\n",
       "      <td>899.0</td>\n",
       "      <td>0.0</td>\n",
       "      <td>2013-01-05</td>\n",
       "    </tr>\n",
       "    <tr>\n",
       "      <th>3</th>\n",
       "      <td>06.01.2013</td>\n",
       "      <td>0</td>\n",
       "      <td>25</td>\n",
       "      <td>2554</td>\n",
       "      <td>1709.05</td>\n",
       "      <td>1.0</td>\n",
       "      <td>1709.0</td>\n",
       "      <td>5.0</td>\n",
       "      <td>2013-01-06</td>\n",
       "    </tr>\n",
       "    <tr>\n",
       "      <th>4</th>\n",
       "      <td>15.01.2013</td>\n",
       "      <td>0</td>\n",
       "      <td>25</td>\n",
       "      <td>2555</td>\n",
       "      <td>1099.00</td>\n",
       "      <td>1.0</td>\n",
       "      <td>1099.0</td>\n",
       "      <td>0.0</td>\n",
       "      <td>2013-01-15</td>\n",
       "    </tr>\n",
       "  </tbody>\n",
       "</table>\n",
       "</div>"
      ],
      "text/plain": [
       "         date  date_block_num  shop_id  item_id  item_price  item_cnt_day  \\\n",
       "0  02.01.2013               0       59    22154      999.00           1.0   \n",
       "1  03.01.2013               0       25     2552      899.00           1.0   \n",
       "2  05.01.2013               0       25     2552      899.00          -1.0   \n",
       "3  06.01.2013               0       25     2554     1709.05           1.0   \n",
       "4  15.01.2013               0       25     2555     1099.00           1.0   \n",
       "\n",
       "   item_price_whole  item_price_fraction   date_new  \n",
       "0             999.0                  0.0 2013-01-02  \n",
       "1             899.0                  0.0 2013-01-03  \n",
       "2             899.0                  0.0 2013-01-05  \n",
       "3            1709.0                  5.0 2013-01-06  \n",
       "4            1099.0                  0.0 2013-01-15  "
      ]
     },
     "execution_count": 17,
     "metadata": {},
     "output_type": "execute_result"
    }
   ],
   "source": [
    "train.head()"
   ]
  },
  {
   "cell_type": "code",
   "execution_count": 18,
   "metadata": {
    "ExecuteTime": {
     "end_time": "2018-06-21T18:18:21.599354Z",
     "start_time": "2018-06-21T18:18:21.575969Z"
    }
   },
   "outputs": [
    {
     "data": {
      "text/html": [
       "<div>\n",
       "<style>\n",
       "    .dataframe thead tr:only-child th {\n",
       "        text-align: right;\n",
       "    }\n",
       "\n",
       "    .dataframe thead th {\n",
       "        text-align: left;\n",
       "    }\n",
       "\n",
       "    .dataframe tbody tr th {\n",
       "        vertical-align: top;\n",
       "    }\n",
       "</style>\n",
       "<table border=\"1\" class=\"dataframe\">\n",
       "  <thead>\n",
       "    <tr style=\"text-align: right;\">\n",
       "      <th></th>\n",
       "      <th>date</th>\n",
       "      <th>date_block_num</th>\n",
       "      <th>shop_id</th>\n",
       "      <th>item_id</th>\n",
       "      <th>item_price</th>\n",
       "      <th>item_cnt_day</th>\n",
       "      <th>item_price_whole</th>\n",
       "      <th>item_price_fraction</th>\n",
       "      <th>date_new</th>\n",
       "    </tr>\n",
       "  </thead>\n",
       "  <tbody>\n",
       "    <tr>\n",
       "      <th>2935844</th>\n",
       "      <td>10.10.2015</td>\n",
       "      <td>33</td>\n",
       "      <td>25</td>\n",
       "      <td>7409</td>\n",
       "      <td>299.0</td>\n",
       "      <td>1.0</td>\n",
       "      <td>299.0</td>\n",
       "      <td>0.0</td>\n",
       "      <td>2015-10-10</td>\n",
       "    </tr>\n",
       "    <tr>\n",
       "      <th>2935845</th>\n",
       "      <td>09.10.2015</td>\n",
       "      <td>33</td>\n",
       "      <td>25</td>\n",
       "      <td>7460</td>\n",
       "      <td>299.0</td>\n",
       "      <td>1.0</td>\n",
       "      <td>299.0</td>\n",
       "      <td>0.0</td>\n",
       "      <td>2015-10-09</td>\n",
       "    </tr>\n",
       "    <tr>\n",
       "      <th>2935846</th>\n",
       "      <td>14.10.2015</td>\n",
       "      <td>33</td>\n",
       "      <td>25</td>\n",
       "      <td>7459</td>\n",
       "      <td>349.0</td>\n",
       "      <td>1.0</td>\n",
       "      <td>349.0</td>\n",
       "      <td>0.0</td>\n",
       "      <td>2015-10-14</td>\n",
       "    </tr>\n",
       "    <tr>\n",
       "      <th>2935847</th>\n",
       "      <td>22.10.2015</td>\n",
       "      <td>33</td>\n",
       "      <td>25</td>\n",
       "      <td>7440</td>\n",
       "      <td>299.0</td>\n",
       "      <td>1.0</td>\n",
       "      <td>299.0</td>\n",
       "      <td>0.0</td>\n",
       "      <td>2015-10-22</td>\n",
       "    </tr>\n",
       "    <tr>\n",
       "      <th>2935848</th>\n",
       "      <td>03.10.2015</td>\n",
       "      <td>33</td>\n",
       "      <td>25</td>\n",
       "      <td>7460</td>\n",
       "      <td>299.0</td>\n",
       "      <td>1.0</td>\n",
       "      <td>299.0</td>\n",
       "      <td>0.0</td>\n",
       "      <td>2015-10-03</td>\n",
       "    </tr>\n",
       "  </tbody>\n",
       "</table>\n",
       "</div>"
      ],
      "text/plain": [
       "               date  date_block_num  shop_id  item_id  item_price  \\\n",
       "2935844  10.10.2015              33       25     7409       299.0   \n",
       "2935845  09.10.2015              33       25     7460       299.0   \n",
       "2935846  14.10.2015              33       25     7459       349.0   \n",
       "2935847  22.10.2015              33       25     7440       299.0   \n",
       "2935848  03.10.2015              33       25     7460       299.0   \n",
       "\n",
       "         item_cnt_day  item_price_whole  item_price_fraction   date_new  \n",
       "2935844           1.0             299.0                  0.0 2015-10-10  \n",
       "2935845           1.0             299.0                  0.0 2015-10-09  \n",
       "2935846           1.0             349.0                  0.0 2015-10-14  \n",
       "2935847           1.0             299.0                  0.0 2015-10-22  \n",
       "2935848           1.0             299.0                  0.0 2015-10-03  "
      ]
     },
     "execution_count": 18,
     "metadata": {},
     "output_type": "execute_result"
    }
   ],
   "source": [
    "train.tail()"
   ]
  },
  {
   "cell_type": "code",
   "execution_count": 22,
   "metadata": {
    "ExecuteTime": {
     "end_time": "2018-06-21T18:25:21.369030Z",
     "start_time": "2018-06-21T18:25:21.355232Z"
    }
   },
   "outputs": [
    {
     "data": {
      "text/html": [
       "<div>\n",
       "<style>\n",
       "    .dataframe thead tr:only-child th {\n",
       "        text-align: right;\n",
       "    }\n",
       "\n",
       "    .dataframe thead th {\n",
       "        text-align: left;\n",
       "    }\n",
       "\n",
       "    .dataframe tbody tr th {\n",
       "        vertical-align: top;\n",
       "    }\n",
       "</style>\n",
       "<table border=\"1\" class=\"dataframe\">\n",
       "  <thead>\n",
       "    <tr style=\"text-align: right;\">\n",
       "      <th></th>\n",
       "      <th>ID</th>\n",
       "      <th>shop_id</th>\n",
       "      <th>item_id</th>\n",
       "    </tr>\n",
       "  </thead>\n",
       "  <tbody>\n",
       "    <tr>\n",
       "      <th>0</th>\n",
       "      <td>0</td>\n",
       "      <td>5</td>\n",
       "      <td>5037</td>\n",
       "    </tr>\n",
       "    <tr>\n",
       "      <th>1</th>\n",
       "      <td>1</td>\n",
       "      <td>5</td>\n",
       "      <td>5320</td>\n",
       "    </tr>\n",
       "    <tr>\n",
       "      <th>2</th>\n",
       "      <td>2</td>\n",
       "      <td>5</td>\n",
       "      <td>5233</td>\n",
       "    </tr>\n",
       "    <tr>\n",
       "      <th>3</th>\n",
       "      <td>3</td>\n",
       "      <td>5</td>\n",
       "      <td>5232</td>\n",
       "    </tr>\n",
       "    <tr>\n",
       "      <th>4</th>\n",
       "      <td>4</td>\n",
       "      <td>5</td>\n",
       "      <td>5268</td>\n",
       "    </tr>\n",
       "  </tbody>\n",
       "</table>\n",
       "</div>"
      ],
      "text/plain": [
       "   ID  shop_id  item_id\n",
       "0   0        5     5037\n",
       "1   1        5     5320\n",
       "2   2        5     5233\n",
       "3   3        5     5232\n",
       "4   4        5     5268"
      ]
     },
     "execution_count": 22,
     "metadata": {},
     "output_type": "execute_result"
    }
   ],
   "source": [
    "test.head()"
   ]
  },
  {
   "cell_type": "code",
   "execution_count": 23,
   "metadata": {
    "ExecuteTime": {
     "end_time": "2018-06-21T18:27:15.294350Z",
     "start_time": "2018-06-21T18:26:24.551544Z"
    },
    "collapsed": true
   },
   "outputs": [],
   "source": [
    "train['Month'] = train['date_new'].dt.month\n",
    "train['Year'] = train['date_new'].dt.year"
   ]
  },
  {
   "cell_type": "code",
   "execution_count": 24,
   "metadata": {
    "ExecuteTime": {
     "end_time": "2018-06-21T18:27:15.324802Z",
     "start_time": "2018-06-21T18:27:15.297361Z"
    }
   },
   "outputs": [
    {
     "data": {
      "text/html": [
       "<div>\n",
       "<style>\n",
       "    .dataframe thead tr:only-child th {\n",
       "        text-align: right;\n",
       "    }\n",
       "\n",
       "    .dataframe thead th {\n",
       "        text-align: left;\n",
       "    }\n",
       "\n",
       "    .dataframe tbody tr th {\n",
       "        vertical-align: top;\n",
       "    }\n",
       "</style>\n",
       "<table border=\"1\" class=\"dataframe\">\n",
       "  <thead>\n",
       "    <tr style=\"text-align: right;\">\n",
       "      <th></th>\n",
       "      <th>date</th>\n",
       "      <th>date_block_num</th>\n",
       "      <th>shop_id</th>\n",
       "      <th>item_id</th>\n",
       "      <th>item_price</th>\n",
       "      <th>item_cnt_day</th>\n",
       "      <th>item_price_whole</th>\n",
       "      <th>item_price_fraction</th>\n",
       "      <th>date_new</th>\n",
       "      <th>Month</th>\n",
       "      <th>Year</th>\n",
       "    </tr>\n",
       "  </thead>\n",
       "  <tbody>\n",
       "    <tr>\n",
       "      <th>0</th>\n",
       "      <td>02.01.2013</td>\n",
       "      <td>0</td>\n",
       "      <td>59</td>\n",
       "      <td>22154</td>\n",
       "      <td>999.00</td>\n",
       "      <td>1.0</td>\n",
       "      <td>999.0</td>\n",
       "      <td>0.0</td>\n",
       "      <td>2013-01-02</td>\n",
       "      <td>1</td>\n",
       "      <td>2013</td>\n",
       "    </tr>\n",
       "    <tr>\n",
       "      <th>1</th>\n",
       "      <td>03.01.2013</td>\n",
       "      <td>0</td>\n",
       "      <td>25</td>\n",
       "      <td>2552</td>\n",
       "      <td>899.00</td>\n",
       "      <td>1.0</td>\n",
       "      <td>899.0</td>\n",
       "      <td>0.0</td>\n",
       "      <td>2013-01-03</td>\n",
       "      <td>1</td>\n",
       "      <td>2013</td>\n",
       "    </tr>\n",
       "    <tr>\n",
       "      <th>2</th>\n",
       "      <td>05.01.2013</td>\n",
       "      <td>0</td>\n",
       "      <td>25</td>\n",
       "      <td>2552</td>\n",
       "      <td>899.00</td>\n",
       "      <td>-1.0</td>\n",
       "      <td>899.0</td>\n",
       "      <td>0.0</td>\n",
       "      <td>2013-01-05</td>\n",
       "      <td>1</td>\n",
       "      <td>2013</td>\n",
       "    </tr>\n",
       "    <tr>\n",
       "      <th>3</th>\n",
       "      <td>06.01.2013</td>\n",
       "      <td>0</td>\n",
       "      <td>25</td>\n",
       "      <td>2554</td>\n",
       "      <td>1709.05</td>\n",
       "      <td>1.0</td>\n",
       "      <td>1709.0</td>\n",
       "      <td>5.0</td>\n",
       "      <td>2013-01-06</td>\n",
       "      <td>1</td>\n",
       "      <td>2013</td>\n",
       "    </tr>\n",
       "    <tr>\n",
       "      <th>4</th>\n",
       "      <td>15.01.2013</td>\n",
       "      <td>0</td>\n",
       "      <td>25</td>\n",
       "      <td>2555</td>\n",
       "      <td>1099.00</td>\n",
       "      <td>1.0</td>\n",
       "      <td>1099.0</td>\n",
       "      <td>0.0</td>\n",
       "      <td>2013-01-15</td>\n",
       "      <td>1</td>\n",
       "      <td>2013</td>\n",
       "    </tr>\n",
       "  </tbody>\n",
       "</table>\n",
       "</div>"
      ],
      "text/plain": [
       "         date  date_block_num  shop_id  item_id  item_price  item_cnt_day  \\\n",
       "0  02.01.2013               0       59    22154      999.00           1.0   \n",
       "1  03.01.2013               0       25     2552      899.00           1.0   \n",
       "2  05.01.2013               0       25     2552      899.00          -1.0   \n",
       "3  06.01.2013               0       25     2554     1709.05           1.0   \n",
       "4  15.01.2013               0       25     2555     1099.00           1.0   \n",
       "\n",
       "   item_price_whole  item_price_fraction   date_new  Month  Year  \n",
       "0             999.0                  0.0 2013-01-02      1  2013  \n",
       "1             899.0                  0.0 2013-01-03      1  2013  \n",
       "2             899.0                  0.0 2013-01-05      1  2013  \n",
       "3            1709.0                  5.0 2013-01-06      1  2013  \n",
       "4            1099.0                  0.0 2013-01-15      1  2013  "
      ]
     },
     "execution_count": 24,
     "metadata": {},
     "output_type": "execute_result"
    }
   ],
   "source": [
    "train.head()"
   ]
  },
  {
   "cell_type": "markdown",
   "metadata": {
    "heading_collapsed": true
   },
   "source": [
    "###   Aggregating given data by shop id, item id , year and Month for machine learning - Test data set consists of only shop id and item id."
   ]
  },
  {
   "cell_type": "code",
   "execution_count": 25,
   "metadata": {
    "ExecuteTime": {
     "end_time": "2018-06-21T18:34:57.252142Z",
     "start_time": "2018-06-21T18:28:36.081818Z"
    },
    "collapsed": true,
    "hidden": true
   },
   "outputs": [],
   "source": [
    "Temp_Agg1 = train.groupby(['shop_id', 'item_id','Year','Month']).agg(['sum'])['item_cnt_day']"
   ]
  },
  {
   "cell_type": "code",
   "execution_count": 27,
   "metadata": {
    "ExecuteTime": {
     "end_time": "2018-06-21T18:52:38.963813Z",
     "start_time": "2018-06-21T18:52:38.908038Z"
    },
    "hidden": true
   },
   "outputs": [],
   "source": [
    "Temp_Agg1= Temp_Agg1.reset_index()"
   ]
  },
  {
   "cell_type": "code",
   "execution_count": 28,
   "metadata": {
    "ExecuteTime": {
     "end_time": "2018-06-21T18:52:44.805202Z",
     "start_time": "2018-06-21T18:52:44.787108Z"
    },
    "hidden": true
   },
   "outputs": [
    {
     "data": {
      "text/html": [
       "<div>\n",
       "<style>\n",
       "    .dataframe thead tr:only-child th {\n",
       "        text-align: right;\n",
       "    }\n",
       "\n",
       "    .dataframe thead th {\n",
       "        text-align: left;\n",
       "    }\n",
       "\n",
       "    .dataframe tbody tr th {\n",
       "        vertical-align: top;\n",
       "    }\n",
       "</style>\n",
       "<table border=\"1\" class=\"dataframe\">\n",
       "  <thead>\n",
       "    <tr style=\"text-align: right;\">\n",
       "      <th></th>\n",
       "      <th>shop_id</th>\n",
       "      <th>item_id</th>\n",
       "      <th>Year</th>\n",
       "      <th>Month</th>\n",
       "      <th>sum</th>\n",
       "    </tr>\n",
       "  </thead>\n",
       "  <tbody>\n",
       "    <tr>\n",
       "      <th>0</th>\n",
       "      <td>0</td>\n",
       "      <td>30</td>\n",
       "      <td>2013</td>\n",
       "      <td>2</td>\n",
       "      <td>31.0</td>\n",
       "    </tr>\n",
       "    <tr>\n",
       "      <th>1</th>\n",
       "      <td>0</td>\n",
       "      <td>31</td>\n",
       "      <td>2013</td>\n",
       "      <td>2</td>\n",
       "      <td>11.0</td>\n",
       "    </tr>\n",
       "    <tr>\n",
       "      <th>2</th>\n",
       "      <td>0</td>\n",
       "      <td>32</td>\n",
       "      <td>2013</td>\n",
       "      <td>1</td>\n",
       "      <td>6.0</td>\n",
       "    </tr>\n",
       "    <tr>\n",
       "      <th>3</th>\n",
       "      <td>0</td>\n",
       "      <td>32</td>\n",
       "      <td>2013</td>\n",
       "      <td>2</td>\n",
       "      <td>10.0</td>\n",
       "    </tr>\n",
       "    <tr>\n",
       "      <th>4</th>\n",
       "      <td>0</td>\n",
       "      <td>33</td>\n",
       "      <td>2013</td>\n",
       "      <td>1</td>\n",
       "      <td>3.0</td>\n",
       "    </tr>\n",
       "  </tbody>\n",
       "</table>\n",
       "</div>"
      ],
      "text/plain": [
       "   shop_id  item_id  Year  Month   sum\n",
       "0        0       30  2013      2  31.0\n",
       "1        0       31  2013      2  11.0\n",
       "2        0       32  2013      1   6.0\n",
       "3        0       32  2013      2  10.0\n",
       "4        0       33  2013      1   3.0"
      ]
     },
     "execution_count": 28,
     "metadata": {},
     "output_type": "execute_result"
    }
   ],
   "source": [
    "Temp_Agg1.head()"
   ]
  },
  {
   "cell_type": "code",
   "execution_count": 43,
   "metadata": {
    "ExecuteTime": {
     "end_time": "2018-06-21T18:58:15.135164Z",
     "start_time": "2018-06-21T18:58:15.118604Z"
    },
    "hidden": true
   },
   "outputs": [
    {
     "data": {
      "text/html": [
       "<div>\n",
       "<style>\n",
       "    .dataframe thead tr:only-child th {\n",
       "        text-align: right;\n",
       "    }\n",
       "\n",
       "    .dataframe thead th {\n",
       "        text-align: left;\n",
       "    }\n",
       "\n",
       "    .dataframe tbody tr th {\n",
       "        vertical-align: top;\n",
       "    }\n",
       "</style>\n",
       "<table border=\"1\" class=\"dataframe\">\n",
       "  <thead>\n",
       "    <tr style=\"text-align: right;\">\n",
       "      <th></th>\n",
       "      <th>shop_id</th>\n",
       "      <th>item_id</th>\n",
       "      <th>Year</th>\n",
       "      <th>Month</th>\n",
       "      <th>sum</th>\n",
       "    </tr>\n",
       "  </thead>\n",
       "  <tbody>\n",
       "    <tr>\n",
       "      <th>0</th>\n",
       "      <td>0</td>\n",
       "      <td>30</td>\n",
       "      <td>2013</td>\n",
       "      <td>2</td>\n",
       "      <td>31.0</td>\n",
       "    </tr>\n",
       "    <tr>\n",
       "      <th>1</th>\n",
       "      <td>0</td>\n",
       "      <td>31</td>\n",
       "      <td>2013</td>\n",
       "      <td>2</td>\n",
       "      <td>11.0</td>\n",
       "    </tr>\n",
       "    <tr>\n",
       "      <th>2</th>\n",
       "      <td>0</td>\n",
       "      <td>32</td>\n",
       "      <td>2013</td>\n",
       "      <td>1</td>\n",
       "      <td>6.0</td>\n",
       "    </tr>\n",
       "    <tr>\n",
       "      <th>3</th>\n",
       "      <td>0</td>\n",
       "      <td>32</td>\n",
       "      <td>2013</td>\n",
       "      <td>2</td>\n",
       "      <td>10.0</td>\n",
       "    </tr>\n",
       "    <tr>\n",
       "      <th>4</th>\n",
       "      <td>0</td>\n",
       "      <td>33</td>\n",
       "      <td>2013</td>\n",
       "      <td>1</td>\n",
       "      <td>3.0</td>\n",
       "    </tr>\n",
       "  </tbody>\n",
       "</table>\n",
       "</div>"
      ],
      "text/plain": [
       "   shop_id  item_id  Year  Month   sum\n",
       "0        0       30  2013      2  31.0\n",
       "1        0       31  2013      2  11.0\n",
       "2        0       32  2013      1   6.0\n",
       "3        0       32  2013      2  10.0\n",
       "4        0       33  2013      1   3.0"
      ]
     },
     "execution_count": 43,
     "metadata": {},
     "output_type": "execute_result"
    }
   ],
   "source": [
    "Temp_Agg1.head()"
   ]
  },
  {
   "cell_type": "markdown",
   "metadata": {
    "heading_collapsed": true
   },
   "source": [
    "### Count of Rows in each Year - Month \n"
   ]
  },
  {
   "cell_type": "code",
   "execution_count": 47,
   "metadata": {
    "ExecuteTime": {
     "end_time": "2018-06-21T18:59:45.302196Z",
     "start_time": "2018-06-21T18:59:45.053945Z"
    },
    "hidden": true
   },
   "outputs": [
    {
     "data": {
      "text/html": [
       "<div>\n",
       "<style>\n",
       "    .dataframe thead tr:only-child th {\n",
       "        text-align: right;\n",
       "    }\n",
       "\n",
       "    .dataframe thead th {\n",
       "        text-align: left;\n",
       "    }\n",
       "\n",
       "    .dataframe tbody tr th {\n",
       "        vertical-align: top;\n",
       "    }\n",
       "</style>\n",
       "<table border=\"1\" class=\"dataframe\">\n",
       "  <thead>\n",
       "    <tr style=\"text-align: right;\">\n",
       "      <th></th>\n",
       "      <th></th>\n",
       "      <th>count</th>\n",
       "    </tr>\n",
       "    <tr>\n",
       "      <th>Year</th>\n",
       "      <th>Month</th>\n",
       "      <th></th>\n",
       "    </tr>\n",
       "  </thead>\n",
       "  <tbody>\n",
       "    <tr>\n",
       "      <th rowspan=\"12\" valign=\"top\">2013</th>\n",
       "      <th>1</th>\n",
       "      <td>63224</td>\n",
       "    </tr>\n",
       "    <tr>\n",
       "      <th>2</th>\n",
       "      <td>59935</td>\n",
       "    </tr>\n",
       "    <tr>\n",
       "      <th>3</th>\n",
       "      <td>63977</td>\n",
       "    </tr>\n",
       "    <tr>\n",
       "      <th>4</th>\n",
       "      <td>54638</td>\n",
       "    </tr>\n",
       "    <tr>\n",
       "      <th>5</th>\n",
       "      <td>53296</td>\n",
       "    </tr>\n",
       "    <tr>\n",
       "      <th>6</th>\n",
       "      <td>56196</td>\n",
       "    </tr>\n",
       "    <tr>\n",
       "      <th>7</th>\n",
       "      <td>58035</td>\n",
       "    </tr>\n",
       "    <tr>\n",
       "      <th>8</th>\n",
       "      <td>58022</td>\n",
       "    </tr>\n",
       "    <tr>\n",
       "      <th>9</th>\n",
       "      <td>51575</td>\n",
       "    </tr>\n",
       "    <tr>\n",
       "      <th>10</th>\n",
       "      <td>51090</td>\n",
       "    </tr>\n",
       "    <tr>\n",
       "      <th>11</th>\n",
       "      <td>51460</td>\n",
       "    </tr>\n",
       "    <tr>\n",
       "      <th>12</th>\n",
       "      <td>66276</td>\n",
       "    </tr>\n",
       "    <tr>\n",
       "      <th rowspan=\"12\" valign=\"top\">2014</th>\n",
       "      <th>1</th>\n",
       "      <td>53320</td>\n",
       "    </tr>\n",
       "    <tr>\n",
       "      <th>2</th>\n",
       "      <td>47704</td>\n",
       "    </tr>\n",
       "    <tr>\n",
       "      <th>3</th>\n",
       "      <td>49291</td>\n",
       "    </tr>\n",
       "    <tr>\n",
       "      <th>4</th>\n",
       "      <td>44740</td>\n",
       "    </tr>\n",
       "    <tr>\n",
       "      <th>5</th>\n",
       "      <td>45766</td>\n",
       "    </tr>\n",
       "    <tr>\n",
       "      <th>6</th>\n",
       "      <td>46481</td>\n",
       "    </tr>\n",
       "    <tr>\n",
       "      <th>7</th>\n",
       "      <td>45756</td>\n",
       "    </tr>\n",
       "    <tr>\n",
       "      <th>8</th>\n",
       "      <td>46439</td>\n",
       "    </tr>\n",
       "    <tr>\n",
       "      <th>9</th>\n",
       "      <td>40423</td>\n",
       "    </tr>\n",
       "    <tr>\n",
       "      <th>10</th>\n",
       "      <td>42595</td>\n",
       "    </tr>\n",
       "    <tr>\n",
       "      <th>11</th>\n",
       "      <td>45755</td>\n",
       "    </tr>\n",
       "    <tr>\n",
       "      <th>12</th>\n",
       "      <td>59275</td>\n",
       "    </tr>\n",
       "    <tr>\n",
       "      <th rowspan=\"10\" valign=\"top\">2015</th>\n",
       "      <th>1</th>\n",
       "      <td>46775</td>\n",
       "    </tr>\n",
       "    <tr>\n",
       "      <th>2</th>\n",
       "      <td>41390</td>\n",
       "    </tr>\n",
       "    <tr>\n",
       "      <th>3</th>\n",
       "      <td>40464</td>\n",
       "    </tr>\n",
       "    <tr>\n",
       "      <th>4</th>\n",
       "      <td>32875</td>\n",
       "    </tr>\n",
       "    <tr>\n",
       "      <th>5</th>\n",
       "      <td>32220</td>\n",
       "    </tr>\n",
       "    <tr>\n",
       "      <th>6</th>\n",
       "      <td>31909</td>\n",
       "    </tr>\n",
       "    <tr>\n",
       "      <th>7</th>\n",
       "      <td>33527</td>\n",
       "    </tr>\n",
       "    <tr>\n",
       "      <th>8</th>\n",
       "      <td>33486</td>\n",
       "    </tr>\n",
       "    <tr>\n",
       "      <th>9</th>\n",
       "      <td>29678</td>\n",
       "    </tr>\n",
       "    <tr>\n",
       "      <th>10</th>\n",
       "      <td>31531</td>\n",
       "    </tr>\n",
       "  </tbody>\n",
       "</table>\n",
       "</div>"
      ],
      "text/plain": [
       "            count\n",
       "Year Month       \n",
       "2013 1      63224\n",
       "     2      59935\n",
       "     3      63977\n",
       "     4      54638\n",
       "     5      53296\n",
       "     6      56196\n",
       "     7      58035\n",
       "     8      58022\n",
       "     9      51575\n",
       "     10     51090\n",
       "     11     51460\n",
       "     12     66276\n",
       "2014 1      53320\n",
       "     2      47704\n",
       "     3      49291\n",
       "     4      44740\n",
       "     5      45766\n",
       "     6      46481\n",
       "     7      45756\n",
       "     8      46439\n",
       "     9      40423\n",
       "     10     42595\n",
       "     11     45755\n",
       "     12     59275\n",
       "2015 1      46775\n",
       "     2      41390\n",
       "     3      40464\n",
       "     4      32875\n",
       "     5      32220\n",
       "     6      31909\n",
       "     7      33527\n",
       "     8      33486\n",
       "     9      29678\n",
       "     10     31531"
      ]
     },
     "execution_count": 47,
     "metadata": {},
     "output_type": "execute_result"
    }
   ],
   "source": [
    "Temp_Agg1.groupby(['Year','Month']).agg(['count'])['shop_id']"
   ]
  },
  {
   "cell_type": "code",
   "execution_count": null,
   "metadata": {
    "collapsed": true,
    "hidden": true
   },
   "outputs": [],
   "source": []
  },
  {
   "cell_type": "markdown",
   "metadata": {},
   "source": [
    "### Count of distinct months in each year"
   ]
  },
  {
   "cell_type": "code",
   "execution_count": 49,
   "metadata": {
    "ExecuteTime": {
     "end_time": "2018-06-21T19:13:19.989812Z",
     "start_time": "2018-06-21T19:13:19.887390Z"
    }
   },
   "outputs": [
    {
     "data": {
      "text/html": [
       "<div>\n",
       "<style>\n",
       "    .dataframe thead tr:only-child th {\n",
       "        text-align: right;\n",
       "    }\n",
       "\n",
       "    .dataframe thead th {\n",
       "        text-align: left;\n",
       "    }\n",
       "\n",
       "    .dataframe tbody tr th {\n",
       "        vertical-align: top;\n",
       "    }\n",
       "</style>\n",
       "<table border=\"1\" class=\"dataframe\">\n",
       "  <thead>\n",
       "    <tr style=\"text-align: right;\">\n",
       "      <th></th>\n",
       "      <th>Month</th>\n",
       "    </tr>\n",
       "    <tr>\n",
       "      <th>Year</th>\n",
       "      <th></th>\n",
       "    </tr>\n",
       "  </thead>\n",
       "  <tbody>\n",
       "    <tr>\n",
       "      <th>2013</th>\n",
       "      <td>12</td>\n",
       "    </tr>\n",
       "    <tr>\n",
       "      <th>2014</th>\n",
       "      <td>12</td>\n",
       "    </tr>\n",
       "    <tr>\n",
       "      <th>2015</th>\n",
       "      <td>10</td>\n",
       "    </tr>\n",
       "  </tbody>\n",
       "</table>\n",
       "</div>"
      ],
      "text/plain": [
       "      Month\n",
       "Year       \n",
       "2013     12\n",
       "2014     12\n",
       "2015     10"
      ]
     },
     "execution_count": 49,
     "metadata": {},
     "output_type": "execute_result"
    }
   ],
   "source": [
    "Temp_Agg1.groupby('Year').agg({'Month':pd.Series.nunique})"
   ]
  },
  {
   "cell_type": "markdown",
   "metadata": {},
   "source": [
    "###  Converting time series data to Random Forest ready Data Frame  with Pivot"
   ]
  },
  {
   "cell_type": "code",
   "execution_count": 74,
   "metadata": {
    "ExecuteTime": {
     "end_time": "2018-06-21T19:30:17.870487Z",
     "start_time": "2018-06-21T19:30:13.892305Z"
    },
    "collapsed": true
   },
   "outputs": [],
   "source": [
    "Temp_Pivot1 = pd.pivot_table(Temp_Agg1, values='sum', columns=['Year','Month'], index =['shop_id','item_id'],fill_value=0)"
   ]
  },
  {
   "cell_type": "code",
   "execution_count": 75,
   "metadata": {
    "ExecuteTime": {
     "end_time": "2018-06-21T19:30:17.922791Z",
     "start_time": "2018-06-21T19:30:17.873740Z"
    }
   },
   "outputs": [
    {
     "data": {
      "text/html": [
       "<div>\n",
       "<style>\n",
       "    .dataframe thead tr:only-child th {\n",
       "        text-align: right;\n",
       "    }\n",
       "\n",
       "    .dataframe thead th {\n",
       "        text-align: left;\n",
       "    }\n",
       "\n",
       "    .dataframe tbody tr th {\n",
       "        vertical-align: top;\n",
       "    }\n",
       "</style>\n",
       "<table border=\"1\" class=\"dataframe\">\n",
       "  <thead>\n",
       "    <tr>\n",
       "      <th></th>\n",
       "      <th>Year</th>\n",
       "      <th colspan=\"10\" halign=\"left\">2013</th>\n",
       "      <th>...</th>\n",
       "      <th colspan=\"10\" halign=\"left\">2015</th>\n",
       "    </tr>\n",
       "    <tr>\n",
       "      <th></th>\n",
       "      <th>Month</th>\n",
       "      <th>1</th>\n",
       "      <th>2</th>\n",
       "      <th>3</th>\n",
       "      <th>4</th>\n",
       "      <th>5</th>\n",
       "      <th>6</th>\n",
       "      <th>7</th>\n",
       "      <th>8</th>\n",
       "      <th>9</th>\n",
       "      <th>10</th>\n",
       "      <th>...</th>\n",
       "      <th>1</th>\n",
       "      <th>2</th>\n",
       "      <th>3</th>\n",
       "      <th>4</th>\n",
       "      <th>5</th>\n",
       "      <th>6</th>\n",
       "      <th>7</th>\n",
       "      <th>8</th>\n",
       "      <th>9</th>\n",
       "      <th>10</th>\n",
       "    </tr>\n",
       "    <tr>\n",
       "      <th>shop_id</th>\n",
       "      <th>item_id</th>\n",
       "      <th></th>\n",
       "      <th></th>\n",
       "      <th></th>\n",
       "      <th></th>\n",
       "      <th></th>\n",
       "      <th></th>\n",
       "      <th></th>\n",
       "      <th></th>\n",
       "      <th></th>\n",
       "      <th></th>\n",
       "      <th></th>\n",
       "      <th></th>\n",
       "      <th></th>\n",
       "      <th></th>\n",
       "      <th></th>\n",
       "      <th></th>\n",
       "      <th></th>\n",
       "      <th></th>\n",
       "      <th></th>\n",
       "      <th></th>\n",
       "      <th></th>\n",
       "    </tr>\n",
       "  </thead>\n",
       "  <tbody>\n",
       "    <tr>\n",
       "      <th rowspan=\"5\" valign=\"top\">0</th>\n",
       "      <th>30</th>\n",
       "      <td>0</td>\n",
       "      <td>31</td>\n",
       "      <td>0</td>\n",
       "      <td>0</td>\n",
       "      <td>0</td>\n",
       "      <td>0</td>\n",
       "      <td>0</td>\n",
       "      <td>0</td>\n",
       "      <td>0</td>\n",
       "      <td>0</td>\n",
       "      <td>...</td>\n",
       "      <td>0</td>\n",
       "      <td>0</td>\n",
       "      <td>0</td>\n",
       "      <td>0</td>\n",
       "      <td>0</td>\n",
       "      <td>0</td>\n",
       "      <td>0</td>\n",
       "      <td>0</td>\n",
       "      <td>0</td>\n",
       "      <td>0</td>\n",
       "    </tr>\n",
       "    <tr>\n",
       "      <th>31</th>\n",
       "      <td>0</td>\n",
       "      <td>11</td>\n",
       "      <td>0</td>\n",
       "      <td>0</td>\n",
       "      <td>0</td>\n",
       "      <td>0</td>\n",
       "      <td>0</td>\n",
       "      <td>0</td>\n",
       "      <td>0</td>\n",
       "      <td>0</td>\n",
       "      <td>...</td>\n",
       "      <td>0</td>\n",
       "      <td>0</td>\n",
       "      <td>0</td>\n",
       "      <td>0</td>\n",
       "      <td>0</td>\n",
       "      <td>0</td>\n",
       "      <td>0</td>\n",
       "      <td>0</td>\n",
       "      <td>0</td>\n",
       "      <td>0</td>\n",
       "    </tr>\n",
       "    <tr>\n",
       "      <th>32</th>\n",
       "      <td>6</td>\n",
       "      <td>10</td>\n",
       "      <td>0</td>\n",
       "      <td>0</td>\n",
       "      <td>0</td>\n",
       "      <td>0</td>\n",
       "      <td>0</td>\n",
       "      <td>0</td>\n",
       "      <td>0</td>\n",
       "      <td>0</td>\n",
       "      <td>...</td>\n",
       "      <td>0</td>\n",
       "      <td>0</td>\n",
       "      <td>0</td>\n",
       "      <td>0</td>\n",
       "      <td>0</td>\n",
       "      <td>0</td>\n",
       "      <td>0</td>\n",
       "      <td>0</td>\n",
       "      <td>0</td>\n",
       "      <td>0</td>\n",
       "    </tr>\n",
       "    <tr>\n",
       "      <th>33</th>\n",
       "      <td>3</td>\n",
       "      <td>3</td>\n",
       "      <td>0</td>\n",
       "      <td>0</td>\n",
       "      <td>0</td>\n",
       "      <td>0</td>\n",
       "      <td>0</td>\n",
       "      <td>0</td>\n",
       "      <td>0</td>\n",
       "      <td>0</td>\n",
       "      <td>...</td>\n",
       "      <td>0</td>\n",
       "      <td>0</td>\n",
       "      <td>0</td>\n",
       "      <td>0</td>\n",
       "      <td>0</td>\n",
       "      <td>0</td>\n",
       "      <td>0</td>\n",
       "      <td>0</td>\n",
       "      <td>0</td>\n",
       "      <td>0</td>\n",
       "    </tr>\n",
       "    <tr>\n",
       "      <th>35</th>\n",
       "      <td>1</td>\n",
       "      <td>14</td>\n",
       "      <td>0</td>\n",
       "      <td>0</td>\n",
       "      <td>0</td>\n",
       "      <td>0</td>\n",
       "      <td>0</td>\n",
       "      <td>0</td>\n",
       "      <td>0</td>\n",
       "      <td>0</td>\n",
       "      <td>...</td>\n",
       "      <td>0</td>\n",
       "      <td>0</td>\n",
       "      <td>0</td>\n",
       "      <td>0</td>\n",
       "      <td>0</td>\n",
       "      <td>0</td>\n",
       "      <td>0</td>\n",
       "      <td>0</td>\n",
       "      <td>0</td>\n",
       "      <td>0</td>\n",
       "    </tr>\n",
       "  </tbody>\n",
       "</table>\n",
       "<p>5 rows × 34 columns</p>\n",
       "</div>"
      ],
      "text/plain": [
       "Year            2013                             ... 2015                    \\\n",
       "Month             1   2  3  4  5  6  7  8  9  10 ...   1  2  3  4  5  6  7    \n",
       "shop_id item_id                                  ...                          \n",
       "0       30         0  31  0  0  0  0  0  0  0  0 ...    0  0  0  0  0  0  0   \n",
       "        31         0  11  0  0  0  0  0  0  0  0 ...    0  0  0  0  0  0  0   \n",
       "        32         6  10  0  0  0  0  0  0  0  0 ...    0  0  0  0  0  0  0   \n",
       "        33         3   3  0  0  0  0  0  0  0  0 ...    0  0  0  0  0  0  0   \n",
       "        35         1  14  0  0  0  0  0  0  0  0 ...    0  0  0  0  0  0  0   \n",
       "\n",
       "Year                      \n",
       "Month           8  9  10  \n",
       "shop_id item_id           \n",
       "0       30       0  0  0  \n",
       "        31       0  0  0  \n",
       "        32       0  0  0  \n",
       "        33       0  0  0  \n",
       "        35       0  0  0  \n",
       "\n",
       "[5 rows x 34 columns]"
      ]
     },
     "execution_count": 75,
     "metadata": {},
     "output_type": "execute_result"
    }
   ],
   "source": [
    "Temp_Pivot1.head()"
   ]
  },
  {
   "cell_type": "code",
   "execution_count": 76,
   "metadata": {
    "ExecuteTime": {
     "end_time": "2018-06-21T19:30:17.929686Z",
     "start_time": "2018-06-21T19:30:17.925818Z"
    }
   },
   "outputs": [],
   "source": [
    "# my_colnames = []\n",
    "# for i, a in enumerate(Temp_Pivot1.columns.get_level_values(1)):\n",
    "#     my_colnames.append(str(a) + \"_\"+str(Temp_Pivot1.columns.get_level_values(0)[i]))"
   ]
  },
  {
   "cell_type": "code",
   "execution_count": 77,
   "metadata": {
    "ExecuteTime": {
     "end_time": "2018-06-21T19:30:17.949572Z",
     "start_time": "2018-06-21T19:30:17.932428Z"
    }
   },
   "outputs": [],
   "source": [
    "### Renaming pivot columns \n",
    "Temp_Pivot1.reset_index(inplace=True)\n",
    "Temp_Pivot1.columns = [str(col[0])+\"_\"+str(col[1]) for col in Temp_Pivot1.columns.values]"
   ]
  },
  {
   "cell_type": "code",
   "execution_count": 78,
   "metadata": {
    "ExecuteTime": {
     "end_time": "2018-06-21T19:30:18.670841Z",
     "start_time": "2018-06-21T19:30:18.625706Z"
    }
   },
   "outputs": [
    {
     "data": {
      "text/html": [
       "<div>\n",
       "<style>\n",
       "    .dataframe thead tr:only-child th {\n",
       "        text-align: right;\n",
       "    }\n",
       "\n",
       "    .dataframe thead th {\n",
       "        text-align: left;\n",
       "    }\n",
       "\n",
       "    .dataframe tbody tr th {\n",
       "        vertical-align: top;\n",
       "    }\n",
       "</style>\n",
       "<table border=\"1\" class=\"dataframe\">\n",
       "  <thead>\n",
       "    <tr style=\"text-align: right;\">\n",
       "      <th></th>\n",
       "      <th>shop_id_</th>\n",
       "      <th>item_id_</th>\n",
       "      <th>2013_1</th>\n",
       "      <th>2013_2</th>\n",
       "      <th>2013_3</th>\n",
       "      <th>2013_4</th>\n",
       "      <th>2013_5</th>\n",
       "      <th>2013_6</th>\n",
       "      <th>2013_7</th>\n",
       "      <th>2013_8</th>\n",
       "      <th>...</th>\n",
       "      <th>2015_1</th>\n",
       "      <th>2015_2</th>\n",
       "      <th>2015_3</th>\n",
       "      <th>2015_4</th>\n",
       "      <th>2015_5</th>\n",
       "      <th>2015_6</th>\n",
       "      <th>2015_7</th>\n",
       "      <th>2015_8</th>\n",
       "      <th>2015_9</th>\n",
       "      <th>2015_10</th>\n",
       "    </tr>\n",
       "  </thead>\n",
       "  <tbody>\n",
       "    <tr>\n",
       "      <th>0</th>\n",
       "      <td>0</td>\n",
       "      <td>30</td>\n",
       "      <td>0</td>\n",
       "      <td>31</td>\n",
       "      <td>0</td>\n",
       "      <td>0</td>\n",
       "      <td>0</td>\n",
       "      <td>0</td>\n",
       "      <td>0</td>\n",
       "      <td>0</td>\n",
       "      <td>...</td>\n",
       "      <td>0</td>\n",
       "      <td>0</td>\n",
       "      <td>0</td>\n",
       "      <td>0</td>\n",
       "      <td>0</td>\n",
       "      <td>0</td>\n",
       "      <td>0</td>\n",
       "      <td>0</td>\n",
       "      <td>0</td>\n",
       "      <td>0</td>\n",
       "    </tr>\n",
       "    <tr>\n",
       "      <th>1</th>\n",
       "      <td>0</td>\n",
       "      <td>31</td>\n",
       "      <td>0</td>\n",
       "      <td>11</td>\n",
       "      <td>0</td>\n",
       "      <td>0</td>\n",
       "      <td>0</td>\n",
       "      <td>0</td>\n",
       "      <td>0</td>\n",
       "      <td>0</td>\n",
       "      <td>...</td>\n",
       "      <td>0</td>\n",
       "      <td>0</td>\n",
       "      <td>0</td>\n",
       "      <td>0</td>\n",
       "      <td>0</td>\n",
       "      <td>0</td>\n",
       "      <td>0</td>\n",
       "      <td>0</td>\n",
       "      <td>0</td>\n",
       "      <td>0</td>\n",
       "    </tr>\n",
       "    <tr>\n",
       "      <th>2</th>\n",
       "      <td>0</td>\n",
       "      <td>32</td>\n",
       "      <td>6</td>\n",
       "      <td>10</td>\n",
       "      <td>0</td>\n",
       "      <td>0</td>\n",
       "      <td>0</td>\n",
       "      <td>0</td>\n",
       "      <td>0</td>\n",
       "      <td>0</td>\n",
       "      <td>...</td>\n",
       "      <td>0</td>\n",
       "      <td>0</td>\n",
       "      <td>0</td>\n",
       "      <td>0</td>\n",
       "      <td>0</td>\n",
       "      <td>0</td>\n",
       "      <td>0</td>\n",
       "      <td>0</td>\n",
       "      <td>0</td>\n",
       "      <td>0</td>\n",
       "    </tr>\n",
       "    <tr>\n",
       "      <th>3</th>\n",
       "      <td>0</td>\n",
       "      <td>33</td>\n",
       "      <td>3</td>\n",
       "      <td>3</td>\n",
       "      <td>0</td>\n",
       "      <td>0</td>\n",
       "      <td>0</td>\n",
       "      <td>0</td>\n",
       "      <td>0</td>\n",
       "      <td>0</td>\n",
       "      <td>...</td>\n",
       "      <td>0</td>\n",
       "      <td>0</td>\n",
       "      <td>0</td>\n",
       "      <td>0</td>\n",
       "      <td>0</td>\n",
       "      <td>0</td>\n",
       "      <td>0</td>\n",
       "      <td>0</td>\n",
       "      <td>0</td>\n",
       "      <td>0</td>\n",
       "    </tr>\n",
       "    <tr>\n",
       "      <th>4</th>\n",
       "      <td>0</td>\n",
       "      <td>35</td>\n",
       "      <td>1</td>\n",
       "      <td>14</td>\n",
       "      <td>0</td>\n",
       "      <td>0</td>\n",
       "      <td>0</td>\n",
       "      <td>0</td>\n",
       "      <td>0</td>\n",
       "      <td>0</td>\n",
       "      <td>...</td>\n",
       "      <td>0</td>\n",
       "      <td>0</td>\n",
       "      <td>0</td>\n",
       "      <td>0</td>\n",
       "      <td>0</td>\n",
       "      <td>0</td>\n",
       "      <td>0</td>\n",
       "      <td>0</td>\n",
       "      <td>0</td>\n",
       "      <td>0</td>\n",
       "    </tr>\n",
       "  </tbody>\n",
       "</table>\n",
       "<p>5 rows × 36 columns</p>\n",
       "</div>"
      ],
      "text/plain": [
       "   shop_id_  item_id_  2013_1  2013_2  2013_3  2013_4  2013_5  2013_6  2013_7  \\\n",
       "0         0        30       0      31       0       0       0       0       0   \n",
       "1         0        31       0      11       0       0       0       0       0   \n",
       "2         0        32       6      10       0       0       0       0       0   \n",
       "3         0        33       3       3       0       0       0       0       0   \n",
       "4         0        35       1      14       0       0       0       0       0   \n",
       "\n",
       "   2013_8   ...     2015_1  2015_2  2015_3  2015_4  2015_5  2015_6  2015_7  \\\n",
       "0       0   ...          0       0       0       0       0       0       0   \n",
       "1       0   ...          0       0       0       0       0       0       0   \n",
       "2       0   ...          0       0       0       0       0       0       0   \n",
       "3       0   ...          0       0       0       0       0       0       0   \n",
       "4       0   ...          0       0       0       0       0       0       0   \n",
       "\n",
       "   2015_8  2015_9  2015_10  \n",
       "0       0       0        0  \n",
       "1       0       0        0  \n",
       "2       0       0        0  \n",
       "3       0       0        0  \n",
       "4       0       0        0  \n",
       "\n",
       "[5 rows x 36 columns]"
      ]
     },
     "execution_count": 78,
     "metadata": {},
     "output_type": "execute_result"
    }
   ],
   "source": [
    "Temp_Pivot1.head()"
   ]
  },
  {
   "cell_type": "code",
   "execution_count": 71,
   "metadata": {
    "ExecuteTime": {
     "end_time": "2018-06-21T19:26:13.275479Z",
     "start_time": "2018-06-21T19:26:13.266610Z"
    }
   },
   "outputs": [
    {
     "data": {
      "text/plain": [
       "(424124, 36)"
      ]
     },
     "execution_count": 71,
     "metadata": {},
     "output_type": "execute_result"
    }
   ],
   "source": [
    "Temp_Pivot1.shape"
   ]
  },
  {
   "cell_type": "markdown",
   "metadata": {
    "ExecuteTime": {
     "end_time": "2018-06-21T19:44:55.403331Z",
     "start_time": "2018-06-21T19:44:55.399232Z"
    }
   },
   "source": [
    "##### Saving data in hdf5 format"
   ]
  },
  {
   "cell_type": "code",
   "execution_count": 82,
   "metadata": {
    "ExecuteTime": {
     "end_time": "2018-06-21T19:43:33.193368Z",
     "start_time": "2018-06-21T19:43:14.827043Z"
    }
   },
   "outputs": [],
   "source": [
    "# compressors = ['blosc', 'bzip2', 'zlib']\n",
    "Temp_Pivot1.to_hdf(\"./Temp_Pivot1.h5\", 'table', complelvel=9, complib='zlib')"
   ]
  },
  {
   "cell_type": "markdown",
   "metadata": {
    "ExecuteTime": {
     "end_time": "2018-06-21T19:40:59.003658Z",
     "start_time": "2018-06-21T19:40:58.998178Z"
    }
   },
   "source": [
    "##  Now the dataframe is in correct format. Next step is to split into train and test. There are 34 months of data. I will use last 5 months for testing. i.e 2015/Jun to 2015/Oct.\n",
    "\n",
    "Below steps are to split into train and test\n",
    "In Trial 1 - I will try to predict 2015/Jun Sales for each shop_id and item_id"
   ]
  },
  {
   "cell_type": "code",
   "execution_count": 92,
   "metadata": {
    "ExecuteTime": {
     "end_time": "2018-06-21T19:59:16.476699Z",
     "start_time": "2018-06-21T19:59:16.471970Z"
    }
   },
   "outputs": [],
   "source": [
    "years =['2013','2014', '2015']\n",
    "months = np.arange(1,13)"
   ]
  },
  {
   "cell_type": "code",
   "execution_count": 88,
   "metadata": {
    "ExecuteTime": {
     "end_time": "2018-06-21T19:57:35.637878Z",
     "start_time": "2018-06-21T19:57:35.633521Z"
    }
   },
   "outputs": [],
   "source": [
    "train_cols=['shop_id','item_id']\n",
    "test_cols=['shop_id','item_id']"
   ]
  },
  {
   "cell_type": "code",
   "execution_count": 98,
   "metadata": {
    "ExecuteTime": {
     "end_time": "2018-06-21T20:01:44.091457Z",
     "start_time": "2018-06-21T20:01:44.028574Z"
    }
   },
   "outputs": [
    {
     "name": "stdout",
     "output_type": "stream",
     "text": [
      "2013 1\n",
      "in test 2013 1\n",
      "2013 2\n",
      "in test 2013 2\n",
      "2013 3\n",
      "in test 2013 3\n",
      "2013 4\n",
      "in test 2013 4\n",
      "2013 5\n",
      "in test 2013 5\n",
      "2013 6\n",
      "in test 2013 6\n",
      "2013 7\n",
      "in test 2013 7\n",
      "2013 8\n",
      "in test 2013 8\n",
      "2013 9\n",
      "in test 2013 9\n",
      "2013 10\n",
      "in test 2013 10\n",
      "2013 11\n",
      "in test 2013 11\n",
      "2013 12\n",
      "in test 2013 12\n",
      "2014 1\n",
      "in test 2014 1\n",
      "2014 2\n",
      "in test 2014 2\n",
      "2014 3\n",
      "in test 2014 3\n",
      "2014 4\n",
      "in test 2014 4\n",
      "2014 5\n",
      "in test 2014 5\n",
      "2014 6\n",
      "in test 2014 6\n",
      "2014 7\n",
      "in test 2014 7\n",
      "2014 8\n",
      "in test 2014 8\n",
      "2014 9\n",
      "in test 2014 9\n",
      "2014 10\n",
      "in test 2014 10\n",
      "2014 11\n",
      "in test 2014 11\n",
      "2014 12\n",
      "in test 2014 12\n",
      "2015 1\n",
      "in test 2015 1\n",
      "2015 2\n",
      "in test 2015 2\n",
      "2015 3\n",
      "in test 2015 3\n",
      "2015 4\n",
      "in test 2015 4\n",
      "2015 5\n",
      "in test 2015 5\n",
      "2015 6\n",
      "in test 2015 6\n",
      "2015 7\n",
      "in test 2015 7\n",
      "2015 8\n",
      "in test 2015 8\n",
      "2015 9\n",
      "in test 2015 9\n",
      "2015 10\n",
      "in test 2015 10\n",
      "2015 11\n",
      "in test 2015 11\n",
      "2015 12\n",
      "in test 2015 12\n"
     ]
    }
   ],
   "source": [
    "for year in years:\n",
    "    for month in months:\n",
    "        print(year, month)\n",
    "        if(year ==2015 &  month in (6,7,8,9,10)):\n",
    "            print(\"in test\")\n",
    "        else:\n",
    "            print(\"in test\", year, month)\n",
    "        "
   ]
  },
  {
   "cell_type": "code",
   "execution_count": 93,
   "metadata": {
    "ExecuteTime": {
     "end_time": "2018-06-21T19:59:19.461831Z",
     "start_time": "2018-06-21T19:59:19.456139Z"
    }
   },
   "outputs": [
    {
     "data": {
      "text/plain": [
       "array([ 1,  2,  3,  4,  5,  6,  7,  8,  9, 10, 11, 12])"
      ]
     },
     "execution_count": 93,
     "metadata": {},
     "output_type": "execute_result"
    }
   ],
   "source": [
    "months"
   ]
  },
  {
   "cell_type": "code",
   "execution_count": null,
   "metadata": {
    "collapsed": true
   },
   "outputs": [],
   "source": []
  },
  {
   "cell_type": "code",
   "execution_count": null,
   "metadata": {
    "collapsed": true
   },
   "outputs": [],
   "source": []
  },
  {
   "cell_type": "code",
   "execution_count": null,
   "metadata": {
    "collapsed": true
   },
   "outputs": [],
   "source": [
    "holidays = ['01-01-2013','01-02-2013','01-03-2013','01-04-2013','01-07-2013', '01-01-2013' ]"
   ]
  },
  {
   "cell_type": "code",
   "execution_count": 18,
   "metadata": {
    "ExecuteTime": {
     "end_time": "2018-06-20T19:02:25.492865Z",
     "start_time": "2018-06-20T19:02:25.487924Z"
    }
   },
   "outputs": [
    {
     "data": {
      "text/plain": [
       "Index(['date', 'date_block_num', 'shop_id', 'item_id', 'item_price',\n",
       "       'item_cnt_day', 'item_price_whole', 'item_price_fraction', 'date_new'],\n",
       "      dtype='object')"
      ]
     },
     "execution_count": 18,
     "metadata": {},
     "output_type": "execute_result"
    }
   ],
   "source": [
    "train.columns"
   ]
  },
  {
   "cell_type": "code",
   "execution_count": 20,
   "metadata": {
    "ExecuteTime": {
     "end_time": "2018-06-20T19:12:46.222480Z",
     "start_time": "2018-06-20T19:12:46.212357Z"
    }
   },
   "outputs": [
    {
     "data": {
      "text/plain": [
       "date                           object\n",
       "date_block_num                  int64\n",
       "shop_id                         int64\n",
       "item_id                         int64\n",
       "item_price                    float64\n",
       "item_cnt_day                  float64\n",
       "item_price_whole              float64\n",
       "item_price_fraction           float64\n",
       "date_new               datetime64[ns]\n",
       "dtype: object"
      ]
     },
     "execution_count": 20,
     "metadata": {},
     "output_type": "execute_result"
    }
   ],
   "source": [
    "train.dtypes"
   ]
  },
  {
   "cell_type": "code",
   "execution_count": 21,
   "metadata": {
    "ExecuteTime": {
     "end_time": "2018-06-20T19:14:04.713915Z",
     "start_time": "2018-06-20T19:13:38.228338Z"
    },
    "collapsed": true
   },
   "outputs": [],
   "source": []
  },
  {
   "cell_type": "code",
   "execution_count": 23,
   "metadata": {
    "ExecuteTime": {
     "end_time": "2018-06-20T19:15:32.657503Z",
     "start_time": "2018-06-20T19:15:05.488107Z"
    },
    "collapsed": true
   },
   "outputs": [],
   "source": []
  },
  {
   "cell_type": "code",
   "execution_count": 25,
   "metadata": {
    "ExecuteTime": {
     "end_time": "2018-06-20T19:44:13.278679Z",
     "start_time": "2018-06-20T19:41:54.056776Z"
    },
    "collapsed": true
   },
   "outputs": [],
   "source": [
    "train['Weekday'] =  train['date_new'].map(lambda x :x.weekday_name)"
   ]
  },
  {
   "cell_type": "code",
   "execution_count": null,
   "metadata": {
    "collapsed": true
   },
   "outputs": [],
   "source": []
  },
  {
   "cell_type": "code",
   "execution_count": null,
   "metadata": {
    "collapsed": true
   },
   "outputs": [],
   "source": []
  },
  {
   "cell_type": "code",
   "execution_count": null,
   "metadata": {
    "collapsed": true
   },
   "outputs": [],
   "source": []
  },
  {
   "cell_type": "code",
   "execution_count": 23,
   "metadata": {
    "ExecuteTime": {
     "end_time": "2018-06-20T18:31:57.821864Z",
     "start_time": "2018-06-20T18:31:56.875567Z"
    },
    "collapsed": true
   },
   "outputs": [],
   "source": [
    "agg_tmp = train.groupby(['shop_id', 'item_id']).agg(['count'])['date']"
   ]
  },
  {
   "cell_type": "code",
   "execution_count": 24,
   "metadata": {
    "ExecuteTime": {
     "end_time": "2018-06-20T18:31:57.845176Z",
     "start_time": "2018-06-20T18:31:57.834901Z"
    },
    "collapsed": true
   },
   "outputs": [],
   "source": [
    "agg_tmp.reset_index(inplace=True)"
   ]
  },
  {
   "cell_type": "code",
   "execution_count": 25,
   "metadata": {
    "ExecuteTime": {
     "end_time": "2018-06-20T18:31:59.293782Z",
     "start_time": "2018-06-20T18:31:59.288581Z"
    },
    "collapsed": true
   },
   "outputs": [],
   "source": [
    "agg_tmp.columns = ['shop_id','item_id','no_of_rows']"
   ]
  },
  {
   "cell_type": "code",
   "execution_count": 27,
   "metadata": {
    "ExecuteTime": {
     "end_time": "2018-06-20T18:33:15.094098Z",
     "start_time": "2018-06-20T18:33:13.604097Z"
    },
    "collapsed": true
   },
   "outputs": [],
   "source": [
    "agg_tmp_mean = train.groupby(['shop_id', 'item_id']).agg(['mean', 'median', 'min', 'max'])[['item_cnt_day', 'item_price']].reset_index()"
   ]
  },
  {
   "cell_type": "code",
   "execution_count": 28,
   "metadata": {
    "ExecuteTime": {
     "end_time": "2018-06-20T18:33:16.106902Z",
     "start_time": "2018-06-20T18:33:16.099581Z"
    }
   },
   "outputs": [
    {
     "data": {
      "text/plain": [
       "MultiIndex(levels=[['date_block_num', 'item_price', 'item_cnt_day', 'item_id', 'shop_id'], ['mean', 'median', 'min', 'max', '']],\n",
       "           labels=[[4, 3, 2, 2, 2, 2, 1, 1, 1, 1], [4, 4, 0, 1, 2, 3, 0, 1, 2, 3]])"
      ]
     },
     "execution_count": 28,
     "metadata": {},
     "output_type": "execute_result"
    }
   ],
   "source": [
    "agg_tmp_mean.columns"
   ]
  },
  {
   "cell_type": "code",
   "execution_count": 29,
   "metadata": {
    "ExecuteTime": {
     "end_time": "2018-06-20T18:33:20.078390Z",
     "start_time": "2018-06-20T18:33:20.073204Z"
    },
    "collapsed": true
   },
   "outputs": [],
   "source": [
    "agg_tmp_mean.columns= [''.join(col).strip() for col in agg_tmp_mean.columns.values]"
   ]
  },
  {
   "cell_type": "code",
   "execution_count": 30,
   "metadata": {
    "ExecuteTime": {
     "end_time": "2018-06-20T18:33:21.418193Z",
     "start_time": "2018-06-20T18:33:21.375952Z"
    }
   },
   "outputs": [
    {
     "data": {
      "text/html": [
       "<div>\n",
       "<style>\n",
       "    .dataframe thead tr:only-child th {\n",
       "        text-align: right;\n",
       "    }\n",
       "\n",
       "    .dataframe thead th {\n",
       "        text-align: left;\n",
       "    }\n",
       "\n",
       "    .dataframe tbody tr th {\n",
       "        vertical-align: top;\n",
       "    }\n",
       "</style>\n",
       "<table border=\"1\" class=\"dataframe\">\n",
       "  <thead>\n",
       "    <tr style=\"text-align: right;\">\n",
       "      <th></th>\n",
       "      <th>shop_id</th>\n",
       "      <th>item_id</th>\n",
       "      <th>item_cnt_daymean</th>\n",
       "      <th>item_cnt_daymedian</th>\n",
       "      <th>item_cnt_daymin</th>\n",
       "      <th>item_cnt_daymax</th>\n",
       "      <th>item_pricemean</th>\n",
       "      <th>item_pricemedian</th>\n",
       "      <th>item_pricemin</th>\n",
       "      <th>item_pricemax</th>\n",
       "    </tr>\n",
       "  </thead>\n",
       "  <tbody>\n",
       "    <tr>\n",
       "      <th>0</th>\n",
       "      <td>0</td>\n",
       "      <td>30</td>\n",
       "      <td>3.444444</td>\n",
       "      <td>3.0</td>\n",
       "      <td>2.0</td>\n",
       "      <td>9.0</td>\n",
       "      <td>265.0</td>\n",
       "      <td>265.0</td>\n",
       "      <td>265.0</td>\n",
       "      <td>265.0</td>\n",
       "    </tr>\n",
       "    <tr>\n",
       "      <th>1</th>\n",
       "      <td>0</td>\n",
       "      <td>31</td>\n",
       "      <td>1.571429</td>\n",
       "      <td>1.0</td>\n",
       "      <td>1.0</td>\n",
       "      <td>3.0</td>\n",
       "      <td>434.0</td>\n",
       "      <td>434.0</td>\n",
       "      <td>434.0</td>\n",
       "      <td>434.0</td>\n",
       "    </tr>\n",
       "    <tr>\n",
       "      <th>2</th>\n",
       "      <td>0</td>\n",
       "      <td>32</td>\n",
       "      <td>1.454545</td>\n",
       "      <td>1.0</td>\n",
       "      <td>1.0</td>\n",
       "      <td>2.0</td>\n",
       "      <td>221.0</td>\n",
       "      <td>221.0</td>\n",
       "      <td>221.0</td>\n",
       "      <td>221.0</td>\n",
       "    </tr>\n",
       "    <tr>\n",
       "      <th>3</th>\n",
       "      <td>0</td>\n",
       "      <td>33</td>\n",
       "      <td>1.000000</td>\n",
       "      <td>1.0</td>\n",
       "      <td>1.0</td>\n",
       "      <td>1.0</td>\n",
       "      <td>347.0</td>\n",
       "      <td>347.0</td>\n",
       "      <td>347.0</td>\n",
       "      <td>347.0</td>\n",
       "    </tr>\n",
       "    <tr>\n",
       "      <th>4</th>\n",
       "      <td>0</td>\n",
       "      <td>35</td>\n",
       "      <td>1.250000</td>\n",
       "      <td>1.0</td>\n",
       "      <td>1.0</td>\n",
       "      <td>2.0</td>\n",
       "      <td>247.0</td>\n",
       "      <td>247.0</td>\n",
       "      <td>247.0</td>\n",
       "      <td>247.0</td>\n",
       "    </tr>\n",
       "  </tbody>\n",
       "</table>\n",
       "</div>"
      ],
      "text/plain": [
       "   shop_id  item_id  item_cnt_daymean  item_cnt_daymedian  item_cnt_daymin  \\\n",
       "0        0       30          3.444444                 3.0              2.0   \n",
       "1        0       31          1.571429                 1.0              1.0   \n",
       "2        0       32          1.454545                 1.0              1.0   \n",
       "3        0       33          1.000000                 1.0              1.0   \n",
       "4        0       35          1.250000                 1.0              1.0   \n",
       "\n",
       "   item_cnt_daymax  item_pricemean  item_pricemedian  item_pricemin  \\\n",
       "0              9.0           265.0             265.0          265.0   \n",
       "1              3.0           434.0             434.0          434.0   \n",
       "2              2.0           221.0             221.0          221.0   \n",
       "3              1.0           347.0             347.0          347.0   \n",
       "4              2.0           247.0             247.0          247.0   \n",
       "\n",
       "   item_pricemax  \n",
       "0          265.0  \n",
       "1          434.0  \n",
       "2          221.0  \n",
       "3          347.0  \n",
       "4          247.0  "
      ]
     },
     "execution_count": 30,
     "metadata": {},
     "output_type": "execute_result"
    }
   ],
   "source": [
    "agg_tmp_mean.head()"
   ]
  },
  {
   "cell_type": "code",
   "execution_count": 35,
   "metadata": {
    "ExecuteTime": {
     "end_time": "2018-06-20T18:56:48.826851Z",
     "start_time": "2018-06-20T18:56:48.808228Z"
    }
   },
   "outputs": [
    {
     "data": {
      "text/plain": [
       "0           0.0\n",
       "1           0.0\n",
       "2           0.0\n",
       "3           0.0\n",
       "4           0.0\n",
       "5           0.0\n",
       "6           0.0\n",
       "7           0.0\n",
       "8           0.0\n",
       "9           0.0\n",
       "10         -3.0\n",
       "11          0.0\n",
       "12          0.0\n",
       "13          0.0\n",
       "14          0.0\n",
       "15          0.0\n",
       "16          0.0\n",
       "17          0.0\n",
       "18          0.0\n",
       "19          0.0\n",
       "20          0.0\n",
       "21         -5.0\n",
       "22          0.0\n",
       "23          0.0\n",
       "24          0.0\n",
       "25          0.0\n",
       "26          0.0\n",
       "27          0.0\n",
       "28          0.0\n",
       "29          0.0\n",
       "          ...  \n",
       "424094      0.0\n",
       "424095    -40.0\n",
       "424096    -40.0\n",
       "424097    -70.0\n",
       "424098    -70.0\n",
       "424099      0.0\n",
       "424100      0.0\n",
       "424101      0.0\n",
       "424102   -100.0\n",
       "424103      0.0\n",
       "424104   -160.5\n",
       "424105      0.0\n",
       "424106      0.0\n",
       "424107    -50.0\n",
       "424108      0.0\n",
       "424109      0.0\n",
       "424110      0.0\n",
       "424111   -100.0\n",
       "424112      0.0\n",
       "424113      0.0\n",
       "424114      0.0\n",
       "424115      0.0\n",
       "424116      0.0\n",
       "424117      0.0\n",
       "424118      0.0\n",
       "424119      0.0\n",
       "424120      0.0\n",
       "424121      0.0\n",
       "424122    -25.0\n",
       "424123      0.0\n",
       "Length: 424124, dtype: float64"
      ]
     },
     "execution_count": 35,
     "metadata": {},
     "output_type": "execute_result"
    }
   ],
   "source": [
    "agg_tmp_mean['item_pricemedian'] - agg_tmp_mean['item_pricemax']"
   ]
  },
  {
   "cell_type": "code",
   "execution_count": 34,
   "metadata": {
    "ExecuteTime": {
     "end_time": "2018-06-20T18:56:36.539518Z",
     "start_time": "2018-06-20T18:56:36.296349Z"
    },
    "collapsed": true
   },
   "outputs": [],
   "source": [
    "agg_df = pd.merge(agg_tmp, agg_tmp_mean, how= 'inner', on=['shop_id','item_id'])"
   ]
  },
  {
   "cell_type": "code",
   "execution_count": 48,
   "metadata": {
    "ExecuteTime": {
     "end_time": "2018-06-18T14:11:45.772384Z",
     "start_time": "2018-06-18T14:11:45.766866Z"
    }
   },
   "outputs": [
    {
     "data": {
      "text/plain": [
       "(424124, 5)"
      ]
     },
     "execution_count": 48,
     "metadata": {},
     "output_type": "execute_result"
    }
   ],
   "source": [
    "agg_df.shape"
   ]
  },
  {
   "cell_type": "code",
   "execution_count": 49,
   "metadata": {
    "ExecuteTime": {
     "end_time": "2018-06-18T14:13:16.604354Z",
     "start_time": "2018-06-18T14:13:16.369900Z"
    },
    "collapsed": true
   },
   "outputs": [],
   "source": [
    "# train['day_of_week'] = train['date_new'].dt.weekday_name\n",
    "train['day_of_week'] = train['date_new'].dt.dayofweek"
   ]
  },
  {
   "cell_type": "code",
   "execution_count": 50,
   "metadata": {
    "ExecuteTime": {
     "end_time": "2018-06-18T14:13:18.273550Z",
     "start_time": "2018-06-18T14:13:17.826847Z"
    },
    "collapsed": true
   },
   "outputs": [],
   "source": [
    "train['Month'] = train['date_new'].dt.month\n",
    "train['Week'] = train['date_new'].dt.week"
   ]
  },
  {
   "cell_type": "code",
   "execution_count": 51,
   "metadata": {
    "ExecuteTime": {
     "end_time": "2018-06-18T14:13:23.532161Z",
     "start_time": "2018-06-18T14:13:22.247283Z"
    },
    "collapsed": true
   },
   "outputs": [],
   "source": [
    "train_item = pd.merge(train, items, how='left', on ='item_id')"
   ]
  },
  {
   "cell_type": "code",
   "execution_count": 52,
   "metadata": {
    "ExecuteTime": {
     "end_time": "2018-06-18T14:13:23.566233Z",
     "start_time": "2018-06-18T14:13:23.535310Z"
    }
   },
   "outputs": [
    {
     "data": {
      "text/html": [
       "<div>\n",
       "<style>\n",
       "    .dataframe thead tr:only-child th {\n",
       "        text-align: right;\n",
       "    }\n",
       "\n",
       "    .dataframe thead th {\n",
       "        text-align: left;\n",
       "    }\n",
       "\n",
       "    .dataframe tbody tr th {\n",
       "        vertical-align: top;\n",
       "    }\n",
       "</style>\n",
       "<table border=\"1\" class=\"dataframe\">\n",
       "  <thead>\n",
       "    <tr style=\"text-align: right;\">\n",
       "      <th></th>\n",
       "      <th>date</th>\n",
       "      <th>date_block_num</th>\n",
       "      <th>shop_id</th>\n",
       "      <th>item_id</th>\n",
       "      <th>item_price</th>\n",
       "      <th>item_cnt_day</th>\n",
       "      <th>item_price_whole</th>\n",
       "      <th>item_price_fraction</th>\n",
       "      <th>date_new</th>\n",
       "      <th>day_of_week</th>\n",
       "      <th>Month</th>\n",
       "      <th>Week</th>\n",
       "      <th>item_name</th>\n",
       "      <th>item_category_id</th>\n",
       "    </tr>\n",
       "  </thead>\n",
       "  <tbody>\n",
       "    <tr>\n",
       "      <th>0</th>\n",
       "      <td>02.01.2013</td>\n",
       "      <td>0</td>\n",
       "      <td>59</td>\n",
       "      <td>22154</td>\n",
       "      <td>999.00</td>\n",
       "      <td>1.0</td>\n",
       "      <td>999.0</td>\n",
       "      <td>0.0</td>\n",
       "      <td>2013-01-02</td>\n",
       "      <td>2</td>\n",
       "      <td>1</td>\n",
       "      <td>1</td>\n",
       "      <td>ЯВЛЕНИЕ 2012 (BD)</td>\n",
       "      <td>37</td>\n",
       "    </tr>\n",
       "    <tr>\n",
       "      <th>1</th>\n",
       "      <td>03.01.2013</td>\n",
       "      <td>0</td>\n",
       "      <td>25</td>\n",
       "      <td>2552</td>\n",
       "      <td>899.00</td>\n",
       "      <td>1.0</td>\n",
       "      <td>899.0</td>\n",
       "      <td>0.0</td>\n",
       "      <td>2013-01-03</td>\n",
       "      <td>3</td>\n",
       "      <td>1</td>\n",
       "      <td>1</td>\n",
       "      <td>DEEP PURPLE  The House Of Blue Light  LP</td>\n",
       "      <td>58</td>\n",
       "    </tr>\n",
       "    <tr>\n",
       "      <th>2</th>\n",
       "      <td>05.01.2013</td>\n",
       "      <td>0</td>\n",
       "      <td>25</td>\n",
       "      <td>2552</td>\n",
       "      <td>899.00</td>\n",
       "      <td>-1.0</td>\n",
       "      <td>899.0</td>\n",
       "      <td>0.0</td>\n",
       "      <td>2013-01-05</td>\n",
       "      <td>5</td>\n",
       "      <td>1</td>\n",
       "      <td>1</td>\n",
       "      <td>DEEP PURPLE  The House Of Blue Light  LP</td>\n",
       "      <td>58</td>\n",
       "    </tr>\n",
       "    <tr>\n",
       "      <th>3</th>\n",
       "      <td>06.01.2013</td>\n",
       "      <td>0</td>\n",
       "      <td>25</td>\n",
       "      <td>2554</td>\n",
       "      <td>1709.05</td>\n",
       "      <td>1.0</td>\n",
       "      <td>1709.0</td>\n",
       "      <td>5.0</td>\n",
       "      <td>2013-01-06</td>\n",
       "      <td>6</td>\n",
       "      <td>1</td>\n",
       "      <td>1</td>\n",
       "      <td>DEEP PURPLE  Who Do You Think We Are  LP</td>\n",
       "      <td>58</td>\n",
       "    </tr>\n",
       "    <tr>\n",
       "      <th>4</th>\n",
       "      <td>15.01.2013</td>\n",
       "      <td>0</td>\n",
       "      <td>25</td>\n",
       "      <td>2555</td>\n",
       "      <td>1099.00</td>\n",
       "      <td>1.0</td>\n",
       "      <td>1099.0</td>\n",
       "      <td>0.0</td>\n",
       "      <td>2013-01-15</td>\n",
       "      <td>1</td>\n",
       "      <td>1</td>\n",
       "      <td>3</td>\n",
       "      <td>DEEP PURPLE 30 Very Best Of 2CD (Фирм.)</td>\n",
       "      <td>56</td>\n",
       "    </tr>\n",
       "  </tbody>\n",
       "</table>\n",
       "</div>"
      ],
      "text/plain": [
       "         date  date_block_num  shop_id  item_id  item_price  item_cnt_day  \\\n",
       "0  02.01.2013               0       59    22154      999.00           1.0   \n",
       "1  03.01.2013               0       25     2552      899.00           1.0   \n",
       "2  05.01.2013               0       25     2552      899.00          -1.0   \n",
       "3  06.01.2013               0       25     2554     1709.05           1.0   \n",
       "4  15.01.2013               0       25     2555     1099.00           1.0   \n",
       "\n",
       "   item_price_whole  item_price_fraction   date_new  day_of_week  Month  Week  \\\n",
       "0             999.0                  0.0 2013-01-02            2      1     1   \n",
       "1             899.0                  0.0 2013-01-03            3      1     1   \n",
       "2             899.0                  0.0 2013-01-05            5      1     1   \n",
       "3            1709.0                  5.0 2013-01-06            6      1     1   \n",
       "4            1099.0                  0.0 2013-01-15            1      1     3   \n",
       "\n",
       "                                  item_name  item_category_id  \n",
       "0                         ЯВЛЕНИЕ 2012 (BD)                37  \n",
       "1  DEEP PURPLE  The House Of Blue Light  LP                58  \n",
       "2  DEEP PURPLE  The House Of Blue Light  LP                58  \n",
       "3  DEEP PURPLE  Who Do You Think We Are  LP                58  \n",
       "4   DEEP PURPLE 30 Very Best Of 2CD (Фирм.)                56  "
      ]
     },
     "execution_count": 52,
     "metadata": {},
     "output_type": "execute_result"
    }
   ],
   "source": [
    "train_item.head()"
   ]
  },
  {
   "cell_type": "code",
   "execution_count": 53,
   "metadata": {
    "ExecuteTime": {
     "end_time": "2018-06-18T14:13:42.212370Z",
     "start_time": "2018-06-18T14:13:41.165613Z"
    },
    "collapsed": true
   },
   "outputs": [],
   "source": [
    "train_item_shop = pd.merge(train_item, shops, how ='left',on='shop_id')"
   ]
  },
  {
   "cell_type": "code",
   "execution_count": 54,
   "metadata": {
    "ExecuteTime": {
     "end_time": "2018-06-18T14:13:44.213662Z",
     "start_time": "2018-06-18T14:13:44.180500Z"
    }
   },
   "outputs": [
    {
     "data": {
      "text/html": [
       "<div>\n",
       "<style>\n",
       "    .dataframe thead tr:only-child th {\n",
       "        text-align: right;\n",
       "    }\n",
       "\n",
       "    .dataframe thead th {\n",
       "        text-align: left;\n",
       "    }\n",
       "\n",
       "    .dataframe tbody tr th {\n",
       "        vertical-align: top;\n",
       "    }\n",
       "</style>\n",
       "<table border=\"1\" class=\"dataframe\">\n",
       "  <thead>\n",
       "    <tr style=\"text-align: right;\">\n",
       "      <th></th>\n",
       "      <th>date</th>\n",
       "      <th>date_block_num</th>\n",
       "      <th>shop_id</th>\n",
       "      <th>item_id</th>\n",
       "      <th>item_price</th>\n",
       "      <th>item_cnt_day</th>\n",
       "      <th>item_price_whole</th>\n",
       "      <th>item_price_fraction</th>\n",
       "      <th>date_new</th>\n",
       "      <th>day_of_week</th>\n",
       "      <th>Month</th>\n",
       "      <th>Week</th>\n",
       "      <th>item_name</th>\n",
       "      <th>item_category_id</th>\n",
       "      <th>shop_name</th>\n",
       "    </tr>\n",
       "  </thead>\n",
       "  <tbody>\n",
       "    <tr>\n",
       "      <th>0</th>\n",
       "      <td>02.01.2013</td>\n",
       "      <td>0</td>\n",
       "      <td>59</td>\n",
       "      <td>22154</td>\n",
       "      <td>999.00</td>\n",
       "      <td>1.0</td>\n",
       "      <td>999.0</td>\n",
       "      <td>0.0</td>\n",
       "      <td>2013-01-02</td>\n",
       "      <td>2</td>\n",
       "      <td>1</td>\n",
       "      <td>1</td>\n",
       "      <td>ЯВЛЕНИЕ 2012 (BD)</td>\n",
       "      <td>37</td>\n",
       "      <td>Ярославль ТЦ \"Альтаир\"</td>\n",
       "    </tr>\n",
       "    <tr>\n",
       "      <th>1</th>\n",
       "      <td>03.01.2013</td>\n",
       "      <td>0</td>\n",
       "      <td>25</td>\n",
       "      <td>2552</td>\n",
       "      <td>899.00</td>\n",
       "      <td>1.0</td>\n",
       "      <td>899.0</td>\n",
       "      <td>0.0</td>\n",
       "      <td>2013-01-03</td>\n",
       "      <td>3</td>\n",
       "      <td>1</td>\n",
       "      <td>1</td>\n",
       "      <td>DEEP PURPLE  The House Of Blue Light  LP</td>\n",
       "      <td>58</td>\n",
       "      <td>Москва ТРК \"Атриум\"</td>\n",
       "    </tr>\n",
       "    <tr>\n",
       "      <th>2</th>\n",
       "      <td>05.01.2013</td>\n",
       "      <td>0</td>\n",
       "      <td>25</td>\n",
       "      <td>2552</td>\n",
       "      <td>899.00</td>\n",
       "      <td>-1.0</td>\n",
       "      <td>899.0</td>\n",
       "      <td>0.0</td>\n",
       "      <td>2013-01-05</td>\n",
       "      <td>5</td>\n",
       "      <td>1</td>\n",
       "      <td>1</td>\n",
       "      <td>DEEP PURPLE  The House Of Blue Light  LP</td>\n",
       "      <td>58</td>\n",
       "      <td>Москва ТРК \"Атриум\"</td>\n",
       "    </tr>\n",
       "    <tr>\n",
       "      <th>3</th>\n",
       "      <td>06.01.2013</td>\n",
       "      <td>0</td>\n",
       "      <td>25</td>\n",
       "      <td>2554</td>\n",
       "      <td>1709.05</td>\n",
       "      <td>1.0</td>\n",
       "      <td>1709.0</td>\n",
       "      <td>5.0</td>\n",
       "      <td>2013-01-06</td>\n",
       "      <td>6</td>\n",
       "      <td>1</td>\n",
       "      <td>1</td>\n",
       "      <td>DEEP PURPLE  Who Do You Think We Are  LP</td>\n",
       "      <td>58</td>\n",
       "      <td>Москва ТРК \"Атриум\"</td>\n",
       "    </tr>\n",
       "    <tr>\n",
       "      <th>4</th>\n",
       "      <td>15.01.2013</td>\n",
       "      <td>0</td>\n",
       "      <td>25</td>\n",
       "      <td>2555</td>\n",
       "      <td>1099.00</td>\n",
       "      <td>1.0</td>\n",
       "      <td>1099.0</td>\n",
       "      <td>0.0</td>\n",
       "      <td>2013-01-15</td>\n",
       "      <td>1</td>\n",
       "      <td>1</td>\n",
       "      <td>3</td>\n",
       "      <td>DEEP PURPLE 30 Very Best Of 2CD (Фирм.)</td>\n",
       "      <td>56</td>\n",
       "      <td>Москва ТРК \"Атриум\"</td>\n",
       "    </tr>\n",
       "  </tbody>\n",
       "</table>\n",
       "</div>"
      ],
      "text/plain": [
       "         date  date_block_num  shop_id  item_id  item_price  item_cnt_day  \\\n",
       "0  02.01.2013               0       59    22154      999.00           1.0   \n",
       "1  03.01.2013               0       25     2552      899.00           1.0   \n",
       "2  05.01.2013               0       25     2552      899.00          -1.0   \n",
       "3  06.01.2013               0       25     2554     1709.05           1.0   \n",
       "4  15.01.2013               0       25     2555     1099.00           1.0   \n",
       "\n",
       "   item_price_whole  item_price_fraction   date_new  day_of_week  Month  Week  \\\n",
       "0             999.0                  0.0 2013-01-02            2      1     1   \n",
       "1             899.0                  0.0 2013-01-03            3      1     1   \n",
       "2             899.0                  0.0 2013-01-05            5      1     1   \n",
       "3            1709.0                  5.0 2013-01-06            6      1     1   \n",
       "4            1099.0                  0.0 2013-01-15            1      1     3   \n",
       "\n",
       "                                  item_name  item_category_id  \\\n",
       "0                         ЯВЛЕНИЕ 2012 (BD)                37   \n",
       "1  DEEP PURPLE  The House Of Blue Light  LP                58   \n",
       "2  DEEP PURPLE  The House Of Blue Light  LP                58   \n",
       "3  DEEP PURPLE  Who Do You Think We Are  LP                58   \n",
       "4   DEEP PURPLE 30 Very Best Of 2CD (Фирм.)                56   \n",
       "\n",
       "                shop_name  \n",
       "0  Ярославль ТЦ \"Альтаир\"  \n",
       "1     Москва ТРК \"Атриум\"  \n",
       "2     Москва ТРК \"Атриум\"  \n",
       "3     Москва ТРК \"Атриум\"  \n",
       "4     Москва ТРК \"Атриум\"  "
      ]
     },
     "execution_count": 54,
     "metadata": {},
     "output_type": "execute_result"
    }
   ],
   "source": [
    "train_item_shop.head()"
   ]
  },
  {
   "cell_type": "code",
   "execution_count": 55,
   "metadata": {
    "ExecuteTime": {
     "end_time": "2018-06-18T14:13:51.028868Z",
     "start_time": "2018-06-18T14:13:49.898535Z"
    },
    "collapsed": true
   },
   "outputs": [],
   "source": [
    "train_item_shop_categories = pd.merge(train_item_shop, item_categories, how ='left',on='item_category_id')"
   ]
  },
  {
   "cell_type": "code",
   "execution_count": 56,
   "metadata": {
    "ExecuteTime": {
     "end_time": "2018-06-18T14:13:53.146597Z",
     "start_time": "2018-06-18T14:13:53.111520Z"
    }
   },
   "outputs": [
    {
     "data": {
      "text/html": [
       "<div>\n",
       "<style>\n",
       "    .dataframe thead tr:only-child th {\n",
       "        text-align: right;\n",
       "    }\n",
       "\n",
       "    .dataframe thead th {\n",
       "        text-align: left;\n",
       "    }\n",
       "\n",
       "    .dataframe tbody tr th {\n",
       "        vertical-align: top;\n",
       "    }\n",
       "</style>\n",
       "<table border=\"1\" class=\"dataframe\">\n",
       "  <thead>\n",
       "    <tr style=\"text-align: right;\">\n",
       "      <th></th>\n",
       "      <th>date</th>\n",
       "      <th>date_block_num</th>\n",
       "      <th>shop_id</th>\n",
       "      <th>item_id</th>\n",
       "      <th>item_price</th>\n",
       "      <th>item_cnt_day</th>\n",
       "      <th>item_price_whole</th>\n",
       "      <th>item_price_fraction</th>\n",
       "      <th>date_new</th>\n",
       "      <th>day_of_week</th>\n",
       "      <th>Month</th>\n",
       "      <th>Week</th>\n",
       "      <th>item_name</th>\n",
       "      <th>item_category_id</th>\n",
       "      <th>shop_name</th>\n",
       "      <th>item_category_name</th>\n",
       "    </tr>\n",
       "  </thead>\n",
       "  <tbody>\n",
       "    <tr>\n",
       "      <th>0</th>\n",
       "      <td>02.01.2013</td>\n",
       "      <td>0</td>\n",
       "      <td>59</td>\n",
       "      <td>22154</td>\n",
       "      <td>999.00</td>\n",
       "      <td>1.0</td>\n",
       "      <td>999.0</td>\n",
       "      <td>0.0</td>\n",
       "      <td>2013-01-02</td>\n",
       "      <td>2</td>\n",
       "      <td>1</td>\n",
       "      <td>1</td>\n",
       "      <td>ЯВЛЕНИЕ 2012 (BD)</td>\n",
       "      <td>37</td>\n",
       "      <td>Ярославль ТЦ \"Альтаир\"</td>\n",
       "      <td>Кино - Blu-Ray</td>\n",
       "    </tr>\n",
       "    <tr>\n",
       "      <th>1</th>\n",
       "      <td>03.01.2013</td>\n",
       "      <td>0</td>\n",
       "      <td>25</td>\n",
       "      <td>2552</td>\n",
       "      <td>899.00</td>\n",
       "      <td>1.0</td>\n",
       "      <td>899.0</td>\n",
       "      <td>0.0</td>\n",
       "      <td>2013-01-03</td>\n",
       "      <td>3</td>\n",
       "      <td>1</td>\n",
       "      <td>1</td>\n",
       "      <td>DEEP PURPLE  The House Of Blue Light  LP</td>\n",
       "      <td>58</td>\n",
       "      <td>Москва ТРК \"Атриум\"</td>\n",
       "      <td>Музыка - Винил</td>\n",
       "    </tr>\n",
       "    <tr>\n",
       "      <th>2</th>\n",
       "      <td>05.01.2013</td>\n",
       "      <td>0</td>\n",
       "      <td>25</td>\n",
       "      <td>2552</td>\n",
       "      <td>899.00</td>\n",
       "      <td>-1.0</td>\n",
       "      <td>899.0</td>\n",
       "      <td>0.0</td>\n",
       "      <td>2013-01-05</td>\n",
       "      <td>5</td>\n",
       "      <td>1</td>\n",
       "      <td>1</td>\n",
       "      <td>DEEP PURPLE  The House Of Blue Light  LP</td>\n",
       "      <td>58</td>\n",
       "      <td>Москва ТРК \"Атриум\"</td>\n",
       "      <td>Музыка - Винил</td>\n",
       "    </tr>\n",
       "    <tr>\n",
       "      <th>3</th>\n",
       "      <td>06.01.2013</td>\n",
       "      <td>0</td>\n",
       "      <td>25</td>\n",
       "      <td>2554</td>\n",
       "      <td>1709.05</td>\n",
       "      <td>1.0</td>\n",
       "      <td>1709.0</td>\n",
       "      <td>5.0</td>\n",
       "      <td>2013-01-06</td>\n",
       "      <td>6</td>\n",
       "      <td>1</td>\n",
       "      <td>1</td>\n",
       "      <td>DEEP PURPLE  Who Do You Think We Are  LP</td>\n",
       "      <td>58</td>\n",
       "      <td>Москва ТРК \"Атриум\"</td>\n",
       "      <td>Музыка - Винил</td>\n",
       "    </tr>\n",
       "    <tr>\n",
       "      <th>4</th>\n",
       "      <td>15.01.2013</td>\n",
       "      <td>0</td>\n",
       "      <td>25</td>\n",
       "      <td>2555</td>\n",
       "      <td>1099.00</td>\n",
       "      <td>1.0</td>\n",
       "      <td>1099.0</td>\n",
       "      <td>0.0</td>\n",
       "      <td>2013-01-15</td>\n",
       "      <td>1</td>\n",
       "      <td>1</td>\n",
       "      <td>3</td>\n",
       "      <td>DEEP PURPLE 30 Very Best Of 2CD (Фирм.)</td>\n",
       "      <td>56</td>\n",
       "      <td>Москва ТРК \"Атриум\"</td>\n",
       "      <td>Музыка - CD фирменного производства</td>\n",
       "    </tr>\n",
       "  </tbody>\n",
       "</table>\n",
       "</div>"
      ],
      "text/plain": [
       "         date  date_block_num  shop_id  item_id  item_price  item_cnt_day  \\\n",
       "0  02.01.2013               0       59    22154      999.00           1.0   \n",
       "1  03.01.2013               0       25     2552      899.00           1.0   \n",
       "2  05.01.2013               0       25     2552      899.00          -1.0   \n",
       "3  06.01.2013               0       25     2554     1709.05           1.0   \n",
       "4  15.01.2013               0       25     2555     1099.00           1.0   \n",
       "\n",
       "   item_price_whole  item_price_fraction   date_new  day_of_week  Month  Week  \\\n",
       "0             999.0                  0.0 2013-01-02            2      1     1   \n",
       "1             899.0                  0.0 2013-01-03            3      1     1   \n",
       "2             899.0                  0.0 2013-01-05            5      1     1   \n",
       "3            1709.0                  5.0 2013-01-06            6      1     1   \n",
       "4            1099.0                  0.0 2013-01-15            1      1     3   \n",
       "\n",
       "                                  item_name  item_category_id  \\\n",
       "0                         ЯВЛЕНИЕ 2012 (BD)                37   \n",
       "1  DEEP PURPLE  The House Of Blue Light  LP                58   \n",
       "2  DEEP PURPLE  The House Of Blue Light  LP                58   \n",
       "3  DEEP PURPLE  Who Do You Think We Are  LP                58   \n",
       "4   DEEP PURPLE 30 Very Best Of 2CD (Фирм.)                56   \n",
       "\n",
       "                shop_name                   item_category_name  \n",
       "0  Ярославль ТЦ \"Альтаир\"                       Кино - Blu-Ray  \n",
       "1     Москва ТРК \"Атриум\"                       Музыка - Винил  \n",
       "2     Москва ТРК \"Атриум\"                       Музыка - Винил  \n",
       "3     Москва ТРК \"Атриум\"                       Музыка - Винил  \n",
       "4     Москва ТРК \"Атриум\"  Музыка - CD фирменного производства  "
      ]
     },
     "execution_count": 56,
     "metadata": {},
     "output_type": "execute_result"
    }
   ],
   "source": [
    "train_item_shop_categories.head()"
   ]
  },
  {
   "cell_type": "code",
   "execution_count": 30,
   "metadata": {
    "ExecuteTime": {
     "end_time": "2018-06-06T13:36:47.069549Z",
     "start_time": "2018-06-06T13:36:46.806041Z"
    }
   },
   "outputs": [
    {
     "data": {
      "text/plain": [
       "array(['Кино - Blu-Ray', 'Музыка - Винил',\n",
       "       'Музыка - CD фирменного производства', 'Музыка - Музыкальное видео',\n",
       "       'Музыка - CD локального производства', 'Игры - XBOX 360',\n",
       "       'Игры - PS3', 'Игры PC - Дополнительные издания',\n",
       "       'Игры PC - Стандартные издания', 'Игры - PSP', 'Кино - DVD',\n",
       "       'Программы - Для дома и офиса', 'Книги - Методические материалы 1С',\n",
       "       'Игры PC - Коллекционные издания', 'Игры - PSVita',\n",
       "       'Подарки - Развитие', 'Программы - 1С:Предприятие 8',\n",
       "       'Программы - Обучающие', 'Музыка - MP3',\n",
       "       'Музыка - Подарочные издания', 'Аксессуары - PSP',\n",
       "       'Подарки - Гаджеты, роботы, спорт', 'Книги - Аудиокниги',\n",
       "       'Игровые консоли - XBOX 360', 'Аксессуары - PS3',\n",
       "       'Аксессуары - PS4', 'Аксессуары - PSVita',\n",
       "       'Подарки - Сертификаты, услуги', 'Карты оплаты - PSN',\n",
       "       'Карты оплаты - Live!', 'Аксессуары - XBOX 360',\n",
       "       'Кино - Blu-Ray 3D', 'Игры - Аксессуары для игр',\n",
       "       'Игровые консоли - PSVita', 'Книги - Аудиокниги 1С',\n",
       "       'Кино - Коллекционное', 'Подарки - Открытки, наклейки',\n",
       "       'Игровые консоли - PS3', 'Подарки - Сувениры',\n",
       "       'Подарки - Настольные игры (компактные)',\n",
       "       'Чистые носители (штучные)', 'Чистые носители (шпиль)',\n",
       "       'Подарки - Настольные игры', 'Служебные',\n",
       "       'Подарки - Мягкие игрушки', 'PC - Гарнитуры/Наушники',\n",
       "       'Подарки - Сувениры (в навеску)', 'Игровые консоли - PSP',\n",
       "       'Элементы питания', 'Подарки - Фигурки', 'Подарки - Атрибутика',\n",
       "       'Подарки - Сумки, Альбомы, Коврики д/мыши', 'Игры - PS2',\n",
       "       'Доставка товара', 'Книги - Бизнес литература', 'Аксессуары - PS2',\n",
       "       'Книги - Компьютерная литература', 'Игровые консоли - PS2',\n",
       "       'Игры PC - Цифра', 'Программы - Для дома и офиса (Цифра)',\n",
       "       'Программы - Обучающие (Цифра)', 'Книги - Цифра',\n",
       "       'Книги - Аудиокниги (Цифра)', 'Книги - Путеводители',\n",
       "       'Карты оплаты (Кино, Музыка, Игры)', 'Кино - Blu-Ray 4K',\n",
       "       'Книги - Художественная литература', 'Игровые консоли - PS4',\n",
       "       'Игры - PS4', 'Игровые консоли - Прочие', 'Билеты (Цифра)',\n",
       "       'Игровые консоли - XBOX ONE', 'Книги - Познавательная литература',\n",
       "       'Карты оплаты - Live! (Цифра)', 'Игры - XBOX ONE',\n",
       "       'Аксессуары - XBOX ONE', 'Программы - MAC (Цифра)',\n",
       "       'Игры Android - Цифра', 'Игры MAC - Цифра',\n",
       "       'Книги - Комиксы, манга', 'Книги - Открытки',\n",
       "       'Книги - Артбуки, энциклопедии', 'Служебные - Билеты',\n",
       "       'Карты оплаты - Windows (Цифра)'], dtype=object)"
      ]
     },
     "execution_count": 30,
     "metadata": {},
     "output_type": "execute_result"
    }
   ],
   "source": [
    "train_item_shop_categories['item_category_name'].unique()"
   ]
  },
  {
   "cell_type": "code",
   "execution_count": 57,
   "metadata": {
    "ExecuteTime": {
     "end_time": "2018-06-18T14:14:38.409684Z",
     "start_time": "2018-06-18T14:14:37.863008Z"
    },
    "collapsed": true
   },
   "outputs": [],
   "source": [
    "train_item_shop_categories['item_name_codes'] = train_item_shop_categories.item_name.astype('category').cat.codes"
   ]
  },
  {
   "cell_type": "code",
   "execution_count": 58,
   "metadata": {
    "ExecuteTime": {
     "end_time": "2018-06-18T14:14:39.117040Z",
     "start_time": "2018-06-18T14:14:38.630862Z"
    },
    "collapsed": true
   },
   "outputs": [],
   "source": [
    "train_item_shop_categories['shop_name_codes'] = train_item_shop_categories.shop_name.astype('category').cat.codes\n",
    "train_item_shop_categories['item_category_name_codes'] = train_item_shop_categories.item_category_name.astype('category').cat.codes"
   ]
  },
  {
   "cell_type": "code",
   "execution_count": 88,
   "metadata": {
    "ExecuteTime": {
     "end_time": "2018-06-18T15:59:32.166148Z",
     "start_time": "2018-06-18T15:59:32.138176Z"
    }
   },
   "outputs": [
    {
     "data": {
      "text/plain": [
       "Timestamp('2013-01-01 00:00:00')"
      ]
     },
     "execution_count": 88,
     "metadata": {},
     "output_type": "execute_result"
    }
   ],
   "source": [
    "train_item_shop_categories['date_new'].min()"
   ]
  },
  {
   "cell_type": "code",
   "execution_count": 89,
   "metadata": {
    "ExecuteTime": {
     "end_time": "2018-06-18T15:59:44.600444Z",
     "start_time": "2018-06-18T15:59:44.565444Z"
    }
   },
   "outputs": [
    {
     "data": {
      "text/plain": [
       "Timestamp('2015-10-31 00:00:00')"
      ]
     },
     "execution_count": 89,
     "metadata": {},
     "output_type": "execute_result"
    }
   ],
   "source": [
    "\n",
    "train_item_shop_categories['date_new'].max()"
   ]
  },
  {
   "cell_type": "code",
   "execution_count": 59,
   "metadata": {
    "ExecuteTime": {
     "end_time": "2018-06-18T14:14:40.322899Z",
     "start_time": "2018-06-18T14:14:40.288698Z"
    }
   },
   "outputs": [
    {
     "data": {
      "text/html": [
       "<div>\n",
       "<style>\n",
       "    .dataframe thead tr:only-child th {\n",
       "        text-align: right;\n",
       "    }\n",
       "\n",
       "    .dataframe thead th {\n",
       "        text-align: left;\n",
       "    }\n",
       "\n",
       "    .dataframe tbody tr th {\n",
       "        vertical-align: top;\n",
       "    }\n",
       "</style>\n",
       "<table border=\"1\" class=\"dataframe\">\n",
       "  <thead>\n",
       "    <tr style=\"text-align: right;\">\n",
       "      <th></th>\n",
       "      <th>date</th>\n",
       "      <th>date_block_num</th>\n",
       "      <th>shop_id</th>\n",
       "      <th>item_id</th>\n",
       "      <th>item_price</th>\n",
       "      <th>item_cnt_day</th>\n",
       "      <th>item_price_whole</th>\n",
       "      <th>item_price_fraction</th>\n",
       "      <th>date_new</th>\n",
       "      <th>day_of_week</th>\n",
       "      <th>Month</th>\n",
       "      <th>Week</th>\n",
       "      <th>item_name</th>\n",
       "      <th>item_category_id</th>\n",
       "      <th>shop_name</th>\n",
       "      <th>item_category_name</th>\n",
       "      <th>item_name_codes</th>\n",
       "      <th>shop_name_codes</th>\n",
       "      <th>item_category_name_codes</th>\n",
       "    </tr>\n",
       "  </thead>\n",
       "  <tbody>\n",
       "    <tr>\n",
       "      <th>0</th>\n",
       "      <td>02.01.2013</td>\n",
       "      <td>0</td>\n",
       "      <td>59</td>\n",
       "      <td>22154</td>\n",
       "      <td>999.00</td>\n",
       "      <td>1.0</td>\n",
       "      <td>999.0</td>\n",
       "      <td>0.0</td>\n",
       "      <td>2013-01-02</td>\n",
       "      <td>2</td>\n",
       "      <td>1</td>\n",
       "      <td>1</td>\n",
       "      <td>ЯВЛЕНИЕ 2012 (BD)</td>\n",
       "      <td>37</td>\n",
       "      <td>Ярославль ТЦ \"Альтаир\"</td>\n",
       "      <td>Кино - Blu-Ray</td>\n",
       "      <td>21791</td>\n",
       "      <td>59</td>\n",
       "      <td>37</td>\n",
       "    </tr>\n",
       "    <tr>\n",
       "      <th>1</th>\n",
       "      <td>03.01.2013</td>\n",
       "      <td>0</td>\n",
       "      <td>25</td>\n",
       "      <td>2552</td>\n",
       "      <td>899.00</td>\n",
       "      <td>1.0</td>\n",
       "      <td>899.0</td>\n",
       "      <td>0.0</td>\n",
       "      <td>2013-01-03</td>\n",
       "      <td>3</td>\n",
       "      <td>1</td>\n",
       "      <td>1</td>\n",
       "      <td>DEEP PURPLE  The House Of Blue Light  LP</td>\n",
       "      <td>58</td>\n",
       "      <td>Москва ТРК \"Атриум\"</td>\n",
       "      <td>Музыка - Винил</td>\n",
       "      <td>2495</td>\n",
       "      <td>25</td>\n",
       "      <td>58</td>\n",
       "    </tr>\n",
       "    <tr>\n",
       "      <th>2</th>\n",
       "      <td>05.01.2013</td>\n",
       "      <td>0</td>\n",
       "      <td>25</td>\n",
       "      <td>2552</td>\n",
       "      <td>899.00</td>\n",
       "      <td>-1.0</td>\n",
       "      <td>899.0</td>\n",
       "      <td>0.0</td>\n",
       "      <td>2013-01-05</td>\n",
       "      <td>5</td>\n",
       "      <td>1</td>\n",
       "      <td>1</td>\n",
       "      <td>DEEP PURPLE  The House Of Blue Light  LP</td>\n",
       "      <td>58</td>\n",
       "      <td>Москва ТРК \"Атриум\"</td>\n",
       "      <td>Музыка - Винил</td>\n",
       "      <td>2495</td>\n",
       "      <td>25</td>\n",
       "      <td>58</td>\n",
       "    </tr>\n",
       "    <tr>\n",
       "      <th>3</th>\n",
       "      <td>06.01.2013</td>\n",
       "      <td>0</td>\n",
       "      <td>25</td>\n",
       "      <td>2554</td>\n",
       "      <td>1709.05</td>\n",
       "      <td>1.0</td>\n",
       "      <td>1709.0</td>\n",
       "      <td>5.0</td>\n",
       "      <td>2013-01-06</td>\n",
       "      <td>6</td>\n",
       "      <td>1</td>\n",
       "      <td>1</td>\n",
       "      <td>DEEP PURPLE  Who Do You Think We Are  LP</td>\n",
       "      <td>58</td>\n",
       "      <td>Москва ТРК \"Атриум\"</td>\n",
       "      <td>Музыка - Винил</td>\n",
       "      <td>2497</td>\n",
       "      <td>25</td>\n",
       "      <td>58</td>\n",
       "    </tr>\n",
       "    <tr>\n",
       "      <th>4</th>\n",
       "      <td>15.01.2013</td>\n",
       "      <td>0</td>\n",
       "      <td>25</td>\n",
       "      <td>2555</td>\n",
       "      <td>1099.00</td>\n",
       "      <td>1.0</td>\n",
       "      <td>1099.0</td>\n",
       "      <td>0.0</td>\n",
       "      <td>2013-01-15</td>\n",
       "      <td>1</td>\n",
       "      <td>1</td>\n",
       "      <td>3</td>\n",
       "      <td>DEEP PURPLE 30 Very Best Of 2CD (Фирм.)</td>\n",
       "      <td>56</td>\n",
       "      <td>Москва ТРК \"Атриум\"</td>\n",
       "      <td>Музыка - CD фирменного производства</td>\n",
       "      <td>2498</td>\n",
       "      <td>25</td>\n",
       "      <td>56</td>\n",
       "    </tr>\n",
       "  </tbody>\n",
       "</table>\n",
       "</div>"
      ],
      "text/plain": [
       "         date  date_block_num  shop_id  item_id  item_price  item_cnt_day  \\\n",
       "0  02.01.2013               0       59    22154      999.00           1.0   \n",
       "1  03.01.2013               0       25     2552      899.00           1.0   \n",
       "2  05.01.2013               0       25     2552      899.00          -1.0   \n",
       "3  06.01.2013               0       25     2554     1709.05           1.0   \n",
       "4  15.01.2013               0       25     2555     1099.00           1.0   \n",
       "\n",
       "   item_price_whole  item_price_fraction   date_new  day_of_week  Month  Week  \\\n",
       "0             999.0                  0.0 2013-01-02            2      1     1   \n",
       "1             899.0                  0.0 2013-01-03            3      1     1   \n",
       "2             899.0                  0.0 2013-01-05            5      1     1   \n",
       "3            1709.0                  5.0 2013-01-06            6      1     1   \n",
       "4            1099.0                  0.0 2013-01-15            1      1     3   \n",
       "\n",
       "                                  item_name  item_category_id  \\\n",
       "0                         ЯВЛЕНИЕ 2012 (BD)                37   \n",
       "1  DEEP PURPLE  The House Of Blue Light  LP                58   \n",
       "2  DEEP PURPLE  The House Of Blue Light  LP                58   \n",
       "3  DEEP PURPLE  Who Do You Think We Are  LP                58   \n",
       "4   DEEP PURPLE 30 Very Best Of 2CD (Фирм.)                56   \n",
       "\n",
       "                shop_name                   item_category_name  \\\n",
       "0  Ярославль ТЦ \"Альтаир\"                       Кино - Blu-Ray   \n",
       "1     Москва ТРК \"Атриум\"                       Музыка - Винил   \n",
       "2     Москва ТРК \"Атриум\"                       Музыка - Винил   \n",
       "3     Москва ТРК \"Атриум\"                       Музыка - Винил   \n",
       "4     Москва ТРК \"Атриум\"  Музыка - CD фирменного производства   \n",
       "\n",
       "   item_name_codes  shop_name_codes  item_category_name_codes  \n",
       "0            21791               59                        37  \n",
       "1             2495               25                        58  \n",
       "2             2495               25                        58  \n",
       "3             2497               25                        58  \n",
       "4             2498               25                        56  "
      ]
     },
     "execution_count": 59,
     "metadata": {},
     "output_type": "execute_result"
    }
   ],
   "source": [
    "train_item_shop_categories.head()"
   ]
  },
  {
   "cell_type": "code",
   "execution_count": 60,
   "metadata": {
    "ExecuteTime": {
     "end_time": "2018-06-18T14:15:44.893992Z",
     "start_time": "2018-06-18T14:15:43.082895Z"
    },
    "collapsed": true
   },
   "outputs": [],
   "source": [
    "train_item_shop_categories_agg = pd.merge(train_item_shop_categories, agg_df, how ='left',on=['shop_id','item_id'])"
   ]
  },
  {
   "cell_type": "code",
   "execution_count": 61,
   "metadata": {
    "ExecuteTime": {
     "end_time": "2018-06-18T14:15:58.792180Z",
     "start_time": "2018-06-18T14:15:58.739935Z"
    }
   },
   "outputs": [
    {
     "data": {
      "text/html": [
       "<div>\n",
       "<style>\n",
       "    .dataframe thead tr:only-child th {\n",
       "        text-align: right;\n",
       "    }\n",
       "\n",
       "    .dataframe thead th {\n",
       "        text-align: left;\n",
       "    }\n",
       "\n",
       "    .dataframe tbody tr th {\n",
       "        vertical-align: top;\n",
       "    }\n",
       "</style>\n",
       "<table border=\"1\" class=\"dataframe\">\n",
       "  <thead>\n",
       "    <tr style=\"text-align: right;\">\n",
       "      <th></th>\n",
       "      <th>date</th>\n",
       "      <th>date_block_num</th>\n",
       "      <th>shop_id</th>\n",
       "      <th>item_id</th>\n",
       "      <th>item_price</th>\n",
       "      <th>item_cnt_day</th>\n",
       "      <th>item_price_whole</th>\n",
       "      <th>item_price_fraction</th>\n",
       "      <th>date_new</th>\n",
       "      <th>day_of_week</th>\n",
       "      <th>...</th>\n",
       "      <th>item_name</th>\n",
       "      <th>item_category_id</th>\n",
       "      <th>shop_name</th>\n",
       "      <th>item_category_name</th>\n",
       "      <th>item_name_codes</th>\n",
       "      <th>shop_name_codes</th>\n",
       "      <th>item_category_name_codes</th>\n",
       "      <th>no_of_rows</th>\n",
       "      <th>item_cnt_daymean</th>\n",
       "      <th>item_pricemean</th>\n",
       "    </tr>\n",
       "  </thead>\n",
       "  <tbody>\n",
       "    <tr>\n",
       "      <th>0</th>\n",
       "      <td>02.01.2013</td>\n",
       "      <td>0</td>\n",
       "      <td>59</td>\n",
       "      <td>22154</td>\n",
       "      <td>999.00</td>\n",
       "      <td>1.0</td>\n",
       "      <td>999.0</td>\n",
       "      <td>0.0</td>\n",
       "      <td>2013-01-02</td>\n",
       "      <td>2</td>\n",
       "      <td>...</td>\n",
       "      <td>ЯВЛЕНИЕ 2012 (BD)</td>\n",
       "      <td>37</td>\n",
       "      <td>Ярославль ТЦ \"Альтаир\"</td>\n",
       "      <td>Кино - Blu-Ray</td>\n",
       "      <td>21791</td>\n",
       "      <td>59</td>\n",
       "      <td>37</td>\n",
       "      <td>1</td>\n",
       "      <td>1.0</td>\n",
       "      <td>999.00</td>\n",
       "    </tr>\n",
       "    <tr>\n",
       "      <th>1</th>\n",
       "      <td>03.01.2013</td>\n",
       "      <td>0</td>\n",
       "      <td>25</td>\n",
       "      <td>2552</td>\n",
       "      <td>899.00</td>\n",
       "      <td>1.0</td>\n",
       "      <td>899.0</td>\n",
       "      <td>0.0</td>\n",
       "      <td>2013-01-03</td>\n",
       "      <td>3</td>\n",
       "      <td>...</td>\n",
       "      <td>DEEP PURPLE  The House Of Blue Light  LP</td>\n",
       "      <td>58</td>\n",
       "      <td>Москва ТРК \"Атриум\"</td>\n",
       "      <td>Музыка - Винил</td>\n",
       "      <td>2495</td>\n",
       "      <td>25</td>\n",
       "      <td>58</td>\n",
       "      <td>2</td>\n",
       "      <td>0.0</td>\n",
       "      <td>899.00</td>\n",
       "    </tr>\n",
       "    <tr>\n",
       "      <th>2</th>\n",
       "      <td>05.01.2013</td>\n",
       "      <td>0</td>\n",
       "      <td>25</td>\n",
       "      <td>2552</td>\n",
       "      <td>899.00</td>\n",
       "      <td>-1.0</td>\n",
       "      <td>899.0</td>\n",
       "      <td>0.0</td>\n",
       "      <td>2013-01-05</td>\n",
       "      <td>5</td>\n",
       "      <td>...</td>\n",
       "      <td>DEEP PURPLE  The House Of Blue Light  LP</td>\n",
       "      <td>58</td>\n",
       "      <td>Москва ТРК \"Атриум\"</td>\n",
       "      <td>Музыка - Винил</td>\n",
       "      <td>2495</td>\n",
       "      <td>25</td>\n",
       "      <td>58</td>\n",
       "      <td>2</td>\n",
       "      <td>0.0</td>\n",
       "      <td>899.00</td>\n",
       "    </tr>\n",
       "    <tr>\n",
       "      <th>3</th>\n",
       "      <td>06.01.2013</td>\n",
       "      <td>0</td>\n",
       "      <td>25</td>\n",
       "      <td>2554</td>\n",
       "      <td>1709.05</td>\n",
       "      <td>1.0</td>\n",
       "      <td>1709.0</td>\n",
       "      <td>5.0</td>\n",
       "      <td>2013-01-06</td>\n",
       "      <td>6</td>\n",
       "      <td>...</td>\n",
       "      <td>DEEP PURPLE  Who Do You Think We Are  LP</td>\n",
       "      <td>58</td>\n",
       "      <td>Москва ТРК \"Атриум\"</td>\n",
       "      <td>Музыка - Винил</td>\n",
       "      <td>2497</td>\n",
       "      <td>25</td>\n",
       "      <td>58</td>\n",
       "      <td>1</td>\n",
       "      <td>1.0</td>\n",
       "      <td>1709.05</td>\n",
       "    </tr>\n",
       "    <tr>\n",
       "      <th>4</th>\n",
       "      <td>15.01.2013</td>\n",
       "      <td>0</td>\n",
       "      <td>25</td>\n",
       "      <td>2555</td>\n",
       "      <td>1099.00</td>\n",
       "      <td>1.0</td>\n",
       "      <td>1099.0</td>\n",
       "      <td>0.0</td>\n",
       "      <td>2013-01-15</td>\n",
       "      <td>1</td>\n",
       "      <td>...</td>\n",
       "      <td>DEEP PURPLE 30 Very Best Of 2CD (Фирм.)</td>\n",
       "      <td>56</td>\n",
       "      <td>Москва ТРК \"Атриум\"</td>\n",
       "      <td>Музыка - CD фирменного производства</td>\n",
       "      <td>2498</td>\n",
       "      <td>25</td>\n",
       "      <td>56</td>\n",
       "      <td>10</td>\n",
       "      <td>1.0</td>\n",
       "      <td>1104.00</td>\n",
       "    </tr>\n",
       "  </tbody>\n",
       "</table>\n",
       "<p>5 rows × 22 columns</p>\n",
       "</div>"
      ],
      "text/plain": [
       "         date  date_block_num  shop_id  item_id  item_price  item_cnt_day  \\\n",
       "0  02.01.2013               0       59    22154      999.00           1.0   \n",
       "1  03.01.2013               0       25     2552      899.00           1.0   \n",
       "2  05.01.2013               0       25     2552      899.00          -1.0   \n",
       "3  06.01.2013               0       25     2554     1709.05           1.0   \n",
       "4  15.01.2013               0       25     2555     1099.00           1.0   \n",
       "\n",
       "   item_price_whole  item_price_fraction   date_new  day_of_week  \\\n",
       "0             999.0                  0.0 2013-01-02            2   \n",
       "1             899.0                  0.0 2013-01-03            3   \n",
       "2             899.0                  0.0 2013-01-05            5   \n",
       "3            1709.0                  5.0 2013-01-06            6   \n",
       "4            1099.0                  0.0 2013-01-15            1   \n",
       "\n",
       "        ...                                       item_name  item_category_id  \\\n",
       "0       ...                               ЯВЛЕНИЕ 2012 (BD)                37   \n",
       "1       ...        DEEP PURPLE  The House Of Blue Light  LP                58   \n",
       "2       ...        DEEP PURPLE  The House Of Blue Light  LP                58   \n",
       "3       ...        DEEP PURPLE  Who Do You Think We Are  LP                58   \n",
       "4       ...         DEEP PURPLE 30 Very Best Of 2CD (Фирм.)                56   \n",
       "\n",
       "                shop_name                   item_category_name  \\\n",
       "0  Ярославль ТЦ \"Альтаир\"                       Кино - Blu-Ray   \n",
       "1     Москва ТРК \"Атриум\"                       Музыка - Винил   \n",
       "2     Москва ТРК \"Атриум\"                       Музыка - Винил   \n",
       "3     Москва ТРК \"Атриум\"                       Музыка - Винил   \n",
       "4     Москва ТРК \"Атриум\"  Музыка - CD фирменного производства   \n",
       "\n",
       "  item_name_codes shop_name_codes  item_category_name_codes  no_of_rows  \\\n",
       "0           21791              59                        37           1   \n",
       "1            2495              25                        58           2   \n",
       "2            2495              25                        58           2   \n",
       "3            2497              25                        58           1   \n",
       "4            2498              25                        56          10   \n",
       "\n",
       "   item_cnt_daymean  item_pricemean  \n",
       "0               1.0          999.00  \n",
       "1               0.0          899.00  \n",
       "2               0.0          899.00  \n",
       "3               1.0         1709.05  \n",
       "4               1.0         1104.00  \n",
       "\n",
       "[5 rows x 22 columns]"
      ]
     },
     "execution_count": 61,
     "metadata": {},
     "output_type": "execute_result"
    }
   ],
   "source": [
    "train_item_shop_categories_agg.head()"
   ]
  },
  {
   "cell_type": "code",
   "execution_count": 90,
   "metadata": {
    "ExecuteTime": {
     "end_time": "2018-06-18T16:00:53.339939Z",
     "start_time": "2018-06-18T16:00:53.035186Z"
    },
    "collapsed": true
   },
   "outputs": [],
   "source": [
    "Cleaned_Train = train_item_shop_categories_agg[['date_new','date_block_num','shop_id','item_id','item_price','item_price_whole','item_price_fraction','day_of_week','Month','Week',\n",
    "                       'item_name_codes','item_category_id','shop_name_codes','item_category_name_codes','item_cnt_day',\n",
    "                                           'no_of_rows', 'item_cnt_daymean', 'item_pricemean']]"
   ]
  },
  {
   "cell_type": "code",
   "execution_count": 91,
   "metadata": {
    "ExecuteTime": {
     "end_time": "2018-06-18T16:00:54.454462Z",
     "start_time": "2018-06-18T16:00:54.417465Z"
    }
   },
   "outputs": [
    {
     "data": {
      "text/html": [
       "<div>\n",
       "<style>\n",
       "    .dataframe thead tr:only-child th {\n",
       "        text-align: right;\n",
       "    }\n",
       "\n",
       "    .dataframe thead th {\n",
       "        text-align: left;\n",
       "    }\n",
       "\n",
       "    .dataframe tbody tr th {\n",
       "        vertical-align: top;\n",
       "    }\n",
       "</style>\n",
       "<table border=\"1\" class=\"dataframe\">\n",
       "  <thead>\n",
       "    <tr style=\"text-align: right;\">\n",
       "      <th></th>\n",
       "      <th>date_new</th>\n",
       "      <th>date_block_num</th>\n",
       "      <th>shop_id</th>\n",
       "      <th>item_id</th>\n",
       "      <th>item_price</th>\n",
       "      <th>item_price_whole</th>\n",
       "      <th>item_price_fraction</th>\n",
       "      <th>day_of_week</th>\n",
       "      <th>Month</th>\n",
       "      <th>Week</th>\n",
       "      <th>item_name_codes</th>\n",
       "      <th>item_category_id</th>\n",
       "      <th>shop_name_codes</th>\n",
       "      <th>item_category_name_codes</th>\n",
       "      <th>item_cnt_day</th>\n",
       "      <th>no_of_rows</th>\n",
       "      <th>item_cnt_daymean</th>\n",
       "      <th>item_pricemean</th>\n",
       "    </tr>\n",
       "  </thead>\n",
       "  <tbody>\n",
       "    <tr>\n",
       "      <th>0</th>\n",
       "      <td>2013-01-02</td>\n",
       "      <td>0</td>\n",
       "      <td>59</td>\n",
       "      <td>22154</td>\n",
       "      <td>999.00</td>\n",
       "      <td>999.0</td>\n",
       "      <td>0.0</td>\n",
       "      <td>2</td>\n",
       "      <td>1</td>\n",
       "      <td>1</td>\n",
       "      <td>21791</td>\n",
       "      <td>37</td>\n",
       "      <td>59</td>\n",
       "      <td>37</td>\n",
       "      <td>1.0</td>\n",
       "      <td>1</td>\n",
       "      <td>1.0</td>\n",
       "      <td>999.00</td>\n",
       "    </tr>\n",
       "    <tr>\n",
       "      <th>1</th>\n",
       "      <td>2013-01-03</td>\n",
       "      <td>0</td>\n",
       "      <td>25</td>\n",
       "      <td>2552</td>\n",
       "      <td>899.00</td>\n",
       "      <td>899.0</td>\n",
       "      <td>0.0</td>\n",
       "      <td>3</td>\n",
       "      <td>1</td>\n",
       "      <td>1</td>\n",
       "      <td>2495</td>\n",
       "      <td>58</td>\n",
       "      <td>25</td>\n",
       "      <td>58</td>\n",
       "      <td>1.0</td>\n",
       "      <td>2</td>\n",
       "      <td>0.0</td>\n",
       "      <td>899.00</td>\n",
       "    </tr>\n",
       "    <tr>\n",
       "      <th>2</th>\n",
       "      <td>2013-01-05</td>\n",
       "      <td>0</td>\n",
       "      <td>25</td>\n",
       "      <td>2552</td>\n",
       "      <td>899.00</td>\n",
       "      <td>899.0</td>\n",
       "      <td>0.0</td>\n",
       "      <td>5</td>\n",
       "      <td>1</td>\n",
       "      <td>1</td>\n",
       "      <td>2495</td>\n",
       "      <td>58</td>\n",
       "      <td>25</td>\n",
       "      <td>58</td>\n",
       "      <td>-1.0</td>\n",
       "      <td>2</td>\n",
       "      <td>0.0</td>\n",
       "      <td>899.00</td>\n",
       "    </tr>\n",
       "    <tr>\n",
       "      <th>3</th>\n",
       "      <td>2013-01-06</td>\n",
       "      <td>0</td>\n",
       "      <td>25</td>\n",
       "      <td>2554</td>\n",
       "      <td>1709.05</td>\n",
       "      <td>1709.0</td>\n",
       "      <td>5.0</td>\n",
       "      <td>6</td>\n",
       "      <td>1</td>\n",
       "      <td>1</td>\n",
       "      <td>2497</td>\n",
       "      <td>58</td>\n",
       "      <td>25</td>\n",
       "      <td>58</td>\n",
       "      <td>1.0</td>\n",
       "      <td>1</td>\n",
       "      <td>1.0</td>\n",
       "      <td>1709.05</td>\n",
       "    </tr>\n",
       "    <tr>\n",
       "      <th>4</th>\n",
       "      <td>2013-01-15</td>\n",
       "      <td>0</td>\n",
       "      <td>25</td>\n",
       "      <td>2555</td>\n",
       "      <td>1099.00</td>\n",
       "      <td>1099.0</td>\n",
       "      <td>0.0</td>\n",
       "      <td>1</td>\n",
       "      <td>1</td>\n",
       "      <td>3</td>\n",
       "      <td>2498</td>\n",
       "      <td>56</td>\n",
       "      <td>25</td>\n",
       "      <td>56</td>\n",
       "      <td>1.0</td>\n",
       "      <td>10</td>\n",
       "      <td>1.0</td>\n",
       "      <td>1104.00</td>\n",
       "    </tr>\n",
       "  </tbody>\n",
       "</table>\n",
       "</div>"
      ],
      "text/plain": [
       "    date_new  date_block_num  shop_id  item_id  item_price  item_price_whole  \\\n",
       "0 2013-01-02               0       59    22154      999.00             999.0   \n",
       "1 2013-01-03               0       25     2552      899.00             899.0   \n",
       "2 2013-01-05               0       25     2552      899.00             899.0   \n",
       "3 2013-01-06               0       25     2554     1709.05            1709.0   \n",
       "4 2013-01-15               0       25     2555     1099.00            1099.0   \n",
       "\n",
       "   item_price_fraction  day_of_week  Month  Week  item_name_codes  \\\n",
       "0                  0.0            2      1     1            21791   \n",
       "1                  0.0            3      1     1             2495   \n",
       "2                  0.0            5      1     1             2495   \n",
       "3                  5.0            6      1     1             2497   \n",
       "4                  0.0            1      1     3             2498   \n",
       "\n",
       "   item_category_id  shop_name_codes  item_category_name_codes  item_cnt_day  \\\n",
       "0                37               59                        37           1.0   \n",
       "1                58               25                        58           1.0   \n",
       "2                58               25                        58          -1.0   \n",
       "3                58               25                        58           1.0   \n",
       "4                56               25                        56           1.0   \n",
       "\n",
       "   no_of_rows  item_cnt_daymean  item_pricemean  \n",
       "0           1               1.0          999.00  \n",
       "1           2               0.0          899.00  \n",
       "2           2               0.0          899.00  \n",
       "3           1               1.0         1709.05  \n",
       "4          10               1.0         1104.00  "
      ]
     },
     "execution_count": 91,
     "metadata": {},
     "output_type": "execute_result"
    }
   ],
   "source": [
    "Cleaned_Train.head()"
   ]
  },
  {
   "cell_type": "code",
   "execution_count": 65,
   "metadata": {
    "ExecuteTime": {
     "end_time": "2018-06-18T14:19:10.422380Z",
     "start_time": "2018-06-18T14:19:10.418736Z"
    },
    "collapsed": true
   },
   "outputs": [],
   "source": [
    "# Cleaned_Train['Tmp']=Cleaned_Train['shop_name_codes'].apply(lambda x :bin(x))\n",
    "# print(Cleaned_Train.Tmp.map(len).max())"
   ]
  },
  {
   "cell_type": "code",
   "execution_count": 95,
   "metadata": {
    "ExecuteTime": {
     "end_time": "2018-06-18T16:02:10.904499Z",
     "start_time": "2018-06-18T16:02:10.867033Z"
    }
   },
   "outputs": [
    {
     "data": {
      "text/html": [
       "<div>\n",
       "<style>\n",
       "    .dataframe thead tr:only-child th {\n",
       "        text-align: right;\n",
       "    }\n",
       "\n",
       "    .dataframe thead th {\n",
       "        text-align: left;\n",
       "    }\n",
       "\n",
       "    .dataframe tbody tr th {\n",
       "        vertical-align: top;\n",
       "    }\n",
       "</style>\n",
       "<table border=\"1\" class=\"dataframe\">\n",
       "  <thead>\n",
       "    <tr style=\"text-align: right;\">\n",
       "      <th></th>\n",
       "      <th>date_new</th>\n",
       "      <th>date_block_num</th>\n",
       "      <th>shop_id</th>\n",
       "      <th>item_id</th>\n",
       "      <th>item_price</th>\n",
       "      <th>item_price_whole</th>\n",
       "      <th>item_price_fraction</th>\n",
       "      <th>day_of_week</th>\n",
       "      <th>Month</th>\n",
       "      <th>Week</th>\n",
       "      <th>item_name_codes</th>\n",
       "      <th>item_category_id</th>\n",
       "      <th>shop_name_codes</th>\n",
       "      <th>item_category_name_codes</th>\n",
       "      <th>item_cnt_day</th>\n",
       "      <th>no_of_rows</th>\n",
       "      <th>item_cnt_daymean</th>\n",
       "      <th>item_pricemean</th>\n",
       "    </tr>\n",
       "  </thead>\n",
       "  <tbody>\n",
       "    <tr>\n",
       "      <th>0</th>\n",
       "      <td>2013-01-02</td>\n",
       "      <td>0</td>\n",
       "      <td>59</td>\n",
       "      <td>22154</td>\n",
       "      <td>999.00</td>\n",
       "      <td>999.0</td>\n",
       "      <td>0.0</td>\n",
       "      <td>2</td>\n",
       "      <td>1</td>\n",
       "      <td>1</td>\n",
       "      <td>21791</td>\n",
       "      <td>37</td>\n",
       "      <td>59</td>\n",
       "      <td>37</td>\n",
       "      <td>1.0</td>\n",
       "      <td>1</td>\n",
       "      <td>1.0</td>\n",
       "      <td>999.00</td>\n",
       "    </tr>\n",
       "    <tr>\n",
       "      <th>1</th>\n",
       "      <td>2013-01-03</td>\n",
       "      <td>0</td>\n",
       "      <td>25</td>\n",
       "      <td>2552</td>\n",
       "      <td>899.00</td>\n",
       "      <td>899.0</td>\n",
       "      <td>0.0</td>\n",
       "      <td>3</td>\n",
       "      <td>1</td>\n",
       "      <td>1</td>\n",
       "      <td>2495</td>\n",
       "      <td>58</td>\n",
       "      <td>25</td>\n",
       "      <td>58</td>\n",
       "      <td>1.0</td>\n",
       "      <td>2</td>\n",
       "      <td>0.0</td>\n",
       "      <td>899.00</td>\n",
       "    </tr>\n",
       "    <tr>\n",
       "      <th>2</th>\n",
       "      <td>2013-01-05</td>\n",
       "      <td>0</td>\n",
       "      <td>25</td>\n",
       "      <td>2552</td>\n",
       "      <td>899.00</td>\n",
       "      <td>899.0</td>\n",
       "      <td>0.0</td>\n",
       "      <td>5</td>\n",
       "      <td>1</td>\n",
       "      <td>1</td>\n",
       "      <td>2495</td>\n",
       "      <td>58</td>\n",
       "      <td>25</td>\n",
       "      <td>58</td>\n",
       "      <td>-1.0</td>\n",
       "      <td>2</td>\n",
       "      <td>0.0</td>\n",
       "      <td>899.00</td>\n",
       "    </tr>\n",
       "    <tr>\n",
       "      <th>3</th>\n",
       "      <td>2013-01-06</td>\n",
       "      <td>0</td>\n",
       "      <td>25</td>\n",
       "      <td>2554</td>\n",
       "      <td>1709.05</td>\n",
       "      <td>1709.0</td>\n",
       "      <td>5.0</td>\n",
       "      <td>6</td>\n",
       "      <td>1</td>\n",
       "      <td>1</td>\n",
       "      <td>2497</td>\n",
       "      <td>58</td>\n",
       "      <td>25</td>\n",
       "      <td>58</td>\n",
       "      <td>1.0</td>\n",
       "      <td>1</td>\n",
       "      <td>1.0</td>\n",
       "      <td>1709.05</td>\n",
       "    </tr>\n",
       "    <tr>\n",
       "      <th>4</th>\n",
       "      <td>2013-01-15</td>\n",
       "      <td>0</td>\n",
       "      <td>25</td>\n",
       "      <td>2555</td>\n",
       "      <td>1099.00</td>\n",
       "      <td>1099.0</td>\n",
       "      <td>0.0</td>\n",
       "      <td>1</td>\n",
       "      <td>1</td>\n",
       "      <td>3</td>\n",
       "      <td>2498</td>\n",
       "      <td>56</td>\n",
       "      <td>25</td>\n",
       "      <td>56</td>\n",
       "      <td>1.0</td>\n",
       "      <td>10</td>\n",
       "      <td>1.0</td>\n",
       "      <td>1104.00</td>\n",
       "    </tr>\n",
       "  </tbody>\n",
       "</table>\n",
       "</div>"
      ],
      "text/plain": [
       "    date_new  date_block_num  shop_id  item_id  item_price  item_price_whole  \\\n",
       "0 2013-01-02               0       59    22154      999.00             999.0   \n",
       "1 2013-01-03               0       25     2552      899.00             899.0   \n",
       "2 2013-01-05               0       25     2552      899.00             899.0   \n",
       "3 2013-01-06               0       25     2554     1709.05            1709.0   \n",
       "4 2013-01-15               0       25     2555     1099.00            1099.0   \n",
       "\n",
       "   item_price_fraction  day_of_week  Month  Week  item_name_codes  \\\n",
       "0                  0.0            2      1     1            21791   \n",
       "1                  0.0            3      1     1             2495   \n",
       "2                  0.0            5      1     1             2495   \n",
       "3                  5.0            6      1     1             2497   \n",
       "4                  0.0            1      1     3             2498   \n",
       "\n",
       "   item_category_id  shop_name_codes  item_category_name_codes  item_cnt_day  \\\n",
       "0                37               59                        37           1.0   \n",
       "1                58               25                        58           1.0   \n",
       "2                58               25                        58          -1.0   \n",
       "3                58               25                        58           1.0   \n",
       "4                56               25                        56           1.0   \n",
       "\n",
       "   no_of_rows  item_cnt_daymean  item_pricemean  \n",
       "0           1               1.0          999.00  \n",
       "1           2               0.0          899.00  \n",
       "2           2               0.0          899.00  \n",
       "3           1               1.0         1709.05  \n",
       "4          10               1.0         1104.00  "
      ]
     },
     "execution_count": 95,
     "metadata": {},
     "output_type": "execute_result"
    }
   ],
   "source": [
    "Cleaned_Train.head()"
   ]
  },
  {
   "cell_type": "code",
   "execution_count": 92,
   "metadata": {
    "ExecuteTime": {
     "end_time": "2018-06-18T16:01:06.254822Z",
     "start_time": "2018-06-18T16:01:01.206238Z"
    }
   },
   "outputs": [
    {
     "data": {
      "text/html": [
       "<div>\n",
       "<style>\n",
       "    .dataframe thead tr:only-child th {\n",
       "        text-align: right;\n",
       "    }\n",
       "\n",
       "    .dataframe thead th {\n",
       "        text-align: left;\n",
       "    }\n",
       "\n",
       "    .dataframe tbody tr th {\n",
       "        vertical-align: top;\n",
       "    }\n",
       "</style>\n",
       "<table border=\"1\" class=\"dataframe\">\n",
       "  <thead>\n",
       "    <tr style=\"text-align: right;\">\n",
       "      <th></th>\n",
       "      <th>date_block_num</th>\n",
       "      <th>shop_id</th>\n",
       "      <th>item_id</th>\n",
       "      <th>item_price</th>\n",
       "      <th>item_price_whole</th>\n",
       "      <th>item_price_fraction</th>\n",
       "      <th>day_of_week</th>\n",
       "      <th>Month</th>\n",
       "      <th>Week</th>\n",
       "      <th>item_name_codes</th>\n",
       "      <th>item_category_id</th>\n",
       "      <th>shop_name_codes</th>\n",
       "      <th>item_category_name_codes</th>\n",
       "      <th>item_cnt_day</th>\n",
       "      <th>no_of_rows</th>\n",
       "      <th>item_cnt_daymean</th>\n",
       "      <th>item_pricemean</th>\n",
       "    </tr>\n",
       "  </thead>\n",
       "  <tbody>\n",
       "    <tr>\n",
       "      <th>count</th>\n",
       "      <td>2.935843e+06</td>\n",
       "      <td>2.935843e+06</td>\n",
       "      <td>2.935843e+06</td>\n",
       "      <td>2.935843e+06</td>\n",
       "      <td>2.935843e+06</td>\n",
       "      <td>2.935843e+06</td>\n",
       "      <td>2.935843e+06</td>\n",
       "      <td>2.935843e+06</td>\n",
       "      <td>2.935843e+06</td>\n",
       "      <td>2.935843e+06</td>\n",
       "      <td>2.935843e+06</td>\n",
       "      <td>2.935843e+06</td>\n",
       "      <td>2.935843e+06</td>\n",
       "      <td>2.935843e+06</td>\n",
       "      <td>2.935843e+06</td>\n",
       "      <td>2.935843e+06</td>\n",
       "      <td>2.935843e+06</td>\n",
       "    </tr>\n",
       "    <tr>\n",
       "      <th>mean</th>\n",
       "      <td>1.456991e+01</td>\n",
       "      <td>3.300171e+01</td>\n",
       "      <td>1.019723e+04</td>\n",
       "      <td>8.908535e+02</td>\n",
       "      <td>8.908228e+02</td>\n",
       "      <td>3.064652e+00</td>\n",
       "      <td>3.365684e+00</td>\n",
       "      <td>6.247719e+00</td>\n",
       "      <td>2.485820e+01</td>\n",
       "      <td>1.001591e+04</td>\n",
       "      <td>4.000141e+01</td>\n",
       "      <td>3.300171e+01</td>\n",
       "      <td>4.000141e+01</td>\n",
       "      <td>1.242641e+00</td>\n",
       "      <td>4.250484e+01</td>\n",
       "      <td>1.242641e+00</td>\n",
       "      <td>8.908535e+02</td>\n",
       "    </tr>\n",
       "    <tr>\n",
       "      <th>std</th>\n",
       "      <td>9.422992e+00</td>\n",
       "      <td>1.622698e+01</td>\n",
       "      <td>6.324293e+03</td>\n",
       "      <td>1.729801e+03</td>\n",
       "      <td>1.729803e+03</td>\n",
       "      <td>1.296125e+01</td>\n",
       "      <td>1.996795e+00</td>\n",
       "      <td>3.536219e+00</td>\n",
       "      <td>1.543837e+01</td>\n",
       "      <td>6.222942e+03</td>\n",
       "      <td>1.710076e+01</td>\n",
       "      <td>1.622698e+01</td>\n",
       "      <td>1.710076e+01</td>\n",
       "      <td>2.618837e+00</td>\n",
       "      <td>8.754661e+01</td>\n",
       "      <td>1.193642e+00</td>\n",
       "      <td>1.709852e+03</td>\n",
       "    </tr>\n",
       "    <tr>\n",
       "      <th>min</th>\n",
       "      <td>0.000000e+00</td>\n",
       "      <td>0.000000e+00</td>\n",
       "      <td>0.000000e+00</td>\n",
       "      <td>-1.000000e+00</td>\n",
       "      <td>-1.000000e+00</td>\n",
       "      <td>0.000000e+00</td>\n",
       "      <td>0.000000e+00</td>\n",
       "      <td>1.000000e+00</td>\n",
       "      <td>1.000000e+00</td>\n",
       "      <td>0.000000e+00</td>\n",
       "      <td>0.000000e+00</td>\n",
       "      <td>0.000000e+00</td>\n",
       "      <td>0.000000e+00</td>\n",
       "      <td>-2.200000e+01</td>\n",
       "      <td>1.000000e+00</td>\n",
       "      <td>-1.750000e+00</td>\n",
       "      <td>9.000000e-02</td>\n",
       "    </tr>\n",
       "    <tr>\n",
       "      <th>25%</th>\n",
       "      <td>7.000000e+00</td>\n",
       "      <td>2.200000e+01</td>\n",
       "      <td>4.476000e+03</td>\n",
       "      <td>2.490000e+02</td>\n",
       "      <td>2.490000e+02</td>\n",
       "      <td>0.000000e+00</td>\n",
       "      <td>2.000000e+00</td>\n",
       "      <td>3.000000e+00</td>\n",
       "      <td>1.100000e+01</td>\n",
       "      <td>4.389000e+03</td>\n",
       "      <td>2.800000e+01</td>\n",
       "      <td>2.200000e+01</td>\n",
       "      <td>2.800000e+01</td>\n",
       "      <td>1.000000e+00</td>\n",
       "      <td>6.000000e+00</td>\n",
       "      <td>1.000000e+00</td>\n",
       "      <td>2.553779e+02</td>\n",
       "    </tr>\n",
       "    <tr>\n",
       "      <th>50%</th>\n",
       "      <td>1.400000e+01</td>\n",
       "      <td>3.100000e+01</td>\n",
       "      <td>9.343000e+03</td>\n",
       "      <td>3.990000e+02</td>\n",
       "      <td>3.990000e+02</td>\n",
       "      <td>0.000000e+00</td>\n",
       "      <td>4.000000e+00</td>\n",
       "      <td>6.000000e+00</td>\n",
       "      <td>2.400000e+01</td>\n",
       "      <td>9.158000e+03</td>\n",
       "      <td>4.000000e+01</td>\n",
       "      <td>3.100000e+01</td>\n",
       "      <td>4.000000e+01</td>\n",
       "      <td>1.000000e+00</td>\n",
       "      <td>1.600000e+01</td>\n",
       "      <td>1.037037e+00</td>\n",
       "      <td>4.143125e+02</td>\n",
       "    </tr>\n",
       "    <tr>\n",
       "      <th>75%</th>\n",
       "      <td>2.300000e+01</td>\n",
       "      <td>4.700000e+01</td>\n",
       "      <td>1.568400e+04</td>\n",
       "      <td>9.990000e+02</td>\n",
       "      <td>9.990000e+02</td>\n",
       "      <td>0.000000e+00</td>\n",
       "      <td>5.000000e+00</td>\n",
       "      <td>9.000000e+00</td>\n",
       "      <td>3.800000e+01</td>\n",
       "      <td>1.540200e+04</td>\n",
       "      <td>5.500000e+01</td>\n",
       "      <td>4.700000e+01</td>\n",
       "      <td>5.500000e+01</td>\n",
       "      <td>1.000000e+00</td>\n",
       "      <td>4.200000e+01</td>\n",
       "      <td>1.200000e+00</td>\n",
       "      <td>9.896805e+02</td>\n",
       "    </tr>\n",
       "    <tr>\n",
       "      <th>max</th>\n",
       "      <td>3.300000e+01</td>\n",
       "      <td>5.900000e+01</td>\n",
       "      <td>2.216900e+04</td>\n",
       "      <td>3.079800e+05</td>\n",
       "      <td>3.079800e+05</td>\n",
       "      <td>9.975000e+01</td>\n",
       "      <td>6.000000e+00</td>\n",
       "      <td>1.200000e+01</td>\n",
       "      <td>5.200000e+01</td>\n",
       "      <td>2.180600e+04</td>\n",
       "      <td>8.300000e+01</td>\n",
       "      <td>5.900000e+01</td>\n",
       "      <td>8.300000e+01</td>\n",
       "      <td>2.169000e+03</td>\n",
       "      <td>8.670000e+02</td>\n",
       "      <td>6.666667e+02</td>\n",
       "      <td>3.079800e+05</td>\n",
       "    </tr>\n",
       "  </tbody>\n",
       "</table>\n",
       "</div>"
      ],
      "text/plain": [
       "       date_block_num       shop_id       item_id    item_price  \\\n",
       "count    2.935843e+06  2.935843e+06  2.935843e+06  2.935843e+06   \n",
       "mean     1.456991e+01  3.300171e+01  1.019723e+04  8.908535e+02   \n",
       "std      9.422992e+00  1.622698e+01  6.324293e+03  1.729801e+03   \n",
       "min      0.000000e+00  0.000000e+00  0.000000e+00 -1.000000e+00   \n",
       "25%      7.000000e+00  2.200000e+01  4.476000e+03  2.490000e+02   \n",
       "50%      1.400000e+01  3.100000e+01  9.343000e+03  3.990000e+02   \n",
       "75%      2.300000e+01  4.700000e+01  1.568400e+04  9.990000e+02   \n",
       "max      3.300000e+01  5.900000e+01  2.216900e+04  3.079800e+05   \n",
       "\n",
       "       item_price_whole  item_price_fraction   day_of_week         Month  \\\n",
       "count      2.935843e+06         2.935843e+06  2.935843e+06  2.935843e+06   \n",
       "mean       8.908228e+02         3.064652e+00  3.365684e+00  6.247719e+00   \n",
       "std        1.729803e+03         1.296125e+01  1.996795e+00  3.536219e+00   \n",
       "min       -1.000000e+00         0.000000e+00  0.000000e+00  1.000000e+00   \n",
       "25%        2.490000e+02         0.000000e+00  2.000000e+00  3.000000e+00   \n",
       "50%        3.990000e+02         0.000000e+00  4.000000e+00  6.000000e+00   \n",
       "75%        9.990000e+02         0.000000e+00  5.000000e+00  9.000000e+00   \n",
       "max        3.079800e+05         9.975000e+01  6.000000e+00  1.200000e+01   \n",
       "\n",
       "               Week  item_name_codes  item_category_id  shop_name_codes  \\\n",
       "count  2.935843e+06     2.935843e+06      2.935843e+06     2.935843e+06   \n",
       "mean   2.485820e+01     1.001591e+04      4.000141e+01     3.300171e+01   \n",
       "std    1.543837e+01     6.222942e+03      1.710076e+01     1.622698e+01   \n",
       "min    1.000000e+00     0.000000e+00      0.000000e+00     0.000000e+00   \n",
       "25%    1.100000e+01     4.389000e+03      2.800000e+01     2.200000e+01   \n",
       "50%    2.400000e+01     9.158000e+03      4.000000e+01     3.100000e+01   \n",
       "75%    3.800000e+01     1.540200e+04      5.500000e+01     4.700000e+01   \n",
       "max    5.200000e+01     2.180600e+04      8.300000e+01     5.900000e+01   \n",
       "\n",
       "       item_category_name_codes  item_cnt_day    no_of_rows  item_cnt_daymean  \\\n",
       "count              2.935843e+06  2.935843e+06  2.935843e+06      2.935843e+06   \n",
       "mean               4.000141e+01  1.242641e+00  4.250484e+01      1.242641e+00   \n",
       "std                1.710076e+01  2.618837e+00  8.754661e+01      1.193642e+00   \n",
       "min                0.000000e+00 -2.200000e+01  1.000000e+00     -1.750000e+00   \n",
       "25%                2.800000e+01  1.000000e+00  6.000000e+00      1.000000e+00   \n",
       "50%                4.000000e+01  1.000000e+00  1.600000e+01      1.037037e+00   \n",
       "75%                5.500000e+01  1.000000e+00  4.200000e+01      1.200000e+00   \n",
       "max                8.300000e+01  2.169000e+03  8.670000e+02      6.666667e+02   \n",
       "\n",
       "       item_pricemean  \n",
       "count    2.935843e+06  \n",
       "mean     8.908535e+02  \n",
       "std      1.709852e+03  \n",
       "min      9.000000e-02  \n",
       "25%      2.553779e+02  \n",
       "50%      4.143125e+02  \n",
       "75%      9.896805e+02  \n",
       "max      3.079800e+05  "
      ]
     },
     "execution_count": 92,
     "metadata": {},
     "output_type": "execute_result"
    }
   ],
   "source": [
    "Cleaned_Train.describe()"
   ]
  },
  {
   "cell_type": "code",
   "execution_count": 93,
   "metadata": {
    "ExecuteTime": {
     "end_time": "2018-06-18T16:01:28.607181Z",
     "start_time": "2018-06-18T16:01:28.603558Z"
    },
    "collapsed": true
   },
   "outputs": [],
   "source": [
    "# Cleaned_Train['New_ID'] = Cleaned_Train['item_id'].apply(lambda x :str(x)[0:1])"
   ]
  },
  {
   "cell_type": "code",
   "execution_count": 94,
   "metadata": {
    "ExecuteTime": {
     "end_time": "2018-06-18T16:01:29.507737Z",
     "start_time": "2018-06-18T16:01:29.216416Z"
    }
   },
   "outputs": [
    {
     "data": {
      "text/plain": [
       "False"
      ]
     },
     "execution_count": 94,
     "metadata": {},
     "output_type": "execute_result"
    }
   ],
   "source": [
    "Cleaned_Train.isnull().values.any()"
   ]
  },
  {
   "cell_type": "code",
   "execution_count": null,
   "metadata": {
    "collapsed": true
   },
   "outputs": [],
   "source": []
  },
  {
   "cell_type": "code",
   "execution_count": 69,
   "metadata": {
    "ExecuteTime": {
     "end_time": "2018-06-18T14:19:43.085767Z",
     "start_time": "2018-06-18T14:19:42.836246Z"
    },
    "collapsed": true
   },
   "outputs": [],
   "source": [
    "y= Cleaned_Train['item_cnt_day']\n",
    "X = Cleaned_Train.drop(['item_cnt_day'],axis=1)"
   ]
  },
  {
   "cell_type": "code",
   "execution_count": 70,
   "metadata": {
    "ExecuteTime": {
     "end_time": "2018-06-18T14:19:44.151090Z",
     "start_time": "2018-06-18T14:19:44.142227Z"
    }
   },
   "outputs": [
    {
     "data": {
      "text/plain": [
       "Index(['date_block_num', 'shop_id', 'item_id', 'item_price',\n",
       "       'item_price_whole', 'item_price_fraction', 'day_of_week', 'Month',\n",
       "       'Week', 'item_name_codes', 'item_category_id', 'shop_name_codes',\n",
       "       'item_category_name_codes', 'no_of_rows', 'item_cnt_daymean',\n",
       "       'item_pricemean'],\n",
       "      dtype='object')"
      ]
     },
     "execution_count": 70,
     "metadata": {},
     "output_type": "execute_result"
    }
   ],
   "source": [
    "X.columns"
   ]
  },
  {
   "cell_type": "code",
   "execution_count": 71,
   "metadata": {
    "ExecuteTime": {
     "end_time": "2018-06-18T14:19:47.871795Z",
     "start_time": "2018-06-18T14:19:47.838771Z"
    }
   },
   "outputs": [
    {
     "data": {
      "text/html": [
       "<div>\n",
       "<style>\n",
       "    .dataframe thead tr:only-child th {\n",
       "        text-align: right;\n",
       "    }\n",
       "\n",
       "    .dataframe thead th {\n",
       "        text-align: left;\n",
       "    }\n",
       "\n",
       "    .dataframe tbody tr th {\n",
       "        vertical-align: top;\n",
       "    }\n",
       "</style>\n",
       "<table border=\"1\" class=\"dataframe\">\n",
       "  <thead>\n",
       "    <tr style=\"text-align: right;\">\n",
       "      <th></th>\n",
       "      <th>date_block_num</th>\n",
       "      <th>shop_id</th>\n",
       "      <th>item_id</th>\n",
       "      <th>item_price</th>\n",
       "      <th>item_price_whole</th>\n",
       "      <th>item_price_fraction</th>\n",
       "      <th>day_of_week</th>\n",
       "      <th>Month</th>\n",
       "      <th>Week</th>\n",
       "      <th>item_name_codes</th>\n",
       "      <th>item_category_id</th>\n",
       "      <th>shop_name_codes</th>\n",
       "      <th>item_category_name_codes</th>\n",
       "      <th>no_of_rows</th>\n",
       "      <th>item_cnt_daymean</th>\n",
       "      <th>item_pricemean</th>\n",
       "    </tr>\n",
       "  </thead>\n",
       "  <tbody>\n",
       "    <tr>\n",
       "      <th>0</th>\n",
       "      <td>0</td>\n",
       "      <td>59</td>\n",
       "      <td>22154</td>\n",
       "      <td>999.00</td>\n",
       "      <td>999.0</td>\n",
       "      <td>0.0</td>\n",
       "      <td>2</td>\n",
       "      <td>1</td>\n",
       "      <td>1</td>\n",
       "      <td>21791</td>\n",
       "      <td>37</td>\n",
       "      <td>59</td>\n",
       "      <td>37</td>\n",
       "      <td>1</td>\n",
       "      <td>1.0</td>\n",
       "      <td>999.00</td>\n",
       "    </tr>\n",
       "    <tr>\n",
       "      <th>1</th>\n",
       "      <td>0</td>\n",
       "      <td>25</td>\n",
       "      <td>2552</td>\n",
       "      <td>899.00</td>\n",
       "      <td>899.0</td>\n",
       "      <td>0.0</td>\n",
       "      <td>3</td>\n",
       "      <td>1</td>\n",
       "      <td>1</td>\n",
       "      <td>2495</td>\n",
       "      <td>58</td>\n",
       "      <td>25</td>\n",
       "      <td>58</td>\n",
       "      <td>2</td>\n",
       "      <td>0.0</td>\n",
       "      <td>899.00</td>\n",
       "    </tr>\n",
       "    <tr>\n",
       "      <th>2</th>\n",
       "      <td>0</td>\n",
       "      <td>25</td>\n",
       "      <td>2552</td>\n",
       "      <td>899.00</td>\n",
       "      <td>899.0</td>\n",
       "      <td>0.0</td>\n",
       "      <td>5</td>\n",
       "      <td>1</td>\n",
       "      <td>1</td>\n",
       "      <td>2495</td>\n",
       "      <td>58</td>\n",
       "      <td>25</td>\n",
       "      <td>58</td>\n",
       "      <td>2</td>\n",
       "      <td>0.0</td>\n",
       "      <td>899.00</td>\n",
       "    </tr>\n",
       "    <tr>\n",
       "      <th>3</th>\n",
       "      <td>0</td>\n",
       "      <td>25</td>\n",
       "      <td>2554</td>\n",
       "      <td>1709.05</td>\n",
       "      <td>1709.0</td>\n",
       "      <td>5.0</td>\n",
       "      <td>6</td>\n",
       "      <td>1</td>\n",
       "      <td>1</td>\n",
       "      <td>2497</td>\n",
       "      <td>58</td>\n",
       "      <td>25</td>\n",
       "      <td>58</td>\n",
       "      <td>1</td>\n",
       "      <td>1.0</td>\n",
       "      <td>1709.05</td>\n",
       "    </tr>\n",
       "    <tr>\n",
       "      <th>4</th>\n",
       "      <td>0</td>\n",
       "      <td>25</td>\n",
       "      <td>2555</td>\n",
       "      <td>1099.00</td>\n",
       "      <td>1099.0</td>\n",
       "      <td>0.0</td>\n",
       "      <td>1</td>\n",
       "      <td>1</td>\n",
       "      <td>3</td>\n",
       "      <td>2498</td>\n",
       "      <td>56</td>\n",
       "      <td>25</td>\n",
       "      <td>56</td>\n",
       "      <td>10</td>\n",
       "      <td>1.0</td>\n",
       "      <td>1104.00</td>\n",
       "    </tr>\n",
       "  </tbody>\n",
       "</table>\n",
       "</div>"
      ],
      "text/plain": [
       "   date_block_num  shop_id  item_id  item_price  item_price_whole  \\\n",
       "0               0       59    22154      999.00             999.0   \n",
       "1               0       25     2552      899.00             899.0   \n",
       "2               0       25     2552      899.00             899.0   \n",
       "3               0       25     2554     1709.05            1709.0   \n",
       "4               0       25     2555     1099.00            1099.0   \n",
       "\n",
       "   item_price_fraction  day_of_week  Month  Week  item_name_codes  \\\n",
       "0                  0.0            2      1     1            21791   \n",
       "1                  0.0            3      1     1             2495   \n",
       "2                  0.0            5      1     1             2495   \n",
       "3                  5.0            6      1     1             2497   \n",
       "4                  0.0            1      1     3             2498   \n",
       "\n",
       "   item_category_id  shop_name_codes  item_category_name_codes  no_of_rows  \\\n",
       "0                37               59                        37           1   \n",
       "1                58               25                        58           2   \n",
       "2                58               25                        58           2   \n",
       "3                58               25                        58           1   \n",
       "4                56               25                        56          10   \n",
       "\n",
       "   item_cnt_daymean  item_pricemean  \n",
       "0               1.0          999.00  \n",
       "1               0.0          899.00  \n",
       "2               0.0          899.00  \n",
       "3               1.0         1709.05  \n",
       "4               1.0         1104.00  "
      ]
     },
     "execution_count": 71,
     "metadata": {},
     "output_type": "execute_result"
    }
   ],
   "source": [
    "X.head()"
   ]
  },
  {
   "cell_type": "code",
   "execution_count": 72,
   "metadata": {
    "ExecuteTime": {
     "end_time": "2018-06-18T14:20:06.170175Z",
     "start_time": "2018-06-18T14:20:05.795707Z"
    },
    "collapsed": true
   },
   "outputs": [],
   "source": [
    "from sklearn.model_selection import train_test_split"
   ]
  },
  {
   "cell_type": "code",
   "execution_count": 73,
   "metadata": {
    "ExecuteTime": {
     "end_time": "2018-06-18T14:20:08.477369Z",
     "start_time": "2018-06-18T14:20:07.012041Z"
    },
    "collapsed": true
   },
   "outputs": [],
   "source": [
    "X_train, X_valid, y_train, y_valid = train_test_split(X, y, test_size=0.2)"
   ]
  },
  {
   "cell_type": "code",
   "execution_count": 74,
   "metadata": {
    "ExecuteTime": {
     "end_time": "2018-06-18T14:20:08.513849Z",
     "start_time": "2018-06-18T14:20:08.480070Z"
    },
    "collapsed": true
   },
   "outputs": [],
   "source": [
    "from sklearn.ensemble import RandomForestRegressor"
   ]
  },
  {
   "cell_type": "code",
   "execution_count": 75,
   "metadata": {
    "ExecuteTime": {
     "end_time": "2018-06-18T14:20:09.387985Z",
     "start_time": "2018-06-18T14:20:09.382345Z"
    },
    "collapsed": true
   },
   "outputs": [],
   "source": [
    "# regr = RandomForestRegressor(max_depth=2, random_state=121)\n",
    "\n",
    "regr = RandomForestRegressor(n_estimators=40, min_samples_leaf=3, max_features=0.5, n_jobs=-1, oob_score=True)\n"
   ]
  },
  {
   "cell_type": "code",
   "execution_count": 76,
   "metadata": {
    "ExecuteTime": {
     "end_time": "2018-06-18T14:21:39.659798Z",
     "start_time": "2018-06-18T14:20:11.518355Z"
    }
   },
   "outputs": [
    {
     "data": {
      "text/plain": [
       "RandomForestRegressor(bootstrap=True, criterion='mse', max_depth=None,\n",
       "           max_features=0.5, max_leaf_nodes=None,\n",
       "           min_impurity_decrease=0.0, min_impurity_split=None,\n",
       "           min_samples_leaf=3, min_samples_split=2,\n",
       "           min_weight_fraction_leaf=0.0, n_estimators=40, n_jobs=-1,\n",
       "           oob_score=True, random_state=None, verbose=0, warm_start=False)"
      ]
     },
     "execution_count": 76,
     "metadata": {},
     "output_type": "execute_result"
    }
   ],
   "source": [
    "regr.fit(X_train,y_train)"
   ]
  },
  {
   "cell_type": "code",
   "execution_count": 77,
   "metadata": {
    "ExecuteTime": {
     "end_time": "2018-06-18T14:22:01.845834Z",
     "start_time": "2018-06-18T14:21:58.666317Z"
    },
    "collapsed": true
   },
   "outputs": [],
   "source": [
    "predictions = regr.predict(X_train)"
   ]
  },
  {
   "cell_type": "code",
   "execution_count": 78,
   "metadata": {
    "ExecuteTime": {
     "end_time": "2018-06-18T14:22:01.882003Z",
     "start_time": "2018-06-18T14:22:01.848251Z"
    },
    "collapsed": true
   },
   "outputs": [],
   "source": [
    "Compare = pd.DataFrame(np.column_stack((y_train.values,predictions)))\n"
   ]
  },
  {
   "cell_type": "code",
   "execution_count": 79,
   "metadata": {
    "ExecuteTime": {
     "end_time": "2018-06-18T14:22:01.888093Z",
     "start_time": "2018-06-18T14:22:01.884805Z"
    },
    "collapsed": true
   },
   "outputs": [],
   "source": [
    "Compare.columns =['Actual','Predict']"
   ]
  },
  {
   "cell_type": "code",
   "execution_count": 80,
   "metadata": {
    "ExecuteTime": {
     "end_time": "2018-06-18T14:22:01.900797Z",
     "start_time": "2018-06-18T14:22:01.890225Z"
    }
   },
   "outputs": [
    {
     "data": {
      "text/html": [
       "<div>\n",
       "<style>\n",
       "    .dataframe thead tr:only-child th {\n",
       "        text-align: right;\n",
       "    }\n",
       "\n",
       "    .dataframe thead th {\n",
       "        text-align: left;\n",
       "    }\n",
       "\n",
       "    .dataframe tbody tr th {\n",
       "        vertical-align: top;\n",
       "    }\n",
       "</style>\n",
       "<table border=\"1\" class=\"dataframe\">\n",
       "  <thead>\n",
       "    <tr style=\"text-align: right;\">\n",
       "      <th></th>\n",
       "      <th>Actual</th>\n",
       "      <th>Predict</th>\n",
       "    </tr>\n",
       "  </thead>\n",
       "  <tbody>\n",
       "    <tr>\n",
       "      <th>0</th>\n",
       "      <td>1.0</td>\n",
       "      <td>1.000000</td>\n",
       "    </tr>\n",
       "    <tr>\n",
       "      <th>1</th>\n",
       "      <td>4.0</td>\n",
       "      <td>3.815625</td>\n",
       "    </tr>\n",
       "    <tr>\n",
       "      <th>2</th>\n",
       "      <td>1.0</td>\n",
       "      <td>0.961905</td>\n",
       "    </tr>\n",
       "    <tr>\n",
       "      <th>3</th>\n",
       "      <td>1.0</td>\n",
       "      <td>1.075794</td>\n",
       "    </tr>\n",
       "    <tr>\n",
       "      <th>4</th>\n",
       "      <td>1.0</td>\n",
       "      <td>1.000000</td>\n",
       "    </tr>\n",
       "  </tbody>\n",
       "</table>\n",
       "</div>"
      ],
      "text/plain": [
       "   Actual   Predict\n",
       "0     1.0  1.000000\n",
       "1     4.0  3.815625\n",
       "2     1.0  0.961905\n",
       "3     1.0  1.075794\n",
       "4     1.0  1.000000"
      ]
     },
     "execution_count": 80,
     "metadata": {},
     "output_type": "execute_result"
    }
   ],
   "source": [
    "Compare.head()"
   ]
  },
  {
   "cell_type": "code",
   "execution_count": 81,
   "metadata": {
    "ExecuteTime": {
     "end_time": "2018-06-18T14:22:07.225020Z",
     "start_time": "2018-06-18T14:22:07.221604Z"
    },
    "collapsed": true
   },
   "outputs": [],
   "source": [
    "from sklearn.metrics import mean_squared_error"
   ]
  },
  {
   "cell_type": "code",
   "execution_count": 82,
   "metadata": {
    "ExecuteTime": {
     "end_time": "2018-06-18T14:22:08.282288Z",
     "start_time": "2018-06-18T14:22:08.254499Z"
    }
   },
   "outputs": [
    {
     "data": {
      "text/plain": [
       "1.3048781415138391"
      ]
     },
     "execution_count": 82,
     "metadata": {},
     "output_type": "execute_result"
    }
   ],
   "source": [
    "np.sqrt(mean_squared_error(y_train.values, predictions))"
   ]
  },
  {
   "cell_type": "code",
   "execution_count": 83,
   "metadata": {
    "ExecuteTime": {
     "end_time": "2018-06-18T14:22:11.655426Z",
     "start_time": "2018-06-18T14:22:11.626325Z"
    },
    "collapsed": true
   },
   "outputs": [],
   "source": [
    "def rmse(x,y): return math.sqrt(((x-y)**2).mean())\n",
    "def mae(x,y): return (abs(x-y)).mean()\n",
    "\n",
    "def print_score_rmse(m):\n",
    "    res = [rmse(m.predict(X_train), y_train), rmse(m.predict(X_valid), y_valid),\n",
    "                m.score(X_train, y_train), m.score(X_valid, y_valid)]\n",
    "    if hasattr(m, 'oob_score_'): res.append(m.oob_score_)\n",
    "    print(res)\n",
    "    \n",
    "    \n",
    "def print_score_mae(m):\n",
    "    res = [mae(m.predict(X_train), y_train), mae(m.predict(X_valid), y_valid),\n",
    "                m.score(X_train, y_train), m.score(X_valid, y_valid)]\n",
    "    if hasattr(m, 'oob_score_'): res.append(m.oob_score_)\n",
    "    print(res)"
   ]
  },
  {
   "cell_type": "code",
   "execution_count": 84,
   "metadata": {
    "ExecuteTime": {
     "end_time": "2018-06-18T14:22:22.047766Z",
     "start_time": "2018-06-18T14:22:13.201611Z"
    }
   },
   "outputs": [
    {
     "name": "stdout",
     "output_type": "stream",
     "text": [
      "[1.306144444395462, 3.0697683085913483, 0.67784392422501805, 0.28326548204007962, 0.39226674449247689]\n"
     ]
    }
   ],
   "source": [
    "print_score_rmse(regr)"
   ]
  },
  {
   "cell_type": "code",
   "execution_count": 85,
   "metadata": {
    "ExecuteTime": {
     "end_time": "2018-06-18T14:23:08.098832Z",
     "start_time": "2018-06-18T14:23:07.972378Z"
    }
   },
   "outputs": [
    {
     "data": {
      "text/plain": [
       "array([ 0.05885319,  0.01604829,  0.01619247,  0.09798267,  0.05490913,\n",
       "        0.07395362,  0.07637116,  0.03308124,  0.11771762,  0.02098273,\n",
       "        0.01187258,  0.01810737,  0.01211217,  0.07650834,  0.26800116,\n",
       "        0.04730628])"
      ]
     },
     "execution_count": 85,
     "metadata": {},
     "output_type": "execute_result"
    }
   ],
   "source": [
    "regr.feature_importances_"
   ]
  },
  {
   "cell_type": "code",
   "execution_count": 86,
   "metadata": {
    "ExecuteTime": {
     "end_time": "2018-06-18T14:23:09.389653Z",
     "start_time": "2018-06-18T14:23:09.384219Z"
    },
    "collapsed": true
   },
   "outputs": [],
   "source": [
    "def rf_feat_importance(m, df):\n",
    "    return pd.DataFrame({'cols':df.columns, 'imp':m.feature_importances_}\n",
    "                       ).sort_values('imp', ascending=False)\n"
   ]
  },
  {
   "cell_type": "code",
   "execution_count": 87,
   "metadata": {
    "ExecuteTime": {
     "end_time": "2018-06-18T14:23:10.816032Z",
     "start_time": "2018-06-18T14:23:10.679502Z"
    }
   },
   "outputs": [
    {
     "data": {
      "text/html": [
       "<div>\n",
       "<style>\n",
       "    .dataframe thead tr:only-child th {\n",
       "        text-align: right;\n",
       "    }\n",
       "\n",
       "    .dataframe thead th {\n",
       "        text-align: left;\n",
       "    }\n",
       "\n",
       "    .dataframe tbody tr th {\n",
       "        vertical-align: top;\n",
       "    }\n",
       "</style>\n",
       "<table border=\"1\" class=\"dataframe\">\n",
       "  <thead>\n",
       "    <tr style=\"text-align: right;\">\n",
       "      <th></th>\n",
       "      <th>cols</th>\n",
       "      <th>imp</th>\n",
       "    </tr>\n",
       "  </thead>\n",
       "  <tbody>\n",
       "    <tr>\n",
       "      <th>14</th>\n",
       "      <td>item_cnt_daymean</td>\n",
       "      <td>0.268001</td>\n",
       "    </tr>\n",
       "    <tr>\n",
       "      <th>8</th>\n",
       "      <td>Week</td>\n",
       "      <td>0.117718</td>\n",
       "    </tr>\n",
       "    <tr>\n",
       "      <th>3</th>\n",
       "      <td>item_price</td>\n",
       "      <td>0.097983</td>\n",
       "    </tr>\n",
       "    <tr>\n",
       "      <th>13</th>\n",
       "      <td>no_of_rows</td>\n",
       "      <td>0.076508</td>\n",
       "    </tr>\n",
       "    <tr>\n",
       "      <th>6</th>\n",
       "      <td>day_of_week</td>\n",
       "      <td>0.076371</td>\n",
       "    </tr>\n",
       "    <tr>\n",
       "      <th>5</th>\n",
       "      <td>item_price_fraction</td>\n",
       "      <td>0.073954</td>\n",
       "    </tr>\n",
       "    <tr>\n",
       "      <th>0</th>\n",
       "      <td>date_block_num</td>\n",
       "      <td>0.058853</td>\n",
       "    </tr>\n",
       "    <tr>\n",
       "      <th>4</th>\n",
       "      <td>item_price_whole</td>\n",
       "      <td>0.054909</td>\n",
       "    </tr>\n",
       "    <tr>\n",
       "      <th>15</th>\n",
       "      <td>item_pricemean</td>\n",
       "      <td>0.047306</td>\n",
       "    </tr>\n",
       "    <tr>\n",
       "      <th>7</th>\n",
       "      <td>Month</td>\n",
       "      <td>0.033081</td>\n",
       "    </tr>\n",
       "    <tr>\n",
       "      <th>9</th>\n",
       "      <td>item_name_codes</td>\n",
       "      <td>0.020983</td>\n",
       "    </tr>\n",
       "    <tr>\n",
       "      <th>11</th>\n",
       "      <td>shop_name_codes</td>\n",
       "      <td>0.018107</td>\n",
       "    </tr>\n",
       "    <tr>\n",
       "      <th>2</th>\n",
       "      <td>item_id</td>\n",
       "      <td>0.016192</td>\n",
       "    </tr>\n",
       "    <tr>\n",
       "      <th>1</th>\n",
       "      <td>shop_id</td>\n",
       "      <td>0.016048</td>\n",
       "    </tr>\n",
       "    <tr>\n",
       "      <th>12</th>\n",
       "      <td>item_category_name_codes</td>\n",
       "      <td>0.012112</td>\n",
       "    </tr>\n",
       "    <tr>\n",
       "      <th>10</th>\n",
       "      <td>item_category_id</td>\n",
       "      <td>0.011873</td>\n",
       "    </tr>\n",
       "  </tbody>\n",
       "</table>\n",
       "</div>"
      ],
      "text/plain": [
       "                        cols       imp\n",
       "14          item_cnt_daymean  0.268001\n",
       "8                       Week  0.117718\n",
       "3                 item_price  0.097983\n",
       "13                no_of_rows  0.076508\n",
       "6                day_of_week  0.076371\n",
       "5        item_price_fraction  0.073954\n",
       "0             date_block_num  0.058853\n",
       "4           item_price_whole  0.054909\n",
       "15            item_pricemean  0.047306\n",
       "7                      Month  0.033081\n",
       "9            item_name_codes  0.020983\n",
       "11           shop_name_codes  0.018107\n",
       "2                    item_id  0.016192\n",
       "1                    shop_id  0.016048\n",
       "12  item_category_name_codes  0.012112\n",
       "10          item_category_id  0.011873"
      ]
     },
     "execution_count": 87,
     "metadata": {},
     "output_type": "execute_result"
    }
   ],
   "source": [
    "fi = rf_feat_importance(regr, X_train); fi[:20]"
   ]
  },
  {
   "cell_type": "code",
   "execution_count": null,
   "metadata": {
    "collapsed": true
   },
   "outputs": [],
   "source": []
  },
  {
   "cell_type": "code",
   "execution_count": null,
   "metadata": {
    "collapsed": true
   },
   "outputs": [],
   "source": []
  },
  {
   "cell_type": "code",
   "execution_count": null,
   "metadata": {
    "collapsed": true
   },
   "outputs": [],
   "source": []
  },
  {
   "cell_type": "code",
   "execution_count": null,
   "metadata": {
    "collapsed": true
   },
   "outputs": [],
   "source": []
  },
  {
   "cell_type": "code",
   "execution_count": null,
   "metadata": {
    "collapsed": true
   },
   "outputs": [],
   "source": []
  },
  {
   "cell_type": "code",
   "execution_count": null,
   "metadata": {
    "collapsed": true
   },
   "outputs": [],
   "source": []
  },
  {
   "cell_type": "code",
   "execution_count": null,
   "metadata": {
    "collapsed": true
   },
   "outputs": [],
   "source": []
  },
  {
   "cell_type": "markdown",
   "metadata": {},
   "source": [
    "## Time based split of data"
   ]
  },
  {
   "cell_type": "code",
   "execution_count": 96,
   "metadata": {
    "ExecuteTime": {
     "end_time": "2018-06-18T16:03:20.192854Z",
     "start_time": "2018-06-18T16:03:19.791372Z"
    },
    "collapsed": true
   },
   "outputs": [],
   "source": [
    "Train = Cleaned_Train [Cleaned_Train['date_new']< '2015-01-01']"
   ]
  },
  {
   "cell_type": "code",
   "execution_count": 97,
   "metadata": {
    "ExecuteTime": {
     "end_time": "2018-06-18T16:03:23.699600Z",
     "start_time": "2018-06-18T16:03:23.694232Z"
    }
   },
   "outputs": [
    {
     "data": {
      "text/plain": [
       "(2323417, 18)"
      ]
     },
     "execution_count": 97,
     "metadata": {},
     "output_type": "execute_result"
    }
   ],
   "source": [
    "Train.shape"
   ]
  },
  {
   "cell_type": "code",
   "execution_count": 98,
   "metadata": {
    "ExecuteTime": {
     "end_time": "2018-06-18T16:03:39.834731Z",
     "start_time": "2018-06-18T16:03:39.682471Z"
    },
    "collapsed": true
   },
   "outputs": [],
   "source": [
    "Validation = Cleaned_Train [Cleaned_Train['date_new'] >= '2015-01-01']"
   ]
  },
  {
   "cell_type": "code",
   "execution_count": 99,
   "metadata": {
    "ExecuteTime": {
     "end_time": "2018-06-18T16:03:46.711248Z",
     "start_time": "2018-06-18T16:03:46.705278Z"
    }
   },
   "outputs": [
    {
     "data": {
      "text/plain": [
       "(612426, 18)"
      ]
     },
     "execution_count": 99,
     "metadata": {},
     "output_type": "execute_result"
    }
   ],
   "source": [
    "Validation.shape"
   ]
  },
  {
   "cell_type": "code",
   "execution_count": 100,
   "metadata": {
    "ExecuteTime": {
     "end_time": "2018-06-18T16:13:08.367448Z",
     "start_time": "2018-06-18T16:13:08.098601Z"
    },
    "collapsed": true
   },
   "outputs": [],
   "source": [
    "y_train= Train['item_cnt_day']\n",
    "X_train = Train.drop(['item_cnt_day', 'date_new'],axis=1)\n",
    "\n",
    "y_validation= Validation['item_cnt_day']\n",
    "X_validation = Validation.drop(['item_cnt_day','date_new'],axis=1)\n",
    "\n"
   ]
  },
  {
   "cell_type": "code",
   "execution_count": 101,
   "metadata": {
    "ExecuteTime": {
     "end_time": "2018-06-18T16:15:02.156037Z",
     "start_time": "2018-06-18T16:13:55.392580Z"
    }
   },
   "outputs": [
    {
     "data": {
      "text/plain": [
       "RandomForestRegressor(bootstrap=True, criterion='mse', max_depth=None,\n",
       "           max_features=0.5, max_leaf_nodes=None,\n",
       "           min_impurity_decrease=0.0, min_impurity_split=None,\n",
       "           min_samples_leaf=3, min_samples_split=2,\n",
       "           min_weight_fraction_leaf=0.0, n_estimators=40, n_jobs=-1,\n",
       "           oob_score=True, random_state=None, verbose=0, warm_start=False)"
      ]
     },
     "execution_count": 101,
     "metadata": {},
     "output_type": "execute_result"
    }
   ],
   "source": [
    "regr2 = RandomForestRegressor(n_estimators=40, min_samples_leaf=3, max_features=0.5, n_jobs=-1, oob_score=True)\n",
    "regr2.fit(X_train,y_train)"
   ]
  },
  {
   "cell_type": "code",
   "execution_count": 102,
   "metadata": {
    "ExecuteTime": {
     "end_time": "2018-06-18T17:02:23.091675Z",
     "start_time": "2018-06-18T17:02:17.154714Z"
    }
   },
   "outputs": [
    {
     "name": "stdout",
     "output_type": "stream",
     "text": [
      "[1.077866538444896, 3.1046960855474373, 0.69729179475879566, 0.26685070309852943, 0.44115560058272951]\n"
     ]
    }
   ],
   "source": [
    "print_score_rmse(regr2)"
   ]
  },
  {
   "cell_type": "code",
   "execution_count": 103,
   "metadata": {
    "ExecuteTime": {
     "end_time": "2018-06-18T17:03:33.396310Z",
     "start_time": "2018-06-18T17:03:33.265317Z"
    }
   },
   "outputs": [
    {
     "data": {
      "text/html": [
       "<div>\n",
       "<style>\n",
       "    .dataframe thead tr:only-child th {\n",
       "        text-align: right;\n",
       "    }\n",
       "\n",
       "    .dataframe thead th {\n",
       "        text-align: left;\n",
       "    }\n",
       "\n",
       "    .dataframe tbody tr th {\n",
       "        vertical-align: top;\n",
       "    }\n",
       "</style>\n",
       "<table border=\"1\" class=\"dataframe\">\n",
       "  <thead>\n",
       "    <tr style=\"text-align: right;\">\n",
       "      <th></th>\n",
       "      <th>cols</th>\n",
       "      <th>imp</th>\n",
       "    </tr>\n",
       "  </thead>\n",
       "  <tbody>\n",
       "    <tr>\n",
       "      <th>14</th>\n",
       "      <td>item_cnt_daymean</td>\n",
       "      <td>0.304215</td>\n",
       "    </tr>\n",
       "    <tr>\n",
       "      <th>8</th>\n",
       "      <td>Week</td>\n",
       "      <td>0.129487</td>\n",
       "    </tr>\n",
       "    <tr>\n",
       "      <th>6</th>\n",
       "      <td>day_of_week</td>\n",
       "      <td>0.083103</td>\n",
       "    </tr>\n",
       "    <tr>\n",
       "      <th>13</th>\n",
       "      <td>no_of_rows</td>\n",
       "      <td>0.073756</td>\n",
       "    </tr>\n",
       "    <tr>\n",
       "      <th>3</th>\n",
       "      <td>item_price</td>\n",
       "      <td>0.068077</td>\n",
       "    </tr>\n",
       "    <tr>\n",
       "      <th>15</th>\n",
       "      <td>item_pricemean</td>\n",
       "      <td>0.065286</td>\n",
       "    </tr>\n",
       "    <tr>\n",
       "      <th>4</th>\n",
       "      <td>item_price_whole</td>\n",
       "      <td>0.052078</td>\n",
       "    </tr>\n",
       "    <tr>\n",
       "      <th>5</th>\n",
       "      <td>item_price_fraction</td>\n",
       "      <td>0.051604</td>\n",
       "    </tr>\n",
       "    <tr>\n",
       "      <th>0</th>\n",
       "      <td>date_block_num</td>\n",
       "      <td>0.048887</td>\n",
       "    </tr>\n",
       "    <tr>\n",
       "      <th>7</th>\n",
       "      <td>Month</td>\n",
       "      <td>0.033616</td>\n",
       "    </tr>\n",
       "    <tr>\n",
       "      <th>11</th>\n",
       "      <td>shop_name_codes</td>\n",
       "      <td>0.019032</td>\n",
       "    </tr>\n",
       "    <tr>\n",
       "      <th>1</th>\n",
       "      <td>shop_id</td>\n",
       "      <td>0.018326</td>\n",
       "    </tr>\n",
       "    <tr>\n",
       "      <th>2</th>\n",
       "      <td>item_id</td>\n",
       "      <td>0.017140</td>\n",
       "    </tr>\n",
       "    <tr>\n",
       "      <th>9</th>\n",
       "      <td>item_name_codes</td>\n",
       "      <td>0.016868</td>\n",
       "    </tr>\n",
       "    <tr>\n",
       "      <th>10</th>\n",
       "      <td>item_category_id</td>\n",
       "      <td>0.009853</td>\n",
       "    </tr>\n",
       "    <tr>\n",
       "      <th>12</th>\n",
       "      <td>item_category_name_codes</td>\n",
       "      <td>0.008673</td>\n",
       "    </tr>\n",
       "  </tbody>\n",
       "</table>\n",
       "</div>"
      ],
      "text/plain": [
       "                        cols       imp\n",
       "14          item_cnt_daymean  0.304215\n",
       "8                       Week  0.129487\n",
       "6                day_of_week  0.083103\n",
       "13                no_of_rows  0.073756\n",
       "3                 item_price  0.068077\n",
       "15            item_pricemean  0.065286\n",
       "4           item_price_whole  0.052078\n",
       "5        item_price_fraction  0.051604\n",
       "0             date_block_num  0.048887\n",
       "7                      Month  0.033616\n",
       "11           shop_name_codes  0.019032\n",
       "1                    shop_id  0.018326\n",
       "2                    item_id  0.017140\n",
       "9            item_name_codes  0.016868\n",
       "10          item_category_id  0.009853\n",
       "12  item_category_name_codes  0.008673"
      ]
     },
     "execution_count": 103,
     "metadata": {},
     "output_type": "execute_result"
    }
   ],
   "source": [
    "fi = rf_feat_importance(regr2, X_train); fi[:20]"
   ]
  },
  {
   "cell_type": "markdown",
   "metadata": {
    "ExecuteTime": {
     "end_time": "2018-06-18T18:05:24.142811Z",
     "start_time": "2018-06-18T18:05:24.139449Z"
    }
   },
   "source": [
    "## Time based split of data with mean encoding based on day and week"
   ]
  },
  {
   "cell_type": "code",
   "execution_count": 105,
   "metadata": {
    "ExecuteTime": {
     "end_time": "2018-06-18T18:07:41.039136Z",
     "start_time": "2018-06-18T18:07:41.001216Z"
    }
   },
   "outputs": [
    {
     "data": {
      "text/html": [
       "<div>\n",
       "<style>\n",
       "    .dataframe thead tr:only-child th {\n",
       "        text-align: right;\n",
       "    }\n",
       "\n",
       "    .dataframe thead th {\n",
       "        text-align: left;\n",
       "    }\n",
       "\n",
       "    .dataframe tbody tr th {\n",
       "        vertical-align: top;\n",
       "    }\n",
       "</style>\n",
       "<table border=\"1\" class=\"dataframe\">\n",
       "  <thead>\n",
       "    <tr style=\"text-align: right;\">\n",
       "      <th></th>\n",
       "      <th>date_new</th>\n",
       "      <th>date_block_num</th>\n",
       "      <th>shop_id</th>\n",
       "      <th>item_id</th>\n",
       "      <th>item_price</th>\n",
       "      <th>item_price_whole</th>\n",
       "      <th>item_price_fraction</th>\n",
       "      <th>day_of_week</th>\n",
       "      <th>Month</th>\n",
       "      <th>Week</th>\n",
       "      <th>item_name_codes</th>\n",
       "      <th>item_category_id</th>\n",
       "      <th>shop_name_codes</th>\n",
       "      <th>item_category_name_codes</th>\n",
       "      <th>item_cnt_day</th>\n",
       "      <th>no_of_rows</th>\n",
       "      <th>item_cnt_daymean</th>\n",
       "      <th>item_pricemean</th>\n",
       "    </tr>\n",
       "  </thead>\n",
       "  <tbody>\n",
       "    <tr>\n",
       "      <th>0</th>\n",
       "      <td>2013-01-02</td>\n",
       "      <td>0</td>\n",
       "      <td>59</td>\n",
       "      <td>22154</td>\n",
       "      <td>999.00</td>\n",
       "      <td>999.0</td>\n",
       "      <td>0.0</td>\n",
       "      <td>2</td>\n",
       "      <td>1</td>\n",
       "      <td>1</td>\n",
       "      <td>21791</td>\n",
       "      <td>37</td>\n",
       "      <td>59</td>\n",
       "      <td>37</td>\n",
       "      <td>1.0</td>\n",
       "      <td>1</td>\n",
       "      <td>1.0</td>\n",
       "      <td>999.00</td>\n",
       "    </tr>\n",
       "    <tr>\n",
       "      <th>1</th>\n",
       "      <td>2013-01-03</td>\n",
       "      <td>0</td>\n",
       "      <td>25</td>\n",
       "      <td>2552</td>\n",
       "      <td>899.00</td>\n",
       "      <td>899.0</td>\n",
       "      <td>0.0</td>\n",
       "      <td>3</td>\n",
       "      <td>1</td>\n",
       "      <td>1</td>\n",
       "      <td>2495</td>\n",
       "      <td>58</td>\n",
       "      <td>25</td>\n",
       "      <td>58</td>\n",
       "      <td>1.0</td>\n",
       "      <td>2</td>\n",
       "      <td>0.0</td>\n",
       "      <td>899.00</td>\n",
       "    </tr>\n",
       "    <tr>\n",
       "      <th>2</th>\n",
       "      <td>2013-01-05</td>\n",
       "      <td>0</td>\n",
       "      <td>25</td>\n",
       "      <td>2552</td>\n",
       "      <td>899.00</td>\n",
       "      <td>899.0</td>\n",
       "      <td>0.0</td>\n",
       "      <td>5</td>\n",
       "      <td>1</td>\n",
       "      <td>1</td>\n",
       "      <td>2495</td>\n",
       "      <td>58</td>\n",
       "      <td>25</td>\n",
       "      <td>58</td>\n",
       "      <td>-1.0</td>\n",
       "      <td>2</td>\n",
       "      <td>0.0</td>\n",
       "      <td>899.00</td>\n",
       "    </tr>\n",
       "    <tr>\n",
       "      <th>3</th>\n",
       "      <td>2013-01-06</td>\n",
       "      <td>0</td>\n",
       "      <td>25</td>\n",
       "      <td>2554</td>\n",
       "      <td>1709.05</td>\n",
       "      <td>1709.0</td>\n",
       "      <td>5.0</td>\n",
       "      <td>6</td>\n",
       "      <td>1</td>\n",
       "      <td>1</td>\n",
       "      <td>2497</td>\n",
       "      <td>58</td>\n",
       "      <td>25</td>\n",
       "      <td>58</td>\n",
       "      <td>1.0</td>\n",
       "      <td>1</td>\n",
       "      <td>1.0</td>\n",
       "      <td>1709.05</td>\n",
       "    </tr>\n",
       "    <tr>\n",
       "      <th>4</th>\n",
       "      <td>2013-01-15</td>\n",
       "      <td>0</td>\n",
       "      <td>25</td>\n",
       "      <td>2555</td>\n",
       "      <td>1099.00</td>\n",
       "      <td>1099.0</td>\n",
       "      <td>0.0</td>\n",
       "      <td>1</td>\n",
       "      <td>1</td>\n",
       "      <td>3</td>\n",
       "      <td>2498</td>\n",
       "      <td>56</td>\n",
       "      <td>25</td>\n",
       "      <td>56</td>\n",
       "      <td>1.0</td>\n",
       "      <td>10</td>\n",
       "      <td>1.0</td>\n",
       "      <td>1104.00</td>\n",
       "    </tr>\n",
       "  </tbody>\n",
       "</table>\n",
       "</div>"
      ],
      "text/plain": [
       "    date_new  date_block_num  shop_id  item_id  item_price  item_price_whole  \\\n",
       "0 2013-01-02               0       59    22154      999.00             999.0   \n",
       "1 2013-01-03               0       25     2552      899.00             899.0   \n",
       "2 2013-01-05               0       25     2552      899.00             899.0   \n",
       "3 2013-01-06               0       25     2554     1709.05            1709.0   \n",
       "4 2013-01-15               0       25     2555     1099.00            1099.0   \n",
       "\n",
       "   item_price_fraction  day_of_week  Month  Week  item_name_codes  \\\n",
       "0                  0.0            2      1     1            21791   \n",
       "1                  0.0            3      1     1             2495   \n",
       "2                  0.0            5      1     1             2495   \n",
       "3                  5.0            6      1     1             2497   \n",
       "4                  0.0            1      1     3             2498   \n",
       "\n",
       "   item_category_id  shop_name_codes  item_category_name_codes  item_cnt_day  \\\n",
       "0                37               59                        37           1.0   \n",
       "1                58               25                        58           1.0   \n",
       "2                58               25                        58          -1.0   \n",
       "3                58               25                        58           1.0   \n",
       "4                56               25                        56           1.0   \n",
       "\n",
       "   no_of_rows  item_cnt_daymean  item_pricemean  \n",
       "0           1               1.0          999.00  \n",
       "1           2               0.0          899.00  \n",
       "2           2               0.0          899.00  \n",
       "3           1               1.0         1709.05  \n",
       "4          10               1.0         1104.00  "
      ]
     },
     "execution_count": 105,
     "metadata": {},
     "output_type": "execute_result"
    }
   ],
   "source": [
    "Train.head()"
   ]
  },
  {
   "cell_type": "code",
   "execution_count": 109,
   "metadata": {
    "ExecuteTime": {
     "end_time": "2018-06-18T18:13:40.980571Z",
     "start_time": "2018-06-18T18:13:33.150155Z"
    },
    "collapsed": true
   },
   "outputs": [],
   "source": [
    "agg_tmp = Train.groupby(['Week', 'day_of_week', 'shop_id', 'item_id']).agg(['count'])['date_new'].reset_index()\n",
    "agg_tmp_mean = Train.groupby(['Week', 'day_of_week', 'shop_id', 'item_id']).agg(['mean'])[['item_cnt_day', 'item_price']].reset_index()"
   ]
  },
  {
   "cell_type": "code",
   "execution_count": 110,
   "metadata": {
    "ExecuteTime": {
     "end_time": "2018-06-18T18:13:42.720692Z",
     "start_time": "2018-06-18T18:13:42.697263Z"
    }
   },
   "outputs": [
    {
     "data": {
      "text/html": [
       "<div>\n",
       "<style>\n",
       "    .dataframe thead tr:only-child th {\n",
       "        text-align: right;\n",
       "    }\n",
       "\n",
       "    .dataframe thead th {\n",
       "        text-align: left;\n",
       "    }\n",
       "\n",
       "    .dataframe tbody tr th {\n",
       "        vertical-align: top;\n",
       "    }\n",
       "</style>\n",
       "<table border=\"1\" class=\"dataframe\">\n",
       "  <thead>\n",
       "    <tr style=\"text-align: right;\">\n",
       "      <th></th>\n",
       "      <th>Week</th>\n",
       "      <th>day_of_week</th>\n",
       "      <th>shop_id</th>\n",
       "      <th>item_id</th>\n",
       "      <th>count</th>\n",
       "    </tr>\n",
       "  </thead>\n",
       "  <tbody>\n",
       "    <tr>\n",
       "      <th>0</th>\n",
       "      <td>1</td>\n",
       "      <td>0</td>\n",
       "      <td>2</td>\n",
       "      <td>1407</td>\n",
       "      <td>1</td>\n",
       "    </tr>\n",
       "    <tr>\n",
       "      <th>1</th>\n",
       "      <td>1</td>\n",
       "      <td>0</td>\n",
       "      <td>2</td>\n",
       "      <td>1467</td>\n",
       "      <td>1</td>\n",
       "    </tr>\n",
       "    <tr>\n",
       "      <th>2</th>\n",
       "      <td>1</td>\n",
       "      <td>0</td>\n",
       "      <td>2</td>\n",
       "      <td>1483</td>\n",
       "      <td>1</td>\n",
       "    </tr>\n",
       "    <tr>\n",
       "      <th>3</th>\n",
       "      <td>1</td>\n",
       "      <td>0</td>\n",
       "      <td>2</td>\n",
       "      <td>1485</td>\n",
       "      <td>1</td>\n",
       "    </tr>\n",
       "    <tr>\n",
       "      <th>4</th>\n",
       "      <td>1</td>\n",
       "      <td>0</td>\n",
       "      <td>2</td>\n",
       "      <td>1495</td>\n",
       "      <td>1</td>\n",
       "    </tr>\n",
       "  </tbody>\n",
       "</table>\n",
       "</div>"
      ],
      "text/plain": [
       "   Week  day_of_week  shop_id  item_id  count\n",
       "0     1            0        2     1407      1\n",
       "1     1            0        2     1467      1\n",
       "2     1            0        2     1483      1\n",
       "3     1            0        2     1485      1\n",
       "4     1            0        2     1495      1"
      ]
     },
     "execution_count": 110,
     "metadata": {},
     "output_type": "execute_result"
    }
   ],
   "source": [
    "agg_tmp.head()"
   ]
  },
  {
   "cell_type": "code",
   "execution_count": 111,
   "metadata": {
    "ExecuteTime": {
     "end_time": "2018-06-18T18:13:50.752065Z",
     "start_time": "2018-06-18T18:13:50.725652Z"
    }
   },
   "outputs": [
    {
     "data": {
      "text/html": [
       "<div>\n",
       "<style>\n",
       "    .dataframe thead tr:only-child th {\n",
       "        text-align: right;\n",
       "    }\n",
       "\n",
       "    .dataframe thead th {\n",
       "        text-align: left;\n",
       "    }\n",
       "\n",
       "    .dataframe tbody tr th {\n",
       "        vertical-align: top;\n",
       "    }\n",
       "</style>\n",
       "<table border=\"1\" class=\"dataframe\">\n",
       "  <thead>\n",
       "    <tr>\n",
       "      <th></th>\n",
       "      <th>Week</th>\n",
       "      <th>day_of_week</th>\n",
       "      <th>shop_id</th>\n",
       "      <th>item_id</th>\n",
       "      <th>item_cnt_day</th>\n",
       "      <th>item_price</th>\n",
       "    </tr>\n",
       "    <tr>\n",
       "      <th></th>\n",
       "      <th></th>\n",
       "      <th></th>\n",
       "      <th></th>\n",
       "      <th></th>\n",
       "      <th>mean</th>\n",
       "      <th>mean</th>\n",
       "    </tr>\n",
       "  </thead>\n",
       "  <tbody>\n",
       "    <tr>\n",
       "      <th>0</th>\n",
       "      <td>1</td>\n",
       "      <td>0</td>\n",
       "      <td>2</td>\n",
       "      <td>1407</td>\n",
       "      <td>4.0</td>\n",
       "      <td>1299.00</td>\n",
       "    </tr>\n",
       "    <tr>\n",
       "      <th>1</th>\n",
       "      <td>1</td>\n",
       "      <td>0</td>\n",
       "      <td>2</td>\n",
       "      <td>1467</td>\n",
       "      <td>1.0</td>\n",
       "      <td>899.00</td>\n",
       "    </tr>\n",
       "    <tr>\n",
       "      <th>2</th>\n",
       "      <td>1</td>\n",
       "      <td>0</td>\n",
       "      <td>2</td>\n",
       "      <td>1483</td>\n",
       "      <td>1.0</td>\n",
       "      <td>1199.00</td>\n",
       "    </tr>\n",
       "    <tr>\n",
       "      <th>3</th>\n",
       "      <td>1</td>\n",
       "      <td>0</td>\n",
       "      <td>2</td>\n",
       "      <td>1485</td>\n",
       "      <td>1.0</td>\n",
       "      <td>1191.16</td>\n",
       "    </tr>\n",
       "    <tr>\n",
       "      <th>4</th>\n",
       "      <td>1</td>\n",
       "      <td>0</td>\n",
       "      <td>2</td>\n",
       "      <td>1495</td>\n",
       "      <td>1.0</td>\n",
       "      <td>599.00</td>\n",
       "    </tr>\n",
       "  </tbody>\n",
       "</table>\n",
       "</div>"
      ],
      "text/plain": [
       "  Week day_of_week shop_id item_id item_cnt_day item_price\n",
       "                                           mean       mean\n",
       "0    1           0       2    1407          4.0    1299.00\n",
       "1    1           0       2    1467          1.0     899.00\n",
       "2    1           0       2    1483          1.0    1199.00\n",
       "3    1           0       2    1485          1.0    1191.16\n",
       "4    1           0       2    1495          1.0     599.00"
      ]
     },
     "execution_count": 111,
     "metadata": {},
     "output_type": "execute_result"
    }
   ],
   "source": [
    "agg_tmp_mean.head()"
   ]
  },
  {
   "cell_type": "code",
   "execution_count": 112,
   "metadata": {
    "ExecuteTime": {
     "end_time": "2018-06-18T18:14:49.559212Z",
     "start_time": "2018-06-18T18:14:49.553337Z"
    },
    "collapsed": true
   },
   "outputs": [],
   "source": [
    "agg_tmp_mean.columns= [''.join(col).strip() for col in agg_tmp_mean.columns.values]"
   ]
  },
  {
   "cell_type": "code",
   "execution_count": 115,
   "metadata": {
    "ExecuteTime": {
     "end_time": "2018-06-18T18:16:07.766904Z",
     "start_time": "2018-06-18T18:16:07.762086Z"
    },
    "collapsed": true
   },
   "outputs": [],
   "source": [
    "agg_tmp_mean.columns=['Week', 'day_of_week', 'shop_id', 'item_id', 'item_cnt_daymean_new',\n",
    "       'item_pricemean_new']"
   ]
  },
  {
   "cell_type": "code",
   "execution_count": 117,
   "metadata": {
    "ExecuteTime": {
     "end_time": "2018-06-18T18:16:37.207758Z",
     "start_time": "2018-06-18T18:16:37.203261Z"
    },
    "collapsed": true
   },
   "outputs": [],
   "source": [
    "agg_tmp.columns=['Week', 'day_of_week', 'shop_id', 'item_id', 'count_new']"
   ]
  },
  {
   "cell_type": "code",
   "execution_count": 119,
   "metadata": {
    "ExecuteTime": {
     "end_time": "2018-06-18T18:17:27.473658Z",
     "start_time": "2018-06-18T18:17:25.616797Z"
    },
    "collapsed": true
   },
   "outputs": [],
   "source": [
    "final_agg = pd.merge(agg_tmp,agg_tmp_mean, how ='inner', on = ['Week', 'day_of_week','shop_id', 'item_id'])"
   ]
  },
  {
   "cell_type": "code",
   "execution_count": 120,
   "metadata": {
    "ExecuteTime": {
     "end_time": "2018-06-18T18:17:32.528849Z",
     "start_time": "2018-06-18T18:17:32.509110Z"
    }
   },
   "outputs": [
    {
     "data": {
      "text/html": [
       "<div>\n",
       "<style>\n",
       "    .dataframe thead tr:only-child th {\n",
       "        text-align: right;\n",
       "    }\n",
       "\n",
       "    .dataframe thead th {\n",
       "        text-align: left;\n",
       "    }\n",
       "\n",
       "    .dataframe tbody tr th {\n",
       "        vertical-align: top;\n",
       "    }\n",
       "</style>\n",
       "<table border=\"1\" class=\"dataframe\">\n",
       "  <thead>\n",
       "    <tr style=\"text-align: right;\">\n",
       "      <th></th>\n",
       "      <th>Week</th>\n",
       "      <th>day_of_week</th>\n",
       "      <th>shop_id</th>\n",
       "      <th>item_id</th>\n",
       "      <th>count_new</th>\n",
       "      <th>item_cnt_daymean_new</th>\n",
       "      <th>item_pricemean_new</th>\n",
       "    </tr>\n",
       "  </thead>\n",
       "  <tbody>\n",
       "    <tr>\n",
       "      <th>0</th>\n",
       "      <td>1</td>\n",
       "      <td>0</td>\n",
       "      <td>2</td>\n",
       "      <td>1407</td>\n",
       "      <td>1</td>\n",
       "      <td>4.0</td>\n",
       "      <td>1299.00</td>\n",
       "    </tr>\n",
       "    <tr>\n",
       "      <th>1</th>\n",
       "      <td>1</td>\n",
       "      <td>0</td>\n",
       "      <td>2</td>\n",
       "      <td>1467</td>\n",
       "      <td>1</td>\n",
       "      <td>1.0</td>\n",
       "      <td>899.00</td>\n",
       "    </tr>\n",
       "    <tr>\n",
       "      <th>2</th>\n",
       "      <td>1</td>\n",
       "      <td>0</td>\n",
       "      <td>2</td>\n",
       "      <td>1483</td>\n",
       "      <td>1</td>\n",
       "      <td>1.0</td>\n",
       "      <td>1199.00</td>\n",
       "    </tr>\n",
       "    <tr>\n",
       "      <th>3</th>\n",
       "      <td>1</td>\n",
       "      <td>0</td>\n",
       "      <td>2</td>\n",
       "      <td>1485</td>\n",
       "      <td>1</td>\n",
       "      <td>1.0</td>\n",
       "      <td>1191.16</td>\n",
       "    </tr>\n",
       "    <tr>\n",
       "      <th>4</th>\n",
       "      <td>1</td>\n",
       "      <td>0</td>\n",
       "      <td>2</td>\n",
       "      <td>1495</td>\n",
       "      <td>1</td>\n",
       "      <td>1.0</td>\n",
       "      <td>599.00</td>\n",
       "    </tr>\n",
       "  </tbody>\n",
       "</table>\n",
       "</div>"
      ],
      "text/plain": [
       "   Week  day_of_week  shop_id  item_id  count_new  item_cnt_daymean_new  \\\n",
       "0     1            0        2     1407          1                   4.0   \n",
       "1     1            0        2     1467          1                   1.0   \n",
       "2     1            0        2     1483          1                   1.0   \n",
       "3     1            0        2     1485          1                   1.0   \n",
       "4     1            0        2     1495          1                   1.0   \n",
       "\n",
       "   item_pricemean_new  \n",
       "0             1299.00  \n",
       "1              899.00  \n",
       "2             1199.00  \n",
       "3             1191.16  \n",
       "4              599.00  "
      ]
     },
     "execution_count": 120,
     "metadata": {},
     "output_type": "execute_result"
    }
   ],
   "source": [
    "final_agg.head()"
   ]
  },
  {
   "cell_type": "code",
   "execution_count": 121,
   "metadata": {
    "ExecuteTime": {
     "end_time": "2018-06-18T18:18:51.791731Z",
     "start_time": "2018-06-18T18:18:48.747846Z"
    },
    "collapsed": true
   },
   "outputs": [],
   "source": [
    "New_Cleaned_Train = pd.merge(Cleaned_Train, final_agg, how ='left',on=['Week', 'day_of_week', 'shop_id','item_id'])"
   ]
  },
  {
   "cell_type": "code",
   "execution_count": 122,
   "metadata": {
    "ExecuteTime": {
     "end_time": "2018-06-18T18:18:56.175358Z",
     "start_time": "2018-06-18T18:18:56.125644Z"
    }
   },
   "outputs": [
    {
     "data": {
      "text/html": [
       "<div>\n",
       "<style>\n",
       "    .dataframe thead tr:only-child th {\n",
       "        text-align: right;\n",
       "    }\n",
       "\n",
       "    .dataframe thead th {\n",
       "        text-align: left;\n",
       "    }\n",
       "\n",
       "    .dataframe tbody tr th {\n",
       "        vertical-align: top;\n",
       "    }\n",
       "</style>\n",
       "<table border=\"1\" class=\"dataframe\">\n",
       "  <thead>\n",
       "    <tr style=\"text-align: right;\">\n",
       "      <th></th>\n",
       "      <th>date_new</th>\n",
       "      <th>date_block_num</th>\n",
       "      <th>shop_id</th>\n",
       "      <th>item_id</th>\n",
       "      <th>item_price</th>\n",
       "      <th>item_price_whole</th>\n",
       "      <th>item_price_fraction</th>\n",
       "      <th>day_of_week</th>\n",
       "      <th>Month</th>\n",
       "      <th>Week</th>\n",
       "      <th>...</th>\n",
       "      <th>item_category_id</th>\n",
       "      <th>shop_name_codes</th>\n",
       "      <th>item_category_name_codes</th>\n",
       "      <th>item_cnt_day</th>\n",
       "      <th>no_of_rows</th>\n",
       "      <th>item_cnt_daymean</th>\n",
       "      <th>item_pricemean</th>\n",
       "      <th>count_new</th>\n",
       "      <th>item_cnt_daymean_new</th>\n",
       "      <th>item_pricemean_new</th>\n",
       "    </tr>\n",
       "  </thead>\n",
       "  <tbody>\n",
       "    <tr>\n",
       "      <th>0</th>\n",
       "      <td>2013-01-02</td>\n",
       "      <td>0</td>\n",
       "      <td>59</td>\n",
       "      <td>22154</td>\n",
       "      <td>999.00</td>\n",
       "      <td>999.0</td>\n",
       "      <td>0.0</td>\n",
       "      <td>2</td>\n",
       "      <td>1</td>\n",
       "      <td>1</td>\n",
       "      <td>...</td>\n",
       "      <td>37</td>\n",
       "      <td>59</td>\n",
       "      <td>37</td>\n",
       "      <td>1.0</td>\n",
       "      <td>1</td>\n",
       "      <td>1.0</td>\n",
       "      <td>999.00</td>\n",
       "      <td>1.0</td>\n",
       "      <td>1.0</td>\n",
       "      <td>999.00</td>\n",
       "    </tr>\n",
       "    <tr>\n",
       "      <th>1</th>\n",
       "      <td>2013-01-03</td>\n",
       "      <td>0</td>\n",
       "      <td>25</td>\n",
       "      <td>2552</td>\n",
       "      <td>899.00</td>\n",
       "      <td>899.0</td>\n",
       "      <td>0.0</td>\n",
       "      <td>3</td>\n",
       "      <td>1</td>\n",
       "      <td>1</td>\n",
       "      <td>...</td>\n",
       "      <td>58</td>\n",
       "      <td>25</td>\n",
       "      <td>58</td>\n",
       "      <td>1.0</td>\n",
       "      <td>2</td>\n",
       "      <td>0.0</td>\n",
       "      <td>899.00</td>\n",
       "      <td>1.0</td>\n",
       "      <td>1.0</td>\n",
       "      <td>899.00</td>\n",
       "    </tr>\n",
       "    <tr>\n",
       "      <th>2</th>\n",
       "      <td>2013-01-05</td>\n",
       "      <td>0</td>\n",
       "      <td>25</td>\n",
       "      <td>2552</td>\n",
       "      <td>899.00</td>\n",
       "      <td>899.0</td>\n",
       "      <td>0.0</td>\n",
       "      <td>5</td>\n",
       "      <td>1</td>\n",
       "      <td>1</td>\n",
       "      <td>...</td>\n",
       "      <td>58</td>\n",
       "      <td>25</td>\n",
       "      <td>58</td>\n",
       "      <td>-1.0</td>\n",
       "      <td>2</td>\n",
       "      <td>0.0</td>\n",
       "      <td>899.00</td>\n",
       "      <td>1.0</td>\n",
       "      <td>-1.0</td>\n",
       "      <td>899.00</td>\n",
       "    </tr>\n",
       "    <tr>\n",
       "      <th>3</th>\n",
       "      <td>2013-01-06</td>\n",
       "      <td>0</td>\n",
       "      <td>25</td>\n",
       "      <td>2554</td>\n",
       "      <td>1709.05</td>\n",
       "      <td>1709.0</td>\n",
       "      <td>5.0</td>\n",
       "      <td>6</td>\n",
       "      <td>1</td>\n",
       "      <td>1</td>\n",
       "      <td>...</td>\n",
       "      <td>58</td>\n",
       "      <td>25</td>\n",
       "      <td>58</td>\n",
       "      <td>1.0</td>\n",
       "      <td>1</td>\n",
       "      <td>1.0</td>\n",
       "      <td>1709.05</td>\n",
       "      <td>1.0</td>\n",
       "      <td>1.0</td>\n",
       "      <td>1709.05</td>\n",
       "    </tr>\n",
       "    <tr>\n",
       "      <th>4</th>\n",
       "      <td>2013-01-15</td>\n",
       "      <td>0</td>\n",
       "      <td>25</td>\n",
       "      <td>2555</td>\n",
       "      <td>1099.00</td>\n",
       "      <td>1099.0</td>\n",
       "      <td>0.0</td>\n",
       "      <td>1</td>\n",
       "      <td>1</td>\n",
       "      <td>3</td>\n",
       "      <td>...</td>\n",
       "      <td>56</td>\n",
       "      <td>25</td>\n",
       "      <td>56</td>\n",
       "      <td>1.0</td>\n",
       "      <td>10</td>\n",
       "      <td>1.0</td>\n",
       "      <td>1104.00</td>\n",
       "      <td>1.0</td>\n",
       "      <td>1.0</td>\n",
       "      <td>1099.00</td>\n",
       "    </tr>\n",
       "  </tbody>\n",
       "</table>\n",
       "<p>5 rows × 21 columns</p>\n",
       "</div>"
      ],
      "text/plain": [
       "    date_new  date_block_num  shop_id  item_id  item_price  item_price_whole  \\\n",
       "0 2013-01-02               0       59    22154      999.00             999.0   \n",
       "1 2013-01-03               0       25     2552      899.00             899.0   \n",
       "2 2013-01-05               0       25     2552      899.00             899.0   \n",
       "3 2013-01-06               0       25     2554     1709.05            1709.0   \n",
       "4 2013-01-15               0       25     2555     1099.00            1099.0   \n",
       "\n",
       "   item_price_fraction  day_of_week  Month  Week         ...          \\\n",
       "0                  0.0            2      1     1         ...           \n",
       "1                  0.0            3      1     1         ...           \n",
       "2                  0.0            5      1     1         ...           \n",
       "3                  5.0            6      1     1         ...           \n",
       "4                  0.0            1      1     3         ...           \n",
       "\n",
       "   item_category_id  shop_name_codes  item_category_name_codes  item_cnt_day  \\\n",
       "0                37               59                        37           1.0   \n",
       "1                58               25                        58           1.0   \n",
       "2                58               25                        58          -1.0   \n",
       "3                58               25                        58           1.0   \n",
       "4                56               25                        56           1.0   \n",
       "\n",
       "   no_of_rows  item_cnt_daymean  item_pricemean  count_new  \\\n",
       "0           1               1.0          999.00        1.0   \n",
       "1           2               0.0          899.00        1.0   \n",
       "2           2               0.0          899.00        1.0   \n",
       "3           1               1.0         1709.05        1.0   \n",
       "4          10               1.0         1104.00        1.0   \n",
       "\n",
       "   item_cnt_daymean_new  item_pricemean_new  \n",
       "0                   1.0              999.00  \n",
       "1                   1.0              899.00  \n",
       "2                  -1.0              899.00  \n",
       "3                   1.0             1709.05  \n",
       "4                   1.0             1099.00  \n",
       "\n",
       "[5 rows x 21 columns]"
      ]
     },
     "execution_count": 122,
     "metadata": {},
     "output_type": "execute_result"
    }
   ],
   "source": []
  },
  {
   "cell_type": "code",
   "execution_count": 123,
   "metadata": {
    "ExecuteTime": {
     "end_time": "2018-06-18T18:22:21.915295Z",
     "start_time": "2018-06-18T18:22:21.030898Z"
    }
   },
   "outputs": [
    {
     "data": {
      "text/plain": [
       "True"
      ]
     },
     "execution_count": 123,
     "metadata": {},
     "output_type": "execute_result"
    }
   ],
   "source": [
    "New_Cleaned_Train.isnull().values.any()"
   ]
  },
  {
   "cell_type": "code",
   "execution_count": 133,
   "metadata": {
    "ExecuteTime": {
     "end_time": "2018-06-18T18:55:51.856031Z",
     "start_time": "2018-06-18T18:55:49.816424Z"
    }
   },
   "outputs": [
    {
     "data": {
      "text/plain": [
       "Index([], dtype='object')"
      ]
     },
     "execution_count": 133,
     "metadata": {},
     "output_type": "execute_result"
    }
   ],
   "source": [
    "New_Cleaned_Train.columns[New_Cleaned_Train.isnull().any()]"
   ]
  },
  {
   "cell_type": "code",
   "execution_count": 132,
   "metadata": {
    "ExecuteTime": {
     "end_time": "2018-06-18T18:54:30.010347Z",
     "start_time": "2018-06-18T18:54:29.897516Z"
    },
    "collapsed": true
   },
   "outputs": [],
   "source": [
    "New_Cleaned_Train.fillnana(0, inplace=True)"
   ]
  },
  {
   "cell_type": "code",
   "execution_count": 134,
   "metadata": {
    "ExecuteTime": {
     "end_time": "2018-06-18T18:56:51.012623Z",
     "start_time": "2018-06-18T18:55:55.989480Z"
    }
   },
   "outputs": [
    {
     "data": {
      "text/plain": [
       "RandomForestRegressor(bootstrap=True, criterion='mse', max_depth=None,\n",
       "           max_features=0.5, max_leaf_nodes=None,\n",
       "           min_impurity_decrease=0.0, min_impurity_split=None,\n",
       "           min_samples_leaf=3, min_samples_split=2,\n",
       "           min_weight_fraction_leaf=0.0, n_estimators=40, n_jobs=-1,\n",
       "           oob_score=True, random_state=None, verbose=0, warm_start=False)"
      ]
     },
     "execution_count": 134,
     "metadata": {},
     "output_type": "execute_result"
    }
   ],
   "source": [
    "Train = New_Cleaned_Train [Cleaned_Train['date_new']< '2015-01-01']\n",
    "Validation = New_Cleaned_Train [Cleaned_Train['date_new'] >= '2015-01-01']\n",
    "y_train= Train['item_cnt_day']\n",
    "X_train = Train.drop(['item_cnt_day', 'date_new'],axis=1)\n",
    "\n",
    "y_valid= Validation['item_cnt_day']\n",
    "X_valid= Validation.drop(['item_cnt_day','date_new'],axis=1)\n",
    "\n",
    "regr3 = RandomForestRegressor(n_estimators=40, min_samples_leaf=3, max_features=0.5, n_jobs=-1, oob_score=True)\n",
    "regr3.fit(X_train,y_train)"
   ]
  },
  {
   "cell_type": "code",
   "execution_count": 136,
   "metadata": {
    "ExecuteTime": {
     "end_time": "2018-06-18T18:59:21.765388Z",
     "start_time": "2018-06-18T18:59:20.644465Z"
    }
   },
   "outputs": [
    {
     "data": {
      "text/plain": [
       "0.44658463192248837"
      ]
     },
     "execution_count": 136,
     "metadata": {},
     "output_type": "execute_result"
    }
   ],
   "source": [
    "predictions = regr3.predict(X_train)\n",
    "Compare = pd.DataFrame(np.column_stack((y_train.values,predictions)))\n",
    "Compare.columns =['Actual','Predict']\n",
    "np.sqrt(mean_squared_error(y_train.values, predictions))"
   ]
  },
  {
   "cell_type": "code",
   "execution_count": 135,
   "metadata": {
    "ExecuteTime": {
     "end_time": "2018-06-18T18:58:40.220989Z",
     "start_time": "2018-06-18T18:58:35.363059Z"
    }
   },
   "outputs": [
    {
     "name": "stdout",
     "output_type": "stream",
     "text": [
      "[0.44295471670827313, 4.422453662465342, 0.94886268618719294, -0.067569550702743175, 0.888137670060544]\n"
     ]
    }
   ],
   "source": [
    "print_score_rmse(regr3)"
   ]
  },
  {
   "cell_type": "code",
   "execution_count": null,
   "metadata": {
    "collapsed": true
   },
   "outputs": [],
   "source": []
  }
 ],
 "metadata": {
  "kernelspec": {
   "display_name": "Python 3",
   "language": "python",
   "name": "python3"
  },
  "language_info": {
   "codemirror_mode": {
    "name": "ipython",
    "version": 3
   },
   "file_extension": ".py",
   "mimetype": "text/x-python",
   "name": "python",
   "nbconvert_exporter": "python",
   "pygments_lexer": "ipython3",
   "version": "3.6.5"
  }
 },
 "nbformat": 4,
 "nbformat_minor": 2
}
